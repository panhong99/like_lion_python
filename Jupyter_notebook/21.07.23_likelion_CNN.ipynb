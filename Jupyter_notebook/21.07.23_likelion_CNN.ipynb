{
 "cells": [
  {
   "cell_type": "markdown",
   "id": "1446e3b8",
   "metadata": {},
   "source": [
    "## 가장 핫한 인공지능\n",
    "## 영상처리(CNN) , 자연어처리(RNN)"
   ]
  },
  {
   "cell_type": "markdown",
   "id": "6ba130e1",
   "metadata": {},
   "source": [
    "## (CNN)Convolutional Neural Network\n"
   ]
  },
  {
   "cell_type": "code",
   "execution_count": 1,
   "id": "5092bae2",
   "metadata": {},
   "outputs": [],
   "source": [
    "# 손글씨를 학습시키기 위해 keras의 기본적인 data import\n",
    "from tensorflow.keras.datasets import mnist\n",
    "import tensorflow as tf"
   ]
  },
  {
   "cell_type": "code",
   "execution_count": 2,
   "id": "7405819f",
   "metadata": {},
   "outputs": [
    {
     "name": "stdout",
     "output_type": "stream",
     "text": [
      "학습셋 이미지 수 : 60000 개\n",
      "테스트 셋 이미지 수 : 10000 개\n"
     ]
    }
   ],
   "source": [
    "# 데이터 셋을 호출하고 \n",
    "(x_train , y_class_train) , (x_test , y_class_test) = mnist.load_data()\n",
    "# 학습용 데이터 , 테스트용 데이터의 개수를 확인\n",
    "print(\"학습셋 이미지 수 : %d 개\" %(x_train.shape[0]))\n",
    "print(\"테스트 셋 이미지 수 : %d 개\" %(x_test.shape[0]))"
   ]
  },
  {
   "cell_type": "code",
   "execution_count": 3,
   "id": "013419a9",
   "metadata": {},
   "outputs": [
    {
     "name": "stderr",
     "output_type": "stream",
     "text": [
      "findfont: Font family ['NanumBarunpenBold'] not found. Falling back to DejaVu Sans.\n"
     ]
    },
    {
     "data": {
      "image/png": "[encoded data removed]",
      "text/plain": [
       "<Figure size 432x288 with 1 Axes>"
      ]
     },
     "metadata": {
      "needs_background": "light"
     },
     "output_type": "display_data"
    }
   ],
   "source": [
    "# 불러온 이미지 중 하나만 가져오기\n",
    "# 모든 이미지가 x_train에 저장되어 있음 \n",
    "# cmap = \"Greys\"옵션을 지정해 흑백으로 출력되게 함\n",
    "import matplotlib.pyplot as plt\n",
    "\n",
    "plt.imshow(x_train[0] , cmap = \"Greys\")\n",
    "plt.show()"
   ]
  },
  {
   "cell_type": "code",
   "execution_count": 4,
   "id": "71543ff6",
   "metadata": {
    "collapsed": true
   },
   "outputs": [
    {
     "name": "stdout",
     "output_type": "stream",
     "text": [
      "0\t0\t0\t0\t0\t0\t0\t0\t0\t0\t0\t0\t0\t0\t0\t0\t0\t0\t0\t0\t0\t0\t0\t0\t0\t0\t0\t0\t\n",
      "0\t0\t0\t0\t0\t0\t0\t0\t0\t0\t0\t0\t0\t0\t0\t0\t0\t0\t0\t0\t0\t0\t0\t0\t0\t0\t0\t0\t\n",
      "0\t0\t0\t0\t0\t0\t0\t0\t0\t0\t0\t0\t0\t0\t0\t0\t0\t0\t0\t0\t0\t0\t0\t0\t0\t0\t0\t0\t\n",
      "0\t0\t0\t0\t0\t0\t0\t0\t0\t0\t0\t0\t0\t0\t0\t0\t0\t0\t0\t0\t0\t0\t0\t0\t0\t0\t0\t0\t\n",
      "0\t0\t0\t0\t0\t0\t0\t0\t0\t0\t0\t0\t0\t0\t0\t0\t0\t0\t0\t0\t0\t0\t0\t0\t0\t0\t0\t0\t\n",
      "0\t0\t0\t0\t0\t0\t0\t0\t0\t0\t0\t0\t3\t18\t18\t18\t126\t136\t175\t26\t166\t255\t247\t127\t0\t0\t0\t0\t\n",
      "0\t0\t0\t0\t0\t0\t0\t0\t30\t36\t94\t154\t170\t253\t253\t253\t253\t253\t225\t172\t253\t242\t195\t64\t0\t0\t0\t0\t\n",
      "0\t0\t0\t0\t0\t0\t0\t49\t238\t253\t253\t253\t253\t253\t253\t253\t253\t251\t93\t82\t82\t56\t39\t0\t0\t0\t0\t0\t\n",
      "0\t0\t0\t0\t0\t0\t0\t18\t219\t253\t253\t253\t253\t253\t198\t182\t247\t241\t0\t0\t0\t0\t0\t0\t0\t0\t0\t0\t\n",
      "0\t0\t0\t0\t0\t0\t0\t0\t80\t156\t107\t253\t253\t205\t11\t0\t43\t154\t0\t0\t0\t0\t0\t0\t0\t0\t0\t0\t\n",
      "0\t0\t0\t0\t0\t0\t0\t0\t0\t14\t1\t154\t253\t90\t0\t0\t0\t0\t0\t0\t0\t0\t0\t0\t0\t0\t0\t0\t\n",
      "0\t0\t0\t0\t0\t0\t0\t0\t0\t0\t0\t139\t253\t190\t2\t0\t0\t0\t0\t0\t0\t0\t0\t0\t0\t0\t0\t0\t\n",
      "0\t0\t0\t0\t0\t0\t0\t0\t0\t0\t0\t11\t190\t253\t70\t0\t0\t0\t0\t0\t0\t0\t0\t0\t0\t0\t0\t0\t\n",
      "0\t0\t0\t0\t0\t0\t0\t0\t0\t0\t0\t0\t35\t241\t225\t160\t108\t1\t0\t0\t0\t0\t0\t0\t0\t0\t0\t0\t\n",
      "0\t0\t0\t0\t0\t0\t0\t0\t0\t0\t0\t0\t0\t81\t240\t253\t253\t119\t25\t0\t0\t0\t0\t0\t0\t0\t0\t0\t\n",
      "0\t0\t0\t0\t0\t0\t0\t0\t0\t0\t0\t0\t0\t0\t45\t186\t253\t253\t150\t27\t0\t0\t0\t0\t0\t0\t0\t0\t\n",
      "0\t0\t0\t0\t0\t0\t0\t0\t0\t0\t0\t0\t0\t0\t0\t16\t93\t252\t253\t187\t0\t0\t0\t0\t0\t0\t0\t0\t\n",
      "0\t0\t0\t0\t0\t0\t0\t0\t0\t0\t0\t0\t0\t0\t0\t0\t0\t249\t253\t249\t64\t0\t0\t0\t0\t0\t0\t0\t\n",
      "0\t0\t0\t0\t0\t0\t0\t0\t0\t0\t0\t0\t0\t0\t46\t130\t183\t253\t253\t207\t2\t0\t0\t0\t0\t0\t0\t0\t\n",
      "0\t0\t0\t0\t0\t0\t0\t0\t0\t0\t0\t0\t39\t148\t229\t253\t253\t253\t250\t182\t0\t0\t0\t0\t0\t0\t0\t0\t\n",
      "0\t0\t0\t0\t0\t0\t0\t0\t0\t0\t24\t114\t221\t253\t253\t253\t253\t201\t78\t0\t0\t0\t0\t0\t0\t0\t0\t0\t\n",
      "0\t0\t0\t0\t0\t0\t0\t0\t23\t66\t213\t253\t253\t253\t253\t198\t81\t2\t0\t0\t0\t0\t0\t0\t0\t0\t0\t0\t\n",
      "0\t0\t0\t0\t0\t0\t18\t171\t219\t253\t253\t253\t253\t195\t80\t9\t0\t0\t0\t0\t0\t0\t0\t0\t0\t0\t0\t0\t\n",
      "0\t0\t0\t0\t55\t172\t226\t253\t253\t253\t253\t244\t133\t11\t0\t0\t0\t0\t0\t0\t0\t0\t0\t0\t0\t0\t0\t0\t\n",
      "0\t0\t0\t0\t136\t253\t253\t253\t212\t135\t132\t16\t0\t0\t0\t0\t0\t0\t0\t0\t0\t0\t0\t0\t0\t0\t0\t0\t\n",
      "0\t0\t0\t0\t0\t0\t0\t0\t0\t0\t0\t0\t0\t0\t0\t0\t0\t0\t0\t0\t0\t0\t0\t0\t0\t0\t0\t0\t\n",
      "0\t0\t0\t0\t0\t0\t0\t0\t0\t0\t0\t0\t0\t0\t0\t0\t0\t0\t0\t0\t0\t0\t0\t0\t0\t0\t0\t0\t\n",
      "0\t0\t0\t0\t0\t0\t0\t0\t0\t0\t0\t0\t0\t0\t0\t0\t0\t0\t0\t0\t0\t0\t0\t0\t0\t0\t0\t0\t\n"
     ]
    }
   ],
   "source": [
    "# 데이터 전처리\n",
    "# 각 픽셀은 밝기 정도에 따라 0부터 255까지 등급을 매김 \n",
    "# 따라서 이미지에 0이 아닌 부분은 전부 값이 있음(0에 가까울 수록 흰 , 255에 가까울수록 검)\n",
    "# 0이 아닌 부분이 5의 형상이 되어 local이 학습을 함\n",
    "import sys \n",
    "for x in x_train[0]:\n",
    "    for i in x:\n",
    "        sys.stdout.write(\"%d\\t\" %i) # sys.stdout.write(\"%3d\" % i)\n",
    "    sys.stdout.write(\"\\n\")"
   ]
  },
  {
   "cell_type": "code",
   "execution_count": 16,
   "id": "4cf8c06f",
   "metadata": {},
   "outputs": [],
   "source": [
    "# 2차원 배열을 1차원 데이터로 변경\n",
    "x_train = x_train.reshape(x_train.shape[0] , 784)"
   ]
  },
  {
   "cell_type": "code",
   "execution_count": 6,
   "id": "a24e1f50",
   "metadata": {},
   "outputs": [],
   "source": [
    "# 현재 주어진 데이터의 값은 0 - 255까지의 정수로 , 정규화를 위해\n",
    "# 255로 나누어 주려면 먼저 이 값을 실수형으로 바꾸어야 함\n",
    "\n",
    "# 바꾸기 1번 astype함수를 사용해 실수형으로 바뀐 뒤 255로 나눔\n",
    "x_train = x_train.astype(\"float64\")\n",
    "x_train = x_train / 255"
   ]
  },
  {
   "cell_type": "code",
   "execution_count": 7,
   "id": "70301f59",
   "metadata": {},
   "outputs": [],
   "source": [
    "# 바꾸기 2번 위의 2줄을 한줄로 작성 \n",
    "x_test = x_test.reshape(x_test.shape[0] , 784).astype(\"float64\") / 255"
   ]
  },
  {
   "cell_type": "code",
   "execution_count": 8,
   "id": "4e0407e2",
   "metadata": {},
   "outputs": [
    {
     "name": "stdout",
     "output_type": "stream",
     "text": [
      "class : 5\n"
     ]
    }
   ],
   "source": [
    "# 실제로 이 숫자의 어떤지를 불러오고자 y_class_train[0]을 \n",
    "# 다음과 같이 출력\n",
    "# 클래스 값 확인\n",
    "print(\"class : %d\" % (y_class_train[0]))"
   ]
  },
  {
   "cell_type": "code",
   "execution_count": 9,
   "id": "b5d8da7c",
   "metadata": {},
   "outputs": [],
   "source": [
    "# 바이너리화\n",
    "y_train = tf.keras.utils.to_categorical(y_class_train , 10)\n",
    "y_test = tf.keras.utils.to_categorical(y_class_test , 10)"
   ]
  },
  {
   "cell_type": "code",
   "execution_count": 10,
   "id": "7850064d",
   "metadata": {},
   "outputs": [
    {
     "name": "stdout",
     "output_type": "stream",
     "text": [
      "[0. 0. 0. 0. 0. 1. 0. 0. 0. 0.]\n"
     ]
    }
   ],
   "source": [
    "print(y_train[0])"
   ]
  },
  {
   "cell_type": "code",
   "execution_count": 17,
   "id": "1c44e370",
   "metadata": {},
   "outputs": [
    {
     "name": "stdout",
     "output_type": "stream",
     "text": [
      "Epoch 1/30\n",
      "200/200 [==============================] - 1s 7ms/step - loss: 0.7212 - accuracy: 0.7879 - val_loss: 0.3078 - val_accuracy: 0.9114\n",
      "\n",
      "Epoch 00001: val_loss improved from inf to 0.30778, saving model to ./model/1.000000-0.3078.hdf5\n",
      "Epoch 2/30\n",
      "200/200 [==============================] - 1s 6ms/step - loss: 0.2813 - accuracy: 0.9193 - val_loss: 0.2458 - val_accuracy: 0.9273\n",
      "\n",
      "Epoch 00002: val_loss improved from 0.30778 to 0.24578, saving model to ./model/2.000000-0.2458.hdf5\n",
      "Epoch 3/30\n",
      "200/200 [==============================] - 1s 6ms/step - loss: 0.2304 - accuracy: 0.9324 - val_loss: 0.2067 - val_accuracy: 0.9384\n",
      "\n",
      "Epoch 00003: val_loss improved from 0.24578 to 0.20674, saving model to ./model/3.000000-0.2067.hdf5\n",
      "Epoch 4/30\n",
      "200/200 [==============================] - 1s 6ms/step - loss: 0.1984 - accuracy: 0.9427 - val_loss: 0.1826 - val_accuracy: 0.9466\n",
      "\n",
      "Epoch 00004: val_loss improved from 0.20674 to 0.18261, saving model to ./model/4.000000-0.1826.hdf5\n",
      "Epoch 5/30\n",
      "200/200 [==============================] - 1s 7ms/step - loss: 0.1734 - accuracy: 0.9503 - val_loss: 0.1715 - val_accuracy: 0.9500\n",
      "\n",
      "Epoch 00005: val_loss improved from 0.18261 to 0.17153, saving model to ./model/5.000000-0.1715.hdf5\n",
      "Epoch 6/30\n",
      "200/200 [==============================] - 1s 6ms/step - loss: 0.1550 - accuracy: 0.9553 - val_loss: 0.1566 - val_accuracy: 0.9540\n",
      "\n",
      "Epoch 00006: val_loss improved from 0.17153 to 0.15659, saving model to ./model/6.000000-0.1566.hdf5\n",
      "Epoch 7/30\n",
      "200/200 [==============================] - 1s 6ms/step - loss: 0.1390 - accuracy: 0.9598 - val_loss: 0.1483 - val_accuracy: 0.9574\n",
      "\n",
      "Epoch 00007: val_loss improved from 0.15659 to 0.14828, saving model to ./model/7.000000-0.1483.hdf5\n",
      "Epoch 8/30\n",
      "200/200 [==============================] - 1s 6ms/step - loss: 0.1270 - accuracy: 0.9636 - val_loss: 0.1369 - val_accuracy: 0.9594\n",
      "\n",
      "Epoch 00008: val_loss improved from 0.14828 to 0.13686, saving model to ./model/8.000000-0.1369.hdf5\n",
      "Epoch 9/30\n",
      "200/200 [==============================] - 1s 6ms/step - loss: 0.1179 - accuracy: 0.9656 - val_loss: 0.1353 - val_accuracy: 0.9617\n",
      "\n",
      "Epoch 00009: val_loss improved from 0.13686 to 0.13526, saving model to ./model/9.000000-0.1353.hdf5\n",
      "Epoch 10/30\n",
      "200/200 [==============================] - 1s 7ms/step - loss: 0.1092 - accuracy: 0.9680 - val_loss: 0.1318 - val_accuracy: 0.9630\n",
      "\n",
      "Epoch 00010: val_loss improved from 0.13526 to 0.13181, saving model to ./model/10.000000-0.1318.hdf5\n",
      "Epoch 11/30\n",
      "200/200 [==============================] - 1s 6ms/step - loss: 0.1048 - accuracy: 0.9690 - val_loss: 0.1259 - val_accuracy: 0.9636\n",
      "\n",
      "Epoch 00011: val_loss improved from 0.13181 to 0.12593, saving model to ./model/11.000000-0.1259.hdf5\n",
      "Epoch 12/30\n",
      "200/200 [==============================] - 1s 6ms/step - loss: 0.0974 - accuracy: 0.9711 - val_loss: 0.1216 - val_accuracy: 0.9633\n",
      "\n",
      "Epoch 00012: val_loss improved from 0.12593 to 0.12161, saving model to ./model/12.000000-0.1216.hdf5\n",
      "Epoch 13/30\n",
      "200/200 [==============================] - 1s 6ms/step - loss: 0.0912 - accuracy: 0.9726 - val_loss: 0.1229 - val_accuracy: 0.9653\n",
      "\n",
      "Epoch 00013: val_loss did not improve from 0.12161\n",
      "Epoch 14/30\n",
      "200/200 [==============================] - 1s 6ms/step - loss: 0.0868 - accuracy: 0.9739 - val_loss: 0.1184 - val_accuracy: 0.9656\n",
      "\n",
      "Epoch 00014: val_loss improved from 0.12161 to 0.11836, saving model to ./model/14.000000-0.1184.hdf5\n",
      "Epoch 15/30\n",
      "200/200 [==============================] - 1s 6ms/step - loss: 0.0826 - accuracy: 0.9753 - val_loss: 0.1134 - val_accuracy: 0.9672\n",
      "\n",
      "Epoch 00015: val_loss improved from 0.11836 to 0.11343, saving model to ./model/15.000000-0.1134.hdf5\n",
      "Epoch 16/30\n",
      "200/200 [==============================] - 1s 6ms/step - loss: 0.0785 - accuracy: 0.9765 - val_loss: 0.1190 - val_accuracy: 0.9651\n",
      "\n",
      "Epoch 00016: val_loss did not improve from 0.11343\n",
      "Epoch 17/30\n",
      "200/200 [==============================] - 1s 6ms/step - loss: 0.0753 - accuracy: 0.9776 - val_loss: 0.1166 - val_accuracy: 0.9665\n",
      "\n",
      "Epoch 00017: val_loss did not improve from 0.11343\n",
      "Epoch 18/30\n",
      "200/200 [==============================] - 1s 7ms/step - loss: 0.0707 - accuracy: 0.9791 - val_loss: 0.1149 - val_accuracy: 0.9687\n",
      "\n",
      "Epoch 00018: val_loss did not improve from 0.11343\n",
      "Epoch 19/30\n",
      "200/200 [==============================] - 1s 6ms/step - loss: 0.0686 - accuracy: 0.9796 - val_loss: 0.1158 - val_accuracy: 0.9679\n",
      "\n",
      "Epoch 00019: val_loss did not improve from 0.11343\n",
      "Epoch 20/30\n",
      "200/200 [==============================] - 1s 6ms/step - loss: 0.0655 - accuracy: 0.9806 - val_loss: 0.1116 - val_accuracy: 0.9675\n",
      "\n",
      "Epoch 00020: val_loss improved from 0.11343 to 0.11164, saving model to ./model/20.000000-0.1116.hdf5\n",
      "Epoch 21/30\n",
      "200/200 [==============================] - 1s 6ms/step - loss: 0.0629 - accuracy: 0.9810 - val_loss: 0.1113 - val_accuracy: 0.9682\n",
      "\n",
      "Epoch 00021: val_loss improved from 0.11164 to 0.11133, saving model to ./model/21.000000-0.1113.hdf5\n",
      "Epoch 22/30\n",
      "200/200 [==============================] - 1s 6ms/step - loss: 0.0608 - accuracy: 0.9821 - val_loss: 0.1126 - val_accuracy: 0.9691\n",
      "\n",
      "Epoch 00022: val_loss did not improve from 0.11133\n",
      "Epoch 23/30\n",
      "200/200 [==============================] - 1s 6ms/step - loss: 0.0581 - accuracy: 0.9830 - val_loss: 0.1182 - val_accuracy: 0.9684\n",
      "\n",
      "Epoch 00023: val_loss did not improve from 0.11133\n",
      "Epoch 24/30\n",
      "200/200 [==============================] - 1s 6ms/step - loss: 0.0553 - accuracy: 0.9839 - val_loss: 0.1176 - val_accuracy: 0.9681\n",
      "\n",
      "Epoch 00024: val_loss did not improve from 0.11133\n",
      "Epoch 25/30\n",
      "200/200 [==============================] - 1s 6ms/step - loss: 0.0549 - accuracy: 0.9837 - val_loss: 0.1176 - val_accuracy: 0.9695\n",
      "\n",
      "Epoch 00025: val_loss did not improve from 0.11133\n",
      "Epoch 26/30\n",
      "200/200 [==============================] - 1s 6ms/step - loss: 0.0508 - accuracy: 0.9852 - val_loss: 0.1188 - val_accuracy: 0.9680\n",
      "\n",
      "Epoch 00026: val_loss did not improve from 0.11133\n",
      "Epoch 27/30\n",
      "200/200 [==============================] - 1s 6ms/step - loss: 0.0495 - accuracy: 0.9855 - val_loss: 0.1187 - val_accuracy: 0.9694\n",
      "\n",
      "Epoch 00027: val_loss did not improve from 0.11133\n",
      "Epoch 28/30\n",
      "200/200 [==============================] - 1s 6ms/step - loss: 0.0471 - accuracy: 0.9868 - val_loss: 0.1200 - val_accuracy: 0.9682\n",
      "\n",
      "Epoch 00028: val_loss did not improve from 0.11133\n",
      "Epoch 29/30\n",
      "200/200 [==============================] - 1s 6ms/step - loss: 0.0462 - accuracy: 0.9866 - val_loss: 0.1170 - val_accuracy: 0.9695\n",
      "\n",
      "Epoch 00029: val_loss did not improve from 0.11133\n",
      "Epoch 30/30\n",
      "200/200 [==============================] - 1s 6ms/step - loss: 0.0435 - accuracy: 0.9874 - val_loss: 0.1235 - val_accuracy: 0.9682\n",
      "\n",
      "Epoch 00030: val_loss did not improve from 0.11133\n",
      "313/313 [==============================] - 2s 6ms/step - loss: 0.1235 - accuracy: 0.9682\n",
      "\n",
      "Accuracy : .4f 0.9682000279426575\n"
     ]
    }
   ],
   "source": [
    "from tensorflow.keras.models import Sequential\n",
    "from tensorflow.keras.layers import Dense\n",
    "from tensorflow.keras.callbacks import ModelCheckpoint , EarlyStopping\n",
    "from tensorflow.keras.datasets import mnist\n",
    "import tensorflow as tf\n",
    "import os\n",
    "import numpy as np\n",
    "import pandas as pa\n",
    "import sys\n",
    "\n",
    "seed = 0 \n",
    "np.random.seed(seed)\n",
    "tf.random.set_seed(seed)\n",
    "\n",
    "model = Sequential()\n",
    "model.add(Dense(30 , input_dim = 784 , activation = \"relu\"))\n",
    "model.add(Dense(30 , activation = \"relu\"))\n",
    "model.add(Dense(10 , activation = \"softmax\"))\n",
    "model.compile(loss = \"categorical_crossentropy\" , optimizer = \"adam\" , metrics = [\"accuracy\"])\n",
    "\n",
    "modelpath = \"./model/{epoch:02f}-{val_loss:.4f}.hdf5\"\n",
    "checkpoint = ModelCheckpoint(filepath = modelpath , monitor = \"val_loss\" , verbose = 1 ,save_best_only = True)\n",
    "early = EarlyStopping(monitor = \"val_loss\" , patience = 10)\n",
    "history = model.fit(x_train , y_train , batch_size = 300 , epochs = 30 , verbose = 1 , validation_data = (x_test , y_test) , callbacks = [checkpoint , early])\n",
    "print(\"\\nAccuracy :{:.4f}\".format(model.evaluate(x_test , y_test)[1]))"
   ]
  },
  {
   "cell_type": "code",
   "execution_count": 19,
   "id": "50df8bff",
   "metadata": {},
   "outputs": [
    {
     "data": {
      "image/png": "[encoded data removed]",
      "text/plain": [
       "<Figure size 432x288 with 1 Axes>"
      ]
     },
     "metadata": {
      "needs_background": "light"
     },
     "output_type": "display_data"
    }
   ],
   "source": [
    "y_vloss = history.history[\"val_loss\"]\n",
    "y_loss = history.history[\"loss\"]\n",
    "\n",
    "x_len = np.arange(len(y_loss))\n",
    "plt.plot(x_len , y_vloss , marker = \".\" , c = \"red\" , label = \"Testset_loss\")\n",
    "plt.plot(x_len , y_loss , marker = \".\" , c = \"blue\" , label = \"Trainset_loss\")\n",
    "\n",
    "plt.legend(loc = \"upper right\")\n",
    "plt.grid()\n",
    "plt.xlabel(\"epoch\")\n",
    "plt.ylabel(\"loss\")\n",
    "plt.show()"
   ]
  },
  {
   "cell_type": "code",
   "execution_count": null,
   "id": "cff7388b",
   "metadata": {},
   "outputs": [],
   "source": []
  }
 ],
 "metadata": {
  "kernelspec": {
   "display_name": "Python 3.9.5 64-bit ('base': conda)",
   "language": "python",
   "name": "python39564bitbasecondaff88d2da3a154ebfb639a042a46a85ea"
  },
  "language_info": {
   "codemirror_mode": {
    "name": "ipython",
    "version": 3
   },
   "file_extension": ".py",
   "mimetype": "text/x-python",
   "name": "python",
   "nbconvert_exporter": "python",
   "pygments_lexer": "ipython3",
   "version": "3.9.5"
  }
 },
 "nbformat": 4,
 "nbformat_minor": 5
}
