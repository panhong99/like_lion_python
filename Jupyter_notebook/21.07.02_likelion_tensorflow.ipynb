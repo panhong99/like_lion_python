{
 "cells": [
  {
   "cell_type": "markdown",
   "metadata": {},
   "source": [
    "## 경사하강법 코드"
   ]
  },
  {
   "cell_type": "code",
   "execution_count": 1,
   "metadata": {},
   "outputs": [
    {
     "data": {
      "image/png": "[encoded data removed]",
      "text/plain": [
       "<Figure size 576x360 with 1 Axes>"
      ]
     },
     "metadata": {
      "needs_background": "light"
     },
     "output_type": "display_data"
    },
    {
     "name": "stdout",
     "output_type": "stream",
     "text": [
      "epoch=0 , 기울기=9.2800 , 절편=1.8100\n",
      "epoch=100 , 기울기=11.5301 , 절편=23.9186\n",
      "epoch=200 , 기울기=8.9703 , 절편=39.1944\n",
      "epoch=300 , 기울기=7.1204 , 절편=50.2337\n",
      "epoch=400 , 기울기=5.7836 , 절편=58.2115\n",
      "epoch=500 , 기울기=4.8175 , 절편=63.9768\n",
      "epoch=600 , 기울기=4.1193 , 절편=68.1432\n",
      "epoch=700 , 기울기=3.6148 , 절편=71.1541\n",
      "epoch=800 , 기울기=3.2501 , 절편=73.3300\n",
      "epoch=900 , 기울기=2.9866 , 절편=74.9025\n",
      "epoch=1000 , 기울기=2.7962 , 절편=76.0388\n",
      "epoch=1100 , 기울기=2.6586 , 절편=76.8601\n",
      "epoch=1200 , 기울기=2.5591 , 절편=77.4535\n",
      "epoch=1300 , 기울기=2.4873 , 절편=77.8824\n",
      "epoch=1400 , 기울기=2.4353 , 절편=78.1924\n",
      "epoch=1500 , 기울기=2.3978 , 절편=78.4163\n",
      "epoch=1600 , 기울기=2.3707 , 절편=78.5782\n",
      "epoch=1700 , 기울기=2.3511 , 절편=78.6952\n",
      "epoch=1800 , 기울기=2.3369 , 절편=78.7797\n",
      "epoch=1900 , 기울기=2.3267 , 절편=78.8408\n",
      "epoch=2000 , 기울기=2.3193 , 절편=78.8850\n"
     ]
    },
    {
     "data": {
      "image/png": "[encoded data removed]",
      "text/plain": [
       "<Figure size 432x288 with 1 Axes>"
      ]
     },
     "metadata": {
      "needs_background": "light"
     },
     "output_type": "display_data"
    }
   ],
   "source": [
    "import numpy as np\n",
    "import pandas as pd\n",
    "import matplotlib.pyplot as plt\n",
    "\n",
    "# 공부시간 x와 성적 y의 리스트를 만들기\n",
    "data = [[2,81] , [4,93] , [6,91] , [8,97]]\n",
    "x = [i[0] for i in data]\n",
    "y = [i[1] for i in data]\n",
    "\n",
    "# 그래프로 나타내기 \n",
    "plt.figure(figsize = (8,5)) # figure로 그림판 만들기 \n",
    "plt.scatter(x , y)\n",
    "plt.show()\n",
    "\n",
    "#리스트로 되어 있는 x와 y의 값을 넘파이 배열로 바꾸기\n",
    "x_data = np.array(x)\n",
    "y_data = np.array(y)\n",
    "\n",
    "# 기준을 0을 초기화\n",
    "a = 0\n",
    "b = 0\n",
    "\n",
    "#학습률 정하기\n",
    "lr = 0.01\n",
    "# 몇 번 반복될지 설정(0)부터 세므로 원하는 반복횟수에 + 1\n",
    "epochs = 2001\n",
    "\n",
    "# 경사하강법 시작\n",
    "for i in range(epochs): # 에포크 수만큼 반복\n",
    "    y_pred = a * x_data + b # y를 구하는 식 세우기\n",
    "    error = y_data - y_pred # 오차를 구하는 식\n",
    "    \n",
    "    # 오차 함수를 a로 미분한 값\n",
    "    #a_diff = -(1/len(x_data)) * sum(x_data * (error))\n",
    "    a_diff = 2/len(x_data) * sum((a * x_data + b - y_data)*x_data)\n",
    "    # 오차 함수를 b로 미분한 값\n",
    "    #b_diff = -(1/len(x_data)) * sum(y_data * y_pred)\n",
    "    b_diff = 2/len(x_data) * sum(a * x_data + b - y_data)\n",
    "    a = a - lr * a_diff # 학습률을 곱해 기존의 a값 업데이트\n",
    "    b = b - lr * b_diff # 학습률을 곱해 기존의 b값 업데이트\n",
    "    \n",
    "    if i % 100 == 0: # 100번 반복될 때마다 현재의 a값 , b값 출력\n",
    "        print(\"epoch=%.f , 기울기=%.04f , 절편=%.04f\" %(i ,a ,b))\n",
    "        \n",
    "# 앞서 구한 기울기와 절편을 이용해 그래프를 그리기\n",
    "y_pred = a * x_data + b\n",
    "plt.scatter(x , y)\n",
    "plt.plot([min(x_data) , max(x_data)] , [min(y_pred) , max(y_pred)])\n",
    "plt.show()\n",
    "\n",
    "    \n",
    "    "
   ]
  },
  {
   "cell_type": "markdown",
   "metadata": {},
   "source": [
    "### 좋은 코드란!\n",
    "### 다른 사람이 코드를 분석할 때\n",
    "### 코드를 이해하는 시간을 \n",
    "### 최소화 할 수 있는 코드가 좋은 코드 "
   ]
  },
  {
   "cell_type": "code",
   "execution_count": 50,
   "metadata": {},
   "outputs": [],
   "source": [
    "data = [[1,0.2] , [2,0.3] , [3,0.5] , [4,0.6] , [5,0.9] , [6,0.95] , [7,1.1] , [8,1.5]]\n",
    "\n",
    "x = [i[0] for i in data]\n",
    "y = [i[1] for i in data]\n",
    "\n",
    "plt.figure(figsize = (8,5))\n",
    "plt.scatter(x , y)\n",
    "plt.show()\n",
    "\n",
    "x_data = np.array(x)\n",
    "y_data = np.array(y)\n",
    "\n",
    "a = 0\n",
    "b = 0\n",
    "\n",
    "lr = 0.03 # 학습률 정하기?\n",
    "epochs = 1001 # 탐색하는 수 \n",
    "\n",
    "for i in range(epochs):\n",
    "    y_pred = a * x_data + b # 최소제곱법\n",
    "    error = y_data - y_pred # 오차률\n",
    "    \n",
    "    a_diff = 2/len(x_data) * sum((a * x_data + b - y_data) * x_data)\n",
    "    b_diff = 2/len(x_data) * sum(a * x_data + b - y_data)\n",
    "\n",
    "    a = a - lr * a_diff # 학습률을 곱해 기존의 a값 업데이트\n",
    "    b = b - lr * b_diff # 학습률을 곱해 기존의 b값 업데이트\n",
    "    \n",
    "    if i % 10 == 0:\n",
    "        print(\"epoch = %.f , 기울기 = %.04f , 절편 = %0.4f\" %(i , a, b))\n",
    "        \n",
    "y_pred = a * x_data + b\n",
    "plt.scatter(x , y)\n",
    "plt.plot([min(x_data) , max(x_data)] , [min(x_data) , max(y_pred)])\n",
    "plt.show()"
   ]
  },
  {
   "cell_type": "code",
   "execution_count": 51,
   "metadata": {},
   "outputs": [],
   "source": [
    "import tensorflow as tf "
   ]
  },
  {
   "cell_type": "markdown",
   "metadata": {},
   "source": [
    "프레임 워크 : 소프트웨어 프레임워크는 복잡한 문제를 해결하거나 서술하는 데 \n",
    "사용되는 기본 개념구조 \n",
    "\n",
    "프로그래밍 특정 운영 체저를 위한 응용 프로그램 표준 구조를 구현하는 클래스와 \n",
    "라이브러리 모임 - 간단히 뼈대 , 골조 , 프레임워크 라고 표현 \n",
    "\n",
    "FRAME 프레임틀(규칙 or 법칙) + WORK워크(일 , 소프트웨어의 목적)\n",
    "\n"
   ]
  },
  {
   "cell_type": "code",
   "execution_count": 52,
   "metadata": {},
   "outputs": [],
   "source": [
    "import tensorflow.compat.v1 as tf  # 1.x 버전을 import \n",
    "tf.disable_v2_behavior()  # 2.x버전을 비활성화 \n",
    "\n",
    "a = tf.constant(7.0 , name = \"data1\")\n",
    "b = tf.constant(3.0 , name = \"data2\")\n",
    "c = tf.constant(2.0 , name = \"data3\")\n",
    "\n",
    "v = a * b / c \n",
    "print(v)\n",
    "\n",
    "with tf.Session() as sess:\n",
    "    sess.run(tf.global_variables_initializer())\n",
    "    print(sess.run(v))\n"
   ]
  },
  {
   "cell_type": "markdown",
   "metadata": {},
   "source": [
    "tensorflow는 다른 언어처럼 연산을 그 즉시 하는것이 아니라 \n",
    "edge , node 로 구성되어 있고 edge는 재료이고 node는 기계이며 \n",
    "그 모든구상을 마치고 마지막 나온 결과가 우리가 원하는 결과값이다."
   ]
  },
  {
   "cell_type": "code",
   "execution_count": 53,
   "metadata": {},
   "outputs": [],
   "source": [
    "a = tf.constant(5 , name = \"a\") # 재료들 a ~ e\n",
    "b = tf.constant(3 , name = \"b\") \n",
    "c = tf.multiply(a , b , name = \"c\") # 곱하기 \n",
    "d = tf.add(a , b ,name = \"d\") # 더하기 \n",
    "e = tf.add(c , d , name = \"e\") # 더하기 \n",
    "\n",
    "sess = tf.Session() # 재료가 들어갈 기계\n",
    "print(sess.run(e)) # 기계 작동 \n",
    "\n",
    "v = a * b / c\n",
    "print(v)"
   ]
  }
 ],
 "metadata": {
  "kernelspec": {
   "display_name": "Python 3",
   "language": "python",
   "name": "python3"
  },
  "language_info": {
   "codemirror_mode": {
    "name": "ipython",
    "version": 3
   },
   "file_extension": ".py",
   "mimetype": "text/x-python",
   "name": "python",
   "nbconvert_exporter": "python",
   "pygments_lexer": "ipython3",
   "version": "3.9.5"
  }
 },
 "nbformat": 4,
 "nbformat_minor": 5
}