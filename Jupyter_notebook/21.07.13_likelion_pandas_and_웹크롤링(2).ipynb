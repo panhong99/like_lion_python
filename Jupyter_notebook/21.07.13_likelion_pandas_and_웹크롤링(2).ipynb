{
 "cells": [
  {
   "cell_type": "markdown",
   "id": "d65f0305",
   "metadata": {},
   "source": [
    "## pandas 데이터 분석을 할 때 가장 많이 쓰이는 패키지이다."
   ]
  },
  {
   "cell_type": "code",
   "execution_count": 2,
   "id": "eaa508dd",
   "metadata": {},
   "outputs": [],
   "source": [
    "import pandas as pd"
   ]
  },
  {
   "cell_type": "code",
   "execution_count": 3,
   "id": "f3c6e7b8",
   "metadata": {},
   "outputs": [
    {
     "data": {
      "text/plain": [
       "서울    9904312\n",
       "부산    3448737\n",
       "인천    2890451\n",
       "대구    2466052\n",
       "dtype: int64"
      ]
     },
     "execution_count": 3,
     "metadata": {},
     "output_type": "execute_result"
    }
   ],
   "source": [
    "s = pd.Series([9904312 , 3448737 , 2890451 , 2466052] ,\n",
    "             index = [\"서울\" , \"부산\" , \"인천\" , \"대구\"])\n",
    "s"
   ]
  },
  {
   "cell_type": "code",
   "execution_count": 4,
   "id": "331e9ffe",
   "metadata": {},
   "outputs": [
    {
     "data": {
      "text/plain": [
       "0    10\n",
       "1    11\n",
       "2    12\n",
       "3    13\n",
       "dtype: int64"
      ]
     },
     "execution_count": 4,
     "metadata": {},
     "output_type": "execute_result"
    }
   ],
   "source": [
    "pd.Series(range(10 ,14))\n",
    "#range를 하는데 인덱스를 설정하지 않으면 알아서인덱스를 만들어준다."
   ]
  },
  {
   "cell_type": "code",
   "execution_count": 5,
   "id": "7cac33c1",
   "metadata": {},
   "outputs": [
    {
     "data": {
      "text/plain": [
       "Index(['서울', '부산', '인천', '대구'], dtype='object')"
      ]
     },
     "execution_count": 5,
     "metadata": {},
     "output_type": "execute_result"
    }
   ],
   "source": [
    "s.index # s의 인덱스값 보여줘"
   ]
  },
  {
   "cell_type": "code",
   "execution_count": 6,
   "id": "f36febb6",
   "metadata": {},
   "outputs": [
    {
     "data": {
      "text/plain": [
       "pandas.core.indexes.base.Index"
      ]
     },
     "execution_count": 6,
     "metadata": {},
     "output_type": "execute_result"
    }
   ],
   "source": [
    "type(s.index) # 인덱스 객체의 정보"
   ]
  },
  {
   "cell_type": "code",
   "execution_count": 7,
   "id": "97312e36",
   "metadata": {},
   "outputs": [
    {
     "data": {
      "text/plain": [
       "array([9904312, 3448737, 2890451, 2466052])"
      ]
     },
     "execution_count": 7,
     "metadata": {},
     "output_type": "execute_result"
    }
   ],
   "source": [
    "s.values # s의 밸류들 보여줘"
   ]
  },
  {
   "cell_type": "code",
   "execution_count": 8,
   "id": "64f60c1e",
   "metadata": {},
   "outputs": [
    {
     "data": {
      "text/plain": [
       "numpy.ndarray"
      ]
     },
     "execution_count": 8,
     "metadata": {},
     "output_type": "execute_result"
    }
   ],
   "source": [
    "type(s.values)"
   ]
  },
  {
   "cell_type": "code",
   "execution_count": 9,
   "id": "bf71025f",
   "metadata": {},
   "outputs": [
    {
     "data": {
      "text/plain": [
       "도시\n",
       "서울    9904312\n",
       "부산    3448737\n",
       "인천    2890451\n",
       "대구    2466052\n",
       "Name: 인구, dtype: int64"
      ]
     },
     "execution_count": 9,
     "metadata": {},
     "output_type": "execute_result"
    }
   ],
   "source": [
    "s.name = \"인구\"\n",
    "s.index.name = \"도시\"\n",
    "s\n",
    "#name 속성을 이용해서 시리즈데이터에 이름을 붙일수 있다. \n",
    "#index.name 속성으로 시리즈의 인덱스에도 이름을 붙일 수 있다."
   ]
  },
  {
   "cell_type": "markdown",
   "id": "37c60646",
   "metadata": {},
   "source": [
    "numpy 배열처럼 시리즈도 벡터화 연산을 할 수 있다.\n",
    "연산은 시리즈값에만 적용되며 인덱스 값은 변하지 않는다."
   ]
  },
  {
   "cell_type": "code",
   "execution_count": 11,
   "id": "e465fe20",
   "metadata": {},
   "outputs": [
    {
     "data": {
      "text/plain": [
       "도시\n",
       "서울    9.904312\n",
       "부산    3.448737\n",
       "인천    2.890451\n",
       "대구    2.466052\n",
       "Name: 인구, dtype: float64"
      ]
     },
     "execution_count": 11,
     "metadata": {},
     "output_type": "execute_result"
    }
   ],
   "source": [
    "s / 1000000"
   ]
  },
  {
   "cell_type": "code",
   "execution_count": 12,
   "id": "7f79b4d3",
   "metadata": {},
   "outputs": [
    {
     "data": {
      "text/plain": [
       "3448737"
      ]
     },
     "execution_count": 12,
     "metadata": {},
     "output_type": "execute_result"
    }
   ],
   "source": [
    "s[1] # 시리즈 인덱싱 "
   ]
  },
  {
   "cell_type": "code",
   "execution_count": 13,
   "id": "2c7c4c9f",
   "metadata": {},
   "outputs": [
    {
     "data": {
      "text/plain": [
       "3448737"
      ]
     },
     "execution_count": 13,
     "metadata": {},
     "output_type": "execute_result"
    }
   ],
   "source": [
    "s[\"부산\"] # 인덱싱은 인덱스 라벨을 이용한 슬라이싱도 가능하다."
   ]
  },
  {
   "cell_type": "code",
   "execution_count": 15,
   "id": "ec26299d",
   "metadata": {},
   "outputs": [
    {
     "data": {
      "text/plain": [
       "(2466052, 2466052)"
      ]
     },
     "execution_count": 15,
     "metadata": {},
     "output_type": "execute_result"
    }
   ],
   "source": [
    "s[3] , s[\"대구\"]"
   ]
  },
  {
   "cell_type": "markdown",
   "id": "620962f8",
   "metadata": {},
   "source": [
    "배열 인덱싱을 하면 자료의 순서를 바꾸거나 특정한 자료만 선택할 수 있다."
   ]
  },
  {
   "cell_type": "code",
   "execution_count": 16,
   "id": "3269ad46",
   "metadata": {},
   "outputs": [
    {
     "data": {
      "text/plain": [
       "도시\n",
       "서울    9904312\n",
       "대구    2466052\n",
       "부산    3448737\n",
       "Name: 인구, dtype: int64"
      ]
     },
     "execution_count": 16,
     "metadata": {},
     "output_type": "execute_result"
    }
   ],
   "source": [
    "s[[0,3,1]]"
   ]
  },
  {
   "cell_type": "code",
   "execution_count": 17,
   "id": "69b5d032",
   "metadata": {},
   "outputs": [
    {
     "data": {
      "text/plain": [
       "도시\n",
       "서울    9904312\n",
       "대구    2466052\n",
       "부산    3448737\n",
       "Name: 인구, dtype: int64"
      ]
     },
     "execution_count": 17,
     "metadata": {},
     "output_type": "execute_result"
    }
   ],
   "source": [
    "s[[\"서울\" , \"대구\" , \"부산\"]]"
   ]
  },
  {
   "cell_type": "code",
   "execution_count": 18,
   "id": "19059607",
   "metadata": {},
   "outputs": [
    {
     "data": {
      "text/plain": [
       "도시\n",
       "서울    False\n",
       "부산     True\n",
       "인천     True\n",
       "대구    False\n",
       "Name: 인구, dtype: bool"
      ]
     },
     "execution_count": 18,
     "metadata": {},
     "output_type": "execute_result"
    }
   ],
   "source": [
    "(250e4 < s) & (s < 500e4) # e4라는것은 거듭제곱 e4는 10의 4제곱"
   ]
  },
  {
   "cell_type": "code",
   "execution_count": 19,
   "id": "d26d0201",
   "metadata": {},
   "outputs": [
    {
     "data": {
      "text/plain": [
       "도시\n",
       "부산    3448737\n",
       "인천    2890451\n",
       "Name: 인구, dtype: int64"
      ]
     },
     "execution_count": 19,
     "metadata": {},
     "output_type": "execute_result"
    }
   ],
   "source": [
    "s[(250e4 < s) & (s < 500e4)] "
   ]
  },
  {
   "cell_type": "code",
   "execution_count": 20,
   "id": "5ebfc62a",
   "metadata": {},
   "outputs": [
    {
     "data": {
      "text/plain": [
       "도시\n",
       "부산    3448737\n",
       "인천    2890451\n",
       "Name: 인구, dtype: int64"
      ]
     },
     "execution_count": 20,
     "metadata": {},
     "output_type": "execute_result"
    }
   ],
   "source": [
    "s[1:3]"
   ]
  },
  {
   "cell_type": "code",
   "execution_count": 22,
   "id": "2bcb2d32",
   "metadata": {},
   "outputs": [
    {
     "data": {
      "text/plain": [
       "도시\n",
       "부산    3448737\n",
       "인천    2890451\n",
       "대구    2466052\n",
       "Name: 인구, dtype: int64"
      ]
     },
     "execution_count": 22,
     "metadata": {},
     "output_type": "execute_result"
    }
   ],
   "source": [
    "s[\"부산\" : \"대구\"] #### 문자로 인덱싱을 할때는 마지막 인덱스도 포함!!"
   ]
  },
  {
   "cell_type": "markdown",
   "id": "5c6a2ff6",
   "metadata": {},
   "source": [
    "만약 라벨 값이 영문 문자열일 경우 마지 속성인것처럼(.)을 이용하여 접근할 수 있다."
   ]
  },
  {
   "cell_type": "code",
   "execution_count": 23,
   "id": "e4f80e88",
   "metadata": {},
   "outputs": [
    {
     "data": {
      "text/plain": [
       "a     0\n",
       "b     1\n",
       "cc    2\n",
       "dtype: int64"
      ]
     },
     "execution_count": 23,
     "metadata": {},
     "output_type": "execute_result"
    }
   ],
   "source": [
    "s0 = pd.Series(range(3) , index = [\"a\" , \"b\" , \"cc\"])\n",
    "s0"
   ]
  },
  {
   "cell_type": "code",
   "execution_count": 24,
   "id": "682a7598",
   "metadata": {},
   "outputs": [
    {
     "data": {
      "text/plain": [
       "0"
      ]
     },
     "execution_count": 24,
     "metadata": {},
     "output_type": "execute_result"
    }
   ],
   "source": [
    "s0.a"
   ]
  },
  {
   "cell_type": "code",
   "execution_count": 25,
   "id": "ee671c8e",
   "metadata": {},
   "outputs": [
    {
     "data": {
      "text/plain": [
       "1"
      ]
     },
     "execution_count": 25,
     "metadata": {},
     "output_type": "execute_result"
    }
   ],
   "source": [
    "s0.b"
   ]
  },
  {
   "cell_type": "code",
   "execution_count": 26,
   "id": "635f3ced",
   "metadata": {},
   "outputs": [
    {
     "data": {
      "text/plain": [
       "2"
      ]
     },
     "execution_count": 26,
     "metadata": {},
     "output_type": "execute_result"
    }
   ],
   "source": [
    "s0.cc"
   ]
  },
  {
   "cell_type": "code",
   "execution_count": 27,
   "id": "e9c80af8",
   "metadata": {},
   "outputs": [
    {
     "data": {
      "text/plain": [
       "0"
      ]
     },
     "execution_count": 27,
     "metadata": {},
     "output_type": "execute_result"
    }
   ],
   "source": [
    "s0[\"a\"]"
   ]
  },
  {
   "cell_type": "code",
   "execution_count": 28,
   "id": "668330c1",
   "metadata": {},
   "outputs": [
    {
     "data": {
      "text/plain": [
       "True"
      ]
     },
     "execution_count": 28,
     "metadata": {},
     "output_type": "execute_result"
    }
   ],
   "source": [
    "\"서울\" in s "
   ]
  },
  {
   "cell_type": "code",
   "execution_count": 29,
   "id": "24c04d9e",
   "metadata": {},
   "outputs": [
    {
     "data": {
      "text/plain": [
       "False"
      ]
     },
     "execution_count": 29,
     "metadata": {},
     "output_type": "execute_result"
    }
   ],
   "source": [
    "\"대전\" in s"
   ]
  },
  {
   "cell_type": "markdown",
   "id": "db441368",
   "metadata": {},
   "source": [
    "items 메서드를 사용하면 for 루프를 통해 각 원소의 key와 value을 접근할수도있다."
   ]
  },
  {
   "cell_type": "code",
   "execution_count": 30,
   "id": "f63fc0ce",
   "metadata": {},
   "outputs": [
    {
     "name": "stdout",
     "output_type": "stream",
     "text": [
      "('서울', 9904312)\n",
      "('부산', 3448737)\n",
      "('인천', 2890451)\n",
      "('대구', 2466052)\n"
     ]
    }
   ],
   "source": [
    "for a in s.items():\n",
    "    print(a)"
   ]
  },
  {
   "cell_type": "code",
   "execution_count": 31,
   "id": "b5052b1c",
   "metadata": {},
   "outputs": [
    {
     "name": "stdout",
     "output_type": "stream",
     "text": [
      "서울 = 9904312\n",
      "부산 = 3448737\n",
      "인천 = 2890451\n",
      "대구 = 2466052\n"
     ]
    }
   ],
   "source": [
    "for k , v in s.items():\n",
    "    print(\"%s = %d\" %(k , v))"
   ]
  },
  {
   "cell_type": "code",
   "execution_count": 33,
   "id": "584bf036",
   "metadata": {},
   "outputs": [
    {
     "data": {
      "text/plain": [
       "<bound method Series.items of 도시\n",
       "서울    9904312\n",
       "부산    3448737\n",
       "인천    2890451\n",
       "대구    2466052\n",
       "Name: 인구, dtype: int64>"
      ]
     },
     "execution_count": 33,
     "metadata": {},
     "output_type": "execute_result"
    }
   ],
   "source": [
    "s.items"
   ]
  },
  {
   "cell_type": "code",
   "execution_count": 39,
   "id": "f54bd7f4",
   "metadata": {},
   "outputs": [
    {
     "data": {
      "text/plain": [
       "서울    9631482\n",
       "부산    3393191\n",
       "인천    2632035\n",
       "대전    1490158\n",
       "dtype: int64"
      ]
     },
     "execution_count": 39,
     "metadata": {},
     "output_type": "execute_result"
    }
   ],
   "source": [
    "s2 = pd.Series({\"서울\" : 9631482 , \"부산\" : 3393191 , \"인천\" : 2632035 , \"대전\" : 1490158})\n",
    "s2"
   ]
  },
  {
   "cell_type": "code",
   "execution_count": 40,
   "id": "adafccfc",
   "metadata": {},
   "outputs": [
    {
     "data": {
      "text/plain": [
       "서울    9631482\n",
       "부산    3393191\n",
       "인천    2632035\n",
       "대전    1490158\n",
       "Name: 우리나라, dtype: int64"
      ]
     },
     "execution_count": 40,
     "metadata": {},
     "output_type": "execute_result"
    }
   ],
   "source": [
    "s2.name = \"우리나라\"\n",
    "s2"
   ]
  },
  {
   "cell_type": "code",
   "execution_count": 41,
   "id": "106f67ae",
   "metadata": {},
   "outputs": [
    {
     "data": {
      "text/plain": [
       "Index(['서울', '부산', '인천', '대전'], dtype='object')"
      ]
     },
     "execution_count": 41,
     "metadata": {},
     "output_type": "execute_result"
    }
   ],
   "source": [
    "s2.index"
   ]
  },
  {
   "cell_type": "code",
   "execution_count": 44,
   "id": "936923d3",
   "metadata": {},
   "outputs": [],
   "source": [
    "s2.index.name = \"도시\""
   ]
  },
  {
   "cell_type": "code",
   "execution_count": 45,
   "id": "122a3c34",
   "metadata": {},
   "outputs": [
    {
     "data": {
      "text/plain": [
       "도시\n",
       "서울    9631482\n",
       "부산    3393191\n",
       "인천    2632035\n",
       "대전    1490158\n",
       "Name: 우리나라, dtype: int64"
      ]
     },
     "execution_count": 45,
     "metadata": {},
     "output_type": "execute_result"
    }
   ],
   "source": [
    "s2"
   ]
  },
  {
   "cell_type": "code",
   "execution_count": 46,
   "id": "a37a2044",
   "metadata": {},
   "outputs": [
    {
     "data": {
      "text/plain": [
       "부산    3393191\n",
       "서울    9631482\n",
       "인천    2632035\n",
       "대전    1490158\n",
       "dtype: int64"
      ]
     },
     "execution_count": 46,
     "metadata": {},
     "output_type": "execute_result"
    }
   ],
   "source": [
    "s2 = pd.Series({\"서울\" : 9631482 , \"부산\" : 3393191 , \"인천\" : 2632035 , \"대전\" : 1490158} , index = [\"부산\" , \"서울\" , \"인천\" , \"대전\"])\n",
    "s2"
   ]
  },
  {
   "cell_type": "code",
   "execution_count": 47,
   "id": "2d6bcae1",
   "metadata": {},
   "outputs": [
    {
     "data": {
      "text/plain": [
       "대구         NaN\n",
       "대전         NaN\n",
       "부산     55546.0\n",
       "서울    272830.0\n",
       "인천    258416.0\n",
       "dtype: float64"
      ]
     },
     "execution_count": 47,
     "metadata": {},
     "output_type": "execute_result"
    }
   ],
   "source": [
    "ds = s - s2 # 키값이 같은것끼리 연산\n",
    "ds "
   ]
  },
  {
   "cell_type": "code",
   "execution_count": 48,
   "id": "e281007e",
   "metadata": {},
   "outputs": [
    {
     "data": {
      "text/plain": [
       "array([ 6511121, -6182745,   258416,   975894])"
      ]
     },
     "execution_count": 48,
     "metadata": {},
     "output_type": "execute_result"
    }
   ],
   "source": [
    "s.values - s2.values  # 같은 자리수끼리 연산 "
   ]
  },
  {
   "cell_type": "code",
   "execution_count": 49,
   "id": "0eeb5e20",
   "metadata": {},
   "outputs": [
    {
     "data": {
      "text/plain": [
       "대구    False\n",
       "대전    False\n",
       "부산     True\n",
       "서울     True\n",
       "인천     True\n",
       "dtype: bool"
      ]
     },
     "execution_count": 49,
     "metadata": {},
     "output_type": "execute_result"
    }
   ],
   "source": [
    "ds.notnull() # Null이 아닌 위치의 True"
   ]
  },
  {
   "cell_type": "code",
   "execution_count": 50,
   "id": "04bc4b29",
   "metadata": {},
   "outputs": [
    {
     "name": "stdout",
     "output_type": "stream",
     "text": [
      "<class 'pandas.core.series.Series'>\n"
     ]
    },
    {
     "data": {
      "text/plain": [
       "부산     55546.0\n",
       "서울    272830.0\n",
       "인천    258416.0\n",
       "dtype: float64"
      ]
     },
     "execution_count": 50,
     "metadata": {},
     "output_type": "execute_result"
    }
   ],
   "source": [
    "print(type(ds[ds.notnull()]))\n",
    "ds[ds.notnull()]"
   ]
  },
  {
   "cell_type": "code",
   "execution_count": 64,
   "id": "759d911a",
   "metadata": {},
   "outputs": [
    {
     "data": {
      "text/plain": [
       "부산    1.636984\n",
       "서울    2.832690\n",
       "인천    9.818107\n",
       "dtype: float64"
      ]
     },
     "execution_count": 64,
     "metadata": {},
     "output_type": "execute_result"
    }
   ],
   "source": [
    "# 인구 증가율 \n",
    "rs = (s - s2) / s2* 100 # 대구 , 대전은 값이 부족하므로 연산이 안됨\n",
    "rs = rs[rs.notnull()]\n",
    "rs"
   ]
  },
  {
   "cell_type": "code",
   "execution_count": 65,
   "id": "82d3f1b1",
   "metadata": {},
   "outputs": [
    {
     "data": {
      "text/plain": [
       "부산    1.630000\n",
       "서울    2.832690\n",
       "인천    9.818107\n",
       "dtype: float64"
      ]
     },
     "execution_count": 65,
     "metadata": {},
     "output_type": "execute_result"
    }
   ],
   "source": [
    "rs[\"부산\"] = 1.63\n",
    "rs"
   ]
  },
  {
   "cell_type": "code",
   "execution_count": 66,
   "id": "512aa878",
   "metadata": {},
   "outputs": [
    {
     "data": {
      "text/plain": [
       "부산    1.630000\n",
       "서울    2.832690\n",
       "인천    9.818107\n",
       "대구    1.410000\n",
       "dtype: float64"
      ]
     },
     "execution_count": 66,
     "metadata": {},
     "output_type": "execute_result"
    }
   ],
   "source": [
    "rs[\"대구\"] = 1.41\n",
    "rs"
   ]
  },
  {
   "cell_type": "code",
   "execution_count": 67,
   "id": "a2aa855d",
   "metadata": {},
   "outputs": [
    {
     "data": {
      "text/plain": [
       "부산    1.630000\n",
       "인천    9.818107\n",
       "대구    1.410000\n",
       "dtype: float64"
      ]
     },
     "execution_count": 67,
     "metadata": {},
     "output_type": "execute_result"
    }
   ],
   "source": [
    "del rs[\"서울\"]\n",
    "rs"
   ]
  },
  {
   "cell_type": "code",
   "execution_count": 73,
   "id": "face61c6",
   "metadata": {},
   "outputs": [
    {
     "data": {
      "text/plain": [
       "a    4\n",
       "b    6\n",
       "c    8\n",
       "dtype: int64"
      ]
     },
     "execution_count": 73,
     "metadata": {},
     "output_type": "execute_result"
    }
   ],
   "source": [
    "a = pd.Series(range(3) , index = [\"a\" , \"b\" , \"c\"])\n",
    "b = pd.Series(range(4,7) , index = [\"a\" , \"b\" , \"c\"])\n",
    "c = a + b\n",
    "c"
   ]
  },
  {
   "cell_type": "code",
   "execution_count": 74,
   "id": "a6d33c23",
   "metadata": {},
   "outputs": [
    {
     "data": {
      "text/plain": [
       "a   -4\n",
       "b   -4\n",
       "c   -4\n",
       "dtype: int64"
      ]
     },
     "execution_count": 74,
     "metadata": {},
     "output_type": "execute_result"
    }
   ],
   "source": [
    "d = a - b\n",
    "d"
   ]
  },
  {
   "cell_type": "code",
   "execution_count": 76,
   "id": "eafcc19e",
   "metadata": {},
   "outputs": [
    {
     "data": {
      "text/plain": [
       "a     0\n",
       "b     5\n",
       "c    12\n",
       "dtype: int64"
      ]
     },
     "execution_count": 76,
     "metadata": {},
     "output_type": "execute_result"
    }
   ],
   "source": [
    "e = a * b\n",
    "e"
   ]
  },
  {
   "cell_type": "code",
   "execution_count": 77,
   "id": "b724c5e4",
   "metadata": {},
   "outputs": [
    {
     "data": {
      "text/plain": [
       "a    0.000000\n",
       "b    0.200000\n",
       "c    0.333333\n",
       "dtype: float64"
      ]
     },
     "execution_count": 77,
     "metadata": {},
     "output_type": "execute_result"
    }
   ],
   "source": [
    "f = a / b\n",
    "f"
   ]
  },
  {
   "cell_type": "markdown",
   "id": "2384f3d3",
   "metadata": {},
   "source": [
    "데이터 프레임 생성 "
   ]
  },
  {
   "cell_type": "code",
   "execution_count": 105,
   "id": "cd44636b",
   "metadata": {},
   "outputs": [
    {
     "name": "stdout",
     "output_type": "stream",
     "text": [
      "     지역     2015     2010     2005     2000 2010 - 2015 증가율\n",
      "서울  수도권  9904312  9631482  9762546  9853972             NaN\n",
      "부산  경상권  3448738  3393191  3512547  3655437             NaN\n",
      "인천  수도권  2890451  2632035  2517680  2466338             NaN\n",
      "대구  경상권  2466052  2431774  2456016  2473990             NaN\n"
     ]
    },
    {
     "data": {
      "text/html": [
       "<div>\n",
       "<style scoped>\n",
       "    .dataframe tbody tr th:only-of-type {\n",
       "        vertical-align: middle;\n",
       "    }\n",
       "\n",
       "    .dataframe tbody tr th {\n",
       "        vertical-align: top;\n",
       "    }\n",
       "\n",
       "    .dataframe thead th {\n",
       "        text-align: right;\n",
       "    }\n",
       "</style>\n",
       "<table border=\"1\" class=\"dataframe\">\n",
       "  <thead>\n",
       "    <tr style=\"text-align: right;\">\n",
       "      <th></th>\n",
       "      <th>지역</th>\n",
       "      <th>2015</th>\n",
       "      <th>2010</th>\n",
       "      <th>2005</th>\n",
       "      <th>2000</th>\n",
       "      <th>2010 - 2015 증가율</th>\n",
       "    </tr>\n",
       "  </thead>\n",
       "  <tbody>\n",
       "    <tr>\n",
       "      <th>서울</th>\n",
       "      <td>수도권</td>\n",
       "      <td>9904312</td>\n",
       "      <td>9631482</td>\n",
       "      <td>9762546</td>\n",
       "      <td>9853972</td>\n",
       "      <td>NaN</td>\n",
       "    </tr>\n",
       "    <tr>\n",
       "      <th>부산</th>\n",
       "      <td>경상권</td>\n",
       "      <td>3448738</td>\n",
       "      <td>3393191</td>\n",
       "      <td>3512547</td>\n",
       "      <td>3655437</td>\n",
       "      <td>NaN</td>\n",
       "    </tr>\n",
       "    <tr>\n",
       "      <th>인천</th>\n",
       "      <td>수도권</td>\n",
       "      <td>2890451</td>\n",
       "      <td>2632035</td>\n",
       "      <td>2517680</td>\n",
       "      <td>2466338</td>\n",
       "      <td>NaN</td>\n",
       "    </tr>\n",
       "    <tr>\n",
       "      <th>대구</th>\n",
       "      <td>경상권</td>\n",
       "      <td>2466052</td>\n",
       "      <td>2431774</td>\n",
       "      <td>2456016</td>\n",
       "      <td>2473990</td>\n",
       "      <td>NaN</td>\n",
       "    </tr>\n",
       "  </tbody>\n",
       "</table>\n",
       "</div>"
      ],
      "text/plain": [
       "     지역     2015     2010     2005     2000 2010 - 2015 증가율\n",
       "서울  수도권  9904312  9631482  9762546  9853972             NaN\n",
       "부산  경상권  3448738  3393191  3512547  3655437             NaN\n",
       "인천  수도권  2890451  2632035  2517680  2466338             NaN\n",
       "대구  경상권  2466052  2431774  2456016  2473990             NaN"
      ]
     },
     "execution_count": 105,
     "metadata": {},
     "output_type": "execute_result"
    }
   ],
   "source": [
    "data = { \n",
    "    \"2015\" : [9904312 , 3448738 , 2890451 , 2466052],\n",
    "    \"2010\" : [9631482 , 3393191 , 2632035 , 2431774],\n",
    "    \"2005\" : [9762546 , 3512547 , 2517680 , 2456016],\n",
    "    \"2000\" : [9853972 , 3655437 , 2466338 , 2473990],\n",
    "    \"지역\" : [\"수도권\" , \"경상권\" , \"수도권\" , \"경상권\"],\n",
    "    \"2010 - 2015 증가율 \" : [0.0283 , 0.0163 , 0.0982 , 0.0141]\n",
    "}\n",
    "\n",
    "columns = [\"지역\" , \"2015\" , \"2010\" , \"2005\" , \"2000\" , \"2010 - 2015 증가율\"]\n",
    "index = [\"서울\" , \"부산\" , \"인천\" , \"대구\"]\n",
    "\n",
    "df = pd.DataFrame(data , index = index , columns = columns)\n",
    "print(df)\n",
    "df"
   ]
  },
  {
   "cell_type": "code",
   "execution_count": 79,
   "id": "ace4b5a0",
   "metadata": {
    "collapsed": true
   },
   "outputs": [
    {
     "data": {
      "text/plain": [
       "array([['수도권', 9904312, 9631482, 9762546, 9853972, nan],\n",
       "       ['경상권', 3448738, 3393191, 3512547, 3655437, nan],\n",
       "       ['수도권', 2890451, 2632035, 2517680, 2466338, nan],\n",
       "       ['경상권', 2466052, 2431774, 2456016, 2473990, nan]], dtype=object)"
      ]
     },
     "execution_count": 79,
     "metadata": {},
     "output_type": "execute_result"
    }
   ],
   "source": [
    "df.values"
   ]
  },
  {
   "cell_type": "code",
   "execution_count": 80,
   "id": "872cb3d4",
   "metadata": {
    "collapsed": true
   },
   "outputs": [
    {
     "data": {
      "text/plain": [
       "numpy.ndarray"
      ]
     },
     "execution_count": 80,
     "metadata": {},
     "output_type": "execute_result"
    }
   ],
   "source": [
    "type(df.values)"
   ]
  },
  {
   "cell_type": "code",
   "execution_count": 81,
   "id": "8aaa51ac",
   "metadata": {
    "collapsed": true
   },
   "outputs": [
    {
     "data": {
      "text/plain": [
       "Index(['지역', '2015', '2010', '2005', '2000', '2010 - 2015 증가율'], dtype='object')"
      ]
     },
     "execution_count": 81,
     "metadata": {},
     "output_type": "execute_result"
    }
   ],
   "source": [
    "df.columns"
   ]
  },
  {
   "cell_type": "code",
   "execution_count": 82,
   "id": "e5599754",
   "metadata": {},
   "outputs": [
    {
     "data": {
      "text/plain": [
       "Index(['서울', '부산', '인천', '대구'], dtype='object')"
      ]
     },
     "execution_count": 82,
     "metadata": {},
     "output_type": "execute_result"
    }
   ],
   "source": [
    "df.index"
   ]
  },
  {
   "cell_type": "code",
   "execution_count": 83,
   "id": "67d917b5",
   "metadata": {},
   "outputs": [
    {
     "name": "stdout",
     "output_type": "stream",
     "text": [
      "특성   지역     2015     2010     2005     2000 2010 - 2015 증가율\n",
      "도시                                                         \n",
      "서울  수도권  9904312  9631482  9762546  9853972             NaN\n",
      "부산  경상권  3448738  3393191  3512547  3655437             NaN\n",
      "인천  수도권  2890451  2632035  2517680  2466338             NaN\n",
      "대구  경상권  2466052  2431774  2456016  2473990             NaN\n"
     ]
    },
    {
     "data": {
      "text/html": [
       "<div>\n",
       "<style scoped>\n",
       "    .dataframe tbody tr th:only-of-type {\n",
       "        vertical-align: middle;\n",
       "    }\n",
       "\n",
       "    .dataframe tbody tr th {\n",
       "        vertical-align: top;\n",
       "    }\n",
       "\n",
       "    .dataframe thead th {\n",
       "        text-align: right;\n",
       "    }\n",
       "</style>\n",
       "<table border=\"1\" class=\"dataframe\">\n",
       "  <thead>\n",
       "    <tr style=\"text-align: right;\">\n",
       "      <th>특성</th>\n",
       "      <th>지역</th>\n",
       "      <th>2015</th>\n",
       "      <th>2010</th>\n",
       "      <th>2005</th>\n",
       "      <th>2000</th>\n",
       "      <th>2010 - 2015 증가율</th>\n",
       "    </tr>\n",
       "    <tr>\n",
       "      <th>도시</th>\n",
       "      <th></th>\n",
       "      <th></th>\n",
       "      <th></th>\n",
       "      <th></th>\n",
       "      <th></th>\n",
       "      <th></th>\n",
       "    </tr>\n",
       "  </thead>\n",
       "  <tbody>\n",
       "    <tr>\n",
       "      <th>서울</th>\n",
       "      <td>수도권</td>\n",
       "      <td>9904312</td>\n",
       "      <td>9631482</td>\n",
       "      <td>9762546</td>\n",
       "      <td>9853972</td>\n",
       "      <td>NaN</td>\n",
       "    </tr>\n",
       "    <tr>\n",
       "      <th>부산</th>\n",
       "      <td>경상권</td>\n",
       "      <td>3448738</td>\n",
       "      <td>3393191</td>\n",
       "      <td>3512547</td>\n",
       "      <td>3655437</td>\n",
       "      <td>NaN</td>\n",
       "    </tr>\n",
       "    <tr>\n",
       "      <th>인천</th>\n",
       "      <td>수도권</td>\n",
       "      <td>2890451</td>\n",
       "      <td>2632035</td>\n",
       "      <td>2517680</td>\n",
       "      <td>2466338</td>\n",
       "      <td>NaN</td>\n",
       "    </tr>\n",
       "    <tr>\n",
       "      <th>대구</th>\n",
       "      <td>경상권</td>\n",
       "      <td>2466052</td>\n",
       "      <td>2431774</td>\n",
       "      <td>2456016</td>\n",
       "      <td>2473990</td>\n",
       "      <td>NaN</td>\n",
       "    </tr>\n",
       "  </tbody>\n",
       "</table>\n",
       "</div>"
      ],
      "text/plain": [
       "특성   지역     2015     2010     2005     2000 2010 - 2015 증가율\n",
       "도시                                                         \n",
       "서울  수도권  9904312  9631482  9762546  9853972             NaN\n",
       "부산  경상권  3448738  3393191  3512547  3655437             NaN\n",
       "인천  수도권  2890451  2632035  2517680  2466338             NaN\n",
       "대구  경상권  2466052  2431774  2456016  2473990             NaN"
      ]
     },
     "execution_count": 83,
     "metadata": {},
     "output_type": "execute_result"
    }
   ],
   "source": [
    "df.index.name = \"도시\"\n",
    "df.columns.name = \"특성\"\n",
    "df.name = \"도시별 인구\"\n",
    "print(df)\n",
    "df"
   ]
  },
  {
   "cell_type": "code",
   "execution_count": 87,
   "id": "b8f9cb53",
   "metadata": {},
   "outputs": [
    {
     "data": {
      "text/html": [
       "<div>\n",
       "<style scoped>\n",
       "    .dataframe tbody tr th:only-of-type {\n",
       "        vertical-align: middle;\n",
       "    }\n",
       "\n",
       "    .dataframe tbody tr th {\n",
       "        vertical-align: top;\n",
       "    }\n",
       "\n",
       "    .dataframe thead th {\n",
       "        text-align: right;\n",
       "    }\n",
       "</style>\n",
       "<table border=\"1\" class=\"dataframe\">\n",
       "  <thead>\n",
       "    <tr style=\"text-align: right;\">\n",
       "      <th></th>\n",
       "      <th>2018</th>\n",
       "      <th>2019</th>\n",
       "      <th>2020</th>\n",
       "      <th>2021</th>\n",
       "      <th>평균 홈런</th>\n",
       "    </tr>\n",
       "  </thead>\n",
       "  <tbody>\n",
       "    <tr>\n",
       "      <th>이대호</th>\n",
       "      <td>37</td>\n",
       "      <td>16</td>\n",
       "      <td>20</td>\n",
       "      <td>10</td>\n",
       "      <td>20</td>\n",
       "    </tr>\n",
       "    <tr>\n",
       "      <th>손아섭</th>\n",
       "      <td>26</td>\n",
       "      <td>10</td>\n",
       "      <td>11</td>\n",
       "      <td>1</td>\n",
       "      <td>12</td>\n",
       "    </tr>\n",
       "    <tr>\n",
       "      <th>박병호</th>\n",
       "      <td>43</td>\n",
       "      <td>33</td>\n",
       "      <td>21</td>\n",
       "      <td>10</td>\n",
       "      <td>26</td>\n",
       "    </tr>\n",
       "    <tr>\n",
       "      <th>이정후</th>\n",
       "      <td>6</td>\n",
       "      <td>6</td>\n",
       "      <td>15</td>\n",
       "      <td>3</td>\n",
       "      <td>7</td>\n",
       "    </tr>\n",
       "    <tr>\n",
       "      <th>김현수</th>\n",
       "      <td>20</td>\n",
       "      <td>11</td>\n",
       "      <td>22</td>\n",
       "      <td>12</td>\n",
       "      <td>16</td>\n",
       "    </tr>\n",
       "  </tbody>\n",
       "</table>\n",
       "</div>"
      ],
      "text/plain": [
       "     2018  2019  2020  2021  평균 홈런\n",
       "이대호    37    16    20    10     20\n",
       "손아섭    26    10    11     1     12\n",
       "박병호    43    33    21    10     26\n",
       "이정후     6     6    15     3      7\n",
       "김현수    20    11    22    12     16"
      ]
     },
     "execution_count": 87,
     "metadata": {},
     "output_type": "execute_result"
    }
   ],
   "source": [
    "data = {\n",
    "    \"평균 홈런\" : [20 , 12 , 26 , 7 , 16],\n",
    "    \"2018\" : [37 , 26 , 43 , 6 , 20], \n",
    "    \"2019\" : [16 , 10 , 33 , 6 , 11],\n",
    "    \"2020\" : [20 , 11 , 21 , 15 , 22],\n",
    "    \"2021\" : [10 , 1 , 10 , 3 , 12]\n",
    "    \n",
    "}\n",
    "\n",
    "columns = [\"2018\" , \"2019\" , \"2020\" , \"2021\" , \"평균 홈런\"]\n",
    "index = [\"이대호\" , \"손아섭\" , \"박병호\" , \"이정후\" , \"김현수\"]\n",
    "df3 = pd.DataFrame(data , index = index , columns = columns)\n",
    "df3"
   ]
  },
  {
   "cell_type": "code",
   "execution_count": 90,
   "id": "4f9772ea",
   "metadata": {},
   "outputs": [
    {
     "data": {
      "text/html": [
       "<div>\n",
       "<style scoped>\n",
       "    .dataframe tbody tr th:only-of-type {\n",
       "        vertical-align: middle;\n",
       "    }\n",
       "\n",
       "    .dataframe tbody tr th {\n",
       "        vertical-align: top;\n",
       "    }\n",
       "\n",
       "    .dataframe thead th {\n",
       "        text-align: right;\n",
       "    }\n",
       "</style>\n",
       "<table border=\"1\" class=\"dataframe\">\n",
       "  <thead>\n",
       "    <tr style=\"text-align: right;\">\n",
       "      <th></th>\n",
       "      <th>이대호</th>\n",
       "      <th>손아섭</th>\n",
       "      <th>박병호</th>\n",
       "      <th>이정후</th>\n",
       "      <th>김현수</th>\n",
       "    </tr>\n",
       "  </thead>\n",
       "  <tbody>\n",
       "    <tr>\n",
       "      <th>2018</th>\n",
       "      <td>37</td>\n",
       "      <td>26</td>\n",
       "      <td>43</td>\n",
       "      <td>6</td>\n",
       "      <td>20</td>\n",
       "    </tr>\n",
       "    <tr>\n",
       "      <th>2019</th>\n",
       "      <td>16</td>\n",
       "      <td>10</td>\n",
       "      <td>33</td>\n",
       "      <td>6</td>\n",
       "      <td>11</td>\n",
       "    </tr>\n",
       "    <tr>\n",
       "      <th>2020</th>\n",
       "      <td>20</td>\n",
       "      <td>11</td>\n",
       "      <td>21</td>\n",
       "      <td>15</td>\n",
       "      <td>22</td>\n",
       "    </tr>\n",
       "    <tr>\n",
       "      <th>2021</th>\n",
       "      <td>10</td>\n",
       "      <td>1</td>\n",
       "      <td>10</td>\n",
       "      <td>3</td>\n",
       "      <td>12</td>\n",
       "    </tr>\n",
       "    <tr>\n",
       "      <th>평균 홈런</th>\n",
       "      <td>20</td>\n",
       "      <td>12</td>\n",
       "      <td>26</td>\n",
       "      <td>7</td>\n",
       "      <td>16</td>\n",
       "    </tr>\n",
       "  </tbody>\n",
       "</table>\n",
       "</div>"
      ],
      "text/plain": [
       "       이대호  손아섭  박병호  이정후  김현수\n",
       "2018    37   26   43    6   20\n",
       "2019    16   10   33    6   11\n",
       "2020    20   11   21   15   22\n",
       "2021    10    1   10    3   12\n",
       "평균 홈런   20   12   26    7   16"
      ]
     },
     "execution_count": 90,
     "metadata": {},
     "output_type": "execute_result"
    }
   ],
   "source": [
    "df3.T # 행과 열이 바뀜"
   ]
  },
  {
   "cell_type": "code",
   "execution_count": 91,
   "id": "afa57fde",
   "metadata": {},
   "outputs": [
    {
     "data": {
      "text/html": [
       "<div>\n",
       "<style scoped>\n",
       "    .dataframe tbody tr th:only-of-type {\n",
       "        vertical-align: middle;\n",
       "    }\n",
       "\n",
       "    .dataframe tbody tr th {\n",
       "        vertical-align: top;\n",
       "    }\n",
       "\n",
       "    .dataframe thead th {\n",
       "        text-align: right;\n",
       "    }\n",
       "</style>\n",
       "<table border=\"1\" class=\"dataframe\">\n",
       "  <thead>\n",
       "    <tr style=\"text-align: right;\">\n",
       "      <th></th>\n",
       "      <th>2018</th>\n",
       "      <th>2019</th>\n",
       "      <th>2020</th>\n",
       "      <th>2021</th>\n",
       "      <th>평균 홈런</th>\n",
       "    </tr>\n",
       "  </thead>\n",
       "  <tbody>\n",
       "    <tr>\n",
       "      <th>이대호</th>\n",
       "      <td>37</td>\n",
       "      <td>16</td>\n",
       "      <td>20</td>\n",
       "      <td>10</td>\n",
       "      <td>20</td>\n",
       "    </tr>\n",
       "    <tr>\n",
       "      <th>손아섭</th>\n",
       "      <td>26</td>\n",
       "      <td>10</td>\n",
       "      <td>11</td>\n",
       "      <td>1</td>\n",
       "      <td>12</td>\n",
       "    </tr>\n",
       "    <tr>\n",
       "      <th>박병호</th>\n",
       "      <td>43</td>\n",
       "      <td>33</td>\n",
       "      <td>21</td>\n",
       "      <td>10</td>\n",
       "      <td>26</td>\n",
       "    </tr>\n",
       "    <tr>\n",
       "      <th>이정후</th>\n",
       "      <td>6</td>\n",
       "      <td>6</td>\n",
       "      <td>15</td>\n",
       "      <td>3</td>\n",
       "      <td>7</td>\n",
       "    </tr>\n",
       "    <tr>\n",
       "      <th>김현수</th>\n",
       "      <td>20</td>\n",
       "      <td>11</td>\n",
       "      <td>22</td>\n",
       "      <td>12</td>\n",
       "      <td>16</td>\n",
       "    </tr>\n",
       "  </tbody>\n",
       "</table>\n",
       "</div>"
      ],
      "text/plain": [
       "     2018  2019  2020  2021  평균 홈런\n",
       "이대호    37    16    20    10     20\n",
       "손아섭    26    10    11     1     12\n",
       "박병호    43    33    21    10     26\n",
       "이정후     6     6    15     3      7\n",
       "김현수    20    11    22    12     16"
      ]
     },
     "execution_count": 91,
     "metadata": {},
     "output_type": "execute_result"
    }
   ],
   "source": [
    "df3 # 원값이 바뀌는것이 아니고 일시적으로 변경만 해준것이다."
   ]
  },
  {
   "cell_type": "code",
   "execution_count": 97,
   "id": "129737a7",
   "metadata": {},
   "outputs": [
    {
     "data": {
      "text/html": [
       "<div>\n",
       "<style scoped>\n",
       "    .dataframe tbody tr th:only-of-type {\n",
       "        vertical-align: middle;\n",
       "    }\n",
       "\n",
       "    .dataframe tbody tr th {\n",
       "        vertical-align: top;\n",
       "    }\n",
       "\n",
       "    .dataframe thead th {\n",
       "        text-align: right;\n",
       "    }\n",
       "</style>\n",
       "<table border=\"1\" class=\"dataframe\">\n",
       "  <thead>\n",
       "    <tr style=\"text-align: right;\">\n",
       "      <th></th>\n",
       "      <th>지역</th>\n",
       "      <th>2015</th>\n",
       "      <th>2010</th>\n",
       "      <th>2005</th>\n",
       "      <th>2000</th>\n",
       "      <th>2010 - 2015 증가율</th>\n",
       "    </tr>\n",
       "  </thead>\n",
       "  <tbody>\n",
       "    <tr>\n",
       "      <th>서울</th>\n",
       "      <td>수도권</td>\n",
       "      <td>9904312</td>\n",
       "      <td>9631482</td>\n",
       "      <td>9762546</td>\n",
       "      <td>9853972</td>\n",
       "      <td>NaN</td>\n",
       "    </tr>\n",
       "    <tr>\n",
       "      <th>부산</th>\n",
       "      <td>경상권</td>\n",
       "      <td>3448738</td>\n",
       "      <td>3393191</td>\n",
       "      <td>3512547</td>\n",
       "      <td>3655437</td>\n",
       "      <td>NaN</td>\n",
       "    </tr>\n",
       "    <tr>\n",
       "      <th>인천</th>\n",
       "      <td>수도권</td>\n",
       "      <td>2890451</td>\n",
       "      <td>2632035</td>\n",
       "      <td>2517680</td>\n",
       "      <td>2466338</td>\n",
       "      <td>NaN</td>\n",
       "    </tr>\n",
       "    <tr>\n",
       "      <th>대구</th>\n",
       "      <td>경상권</td>\n",
       "      <td>2466052</td>\n",
       "      <td>2431774</td>\n",
       "      <td>2456016</td>\n",
       "      <td>2473990</td>\n",
       "      <td>NaN</td>\n",
       "    </tr>\n",
       "  </tbody>\n",
       "</table>\n",
       "</div>"
      ],
      "text/plain": [
       "     지역     2015     2010     2005     2000 2010 - 2015 증가율\n",
       "서울  수도권  9904312  9631482  9762546  9853972             NaN\n",
       "부산  경상권  3448738  3393191  3512547  3655437             NaN\n",
       "인천  수도권  2890451  2632035  2517680  2466338             NaN\n",
       "대구  경상권  2466052  2431774  2456016  2473990             NaN"
      ]
     },
     "execution_count": 97,
     "metadata": {},
     "output_type": "execute_result"
    }
   ],
   "source": [
    "df[\"2010 - 2015 증가율\"] = df[\"2010 - 2015 증가율\"] * 100\n",
    "df"
   ]
  },
  {
   "cell_type": "code",
   "execution_count": 106,
   "id": "174af0ec",
   "metadata": {},
   "outputs": [
    {
     "data": {
      "text/html": [
       "<div>\n",
       "<style scoped>\n",
       "    .dataframe tbody tr th:only-of-type {\n",
       "        vertical-align: middle;\n",
       "    }\n",
       "\n",
       "    .dataframe tbody tr th {\n",
       "        vertical-align: top;\n",
       "    }\n",
       "\n",
       "    .dataframe thead th {\n",
       "        text-align: right;\n",
       "    }\n",
       "</style>\n",
       "<table border=\"1\" class=\"dataframe\">\n",
       "  <thead>\n",
       "    <tr style=\"text-align: right;\">\n",
       "      <th></th>\n",
       "      <th>지역</th>\n",
       "      <th>2015</th>\n",
       "      <th>2010</th>\n",
       "      <th>2005</th>\n",
       "      <th>2000</th>\n",
       "      <th>2010 - 2015 증가율</th>\n",
       "      <th>2010 - 2010 증가율</th>\n",
       "    </tr>\n",
       "  </thead>\n",
       "  <tbody>\n",
       "    <tr>\n",
       "      <th>서울</th>\n",
       "      <td>수도권</td>\n",
       "      <td>9904312</td>\n",
       "      <td>9631482</td>\n",
       "      <td>9762546</td>\n",
       "      <td>9853972</td>\n",
       "      <td>NaN</td>\n",
       "      <td>-2.79</td>\n",
       "    </tr>\n",
       "    <tr>\n",
       "      <th>부산</th>\n",
       "      <td>경상권</td>\n",
       "      <td>3448738</td>\n",
       "      <td>3393191</td>\n",
       "      <td>3512547</td>\n",
       "      <td>3655437</td>\n",
       "      <td>NaN</td>\n",
       "      <td>-1.58</td>\n",
       "    </tr>\n",
       "    <tr>\n",
       "      <th>인천</th>\n",
       "      <td>수도권</td>\n",
       "      <td>2890451</td>\n",
       "      <td>2632035</td>\n",
       "      <td>2517680</td>\n",
       "      <td>2466338</td>\n",
       "      <td>NaN</td>\n",
       "      <td>-10.26</td>\n",
       "    </tr>\n",
       "    <tr>\n",
       "      <th>대구</th>\n",
       "      <td>경상권</td>\n",
       "      <td>2466052</td>\n",
       "      <td>2431774</td>\n",
       "      <td>2456016</td>\n",
       "      <td>2473990</td>\n",
       "      <td>NaN</td>\n",
       "      <td>-1.40</td>\n",
       "    </tr>\n",
       "  </tbody>\n",
       "</table>\n",
       "</div>"
      ],
      "text/plain": [
       "     지역     2015     2010     2005     2000 2010 - 2015 증가율  2010 - 2010 증가율\n",
       "서울  수도권  9904312  9631482  9762546  9853972             NaN            -2.79\n",
       "부산  경상권  3448738  3393191  3512547  3655437             NaN            -1.58\n",
       "인천  수도권  2890451  2632035  2517680  2466338             NaN           -10.26\n",
       "대구  경상권  2466052  2431774  2456016  2473990             NaN            -1.40"
      ]
     },
     "execution_count": 106,
     "metadata": {},
     "output_type": "execute_result"
    }
   ],
   "source": [
    "df[\"2010 - 2010 증가율\"] = ((df[\"2010\"] - df[\"2015\"]) / df[\"2005\"] * 100).round(2)\n",
    "df"
   ]
  },
  {
   "cell_type": "code",
   "execution_count": 107,
   "id": "fae899a7",
   "metadata": {},
   "outputs": [
    {
     "data": {
      "text/html": [
       "<div>\n",
       "<style scoped>\n",
       "    .dataframe tbody tr th:only-of-type {\n",
       "        vertical-align: middle;\n",
       "    }\n",
       "\n",
       "    .dataframe tbody tr th {\n",
       "        vertical-align: top;\n",
       "    }\n",
       "\n",
       "    .dataframe thead th {\n",
       "        text-align: right;\n",
       "    }\n",
       "</style>\n",
       "<table border=\"1\" class=\"dataframe\">\n",
       "  <thead>\n",
       "    <tr style=\"text-align: right;\">\n",
       "      <th></th>\n",
       "      <th>지역</th>\n",
       "      <th>2015</th>\n",
       "      <th>2010</th>\n",
       "      <th>2005</th>\n",
       "      <th>2000</th>\n",
       "      <th>2010 - 2010 증가율</th>\n",
       "    </tr>\n",
       "  </thead>\n",
       "  <tbody>\n",
       "    <tr>\n",
       "      <th>서울</th>\n",
       "      <td>수도권</td>\n",
       "      <td>9904312</td>\n",
       "      <td>9631482</td>\n",
       "      <td>9762546</td>\n",
       "      <td>9853972</td>\n",
       "      <td>-2.79</td>\n",
       "    </tr>\n",
       "    <tr>\n",
       "      <th>부산</th>\n",
       "      <td>경상권</td>\n",
       "      <td>3448738</td>\n",
       "      <td>3393191</td>\n",
       "      <td>3512547</td>\n",
       "      <td>3655437</td>\n",
       "      <td>-1.58</td>\n",
       "    </tr>\n",
       "    <tr>\n",
       "      <th>인천</th>\n",
       "      <td>수도권</td>\n",
       "      <td>2890451</td>\n",
       "      <td>2632035</td>\n",
       "      <td>2517680</td>\n",
       "      <td>2466338</td>\n",
       "      <td>-10.26</td>\n",
       "    </tr>\n",
       "    <tr>\n",
       "      <th>대구</th>\n",
       "      <td>경상권</td>\n",
       "      <td>2466052</td>\n",
       "      <td>2431774</td>\n",
       "      <td>2456016</td>\n",
       "      <td>2473990</td>\n",
       "      <td>-1.40</td>\n",
       "    </tr>\n",
       "  </tbody>\n",
       "</table>\n",
       "</div>"
      ],
      "text/plain": [
       "     지역     2015     2010     2005     2000  2010 - 2010 증가율\n",
       "서울  수도권  9904312  9631482  9762546  9853972            -2.79\n",
       "부산  경상권  3448738  3393191  3512547  3655437            -1.58\n",
       "인천  수도권  2890451  2632035  2517680  2466338           -10.26\n",
       "대구  경상권  2466052  2431774  2456016  2473990            -1.40"
      ]
     },
     "execution_count": 107,
     "metadata": {},
     "output_type": "execute_result"
    }
   ],
   "source": [
    "del df[\"2010 - 2015 증가율\"]\n",
    "df"
   ]
  },
  {
   "cell_type": "code",
   "execution_count": 108,
   "id": "45c61a44",
   "metadata": {},
   "outputs": [
    {
     "name": "stdout",
     "output_type": "stream",
     "text": [
      "<class 'pandas.core.series.Series'>\n",
      "(4,)\n"
     ]
    },
    {
     "data": {
      "text/plain": [
       "서울    9904312\n",
       "부산    3448738\n",
       "인천    2890451\n",
       "대구    2466052\n",
       "Name: 2015, dtype: int64"
      ]
     },
     "execution_count": 108,
     "metadata": {},
     "output_type": "execute_result"
    }
   ],
   "source": [
    "print(type(df[\"2015\"]))\n",
    "print(df[\"2015\"].shape)\n",
    "df[\"2015\"]\n"
   ]
  },
  {
   "cell_type": "code",
   "execution_count": 110,
   "id": "3ec49d1d",
   "metadata": {},
   "outputs": [
    {
     "name": "stdout",
     "output_type": "stream",
     "text": [
      "<class 'pandas.core.frame.DataFrame'>\n"
     ]
    },
    {
     "data": {
      "text/html": [
       "<div>\n",
       "<style scoped>\n",
       "    .dataframe tbody tr th:only-of-type {\n",
       "        vertical-align: middle;\n",
       "    }\n",
       "\n",
       "    .dataframe tbody tr th {\n",
       "        vertical-align: top;\n",
       "    }\n",
       "\n",
       "    .dataframe thead th {\n",
       "        text-align: right;\n",
       "    }\n",
       "</style>\n",
       "<table border=\"1\" class=\"dataframe\">\n",
       "  <thead>\n",
       "    <tr style=\"text-align: right;\">\n",
       "      <th></th>\n",
       "      <th>2010</th>\n",
       "      <th>2015</th>\n",
       "    </tr>\n",
       "  </thead>\n",
       "  <tbody>\n",
       "    <tr>\n",
       "      <th>서울</th>\n",
       "      <td>9631482</td>\n",
       "      <td>9904312</td>\n",
       "    </tr>\n",
       "    <tr>\n",
       "      <th>부산</th>\n",
       "      <td>3393191</td>\n",
       "      <td>3448738</td>\n",
       "    </tr>\n",
       "    <tr>\n",
       "      <th>인천</th>\n",
       "      <td>2632035</td>\n",
       "      <td>2890451</td>\n",
       "    </tr>\n",
       "    <tr>\n",
       "      <th>대구</th>\n",
       "      <td>2431774</td>\n",
       "      <td>2466052</td>\n",
       "    </tr>\n",
       "  </tbody>\n",
       "</table>\n",
       "</div>"
      ],
      "text/plain": [
       "       2010     2015\n",
       "서울  9631482  9904312\n",
       "부산  3393191  3448738\n",
       "인천  2632035  2890451\n",
       "대구  2431774  2466052"
      ]
     },
     "execution_count": 110,
     "metadata": {},
     "output_type": "execute_result"
    }
   ],
   "source": [
    "print(type(df[[\"2010\" , \"2015\"]]))\n",
    "df[[\"2010\" , \"2015\"]]"
   ]
  },
  {
   "cell_type": "code",
   "execution_count": 111,
   "id": "1a1bf72e",
   "metadata": {},
   "outputs": [
    {
     "name": "stdout",
     "output_type": "stream",
     "text": [
      "<class 'pandas.core.frame.DataFrame'>\n",
      "(4, 1)\n"
     ]
    },
    {
     "data": {
      "text/html": [
       "<div>\n",
       "<style scoped>\n",
       "    .dataframe tbody tr th:only-of-type {\n",
       "        vertical-align: middle;\n",
       "    }\n",
       "\n",
       "    .dataframe tbody tr th {\n",
       "        vertical-align: top;\n",
       "    }\n",
       "\n",
       "    .dataframe thead th {\n",
       "        text-align: right;\n",
       "    }\n",
       "</style>\n",
       "<table border=\"1\" class=\"dataframe\">\n",
       "  <thead>\n",
       "    <tr style=\"text-align: right;\">\n",
       "      <th></th>\n",
       "      <th>2010</th>\n",
       "    </tr>\n",
       "  </thead>\n",
       "  <tbody>\n",
       "    <tr>\n",
       "      <th>서울</th>\n",
       "      <td>9631482</td>\n",
       "    </tr>\n",
       "    <tr>\n",
       "      <th>부산</th>\n",
       "      <td>3393191</td>\n",
       "    </tr>\n",
       "    <tr>\n",
       "      <th>인천</th>\n",
       "      <td>2632035</td>\n",
       "    </tr>\n",
       "    <tr>\n",
       "      <th>대구</th>\n",
       "      <td>2431774</td>\n",
       "    </tr>\n",
       "  </tbody>\n",
       "</table>\n",
       "</div>"
      ],
      "text/plain": [
       "       2010\n",
       "서울  9631482\n",
       "부산  3393191\n",
       "인천  2632035\n",
       "대구  2431774"
      ]
     },
     "execution_count": 111,
     "metadata": {},
     "output_type": "execute_result"
    }
   ],
   "source": [
    "print(type(df[[\"2010\"]]))\n",
    "print(df[[\"2010\"]].shape)\n",
    "df[[\"2010\"]]"
   ]
  },
  {
   "cell_type": "code",
   "execution_count": 112,
   "id": "256f5930",
   "metadata": {},
   "outputs": [
    {
     "name": "stdout",
     "output_type": "stream",
     "text": [
      "<class 'pandas.core.series.Series'>\n",
      "(4,)\n"
     ]
    },
    {
     "data": {
      "text/plain": [
       "서울    9631482\n",
       "부산    3393191\n",
       "인천    2632035\n",
       "대구    2431774\n",
       "Name: 2010, dtype: int64"
      ]
     },
     "execution_count": 112,
     "metadata": {},
     "output_type": "execute_result"
    }
   ],
   "source": [
    "print(type(df[\"2010\"]))\n",
    "print(df[\"2010\"].shape)\n",
    "df[\"2010\"]"
   ]
  },
  {
   "cell_type": "code",
   "execution_count": 113,
   "id": "c1c9577e",
   "metadata": {},
   "outputs": [
    {
     "name": "stdout",
     "output_type": "stream",
     "text": [
      "<class 'KeyError'>\n"
     ]
    }
   ],
   "source": [
    "try:\n",
    "    df[0] ## 0 : 없는 키 사용\n",
    "except Exception as e:\n",
    "    print(type(e))"
   ]
  },
  {
   "cell_type": "code",
   "execution_count": 114,
   "id": "7e2bef41",
   "metadata": {},
   "outputs": [
    {
     "data": {
      "text/html": [
       "<div>\n",
       "<style scoped>\n",
       "    .dataframe tbody tr th:only-of-type {\n",
       "        vertical-align: middle;\n",
       "    }\n",
       "\n",
       "    .dataframe tbody tr th {\n",
       "        vertical-align: top;\n",
       "    }\n",
       "\n",
       "    .dataframe thead th {\n",
       "        text-align: right;\n",
       "    }\n",
       "</style>\n",
       "<table border=\"1\" class=\"dataframe\">\n",
       "  <thead>\n",
       "    <tr style=\"text-align: right;\">\n",
       "      <th></th>\n",
       "      <th>0</th>\n",
       "      <th>1</th>\n",
       "      <th>2</th>\n",
       "      <th>3</th>\n",
       "    </tr>\n",
       "  </thead>\n",
       "  <tbody>\n",
       "    <tr>\n",
       "      <th>0</th>\n",
       "      <td>0</td>\n",
       "      <td>1</td>\n",
       "      <td>2</td>\n",
       "      <td>3</td>\n",
       "    </tr>\n",
       "    <tr>\n",
       "      <th>1</th>\n",
       "      <td>4</td>\n",
       "      <td>5</td>\n",
       "      <td>6</td>\n",
       "      <td>7</td>\n",
       "    </tr>\n",
       "    <tr>\n",
       "      <th>2</th>\n",
       "      <td>8</td>\n",
       "      <td>9</td>\n",
       "      <td>10</td>\n",
       "      <td>11</td>\n",
       "    </tr>\n",
       "  </tbody>\n",
       "</table>\n",
       "</div>"
      ],
      "text/plain": [
       "   0  1   2   3\n",
       "0  0  1   2   3\n",
       "1  4  5   6   7\n",
       "2  8  9  10  11"
      ]
     },
     "execution_count": 114,
     "metadata": {},
     "output_type": "execute_result"
    }
   ],
   "source": [
    "import numpy as np\n",
    "df2 = pd.DataFrame(np.arange(12).reshape(3,4))\n",
    "df2"
   ]
  },
  {
   "cell_type": "code",
   "execution_count": 115,
   "id": "dcf2e875",
   "metadata": {},
   "outputs": [
    {
     "data": {
      "text/plain": [
       "array([ 2,  6, 10])"
      ]
     },
     "execution_count": 115,
     "metadata": {},
     "output_type": "execute_result"
    }
   ],
   "source": [
    "np_array = np.arange(12).reshape(3,4)\n",
    "np_array[: , 2]\n"
   ]
  },
  {
   "cell_type": "code",
   "execution_count": 116,
   "id": "06433035",
   "metadata": {},
   "outputs": [
    {
     "data": {
      "text/plain": [
       "array([[ 2],\n",
       "       [ 6],\n",
       "       [10]])"
      ]
     },
     "execution_count": 116,
     "metadata": {},
     "output_type": "execute_result"
    }
   ],
   "source": [
    "np_array[: , 2].reshape(3,1)"
   ]
  },
  {
   "cell_type": "code",
   "execution_count": 117,
   "id": "c26320f5",
   "metadata": {},
   "outputs": [
    {
     "data": {
      "text/html": [
       "<div>\n",
       "<style scoped>\n",
       "    .dataframe tbody tr th:only-of-type {\n",
       "        vertical-align: middle;\n",
       "    }\n",
       "\n",
       "    .dataframe tbody tr th {\n",
       "        vertical-align: top;\n",
       "    }\n",
       "\n",
       "    .dataframe thead th {\n",
       "        text-align: right;\n",
       "    }\n",
       "</style>\n",
       "<table border=\"1\" class=\"dataframe\">\n",
       "  <thead>\n",
       "    <tr style=\"text-align: right;\">\n",
       "      <th></th>\n",
       "      <th>1</th>\n",
       "      <th>2</th>\n",
       "    </tr>\n",
       "  </thead>\n",
       "  <tbody>\n",
       "    <tr>\n",
       "      <th>0</th>\n",
       "      <td>1</td>\n",
       "      <td>2</td>\n",
       "    </tr>\n",
       "    <tr>\n",
       "      <th>1</th>\n",
       "      <td>5</td>\n",
       "      <td>6</td>\n",
       "    </tr>\n",
       "    <tr>\n",
       "      <th>2</th>\n",
       "      <td>9</td>\n",
       "      <td>10</td>\n",
       "    </tr>\n",
       "  </tbody>\n",
       "</table>\n",
       "</div>"
      ],
      "text/plain": [
       "   1   2\n",
       "0  1   2\n",
       "1  5   6\n",
       "2  9  10"
      ]
     },
     "execution_count": 117,
     "metadata": {},
     "output_type": "execute_result"
    }
   ],
   "source": [
    "df2[[1,2]]"
   ]
  },
  {
   "cell_type": "code",
   "execution_count": 118,
   "id": "7756c54a",
   "metadata": {},
   "outputs": [
    {
     "data": {
      "text/plain": [
       "array([[ 1,  2],\n",
       "       [ 5,  6],\n",
       "       [ 9, 10]])"
      ]
     },
     "execution_count": 118,
     "metadata": {},
     "output_type": "execute_result"
    }
   ],
   "source": [
    "np_array[: , 1:3]"
   ]
  },
  {
   "cell_type": "code",
   "execution_count": 120,
   "id": "179b9184",
   "metadata": {},
   "outputs": [
    {
     "data": {
      "text/html": [
       "<div>\n",
       "<style scoped>\n",
       "    .dataframe tbody tr th:only-of-type {\n",
       "        vertical-align: middle;\n",
       "    }\n",
       "\n",
       "    .dataframe tbody tr th {\n",
       "        vertical-align: top;\n",
       "    }\n",
       "\n",
       "    .dataframe thead th {\n",
       "        text-align: right;\n",
       "    }\n",
       "</style>\n",
       "<table border=\"1\" class=\"dataframe\">\n",
       "  <thead>\n",
       "    <tr style=\"text-align: right;\">\n",
       "      <th></th>\n",
       "      <th>지역</th>\n",
       "      <th>2015</th>\n",
       "      <th>2010</th>\n",
       "      <th>2005</th>\n",
       "      <th>2000</th>\n",
       "      <th>2010 - 2010 증가율</th>\n",
       "    </tr>\n",
       "  </thead>\n",
       "  <tbody>\n",
       "    <tr>\n",
       "      <th>서울</th>\n",
       "      <td>수도권</td>\n",
       "      <td>9904312</td>\n",
       "      <td>9631482</td>\n",
       "      <td>9762546</td>\n",
       "      <td>9853972</td>\n",
       "      <td>-2.79</td>\n",
       "    </tr>\n",
       "    <tr>\n",
       "      <th>부산</th>\n",
       "      <td>경상권</td>\n",
       "      <td>3448738</td>\n",
       "      <td>3393191</td>\n",
       "      <td>3512547</td>\n",
       "      <td>3655437</td>\n",
       "      <td>-1.58</td>\n",
       "    </tr>\n",
       "    <tr>\n",
       "      <th>인천</th>\n",
       "      <td>수도권</td>\n",
       "      <td>2890451</td>\n",
       "      <td>2632035</td>\n",
       "      <td>2517680</td>\n",
       "      <td>2466338</td>\n",
       "      <td>-10.26</td>\n",
       "    </tr>\n",
       "    <tr>\n",
       "      <th>대구</th>\n",
       "      <td>경상권</td>\n",
       "      <td>2466052</td>\n",
       "      <td>2431774</td>\n",
       "      <td>2456016</td>\n",
       "      <td>2473990</td>\n",
       "      <td>-1.40</td>\n",
       "    </tr>\n",
       "  </tbody>\n",
       "</table>\n",
       "</div>"
      ],
      "text/plain": [
       "     지역     2015     2010     2005     2000  2010 - 2010 증가율\n",
       "서울  수도권  9904312  9631482  9762546  9853972            -2.79\n",
       "부산  경상권  3448738  3393191  3512547  3655437            -1.58\n",
       "인천  수도권  2890451  2632035  2517680  2466338           -10.26\n",
       "대구  경상권  2466052  2431774  2456016  2473990            -1.40"
      ]
     },
     "execution_count": 120,
     "metadata": {},
     "output_type": "execute_result"
    }
   ],
   "source": [
    "df"
   ]
  },
  {
   "cell_type": "code",
   "execution_count": 121,
   "id": "671e10e5",
   "metadata": {},
   "outputs": [
    {
     "data": {
      "text/plain": [
       "서울    9904312\n",
       "부산    3448738\n",
       "인천    2890451\n",
       "대구    2466052\n",
       "Name: 2015, dtype: int64"
      ]
     },
     "execution_count": 121,
     "metadata": {},
     "output_type": "execute_result"
    }
   ],
   "source": [
    "df[\"2015\"] # 열 인덱싱 키값으로 인덱싱하면 열"
   ]
  },
  {
   "cell_type": "code",
   "execution_count": 122,
   "id": "fa1cc976",
   "metadata": {},
   "outputs": [
    {
     "data": {
      "text/html": [
       "<div>\n",
       "<style scoped>\n",
       "    .dataframe tbody tr th:only-of-type {\n",
       "        vertical-align: middle;\n",
       "    }\n",
       "\n",
       "    .dataframe tbody tr th {\n",
       "        vertical-align: top;\n",
       "    }\n",
       "\n",
       "    .dataframe thead th {\n",
       "        text-align: right;\n",
       "    }\n",
       "</style>\n",
       "<table border=\"1\" class=\"dataframe\">\n",
       "  <thead>\n",
       "    <tr style=\"text-align: right;\">\n",
       "      <th></th>\n",
       "      <th>지역</th>\n",
       "      <th>2015</th>\n",
       "      <th>2010</th>\n",
       "      <th>2005</th>\n",
       "      <th>2000</th>\n",
       "      <th>2010 - 2010 증가율</th>\n",
       "    </tr>\n",
       "  </thead>\n",
       "  <tbody>\n",
       "    <tr>\n",
       "      <th>인천</th>\n",
       "      <td>수도권</td>\n",
       "      <td>2890451</td>\n",
       "      <td>2632035</td>\n",
       "      <td>2517680</td>\n",
       "      <td>2466338</td>\n",
       "      <td>-10.26</td>\n",
       "    </tr>\n",
       "    <tr>\n",
       "      <th>대구</th>\n",
       "      <td>경상권</td>\n",
       "      <td>2466052</td>\n",
       "      <td>2431774</td>\n",
       "      <td>2456016</td>\n",
       "      <td>2473990</td>\n",
       "      <td>-1.40</td>\n",
       "    </tr>\n",
       "  </tbody>\n",
       "</table>\n",
       "</div>"
      ],
      "text/plain": [
       "     지역     2015     2010     2005     2000  2010 - 2010 증가율\n",
       "인천  수도권  2890451  2632035  2517680  2466338           -10.26\n",
       "대구  경상권  2466052  2431774  2456016  2473990            -1.40"
      ]
     },
     "execution_count": 122,
     "metadata": {},
     "output_type": "execute_result"
    }
   ],
   "source": [
    "df[2:] # 행 인덱싱 정수의 슬라이싱 => 행인덱싱"
   ]
  },
  {
   "cell_type": "code",
   "execution_count": 123,
   "id": "6aa7cbd6",
   "metadata": {},
   "outputs": [
    {
     "data": {
      "text/html": [
       "<div>\n",
       "<style scoped>\n",
       "    .dataframe tbody tr th:only-of-type {\n",
       "        vertical-align: middle;\n",
       "    }\n",
       "\n",
       "    .dataframe tbody tr th {\n",
       "        vertical-align: top;\n",
       "    }\n",
       "\n",
       "    .dataframe thead th {\n",
       "        text-align: right;\n",
       "    }\n",
       "</style>\n",
       "<table border=\"1\" class=\"dataframe\">\n",
       "  <thead>\n",
       "    <tr style=\"text-align: right;\">\n",
       "      <th></th>\n",
       "      <th>지역</th>\n",
       "      <th>2015</th>\n",
       "      <th>2010</th>\n",
       "      <th>2005</th>\n",
       "      <th>2000</th>\n",
       "      <th>2010 - 2010 증가율</th>\n",
       "    </tr>\n",
       "  </thead>\n",
       "  <tbody>\n",
       "    <tr>\n",
       "      <th>서울</th>\n",
       "      <td>수도권</td>\n",
       "      <td>9904312</td>\n",
       "      <td>9631482</td>\n",
       "      <td>9762546</td>\n",
       "      <td>9853972</td>\n",
       "      <td>-2.79</td>\n",
       "    </tr>\n",
       "  </tbody>\n",
       "</table>\n",
       "</div>"
      ],
      "text/plain": [
       "     지역     2015     2010     2005     2000  2010 - 2010 증가율\n",
       "서울  수도권  9904312  9631482  9762546  9853972            -2.79"
      ]
     },
     "execution_count": 123,
     "metadata": {},
     "output_type": "execute_result"
    }
   ],
   "source": [
    "df[:1] # 행 인덱싱 정수의 슬라이싱으로 인덱싱하면 행"
   ]
  },
  {
   "cell_type": "code",
   "execution_count": 124,
   "id": "f4ec52b0",
   "metadata": {},
   "outputs": [
    {
     "data": {
      "text/html": [
       "<div>\n",
       "<style scoped>\n",
       "    .dataframe tbody tr th:only-of-type {\n",
       "        vertical-align: middle;\n",
       "    }\n",
       "\n",
       "    .dataframe tbody tr th {\n",
       "        vertical-align: top;\n",
       "    }\n",
       "\n",
       "    .dataframe thead th {\n",
       "        text-align: right;\n",
       "    }\n",
       "</style>\n",
       "<table border=\"1\" class=\"dataframe\">\n",
       "  <thead>\n",
       "    <tr style=\"text-align: right;\">\n",
       "      <th></th>\n",
       "      <th>지역</th>\n",
       "      <th>2015</th>\n",
       "      <th>2010</th>\n",
       "      <th>2005</th>\n",
       "      <th>2000</th>\n",
       "      <th>2010 - 2010 증가율</th>\n",
       "    </tr>\n",
       "  </thead>\n",
       "  <tbody>\n",
       "    <tr>\n",
       "      <th>부산</th>\n",
       "      <td>경상권</td>\n",
       "      <td>3448738</td>\n",
       "      <td>3393191</td>\n",
       "      <td>3512547</td>\n",
       "      <td>3655437</td>\n",
       "      <td>-1.58</td>\n",
       "    </tr>\n",
       "  </tbody>\n",
       "</table>\n",
       "</div>"
      ],
      "text/plain": [
       "     지역     2015     2010     2005     2000  2010 - 2010 증가율\n",
       "부산  경상권  3448738  3393191  3512547  3655437            -1.58"
      ]
     },
     "execution_count": 124,
     "metadata": {},
     "output_type": "execute_result"
    }
   ],
   "source": [
    "df[1:2]"
   ]
  },
  {
   "cell_type": "code",
   "execution_count": 125,
   "id": "188be044",
   "metadata": {},
   "outputs": [
    {
     "data": {
      "text/html": [
       "<div>\n",
       "<style scoped>\n",
       "    .dataframe tbody tr th:only-of-type {\n",
       "        vertical-align: middle;\n",
       "    }\n",
       "\n",
       "    .dataframe tbody tr th {\n",
       "        vertical-align: top;\n",
       "    }\n",
       "\n",
       "    .dataframe thead th {\n",
       "        text-align: right;\n",
       "    }\n",
       "</style>\n",
       "<table border=\"1\" class=\"dataframe\">\n",
       "  <thead>\n",
       "    <tr style=\"text-align: right;\">\n",
       "      <th></th>\n",
       "      <th>지역</th>\n",
       "      <th>2015</th>\n",
       "      <th>2010</th>\n",
       "      <th>2005</th>\n",
       "      <th>2000</th>\n",
       "      <th>2010 - 2010 증가율</th>\n",
       "    </tr>\n",
       "  </thead>\n",
       "  <tbody>\n",
       "    <tr>\n",
       "      <th>부산</th>\n",
       "      <td>경상권</td>\n",
       "      <td>3448738</td>\n",
       "      <td>3393191</td>\n",
       "      <td>3512547</td>\n",
       "      <td>3655437</td>\n",
       "      <td>-1.58</td>\n",
       "    </tr>\n",
       "    <tr>\n",
       "      <th>인천</th>\n",
       "      <td>수도권</td>\n",
       "      <td>2890451</td>\n",
       "      <td>2632035</td>\n",
       "      <td>2517680</td>\n",
       "      <td>2466338</td>\n",
       "      <td>-10.26</td>\n",
       "    </tr>\n",
       "  </tbody>\n",
       "</table>\n",
       "</div>"
      ],
      "text/plain": [
       "     지역     2015     2010     2005     2000  2010 - 2010 증가율\n",
       "부산  경상권  3448738  3393191  3512547  3655437            -1.58\n",
       "인천  수도권  2890451  2632035  2517680  2466338           -10.26"
      ]
     },
     "execution_count": 125,
     "metadata": {},
     "output_type": "execute_result"
    }
   ],
   "source": [
    "df[1:3]"
   ]
  },
  {
   "cell_type": "code",
   "execution_count": 126,
   "id": "b10bc892",
   "metadata": {},
   "outputs": [
    {
     "data": {
      "text/plain": [
       "9904312"
      ]
     },
     "execution_count": 126,
     "metadata": {},
     "output_type": "execute_result"
    }
   ],
   "source": [
    "df[\"2015\"][\"서울\"]"
   ]
  },
  {
   "cell_type": "code",
   "execution_count": 136,
   "id": "8b76ec20",
   "metadata": {},
   "outputs": [
    {
     "data": {
      "text/html": [
       "<div>\n",
       "<style scoped>\n",
       "    .dataframe tbody tr th:only-of-type {\n",
       "        vertical-align: middle;\n",
       "    }\n",
       "\n",
       "    .dataframe tbody tr th {\n",
       "        vertical-align: top;\n",
       "    }\n",
       "\n",
       "    .dataframe thead th {\n",
       "        text-align: right;\n",
       "    }\n",
       "</style>\n",
       "<table border=\"1\" class=\"dataframe\">\n",
       "  <thead>\n",
       "    <tr style=\"text-align: right;\">\n",
       "      <th></th>\n",
       "      <th>국어</th>\n",
       "      <th>영어</th>\n",
       "      <th>수학</th>\n",
       "    </tr>\n",
       "  </thead>\n",
       "  <tbody>\n",
       "    <tr>\n",
       "      <th>춘향</th>\n",
       "      <td>80</td>\n",
       "      <td>90</td>\n",
       "      <td>90</td>\n",
       "    </tr>\n",
       "    <tr>\n",
       "      <th>몽룡</th>\n",
       "      <td>90</td>\n",
       "      <td>70</td>\n",
       "      <td>60</td>\n",
       "    </tr>\n",
       "    <tr>\n",
       "      <th>향단</th>\n",
       "      <td>70</td>\n",
       "      <td>60</td>\n",
       "      <td>80</td>\n",
       "    </tr>\n",
       "    <tr>\n",
       "      <th>방자</th>\n",
       "      <td>30</td>\n",
       "      <td>40</td>\n",
       "      <td>70</td>\n",
       "    </tr>\n",
       "  </tbody>\n",
       "</table>\n",
       "</div>"
      ],
      "text/plain": [
       "    국어  영어  수학\n",
       "춘향  80  90  90\n",
       "몽룡  90  70  60\n",
       "향단  70  60  80\n",
       "방자  30  40  70"
      ]
     },
     "execution_count": 136,
     "metadata": {},
     "output_type": "execute_result"
    }
   ],
   "source": [
    "data = {\n",
    "    \"국어\" : [80,90,70,30],\n",
    "    \"영어\" : [90,70,60,40],\n",
    "    \"수학\" : [90,60,80,70],\n",
    "}\n",
    "columns = [\"국어\" , \"영어\" , \"수학\"]\n",
    "index = [\"춘향\" , \"몽룡\" , \"향단\" , \"방자\"]\n",
    "df = pd.DataFrame(data , index = index , columns = columns)\n",
    "\n",
    "df"
   ]
  },
  {
   "cell_type": "code",
   "execution_count": 137,
   "id": "10d5305e",
   "metadata": {},
   "outputs": [
    {
     "data": {
      "text/plain": [
       "춘향    90\n",
       "몽룡    60\n",
       "향단    80\n",
       "방자    70\n",
       "Name: 수학, dtype: int64"
      ]
     },
     "execution_count": 137,
     "metadata": {},
     "output_type": "execute_result"
    }
   ],
   "source": [
    "df[\"수학\"]"
   ]
  },
  {
   "cell_type": "code",
   "execution_count": 143,
   "id": "28d744a3",
   "metadata": {},
   "outputs": [
    {
     "data": {
      "text/html": [
       "<div>\n",
       "<style scoped>\n",
       "    .dataframe tbody tr th:only-of-type {\n",
       "        vertical-align: middle;\n",
       "    }\n",
       "\n",
       "    .dataframe tbody tr th {\n",
       "        vertical-align: top;\n",
       "    }\n",
       "\n",
       "    .dataframe thead th {\n",
       "        text-align: right;\n",
       "    }\n",
       "</style>\n",
       "<table border=\"1\" class=\"dataframe\">\n",
       "  <thead>\n",
       "    <tr style=\"text-align: right;\">\n",
       "      <th></th>\n",
       "      <th>국어</th>\n",
       "      <th>영어</th>\n",
       "    </tr>\n",
       "  </thead>\n",
       "  <tbody>\n",
       "    <tr>\n",
       "      <th>춘향</th>\n",
       "      <td>80</td>\n",
       "      <td>90</td>\n",
       "    </tr>\n",
       "    <tr>\n",
       "      <th>몽룡</th>\n",
       "      <td>90</td>\n",
       "      <td>70</td>\n",
       "    </tr>\n",
       "    <tr>\n",
       "      <th>향단</th>\n",
       "      <td>70</td>\n",
       "      <td>60</td>\n",
       "    </tr>\n",
       "    <tr>\n",
       "      <th>방자</th>\n",
       "      <td>30</td>\n",
       "      <td>40</td>\n",
       "    </tr>\n",
       "  </tbody>\n",
       "</table>\n",
       "</div>"
      ],
      "text/plain": [
       "    국어  영어\n",
       "춘향  80  90\n",
       "몽룡  90  70\n",
       "향단  70  60\n",
       "방자  30  40"
      ]
     },
     "execution_count": 143,
     "metadata": {},
     "output_type": "execute_result"
    }
   ],
   "source": [
    "df[[\"국어\" , \"영어\"]]"
   ]
  },
  {
   "cell_type": "code",
   "execution_count": 144,
   "id": "5e3687a1",
   "metadata": {},
   "outputs": [
    {
     "data": {
      "text/html": [
       "<div>\n",
       "<style scoped>\n",
       "    .dataframe tbody tr th:only-of-type {\n",
       "        vertical-align: middle;\n",
       "    }\n",
       "\n",
       "    .dataframe tbody tr th {\n",
       "        vertical-align: top;\n",
       "    }\n",
       "\n",
       "    .dataframe thead th {\n",
       "        text-align: right;\n",
       "    }\n",
       "</style>\n",
       "<table border=\"1\" class=\"dataframe\">\n",
       "  <thead>\n",
       "    <tr style=\"text-align: right;\">\n",
       "      <th></th>\n",
       "      <th>국어</th>\n",
       "      <th>영어</th>\n",
       "      <th>수학</th>\n",
       "      <th>평균</th>\n",
       "    </tr>\n",
       "  </thead>\n",
       "  <tbody>\n",
       "    <tr>\n",
       "      <th>춘향</th>\n",
       "      <td>80</td>\n",
       "      <td>90</td>\n",
       "      <td>90</td>\n",
       "      <td>86.666667</td>\n",
       "    </tr>\n",
       "    <tr>\n",
       "      <th>몽룡</th>\n",
       "      <td>90</td>\n",
       "      <td>70</td>\n",
       "      <td>60</td>\n",
       "      <td>73.333333</td>\n",
       "    </tr>\n",
       "    <tr>\n",
       "      <th>향단</th>\n",
       "      <td>70</td>\n",
       "      <td>60</td>\n",
       "      <td>80</td>\n",
       "      <td>70.000000</td>\n",
       "    </tr>\n",
       "    <tr>\n",
       "      <th>방자</th>\n",
       "      <td>30</td>\n",
       "      <td>40</td>\n",
       "      <td>70</td>\n",
       "      <td>46.666667</td>\n",
       "    </tr>\n",
       "  </tbody>\n",
       "</table>\n",
       "</div>"
      ],
      "text/plain": [
       "    국어  영어  수학         평균\n",
       "춘향  80  90  90  86.666667\n",
       "몽룡  90  70  60  73.333333\n",
       "향단  70  60  80  70.000000\n",
       "방자  30  40  70  46.666667"
      ]
     },
     "execution_count": 144,
     "metadata": {},
     "output_type": "execute_result"
    }
   ],
   "source": [
    "df[\"평균\"] = df.mean(axis = 1)\n",
    "df"
   ]
  },
  {
   "cell_type": "code",
   "execution_count": 145,
   "id": "0c2a9183",
   "metadata": {},
   "outputs": [
    {
     "name": "stderr",
     "output_type": "stream",
     "text": [
      "/var/folders/rs/q3tvc3s53gbblf3cd1ncwv2c0000gn/T/ipykernel_15036/1176306088.py:1: SettingWithCopyWarning: \n",
      "A value is trying to be set on a copy of a slice from a DataFrame\n",
      "\n",
      "See the caveats in the documentation: https://pandas.pydata.org/pandas-docs/stable/user_guide/indexing.html#returning-a-view-versus-a-copy\n",
      "  df[\"영어\"][\"방자\"] = 80\n"
     ]
    }
   ],
   "source": [
    "df[\"영어\"][\"방자\"] = 80"
   ]
  },
  {
   "cell_type": "code",
   "execution_count": 147,
   "id": "1fb8ba36",
   "metadata": {},
   "outputs": [],
   "source": [
    "# 시각으로 보기에는 표처럼 보이지만 \n",
    "# 따지고 보면 np.array이기에 mean의 사용이 가능하다.\n",
    "df[\"평균\"] = df.mean(axis = 1)"
   ]
  },
  {
   "cell_type": "code",
   "execution_count": 148,
   "id": "e9eeebdb",
   "metadata": {},
   "outputs": [
    {
     "data": {
      "text/html": [
       "<div>\n",
       "<style scoped>\n",
       "    .dataframe tbody tr th:only-of-type {\n",
       "        vertical-align: middle;\n",
       "    }\n",
       "\n",
       "    .dataframe tbody tr th {\n",
       "        vertical-align: top;\n",
       "    }\n",
       "\n",
       "    .dataframe thead th {\n",
       "        text-align: right;\n",
       "    }\n",
       "</style>\n",
       "<table border=\"1\" class=\"dataframe\">\n",
       "  <thead>\n",
       "    <tr style=\"text-align: right;\">\n",
       "      <th></th>\n",
       "      <th>국어</th>\n",
       "      <th>영어</th>\n",
       "      <th>수학</th>\n",
       "      <th>평균</th>\n",
       "    </tr>\n",
       "  </thead>\n",
       "  <tbody>\n",
       "    <tr>\n",
       "      <th>춘향</th>\n",
       "      <td>80</td>\n",
       "      <td>90</td>\n",
       "      <td>90</td>\n",
       "      <td>86.666667</td>\n",
       "    </tr>\n",
       "    <tr>\n",
       "      <th>몽룡</th>\n",
       "      <td>90</td>\n",
       "      <td>70</td>\n",
       "      <td>60</td>\n",
       "      <td>73.333333</td>\n",
       "    </tr>\n",
       "    <tr>\n",
       "      <th>향단</th>\n",
       "      <td>70</td>\n",
       "      <td>60</td>\n",
       "      <td>80</td>\n",
       "      <td>70.000000</td>\n",
       "    </tr>\n",
       "    <tr>\n",
       "      <th>방자</th>\n",
       "      <td>30</td>\n",
       "      <td>80</td>\n",
       "      <td>70</td>\n",
       "      <td>59.166667</td>\n",
       "    </tr>\n",
       "  </tbody>\n",
       "</table>\n",
       "</div>"
      ],
      "text/plain": [
       "    국어  영어  수학         평균\n",
       "춘향  80  90  90  86.666667\n",
       "몽룡  90  70  60  73.333333\n",
       "향단  70  60  80  70.000000\n",
       "방자  30  80  70  59.166667"
      ]
     },
     "execution_count": 148,
     "metadata": {},
     "output_type": "execute_result"
    }
   ],
   "source": [
    "df"
   ]
  },
  {
   "cell_type": "code",
   "execution_count": 149,
   "id": "3f7eac8f",
   "metadata": {},
   "outputs": [
    {
     "data": {
      "text/plain": [
       "80"
      ]
     },
     "execution_count": 149,
     "metadata": {},
     "output_type": "execute_result"
    }
   ],
   "source": [
    "df[\"영어\"][\"방자\"]"
   ]
  },
  {
   "cell_type": "code",
   "execution_count": 151,
   "id": "c649bb95",
   "metadata": {},
   "outputs": [
    {
     "data": {
      "text/html": [
       "<div>\n",
       "<style scoped>\n",
       "    .dataframe tbody tr th:only-of-type {\n",
       "        vertical-align: middle;\n",
       "    }\n",
       "\n",
       "    .dataframe tbody tr th {\n",
       "        vertical-align: top;\n",
       "    }\n",
       "\n",
       "    .dataframe thead th {\n",
       "        text-align: right;\n",
       "    }\n",
       "</style>\n",
       "<table border=\"1\" class=\"dataframe\">\n",
       "  <thead>\n",
       "    <tr style=\"text-align: right;\">\n",
       "      <th></th>\n",
       "      <th>국어</th>\n",
       "      <th>영어</th>\n",
       "      <th>수학</th>\n",
       "      <th>평균</th>\n",
       "    </tr>\n",
       "  </thead>\n",
       "  <tbody>\n",
       "    <tr>\n",
       "      <th>춘향</th>\n",
       "      <td>80</td>\n",
       "      <td>90</td>\n",
       "      <td>90</td>\n",
       "      <td>86.666667</td>\n",
       "    </tr>\n",
       "  </tbody>\n",
       "</table>\n",
       "</div>"
      ],
      "text/plain": [
       "    국어  영어  수학         평균\n",
       "춘향  80  90  90  86.666667"
      ]
     },
     "execution_count": 151,
     "metadata": {},
     "output_type": "execute_result"
    }
   ],
   "source": [
    "df[:1]"
   ]
  },
  {
   "cell_type": "code",
   "execution_count": 158,
   "id": "09ea866e",
   "metadata": {},
   "outputs": [
    {
     "name": "stdout",
     "output_type": "stream",
     "text": [
      "<class 'pandas.core.series.Series'>\n"
     ]
    },
    {
     "data": {
      "text/plain": [
       "국어    70.0\n",
       "영어    60.0\n",
       "수학    80.0\n",
       "평균    70.0\n",
       "Name: 향단, dtype: float64"
      ]
     },
     "execution_count": 158,
     "metadata": {},
     "output_type": "execute_result"
    }
   ],
   "source": [
    "print(type(df.iloc[2]))\n",
    "df.iloc[2] # 시리즈로"
   ]
  },
  {
   "cell_type": "code",
   "execution_count": 160,
   "id": "406c1aa5",
   "metadata": {},
   "outputs": [
    {
     "name": "stdout",
     "output_type": "stream",
     "text": [
      "Writing /Users/panhong/Desktop/coding_study/Likelion_KDT/Jupyter_notebook/csv_file/sample1.csv\n"
     ]
    }
   ],
   "source": [
    "# 샘플 데이터로 활용할 csv파일을 %%writefile로 생성하기\n",
    "%%writefile /Users/panhong/Desktop/coding_study/Likelion_KDT/Jupyter_notebook/csv_file/sample1.csv\n",
    "c1 , c2 ,c3\n",
    "1 , 1.11 one\n",
    "2 , 2.22 two\n",
    "3 , 3.33 three"
   ]
  },
  {
   "cell_type": "code",
   "execution_count": 162,
   "id": "3e565850",
   "metadata": {},
   "outputs": [
    {
     "data": {
      "text/html": [
       "<div>\n",
       "<style scoped>\n",
       "    .dataframe tbody tr th:only-of-type {\n",
       "        vertical-align: middle;\n",
       "    }\n",
       "\n",
       "    .dataframe tbody tr th {\n",
       "        vertical-align: top;\n",
       "    }\n",
       "\n",
       "    .dataframe thead th {\n",
       "        text-align: right;\n",
       "    }\n",
       "</style>\n",
       "<table border=\"1\" class=\"dataframe\">\n",
       "  <thead>\n",
       "    <tr style=\"text-align: right;\">\n",
       "      <th></th>\n",
       "      <th>c1</th>\n",
       "      <th>c2</th>\n",
       "      <th>c3</th>\n",
       "    </tr>\n",
       "  </thead>\n",
       "  <tbody>\n",
       "    <tr>\n",
       "      <th>0</th>\n",
       "      <td>1</td>\n",
       "      <td>1.11 one</td>\n",
       "      <td>NaN</td>\n",
       "    </tr>\n",
       "    <tr>\n",
       "      <th>1</th>\n",
       "      <td>2</td>\n",
       "      <td>2.22 two</td>\n",
       "      <td>NaN</td>\n",
       "    </tr>\n",
       "    <tr>\n",
       "      <th>2</th>\n",
       "      <td>3</td>\n",
       "      <td>3.33 three</td>\n",
       "      <td>NaN</td>\n",
       "    </tr>\n",
       "  </tbody>\n",
       "</table>\n",
       "</div>"
      ],
      "text/plain": [
       "   c1           c2   c3\n",
       "0    1     1.11 one NaN\n",
       "1    2     2.22 two NaN\n",
       "2    3   3.33 three NaN"
      ]
     },
     "execution_count": 162,
     "metadata": {},
     "output_type": "execute_result"
    }
   ],
   "source": [
    "# 생성한 파일의 내용 읽어오기\n",
    "import pandas as pd\n",
    "import numpy as np\n",
    "data = pd.read_csv(\"/Users/panhong/Desktop/coding_study/Likelion_KDT/Jupyter_notebook/csv_file/sample1.csv\")\n",
    "data"
   ]
  },
  {
   "cell_type": "code",
   "execution_count": 163,
   "id": "9387a72b",
   "metadata": {},
   "outputs": [
    {
     "name": "stdout",
     "output_type": "stream",
     "text": [
      "Writing /Users/panhong/Desktop/coding_study/Likelion_KDT/Jupyter_notebook/csv_file/sample2.csv\n"
     ]
    }
   ],
   "source": [
    "%%writefile /Users/panhong/Desktop/coding_study/Likelion_KDT/Jupyter_notebook/csv_file/sample2.csv\n",
    "\n",
    "1 , 1.11 one\n",
    "2 , 2.22 two\n",
    "3 , 3.33 three"
   ]
  },
  {
   "cell_type": "code",
   "execution_count": 219,
   "id": "a10444a0",
   "metadata": {},
   "outputs": [
    {
     "data": {
      "text/html": [
       "<div>\n",
       "<style scoped>\n",
       "    .dataframe tbody tr th:only-of-type {\n",
       "        vertical-align: middle;\n",
       "    }\n",
       "\n",
       "    .dataframe tbody tr th {\n",
       "        vertical-align: top;\n",
       "    }\n",
       "\n",
       "    .dataframe thead th {\n",
       "        text-align: right;\n",
       "    }\n",
       "</style>\n",
       "<table border=\"1\" class=\"dataframe\">\n",
       "  <thead>\n",
       "    <tr style=\"text-align: right;\">\n",
       "      <th></th>\n",
       "      <th>c1</th>\n",
       "      <th>c2</th>\n",
       "      <th>c3</th>\n",
       "    </tr>\n",
       "  </thead>\n",
       "  <tbody>\n",
       "    <tr>\n",
       "      <th>0</th>\n",
       "      <td>c1</td>\n",
       "      <td>c2</td>\n",
       "      <td>c3</td>\n",
       "    </tr>\n",
       "    <tr>\n",
       "      <th>1</th>\n",
       "      <td>1</td>\n",
       "      <td>1.11 one</td>\n",
       "      <td>NaN</td>\n",
       "    </tr>\n",
       "    <tr>\n",
       "      <th>2</th>\n",
       "      <td>2</td>\n",
       "      <td>2.22 two</td>\n",
       "      <td>NaN</td>\n",
       "    </tr>\n",
       "    <tr>\n",
       "      <th>3</th>\n",
       "      <td>3</td>\n",
       "      <td>3.33 three</td>\n",
       "      <td>NaN</td>\n",
       "    </tr>\n",
       "  </tbody>\n",
       "</table>\n",
       "</div>"
      ],
      "text/plain": [
       "    c1           c2   c3\n",
       "0  c1           c2    c3\n",
       "1   1      1.11 one  NaN\n",
       "2   2      2.22 two  NaN\n",
       "3   3    3.33 three  NaN"
      ]
     },
     "execution_count": 219,
     "metadata": {},
     "output_type": "execute_result"
    }
   ],
   "source": [
    "pd.read_csv(\"/Users/panhong/Desktop/coding_study/Likelion_KDT/Jupyter_notebook/csv_file/sample1.csv\" , names = [\"c1\" ,\"c2\" ,\"c3\"])"
   ]
  },
  {
   "cell_type": "code",
   "execution_count": 221,
   "id": "4c89fed1",
   "metadata": {},
   "outputs": [
    {
     "data": {
      "text/html": [
       "<div>\n",
       "<style scoped>\n",
       "    .dataframe tbody tr th:only-of-type {\n",
       "        vertical-align: middle;\n",
       "    }\n",
       "\n",
       "    .dataframe tbody tr th {\n",
       "        vertical-align: top;\n",
       "    }\n",
       "\n",
       "    .dataframe thead th {\n",
       "        text-align: right;\n",
       "    }\n",
       "</style>\n",
       "<table border=\"1\" class=\"dataframe\">\n",
       "  <thead>\n",
       "    <tr style=\"text-align: right;\">\n",
       "      <th></th>\n",
       "      <th>c1</th>\n",
       "      <th>c2</th>\n",
       "    </tr>\n",
       "    <tr>\n",
       "      <th>c3</th>\n",
       "      <th></th>\n",
       "      <th></th>\n",
       "    </tr>\n",
       "  </thead>\n",
       "  <tbody>\n",
       "    <tr>\n",
       "      <th>NaN</th>\n",
       "      <td>1</td>\n",
       "      <td>1.11 one</td>\n",
       "    </tr>\n",
       "    <tr>\n",
       "      <th>NaN</th>\n",
       "      <td>2</td>\n",
       "      <td>2.22 two</td>\n",
       "    </tr>\n",
       "    <tr>\n",
       "      <th>NaN</th>\n",
       "      <td>3</td>\n",
       "      <td>3.33 three</td>\n",
       "    </tr>\n",
       "  </tbody>\n",
       "</table>\n",
       "</div>"
      ],
      "text/plain": [
       "     c1           c2 \n",
       "c3                   \n",
       "NaN    1     1.11 one\n",
       "NaN    2     2.22 two\n",
       "NaN    3   3.33 three"
      ]
     },
     "execution_count": 221,
     "metadata": {},
     "output_type": "execute_result"
    }
   ],
   "source": [
    "pd.read_csv(\"/Users/panhong/Desktop/coding_study/Likelion_KDT/Jupyter_notebook/csv_file/sample1.csv\" , index_col = \"c3\")"
   ]
  },
  {
   "cell_type": "code",
   "execution_count": 201,
   "id": "b4b3ec51",
   "metadata": {},
   "outputs": [
    {
     "name": "stdout",
     "output_type": "stream",
     "text": [
      "Overwriting /Users/panhong/Desktop/coding_study/Likelion_KDT/Jupyter_notebook/csv_file/sample3.txt\n"
     ]
    }
   ],
   "source": [
    "%%writefile /Users/panhong/Desktop/coding_study/Likelion_KDT/Jupyter_notebook/csv_file/sample3.txt\n",
    "\n",
    "c1       c2       c3.      c4\n",
    "0.179181 -1.538472 1.347553 0.43381\n",
    "1.024209 0.087037 -1.281997 0.49265\n",
    "0.417899 -2.002308 0.255245 -1.10515"
   ]
  },
  {
   "cell_type": "code",
   "execution_count": 172,
   "id": "c86288e9",
   "metadata": {},
   "outputs": [
    {
     "data": {
      "text/html": [
       "<div>\n",
       "<style scoped>\n",
       "    .dataframe tbody tr th:only-of-type {\n",
       "        vertical-align: middle;\n",
       "    }\n",
       "\n",
       "    .dataframe tbody tr th {\n",
       "        vertical-align: top;\n",
       "    }\n",
       "\n",
       "    .dataframe thead th {\n",
       "        text-align: right;\n",
       "    }\n",
       "</style>\n",
       "<table border=\"1\" class=\"dataframe\">\n",
       "  <thead>\n",
       "    <tr style=\"text-align: right;\">\n",
       "      <th></th>\n",
       "      <th>c1</th>\n",
       "      <th>c2</th>\n",
       "      <th>c3.</th>\n",
       "      <th>c4</th>\n",
       "    </tr>\n",
       "  </thead>\n",
       "  <tbody>\n",
       "    <tr>\n",
       "      <th>0</th>\n",
       "      <td>0.179181</td>\n",
       "      <td>-1.538472</td>\n",
       "      <td>1.347553</td>\n",
       "      <td>0.43381</td>\n",
       "    </tr>\n",
       "    <tr>\n",
       "      <th>1</th>\n",
       "      <td>1.024209</td>\n",
       "      <td>0.087037</td>\n",
       "      <td>-1.281997</td>\n",
       "      <td>0.49265</td>\n",
       "    </tr>\n",
       "    <tr>\n",
       "      <th>2</th>\n",
       "      <td>0.417899</td>\n",
       "      <td>-2.002308</td>\n",
       "      <td>0.255245</td>\n",
       "      <td>-1.10515</td>\n",
       "    </tr>\n",
       "  </tbody>\n",
       "</table>\n",
       "</div>"
      ],
      "text/plain": [
       "         c1        c2       c3.       c4\n",
       "0  0.179181 -1.538472  1.347553  0.43381\n",
       "1  1.024209  0.087037 -1.281997  0.49265\n",
       "2  0.417899 -2.002308  0.255245 -1.10515"
      ]
     },
     "execution_count": 172,
     "metadata": {},
     "output_type": "execute_result"
    }
   ],
   "source": [
    "pd.read_table(\"/Users/panhong/Desktop/coding_study/Likelion_KDT/Jupyter_notebook/csv_file/sample3.txt\" , sep = \"\\s+\")\n"
   ]
  },
  {
   "cell_type": "code",
   "execution_count": 176,
   "id": "2dece7d2",
   "metadata": {},
   "outputs": [
    {
     "name": "stdout",
     "output_type": "stream",
     "text": [
      "Writing /Users/panhong/Desktop/coding_study/Likelion_KDT/Jupyter_notebook/csv_file/sample5.csv\n"
     ]
    }
   ],
   "source": [
    "%%writefile /Users/panhong/Desktop/coding_study/Likelion_KDT/Jupyter_notebook/csv_file/sample5.csv\n",
    "c1 , c2 ,c3\n",
    "1 , 1.11 one\n",
    "2 , two\n",
    "누락 , 3.33 three"
   ]
  },
  {
   "cell_type": "code",
   "execution_count": 181,
   "id": "bd91fe07",
   "metadata": {},
   "outputs": [
    {
     "data": {
      "text/html": [
       "<div>\n",
       "<style scoped>\n",
       "    .dataframe tbody tr th:only-of-type {\n",
       "        vertical-align: middle;\n",
       "    }\n",
       "\n",
       "    .dataframe tbody tr th {\n",
       "        vertical-align: top;\n",
       "    }\n",
       "\n",
       "    .dataframe thead th {\n",
       "        text-align: right;\n",
       "    }\n",
       "</style>\n",
       "<table border=\"1\" class=\"dataframe\">\n",
       "  <thead>\n",
       "    <tr style=\"text-align: right;\">\n",
       "      <th></th>\n",
       "      <th>c1</th>\n",
       "      <th>c2</th>\n",
       "      <th>c3</th>\n",
       "    </tr>\n",
       "  </thead>\n",
       "  <tbody>\n",
       "    <tr>\n",
       "      <th>0</th>\n",
       "      <td>1</td>\n",
       "      <td>1.11 one</td>\n",
       "      <td>NaN</td>\n",
       "    </tr>\n",
       "    <tr>\n",
       "      <th>1</th>\n",
       "      <td>2</td>\n",
       "      <td>two</td>\n",
       "      <td>NaN</td>\n",
       "    </tr>\n",
       "    <tr>\n",
       "      <th>2</th>\n",
       "      <td>누락</td>\n",
       "      <td>3.33 three</td>\n",
       "      <td>NaN</td>\n",
       "    </tr>\n",
       "  </tbody>\n",
       "</table>\n",
       "</div>"
      ],
      "text/plain": [
       "   c1           c2   c3\n",
       "0   1      1.11 one NaN\n",
       "1   2           two NaN\n",
       "2  누락    3.33 three NaN"
      ]
     },
     "execution_count": 181,
     "metadata": {},
     "output_type": "execute_result"
    }
   ],
   "source": [
    "df = pd.read_csv(\"/Users/panhong/Desktop/coding_study/Likelion_KDT/Jupyter_notebook/csv_file/sample5.csv\" , na_values = [\"누락\"])\n",
    "df"
   ]
  },
  {
   "cell_type": "code",
   "execution_count": 187,
   "id": "b105530d",
   "metadata": {},
   "outputs": [],
   "source": [
    "df.to_csv(\"/Users/panhong/Desktop/coding_study/Likelion_KDT/Jupyter_notebook/csv_file/sample6.csv\")"
   ]
  },
  {
   "cell_type": "code",
   "execution_count": 189,
   "id": "b5a7d530",
   "metadata": {},
   "outputs": [
    {
     "name": "stdout",
     "output_type": "stream",
     "text": [
      ",c1 , c2 ,c3\r\n",
      "0,1 , 1.11 one,\r\n",
      "1,2 , two,\r\n",
      "2,누락 , 3.33 three,\r\n"
     ]
    }
   ],
   "source": [
    "!cat /Users/panhong/Desktop/coding_study/Likelion_KDT/Jupyter_notebook/csv_file/sample6.csv"
   ]
  },
  {
   "cell_type": "code",
   "execution_count": 196,
   "id": "e5dd9bdb",
   "metadata": {},
   "outputs": [],
   "source": [
    "df.to_csv(\"/Users/panhong/Desktop/coding_study/Likelion_KDT/Jupyter_notebook/csv_file/sample7.txt\" , sep = \"|\")"
   ]
  },
  {
   "cell_type": "code",
   "execution_count": 197,
   "id": "ca5002c9",
   "metadata": {},
   "outputs": [
    {
     "name": "stdout",
     "output_type": "stream",
     "text": [
      "|c1 | c2 |c3\r\n",
      "0|1 | 1.11 one|\r\n",
      "1|2 | two|\r\n",
      "2|누락 | 3.33 three|\r\n"
     ]
    }
   ],
   "source": [
    "!cat /Users/panhong/Desktop/coding_study/Likelion_KDT/Jupyter_notebook/csv_file/sample7.txt"
   ]
  },
  {
   "cell_type": "code",
   "execution_count": 198,
   "id": "f72f3215",
   "metadata": {},
   "outputs": [],
   "source": [
    "df.to_csv(\"/Users/panhong/Desktop/coding_study/Likelion_KDT/Jupyter_notebook/csv_file/sample8.csv\" , na_rep = \"missing\")"
   ]
  },
  {
   "cell_type": "code",
   "execution_count": 199,
   "id": "7f875900",
   "metadata": {},
   "outputs": [
    {
     "name": "stdout",
     "output_type": "stream",
     "text": [
      ",c1 , c2 ,c3\r\n",
      "0,1 , 1.11 one,missing\r\n",
      "1,2 , two,missing\r\n",
      "2,누락 , 3.33 three,missing\r\n"
     ]
    }
   ],
   "source": [
    "!cat /Users/panhong/Desktop/coding_study/Likelion_KDT/Jupyter_notebook/csv_file/sample8.csv"
   ]
  },
  {
   "cell_type": "code",
   "execution_count": 204,
   "id": "121fb342",
   "metadata": {},
   "outputs": [
    {
     "data": {
      "text/html": [
       "<div>\n",
       "<style scoped>\n",
       "    .dataframe tbody tr th:only-of-type {\n",
       "        vertical-align: middle;\n",
       "    }\n",
       "\n",
       "    .dataframe tbody tr th {\n",
       "        vertical-align: top;\n",
       "    }\n",
       "\n",
       "    .dataframe thead th {\n",
       "        text-align: right;\n",
       "    }\n",
       "</style>\n",
       "<table border=\"1\" class=\"dataframe\">\n",
       "  <thead>\n",
       "    <tr style=\"text-align: right;\">\n",
       "      <th></th>\n",
       "      <th>c1</th>\n",
       "      <th>c2</th>\n",
       "      <th>c3</th>\n",
       "    </tr>\n",
       "  </thead>\n",
       "  <tbody>\n",
       "    <tr>\n",
       "      <th>a</th>\n",
       "      <td>1</td>\n",
       "      <td>1.11 one</td>\n",
       "      <td>NaN</td>\n",
       "    </tr>\n",
       "    <tr>\n",
       "      <th>b</th>\n",
       "      <td>2</td>\n",
       "      <td>two</td>\n",
       "      <td>NaN</td>\n",
       "    </tr>\n",
       "    <tr>\n",
       "      <th>c</th>\n",
       "      <td>누락</td>\n",
       "      <td>3.33 three</td>\n",
       "      <td>NaN</td>\n",
       "    </tr>\n",
       "  </tbody>\n",
       "</table>\n",
       "</div>"
      ],
      "text/plain": [
       "   c1           c2   c3\n",
       "a   1      1.11 one NaN\n",
       "b   2           two NaN\n",
       "c  누락    3.33 three NaN"
      ]
     },
     "execution_count": 204,
     "metadata": {},
     "output_type": "execute_result"
    }
   ],
   "source": [
    "df.index = [\"a\" , \"b\" , \"c\"]\n",
    "df"
   ]
  },
  {
   "cell_type": "code",
   "execution_count": 206,
   "id": "1b9379d7",
   "metadata": {},
   "outputs": [],
   "source": [
    "df.to_csv(\"/Users/panhong/Desktop/coding_study/Likelion_KDT/Jupyter_notebook/csv_file/sample9.csv\" , index = False , header = False)"
   ]
  },
  {
   "cell_type": "code",
   "execution_count": 207,
   "id": "64403961",
   "metadata": {},
   "outputs": [
    {
     "name": "stdout",
     "output_type": "stream",
     "text": [
      "1 , 1.11 one,\r\n",
      "2 , two,\r\n",
      "누락 , 3.33 three,\r\n"
     ]
    }
   ],
   "source": [
    "!cat /Users/panhong/Desktop/coding_study/Likelion_KDT/Jupyter_notebook/csv_file/sample9.csv"
   ]
  },
  {
   "cell_type": "code",
   "execution_count": 209,
   "id": "1c8202c0",
   "metadata": {},
   "outputs": [],
   "source": [
    "df_titanic = pd.read_csv(\"https://raw.githubusercontent.com/datascienceschool/docker_rpython/master/data/titanic.csv\")"
   ]
  },
  {
   "cell_type": "code",
   "execution_count": 210,
   "id": "7cd04aca",
   "metadata": {},
   "outputs": [
    {
     "data": {
      "text/html": [
       "<div>\n",
       "<style scoped>\n",
       "    .dataframe tbody tr th:only-of-type {\n",
       "        vertical-align: middle;\n",
       "    }\n",
       "\n",
       "    .dataframe tbody tr th {\n",
       "        vertical-align: top;\n",
       "    }\n",
       "\n",
       "    .dataframe thead th {\n",
       "        text-align: right;\n",
       "    }\n",
       "</style>\n",
       "<table border=\"1\" class=\"dataframe\">\n",
       "  <thead>\n",
       "    <tr style=\"text-align: right;\">\n",
       "      <th></th>\n",
       "      <th>PassengerId</th>\n",
       "      <th>Survived</th>\n",
       "      <th>Pclass</th>\n",
       "      <th>Name</th>\n",
       "      <th>Sex</th>\n",
       "      <th>Age</th>\n",
       "      <th>SibSp</th>\n",
       "      <th>Parch</th>\n",
       "      <th>Ticket</th>\n",
       "      <th>Fare</th>\n",
       "      <th>Cabin</th>\n",
       "      <th>Embarked</th>\n",
       "    </tr>\n",
       "  </thead>\n",
       "  <tbody>\n",
       "    <tr>\n",
       "      <th>0</th>\n",
       "      <td>1</td>\n",
       "      <td>0</td>\n",
       "      <td>3</td>\n",
       "      <td>Braund, Mr. Owen Harris</td>\n",
       "      <td>male</td>\n",
       "      <td>22.0</td>\n",
       "      <td>1</td>\n",
       "      <td>0</td>\n",
       "      <td>A/5 21171</td>\n",
       "      <td>7.2500</td>\n",
       "      <td>NaN</td>\n",
       "      <td>S</td>\n",
       "    </tr>\n",
       "    <tr>\n",
       "      <th>1</th>\n",
       "      <td>2</td>\n",
       "      <td>1</td>\n",
       "      <td>1</td>\n",
       "      <td>Cumings, Mrs. John Bradley (Florence Briggs Th...</td>\n",
       "      <td>female</td>\n",
       "      <td>38.0</td>\n",
       "      <td>1</td>\n",
       "      <td>0</td>\n",
       "      <td>PC 17599</td>\n",
       "      <td>71.2833</td>\n",
       "      <td>C85</td>\n",
       "      <td>C</td>\n",
       "    </tr>\n",
       "    <tr>\n",
       "      <th>2</th>\n",
       "      <td>3</td>\n",
       "      <td>1</td>\n",
       "      <td>3</td>\n",
       "      <td>Heikkinen, Miss. Laina</td>\n",
       "      <td>female</td>\n",
       "      <td>26.0</td>\n",
       "      <td>0</td>\n",
       "      <td>0</td>\n",
       "      <td>STON/O2. 3101282</td>\n",
       "      <td>7.9250</td>\n",
       "      <td>NaN</td>\n",
       "      <td>S</td>\n",
       "    </tr>\n",
       "    <tr>\n",
       "      <th>3</th>\n",
       "      <td>4</td>\n",
       "      <td>1</td>\n",
       "      <td>1</td>\n",
       "      <td>Futrelle, Mrs. Jacques Heath (Lily May Peel)</td>\n",
       "      <td>female</td>\n",
       "      <td>35.0</td>\n",
       "      <td>1</td>\n",
       "      <td>0</td>\n",
       "      <td>113803</td>\n",
       "      <td>53.1000</td>\n",
       "      <td>C123</td>\n",
       "      <td>S</td>\n",
       "    </tr>\n",
       "    <tr>\n",
       "      <th>4</th>\n",
       "      <td>5</td>\n",
       "      <td>0</td>\n",
       "      <td>3</td>\n",
       "      <td>Allen, Mr. William Henry</td>\n",
       "      <td>male</td>\n",
       "      <td>35.0</td>\n",
       "      <td>0</td>\n",
       "      <td>0</td>\n",
       "      <td>373450</td>\n",
       "      <td>8.0500</td>\n",
       "      <td>NaN</td>\n",
       "      <td>S</td>\n",
       "    </tr>\n",
       "    <tr>\n",
       "      <th>...</th>\n",
       "      <td>...</td>\n",
       "      <td>...</td>\n",
       "      <td>...</td>\n",
       "      <td>...</td>\n",
       "      <td>...</td>\n",
       "      <td>...</td>\n",
       "      <td>...</td>\n",
       "      <td>...</td>\n",
       "      <td>...</td>\n",
       "      <td>...</td>\n",
       "      <td>...</td>\n",
       "      <td>...</td>\n",
       "    </tr>\n",
       "    <tr>\n",
       "      <th>886</th>\n",
       "      <td>887</td>\n",
       "      <td>0</td>\n",
       "      <td>2</td>\n",
       "      <td>Montvila, Rev. Juozas</td>\n",
       "      <td>male</td>\n",
       "      <td>27.0</td>\n",
       "      <td>0</td>\n",
       "      <td>0</td>\n",
       "      <td>211536</td>\n",
       "      <td>13.0000</td>\n",
       "      <td>NaN</td>\n",
       "      <td>S</td>\n",
       "    </tr>\n",
       "    <tr>\n",
       "      <th>887</th>\n",
       "      <td>888</td>\n",
       "      <td>1</td>\n",
       "      <td>1</td>\n",
       "      <td>Graham, Miss. Margaret Edith</td>\n",
       "      <td>female</td>\n",
       "      <td>19.0</td>\n",
       "      <td>0</td>\n",
       "      <td>0</td>\n",
       "      <td>112053</td>\n",
       "      <td>30.0000</td>\n",
       "      <td>B42</td>\n",
       "      <td>S</td>\n",
       "    </tr>\n",
       "    <tr>\n",
       "      <th>888</th>\n",
       "      <td>889</td>\n",
       "      <td>0</td>\n",
       "      <td>3</td>\n",
       "      <td>Johnston, Miss. Catherine Helen \"Carrie\"</td>\n",
       "      <td>female</td>\n",
       "      <td>NaN</td>\n",
       "      <td>1</td>\n",
       "      <td>2</td>\n",
       "      <td>W./C. 6607</td>\n",
       "      <td>23.4500</td>\n",
       "      <td>NaN</td>\n",
       "      <td>S</td>\n",
       "    </tr>\n",
       "    <tr>\n",
       "      <th>889</th>\n",
       "      <td>890</td>\n",
       "      <td>1</td>\n",
       "      <td>1</td>\n",
       "      <td>Behr, Mr. Karl Howell</td>\n",
       "      <td>male</td>\n",
       "      <td>26.0</td>\n",
       "      <td>0</td>\n",
       "      <td>0</td>\n",
       "      <td>111369</td>\n",
       "      <td>30.0000</td>\n",
       "      <td>C148</td>\n",
       "      <td>C</td>\n",
       "    </tr>\n",
       "    <tr>\n",
       "      <th>890</th>\n",
       "      <td>891</td>\n",
       "      <td>0</td>\n",
       "      <td>3</td>\n",
       "      <td>Dooley, Mr. Patrick</td>\n",
       "      <td>male</td>\n",
       "      <td>32.0</td>\n",
       "      <td>0</td>\n",
       "      <td>0</td>\n",
       "      <td>370376</td>\n",
       "      <td>7.7500</td>\n",
       "      <td>NaN</td>\n",
       "      <td>Q</td>\n",
       "    </tr>\n",
       "  </tbody>\n",
       "</table>\n",
       "<p>891 rows × 12 columns</p>\n",
       "</div>"
      ],
      "text/plain": [
       "     PassengerId  Survived  Pclass  \\\n",
       "0              1         0       3   \n",
       "1              2         1       1   \n",
       "2              3         1       3   \n",
       "3              4         1       1   \n",
       "4              5         0       3   \n",
       "..           ...       ...     ...   \n",
       "886          887         0       2   \n",
       "887          888         1       1   \n",
       "888          889         0       3   \n",
       "889          890         1       1   \n",
       "890          891         0       3   \n",
       "\n",
       "                                                  Name     Sex   Age  SibSp  \\\n",
       "0                              Braund, Mr. Owen Harris    male  22.0      1   \n",
       "1    Cumings, Mrs. John Bradley (Florence Briggs Th...  female  38.0      1   \n",
       "2                               Heikkinen, Miss. Laina  female  26.0      0   \n",
       "3         Futrelle, Mrs. Jacques Heath (Lily May Peel)  female  35.0      1   \n",
       "4                             Allen, Mr. William Henry    male  35.0      0   \n",
       "..                                                 ...     ...   ...    ...   \n",
       "886                              Montvila, Rev. Juozas    male  27.0      0   \n",
       "887                       Graham, Miss. Margaret Edith  female  19.0      0   \n",
       "888           Johnston, Miss. Catherine Helen \"Carrie\"  female   NaN      1   \n",
       "889                              Behr, Mr. Karl Howell    male  26.0      0   \n",
       "890                                Dooley, Mr. Patrick    male  32.0      0   \n",
       "\n",
       "     Parch            Ticket     Fare Cabin Embarked  \n",
       "0        0         A/5 21171   7.2500   NaN        S  \n",
       "1        0          PC 17599  71.2833   C85        C  \n",
       "2        0  STON/O2. 3101282   7.9250   NaN        S  \n",
       "3        0            113803  53.1000  C123        S  \n",
       "4        0            373450   8.0500   NaN        S  \n",
       "..     ...               ...      ...   ...      ...  \n",
       "886      0            211536  13.0000   NaN        S  \n",
       "887      0            112053  30.0000   B42        S  \n",
       "888      2        W./C. 6607  23.4500   NaN        S  \n",
       "889      0            111369  30.0000  C148        C  \n",
       "890      0            370376   7.7500   NaN        Q  \n",
       "\n",
       "[891 rows x 12 columns]"
      ]
     },
     "execution_count": 210,
     "metadata": {},
     "output_type": "execute_result"
    }
   ],
   "source": [
    "df_titanic"
   ]
  },
  {
   "cell_type": "code",
   "execution_count": 213,
   "id": "1b08941f",
   "metadata": {},
   "outputs": [],
   "source": [
    "df_titanic.to_csv(\"/Users/panhong/Desktop/coding_study/Likelion_KDT/Jupyter_notebook/csv_file/titnic.csv\")"
   ]
  },
  {
   "cell_type": "code",
   "execution_count": 223,
   "id": "e7fd8834",
   "metadata": {},
   "outputs": [
    {
     "data": {
      "text/html": [
       "<div>\n",
       "<style scoped>\n",
       "    .dataframe tbody tr th:only-of-type {\n",
       "        vertical-align: middle;\n",
       "    }\n",
       "\n",
       "    .dataframe tbody tr th {\n",
       "        vertical-align: top;\n",
       "    }\n",
       "\n",
       "    .dataframe thead th {\n",
       "        text-align: right;\n",
       "    }\n",
       "</style>\n",
       "<table border=\"1\" class=\"dataframe\">\n",
       "  <thead>\n",
       "    <tr style=\"text-align: right;\">\n",
       "      <th></th>\n",
       "      <th>PassengerId</th>\n",
       "      <th>Survived</th>\n",
       "      <th>Pclass</th>\n",
       "      <th>Name</th>\n",
       "      <th>Sex</th>\n",
       "      <th>Age</th>\n",
       "      <th>SibSp</th>\n",
       "      <th>Parch</th>\n",
       "      <th>Ticket</th>\n",
       "      <th>Fare</th>\n",
       "      <th>Cabin</th>\n",
       "      <th>Embarked</th>\n",
       "    </tr>\n",
       "  </thead>\n",
       "  <tbody>\n",
       "    <tr>\n",
       "      <th>0</th>\n",
       "      <td>1</td>\n",
       "      <td>0</td>\n",
       "      <td>3</td>\n",
       "      <td>Braund, Mr. Owen Harris</td>\n",
       "      <td>male</td>\n",
       "      <td>22.0</td>\n",
       "      <td>1</td>\n",
       "      <td>0</td>\n",
       "      <td>A/5 21171</td>\n",
       "      <td>7.2500</td>\n",
       "      <td>NaN</td>\n",
       "      <td>S</td>\n",
       "    </tr>\n",
       "    <tr>\n",
       "      <th>1</th>\n",
       "      <td>2</td>\n",
       "      <td>1</td>\n",
       "      <td>1</td>\n",
       "      <td>Cumings, Mrs. John Bradley (Florence Briggs Th...</td>\n",
       "      <td>female</td>\n",
       "      <td>38.0</td>\n",
       "      <td>1</td>\n",
       "      <td>0</td>\n",
       "      <td>PC 17599</td>\n",
       "      <td>71.2833</td>\n",
       "      <td>C85</td>\n",
       "      <td>C</td>\n",
       "    </tr>\n",
       "    <tr>\n",
       "      <th>2</th>\n",
       "      <td>3</td>\n",
       "      <td>1</td>\n",
       "      <td>3</td>\n",
       "      <td>Heikkinen, Miss. Laina</td>\n",
       "      <td>female</td>\n",
       "      <td>26.0</td>\n",
       "      <td>0</td>\n",
       "      <td>0</td>\n",
       "      <td>STON/O2. 3101282</td>\n",
       "      <td>7.9250</td>\n",
       "      <td>NaN</td>\n",
       "      <td>S</td>\n",
       "    </tr>\n",
       "    <tr>\n",
       "      <th>3</th>\n",
       "      <td>4</td>\n",
       "      <td>1</td>\n",
       "      <td>1</td>\n",
       "      <td>Futrelle, Mrs. Jacques Heath (Lily May Peel)</td>\n",
       "      <td>female</td>\n",
       "      <td>35.0</td>\n",
       "      <td>1</td>\n",
       "      <td>0</td>\n",
       "      <td>113803</td>\n",
       "      <td>53.1000</td>\n",
       "      <td>C123</td>\n",
       "      <td>S</td>\n",
       "    </tr>\n",
       "    <tr>\n",
       "      <th>4</th>\n",
       "      <td>5</td>\n",
       "      <td>0</td>\n",
       "      <td>3</td>\n",
       "      <td>Allen, Mr. William Henry</td>\n",
       "      <td>male</td>\n",
       "      <td>35.0</td>\n",
       "      <td>0</td>\n",
       "      <td>0</td>\n",
       "      <td>373450</td>\n",
       "      <td>8.0500</td>\n",
       "      <td>NaN</td>\n",
       "      <td>S</td>\n",
       "    </tr>\n",
       "  </tbody>\n",
       "</table>\n",
       "</div>"
      ],
      "text/plain": [
       "   PassengerId  Survived  Pclass  \\\n",
       "0            1         0       3   \n",
       "1            2         1       1   \n",
       "2            3         1       3   \n",
       "3            4         1       1   \n",
       "4            5         0       3   \n",
       "\n",
       "                                                Name     Sex   Age  SibSp  \\\n",
       "0                            Braund, Mr. Owen Harris    male  22.0      1   \n",
       "1  Cumings, Mrs. John Bradley (Florence Briggs Th...  female  38.0      1   \n",
       "2                             Heikkinen, Miss. Laina  female  26.0      0   \n",
       "3       Futrelle, Mrs. Jacques Heath (Lily May Peel)  female  35.0      1   \n",
       "4                           Allen, Mr. William Henry    male  35.0      0   \n",
       "\n",
       "   Parch            Ticket     Fare Cabin Embarked  \n",
       "0      0         A/5 21171   7.2500   NaN        S  \n",
       "1      0          PC 17599  71.2833   C85        C  \n",
       "2      0  STON/O2. 3101282   7.9250   NaN        S  \n",
       "3      0            113803  53.1000  C123        S  \n",
       "4      0            373450   8.0500   NaN        S  "
      ]
     },
     "execution_count": 223,
     "metadata": {},
     "output_type": "execute_result"
    }
   ],
   "source": [
    "# 지정된 파일의 위에서부터 5개 내용\n",
    "df_titanic.head()"
   ]
  },
  {
   "cell_type": "code",
   "execution_count": 224,
   "id": "4a04bf46",
   "metadata": {},
   "outputs": [
    {
     "data": {
      "text/html": [
       "<div>\n",
       "<style scoped>\n",
       "    .dataframe tbody tr th:only-of-type {\n",
       "        vertical-align: middle;\n",
       "    }\n",
       "\n",
       "    .dataframe tbody tr th {\n",
       "        vertical-align: top;\n",
       "    }\n",
       "\n",
       "    .dataframe thead th {\n",
       "        text-align: right;\n",
       "    }\n",
       "</style>\n",
       "<table border=\"1\" class=\"dataframe\">\n",
       "  <thead>\n",
       "    <tr style=\"text-align: right;\">\n",
       "      <th></th>\n",
       "      <th>PassengerId</th>\n",
       "      <th>Survived</th>\n",
       "      <th>Pclass</th>\n",
       "      <th>Name</th>\n",
       "      <th>Sex</th>\n",
       "      <th>Age</th>\n",
       "      <th>SibSp</th>\n",
       "      <th>Parch</th>\n",
       "      <th>Ticket</th>\n",
       "      <th>Fare</th>\n",
       "      <th>Cabin</th>\n",
       "      <th>Embarked</th>\n",
       "    </tr>\n",
       "  </thead>\n",
       "  <tbody>\n",
       "    <tr>\n",
       "      <th>886</th>\n",
       "      <td>887</td>\n",
       "      <td>0</td>\n",
       "      <td>2</td>\n",
       "      <td>Montvila, Rev. Juozas</td>\n",
       "      <td>male</td>\n",
       "      <td>27.0</td>\n",
       "      <td>0</td>\n",
       "      <td>0</td>\n",
       "      <td>211536</td>\n",
       "      <td>13.00</td>\n",
       "      <td>NaN</td>\n",
       "      <td>S</td>\n",
       "    </tr>\n",
       "    <tr>\n",
       "      <th>887</th>\n",
       "      <td>888</td>\n",
       "      <td>1</td>\n",
       "      <td>1</td>\n",
       "      <td>Graham, Miss. Margaret Edith</td>\n",
       "      <td>female</td>\n",
       "      <td>19.0</td>\n",
       "      <td>0</td>\n",
       "      <td>0</td>\n",
       "      <td>112053</td>\n",
       "      <td>30.00</td>\n",
       "      <td>B42</td>\n",
       "      <td>S</td>\n",
       "    </tr>\n",
       "    <tr>\n",
       "      <th>888</th>\n",
       "      <td>889</td>\n",
       "      <td>0</td>\n",
       "      <td>3</td>\n",
       "      <td>Johnston, Miss. Catherine Helen \"Carrie\"</td>\n",
       "      <td>female</td>\n",
       "      <td>NaN</td>\n",
       "      <td>1</td>\n",
       "      <td>2</td>\n",
       "      <td>W./C. 6607</td>\n",
       "      <td>23.45</td>\n",
       "      <td>NaN</td>\n",
       "      <td>S</td>\n",
       "    </tr>\n",
       "    <tr>\n",
       "      <th>889</th>\n",
       "      <td>890</td>\n",
       "      <td>1</td>\n",
       "      <td>1</td>\n",
       "      <td>Behr, Mr. Karl Howell</td>\n",
       "      <td>male</td>\n",
       "      <td>26.0</td>\n",
       "      <td>0</td>\n",
       "      <td>0</td>\n",
       "      <td>111369</td>\n",
       "      <td>30.00</td>\n",
       "      <td>C148</td>\n",
       "      <td>C</td>\n",
       "    </tr>\n",
       "    <tr>\n",
       "      <th>890</th>\n",
       "      <td>891</td>\n",
       "      <td>0</td>\n",
       "      <td>3</td>\n",
       "      <td>Dooley, Mr. Patrick</td>\n",
       "      <td>male</td>\n",
       "      <td>32.0</td>\n",
       "      <td>0</td>\n",
       "      <td>0</td>\n",
       "      <td>370376</td>\n",
       "      <td>7.75</td>\n",
       "      <td>NaN</td>\n",
       "      <td>Q</td>\n",
       "    </tr>\n",
       "  </tbody>\n",
       "</table>\n",
       "</div>"
      ],
      "text/plain": [
       "     PassengerId  Survived  Pclass                                      Name  \\\n",
       "886          887         0       2                     Montvila, Rev. Juozas   \n",
       "887          888         1       1              Graham, Miss. Margaret Edith   \n",
       "888          889         0       3  Johnston, Miss. Catherine Helen \"Carrie\"   \n",
       "889          890         1       1                     Behr, Mr. Karl Howell   \n",
       "890          891         0       3                       Dooley, Mr. Patrick   \n",
       "\n",
       "        Sex   Age  SibSp  Parch      Ticket   Fare Cabin Embarked  \n",
       "886    male  27.0      0      0      211536  13.00   NaN        S  \n",
       "887  female  19.0      0      0      112053  30.00   B42        S  \n",
       "888  female   NaN      1      2  W./C. 6607  23.45   NaN        S  \n",
       "889    male  26.0      0      0      111369  30.00  C148        C  \n",
       "890    male  32.0      0      0      370376   7.75   NaN        Q  "
      ]
     },
     "execution_count": 224,
     "metadata": {},
     "output_type": "execute_result"
    }
   ],
   "source": [
    "# 지정된 파일의 아래서부터 5개내용\n",
    "df_titanic.tail()"
   ]
  },
  {
   "cell_type": "markdown",
   "id": "1425b534",
   "metadata": {},
   "source": [
    "# 웹 크롤링 "
   ]
  },
  {
   "cell_type": "code",
   "execution_count": 1,
   "id": "32353e02",
   "metadata": {},
   "outputs": [],
   "source": [
    "# 너무나 잘 알고있는 beatifulsoup , requests\n",
    "import requests\n",
    "from bs4 import BeautifulSoup"
   ]
  },
  {
   "cell_type": "code",
   "execution_count": 3,
   "id": "cf304f87",
   "metadata": {},
   "outputs": [
    {
     "name": "stdout",
     "output_type": "stream",
     "text": [
      "\n",
      "<!DOCTYPE HTML>\n",
      "<html lang=\"ko\">\n",
      "<head>\n",
      "    <meta http-equiv=\"Content-Type\" content=\"text/html; charset=utf-8\">\n",
      "    <meta name=\"viewport\" content=\"width=device-width, initial-scale=1.0\">\n",
      "    <meta name=\"google-site-verification\" content=\"mzkAy71X1qQFWihQN535LoiToXg34MUg9nuor7Og9E8\" />\n",
      "    <meta name=\"naver-site-verification\" content=\"d7c116bce998e6961b8db93c8592550f1a82119f\"/>\n",
      "    <meta name=\"description\" content=\"온라인 책을 제작 공유하는 플랫폼 서비스\">\n",
      "\n",
      "    <meta property=\"og:type\" content=\"wikidocs\">\n",
      "    <meta property=\"og:title\" content=\"위키독스\">\n",
      "    <meta property=\"og:description\" content=\"온라인 책을 제작 공유하는 플랫폼 서비스\">\n",
      "    <meta property=\"og:image\" content=\"https://wikidocs.net/images/book/wikidocs_1.png\">\n",
      "    <meta property=\"og:url\" content=\"https://wikidocs.net\">\n",
      "\n",
      "    <link rel=\"shortcut icon\" type=\"image/x-icon\" href=\"/static/img/favicon.ico\">\n",
      "    <link rel=\"canonical\" href=\"https://wikidocs.net/book/1\">\n",
      "    <title>WikiDocs</title>\n",
      "\n",
      "    <!-- Latest compiled and minified CSS -->\n",
      "    <link rel=\"stylesheet\" href=\"https://maxcdn.bootstrapcdn.com/bootstrap/3.3.7/css/bootstrap.min.css\" integrity=\"sha384-BVYiiSIFeK1dGmJRAkycuHAHRg32OmUcww7on3RYdg4Va+PmSTsz/K68vbdEjh4u\" crossorigin=\"anonymous\">\n",
      "\n",
      "    <!-- Optional theme\n",
      "    <link rel=\"stylesheet\" href=\"https://maxcdn.bootstrapcdn.com/bootstrap/3.3.7/css/bootstrap-theme.min.css\" integrity=\"sha384-rHyoN1iRsVXV4nD0JutlnGaslCJuC7uwjduW9SVrLvRYooPp2bWYgmgJQIXwl/Sp\" crossorigin=\"anonymous\">\n",
      "    -->\n",
      "\n",
      "    <!-- HTML5 shim and Respond.js IE8 support of HTML5 elements and media queries -->\n",
      "    <!--[if lt IE 9]>\n",
      "    <script src=\"https://oss.maxcdn.com/html5shiv/3.7.3/html5shiv.min.js\"></script>\n",
      "    <script src=\"https://oss.maxcdn.com/respond/1.4.2/respond.min.js\"></script>\n",
      "    <![endif]-->\n",
      "\n",
      "    \n",
      "<link type=\"text/css\" href=\"/static/pagination/pagination.css\" rel=\"stylesheet\"/>\n",
      "<link type=\"text/css\" href=\"/static/apprise/apprise.min.css\" rel=\"stylesheet\"  />\n",
      "\n",
      "    <link type=\"text/css\" href=\"/static/book/css/style_stack.css?v=20210106_02\" rel=\"stylesheet\"  media=\"screen\" />\n",
      "\n",
      "    <script src=\"https://ajax.googleapis.com/ajax/libs/jquery/1.12.4/jquery.min.js\"></script>\n",
      "    <script src=\"https://maxcdn.bootstrapcdn.com/bootstrap/3.3.7/js/bootstrap.min.js\" integrity=\"sha384-Tc5IQib027qvyjSMfHjOMaLkfuWVxZxUPnCJA7l2mCWNIpG9mGCD8wGNIcPD7Txa\" crossorigin=\"anonymous\"></script>\n",
      "    <script type=\"text/javascript\" src=\"/static/book/js/utils.js\"></script>\n",
      "    <script type=\"text/javascript\" src=\"/static/book/js/base.js?v=20210103_02\"></script>\n",
      "    \n",
      "<script type=\"text/javascript\" src=\"/static/pagination/jquery.pagination.js\"></script>\n",
      "<script type=\"text/javascript\" src=\"/static/apprise/apprise-1.5.min.js\"></script>\n",
      "<script type=\"text/javascript\" src=\"/static/book/js/index.js?v=20170528_01\"></script>\n",
      "\n",
      "    <script type=\"text/javascript\">\n",
      "      var _gaq = _gaq || [];\n",
      "      _gaq.push(['_setAccount', 'UA-2686629-3']);\n",
      "      _gaq.push(['_trackPageview']);\n",
      "\n",
      "      (function() {\n",
      "        var ga = document.createElement('script'); ga.type = 'text/javascript'; ga.async = true;\n",
      "        ga.src = ('https:' == document.location.protocol ? 'https://ssl' : 'http://www') + '.google-analytics.com/ga.js';\n",
      "        var s = document.getElementsByTagName('script')[0]; s.parentNode.insertBefore(ga, s);\n",
      "      })();\n",
      "\n",
      "    </script>\n",
      "\n",
      "    <!--\n",
      "    <script async src=\"//pagead2.googlesyndication.com/pagead/js/adsbygoogle.js\"></script>\n",
      "    -->\n",
      "</head>\n",
      "<body>\n",
      "\n",
      "\n",
      "<nav class=\"navbar navbar-inverse navbar-static-top\">\n",
      "    <div class=\"container\">\n",
      "        <div class=\"navbar-header\">\n",
      "            <button type=\"button\" class=\"navbar-toggle\" data-toggle=\"collapse\" data-target=\".navbar-collapse\">\n",
      "                <span class=\"icon-bar\"></span>\n",
      "                <span class=\"icon-bar\"></span>\n",
      "                <span class=\"icon-bar\"></span>\n",
      "            </button>\n",
      "            <a class=\"navbar-brand\" href=\"/\">\n",
      "                WikiDocs\n",
      "            </a>\n",
      "\n",
      "            <!--\n",
      "            <a class=\"navbar-brand navbar-adv\" href=\"https://wikidocs.net/105844\">\n",
      "                <span class=\"text-warning\" style=\"font-size:12px;font-weight:normal;color:orange\"><span class=\"glyphicon glyphicon-volume-up\"></span>\n",
      "                    《Do it! 점프 투 장고》 책 출간!\n",
      "                </span>\n",
      "            </a>\n",
      "            -->\n",
      "\n",
      "        </div>\n",
      "        <div class=\"navbar-collapse collapse\">\n",
      "            <ul class=\"nav navbar-nav navbar-right\">\n",
      "                \n",
      "                <li><a href=\"/loginForm\"><i class=\"glyphicon glyphicon-log-in\"></i> 로그인</a></li>\n",
      "                \n",
      "            </ul>\n",
      "        </div><!--/.navbar-collapse -->\n",
      "    </div>\n",
      "\n",
      "</nav>\n",
      "\n",
      "\n",
      "\n",
      "<div class=\"jumbotron\">\n",
      "    <div class=\"container\">\n",
      "        <h1>WikiDocs</h1>\n",
      "        <p style=\"margin-top:10px\">\n",
      "            위키독스는 온라인 책을 제작 공유하는 플랫폼 서비스입니다.\n",
      "        </p>\n",
      "        <p><a href=\"/help/wikidocs\" class=\"btn btn-primary btn-lg\">자세히 알아보기 &raquo;</a></p>\n",
      "    </div>\n",
      "</div>\n",
      "\n",
      "\n",
      "\n",
      "\n",
      "\n",
      "\n",
      "<div class=\"container\">\n",
      "    <!--\n",
      "    <div style=\"margin-bottom:20px;\">\n",
      "        <script async src=\"//pagead2.googlesyndication.com/pagead/js/adsbygoogle.js\"></script>\n",
      "        <ins class=\"adsbygoogle\"\n",
      "             style=\"display:block\"\n",
      "             data-ad-client=\"ca-pub-9470517771012578\"\n",
      "             data-ad-slot=\"6538649664\"\n",
      "             data-ad-format=\"auto\"></ins>\n",
      "        <script>\n",
      "        (adsbygoogle = window.adsbygoogle || []).push({});\n",
      "        </script>\n",
      "    </div>\n",
      "    -->\n",
      "\n",
      "    <div class=\"index\">\n",
      "        <input type=\"hidden\" name=\"tab_name\" id=\"tab_name\" value=\"sell\" />\n",
      "        <input type=\"hidden\" name=\"tab_sort_type\" id=\"tab_sort_type\" value=\"recommend\" />\n",
      "\n",
      "        <ul class=\"nav nav-tabs\" id=\"book-tab\">\n",
      "            <li book=\"sell\"><a href=\"#_\">추천책</a></li>\n",
      "            <!--\n",
      "            <li book=\"share\"><a href=\"#_\">공유책</a></li>\n",
      "            -->\n",
      "            <li book=\"all\"><a href=\"#_\">공개책</a></li>\n",
      "            \n",
      "        </ul>\n",
      "\n",
      "        <div class=\"row\">\n",
      "            <div class=\"col-sm-6\" style=\"margin-top:20px;margin-bottom:20px;\">\n",
      "\n",
      "                <div class=\"btn-group sort-type-group\" data-toggle=\"buttons\">\n",
      "                  <label sort_type=\"recommend\" class=\"btn btn-default btn-sm\">\n",
      "                    <input type=\"radio\" name=\"sort_type\" id=\"sort_type_recommend\" autocomplete=\"off\" value='recommend'> 추천순\n",
      "                  </label>\n",
      "                  <label sort_type=\"popular\" class=\"btn btn-default btn-sm\">\n",
      "                    <input type=\"radio\" name=\"sort_type\" id=\"sort_type_popular\" autocomplete=\"off\" value='popular'> 인기순\n",
      "                  </label>\n",
      "                  <label sort_type=\"recent\" class=\"btn btn-default btn-sm\">\n",
      "                    <input type=\"radio\" name=\"sort_type\" id=\"sort_type_recent\" autocomplete=\"off\" value='recent'> 최신순\n",
      "                  </label>\n",
      "                </div>\n",
      "            </div>\n",
      "\n",
      "            <div class=\"col-sm-4\" style=\"margin-top:20px;margin-bottom:20px;\">\n",
      "                <div class=\"input-group\">\n",
      "                    <input type=\"text\" id=\"kw\" name=\"kw\" class=\"form-control input-sm\" placeholder=\"책제목 또는 지은이를 입력하세요\">\n",
      "                    <span class=\"input-group-btn\">\n",
      "                        <button id=\"search-book-btn\" class=\"btn btn-sm btn-default\" type=\"button\">책검색</button>\n",
      "                    </span>\n",
      "                </div>\n",
      "            </div>\n",
      "        </div>\n",
      "\n",
      "\n",
      "        <div class=\"tab-content\">\n",
      "            <div id=\"books\" style=\"margin-top:10px;\">\n",
      "                \n",
      "\n",
      "\n",
      "\n",
      "\n",
      "<div class=\"row book-item\">\n",
      "\n",
      "    <div class=\"col-sm-6\" style=\"margin-bottom:20px;\">\n",
      "        <div class=\"media\">\n",
      "            <div class=\"media-left\">\n",
      "                <a href=\"/book/1\">\n",
      "                    <div class=\"book-image-box\">\n",
      "                        <img src=\"/images//book/j2p_title_new2_S1JyeeE.jpg\" class=\"book-image\" />\n",
      "                    </div>\n",
      "                </a>\n",
      "            </div>\n",
      "            <div class=\"media-body\">\n",
      "                <h4 class=\"media-heading\">\n",
      "                    \n",
      "                    <a href=\"/book/1\" class=\"book-subject\">점프 투 파이썬</a>\n",
      "                </h4>\n",
      "                <div class=\"book-detail\">\n",
      "                    <div>\n",
      "                        -\n",
      "                        \n",
      "                        <a class=\"menu_link\"  href=\"/profile/info/book/3\">박응용</a>\n",
      "                        \n",
      "                    </div>\n",
      "\n",
      "                    <div>\n",
      "                        - 2021년 07월 13일\n",
      "                    </div>\n",
      "\n",
      "                    <div style=\"margin-top:0px;\">\n",
      "                        - <a style=\"font-size:11px\" href=\"javascript:recommend_book('1')\"\n",
      "                             class=\"btn btn-default btn-xs\" title=\"추천\"><i class=\"glyphicon glyphicon-thumbs-up\"></i>\n",
      "                        <strong>3,517</strong> 명이 추천</a>\n",
      "                    </div>\n",
      "\n",
      "                    \n",
      "                    <div style=\"margin-top:3px;\">\n",
      "                        - <a href=\"/buy/1\" class=\"label label-default label-warning\">e-book</a>\n",
      "                    </div>\n",
      "                    \n",
      "                </div>\n",
      "            </div>\n",
      "        </div>\n",
      "    </div>\n",
      "\n",
      "\n",
      "\n",
      "    <div class=\"col-sm-6\" style=\"margin-bottom:20px;\">\n",
      "        <div class=\"media\">\n",
      "            <div class=\"media-left\">\n",
      "                <a href=\"/book/110\">\n",
      "                    <div class=\"book-image-box\">\n",
      "                        <img src=\"/images//book/python_fPnJy3Q.jpg\" class=\"book-image\" />\n",
      "                    </div>\n",
      "                </a>\n",
      "            </div>\n",
      "            <div class=\"media-body\">\n",
      "                <h4 class=\"media-heading\">\n",
      "                    \n",
      "                    <a href=\"/book/110\" class=\"book-subject\">파이썬으로 배우는 알고리즘 트레이딩 (개정판-2쇄)</a>\n",
      "                </h4>\n",
      "                <div class=\"book-detail\">\n",
      "                    <div>\n",
      "                        -\n",
      "                        \n",
      "                        <a class=\"menu_link\" href=\"/profile/info/book/400\">조대표</a> 외 1명\n",
      "                        \n",
      "                    </div>\n",
      "\n",
      "                    <div>\n",
      "                        - 2021년 05월 15일\n",
      "                    </div>\n",
      "\n",
      "                    <div style=\"margin-top:0px;\">\n",
      "                        - <a style=\"font-size:11px\" href=\"javascript:recommend_book('110')\"\n",
      "                             class=\"btn btn-default btn-xs\" title=\"추천\"><i class=\"glyphicon glyphicon-thumbs-up\"></i>\n",
      "                        <strong>2,327</strong> 명이 추천</a>\n",
      "                    </div>\n",
      "\n",
      "                    \n",
      "                </div>\n",
      "            </div>\n",
      "        </div>\n",
      "    </div>\n",
      "\n",
      "</div>\n",
      "\n",
      "\n",
      "\n",
      "<div class=\"row book-item\">\n",
      "\n",
      "    <div class=\"col-sm-6\" style=\"margin-bottom:20px;\">\n",
      "        <div class=\"media\">\n",
      "            <div class=\"media-left\">\n",
      "                <a href=\"/book/2155\">\n",
      "                    <div class=\"book-image-box\">\n",
      "                        <img src=\"/images//book/what-is-natural-language-processing.jpg\" class=\"book-image\" />\n",
      "                    </div>\n",
      "                </a>\n",
      "            </div>\n",
      "            <div class=\"media-body\">\n",
      "                <h4 class=\"media-heading\">\n",
      "                    \n",
      "                    <a href=\"/book/2155\" class=\"book-subject\">딥 러닝을 이용한 자연어 처리 입문</a>\n",
      "                </h4>\n",
      "                <div class=\"book-detail\">\n",
      "                    <div>\n",
      "                        -\n",
      "                        \n",
      "                        <a class=\"menu_link\"  href=\"/profile/info/book/6876\">유원준</a>\n",
      "                        \n",
      "                    </div>\n",
      "\n",
      "                    <div>\n",
      "                        - 2021년 07월 03일\n",
      "                    </div>\n",
      "\n",
      "                    <div style=\"margin-top:0px;\">\n",
      "                        - <a style=\"font-size:11px\" href=\"javascript:recommend_book('2155')\"\n",
      "                             class=\"btn btn-default btn-xs\" title=\"추천\"><i class=\"glyphicon glyphicon-thumbs-up\"></i>\n",
      "                        <strong>1,985</strong> 명이 추천</a>\n",
      "                    </div>\n",
      "\n",
      "                    \n",
      "                </div>\n",
      "            </div>\n",
      "        </div>\n",
      "    </div>\n",
      "\n",
      "\n",
      "\n",
      "    <div class=\"col-sm-6\" style=\"margin-bottom:20px;\">\n",
      "        <div class=\"media\">\n",
      "            <div class=\"media-left\">\n",
      "                <a href=\"/book/31\">\n",
      "                    <div class=\"book-image-box\">\n",
      "                        <img src=\"/images//book/javalogo_1.gif\" class=\"book-image\" />\n",
      "                    </div>\n",
      "                </a>\n",
      "            </div>\n",
      "            <div class=\"media-body\">\n",
      "                <h4 class=\"media-heading\">\n",
      "                    \n",
      "                    <a href=\"/book/31\" class=\"book-subject\">점프 투 자바</a>\n",
      "                </h4>\n",
      "                <div class=\"book-detail\">\n",
      "                    <div>\n",
      "                        -\n",
      "                        \n",
      "                        <a class=\"menu_link\"  href=\"/profile/info/book/3\">박응용</a>\n",
      "                        \n",
      "                    </div>\n",
      "\n",
      "                    <div>\n",
      "                        - 2021년 07월 07일\n",
      "                    </div>\n",
      "\n",
      "                    <div style=\"margin-top:0px;\">\n",
      "                        - <a style=\"font-size:11px\" href=\"javascript:recommend_book('31')\"\n",
      "                             class=\"btn btn-default btn-xs\" title=\"추천\"><i class=\"glyphicon glyphicon-thumbs-up\"></i>\n",
      "                        <strong>1,108</strong> 명이 추천</a>\n",
      "                    </div>\n",
      "\n",
      "                    \n",
      "                </div>\n",
      "            </div>\n",
      "        </div>\n",
      "    </div>\n",
      "\n",
      "</div>\n",
      "\n",
      "\n",
      "\n",
      "<div class=\"row book-item\">\n",
      "\n",
      "    <div class=\"col-sm-6\" style=\"margin-bottom:20px;\">\n",
      "        <div class=\"media\">\n",
      "            <div class=\"media-left\">\n",
      "                <a href=\"/book/2\">\n",
      "                    <div class=\"book-image-box\">\n",
      "                        <img src=\"/images//book/chobo_python_title.png\" class=\"book-image\" />\n",
      "                    </div>\n",
      "                </a>\n",
      "            </div>\n",
      "            <div class=\"media-body\">\n",
      "                <h4 class=\"media-heading\">\n",
      "                    \n",
      "                    <a href=\"/book/2\" class=\"book-subject\">왕초보를 위한 Python: 쉽게 풀어 쓴 기초 문법과 실습</a>\n",
      "                </h4>\n",
      "                <div class=\"book-detail\">\n",
      "                    <div>\n",
      "                        -\n",
      "                        \n",
      "                        <a class=\"menu_link\"  href=\"/profile/info/book/4\">최용</a>\n",
      "                        \n",
      "                    </div>\n",
      "\n",
      "                    <div>\n",
      "                        - 2021년 07월 10일\n",
      "                    </div>\n",
      "\n",
      "                    <div style=\"margin-top:0px;\">\n",
      "                        - <a style=\"font-size:11px\" href=\"javascript:recommend_book('2')\"\n",
      "                             class=\"btn btn-default btn-xs\" title=\"추천\"><i class=\"glyphicon glyphicon-thumbs-up\"></i>\n",
      "                        <strong>727</strong> 명이 추천</a>\n",
      "                    </div>\n",
      "\n",
      "                    \n",
      "                    <div style=\"margin-top:3px;\">\n",
      "                        - <a href=\"/buy/2\" class=\"label label-default label-warning\">e-book</a>\n",
      "                    </div>\n",
      "                    \n",
      "                </div>\n",
      "            </div>\n",
      "        </div>\n",
      "    </div>\n",
      "\n",
      "\n",
      "\n",
      "    <div class=\"col-sm-6\" style=\"margin-bottom:20px;\">\n",
      "        <div class=\"media\">\n",
      "            <div class=\"media-left\">\n",
      "                <a href=\"/book/2788\">\n",
      "                    <div class=\"book-image-box\">\n",
      "                        <img src=\"/images//book/1_t6hCM90evdnlPw4l9VK3AQ.png\" class=\"book-image\" />\n",
      "                    </div>\n",
      "                </a>\n",
      "            </div>\n",
      "            <div class=\"media-body\">\n",
      "                <h4 class=\"media-heading\">\n",
      "                    \n",
      "                    <a href=\"/book/2788\" class=\"book-subject\">PyTorch로 시작하는 딥 러닝 입문</a>\n",
      "                </h4>\n",
      "                <div class=\"book-detail\">\n",
      "                    <div>\n",
      "                        -\n",
      "                        \n",
      "                        <a class=\"menu_link\"  href=\"/profile/info/book/6876\">유원준</a>\n",
      "                        \n",
      "                    </div>\n",
      "\n",
      "                    <div>\n",
      "                        - 2021년 07월 06일\n",
      "                    </div>\n",
      "\n",
      "                    <div style=\"margin-top:0px;\">\n",
      "                        - <a style=\"font-size:11px\" href=\"javascript:recommend_book('2788')\"\n",
      "                             class=\"btn btn-default btn-xs\" title=\"추천\"><i class=\"glyphicon glyphicon-thumbs-up\"></i>\n",
      "                        <strong>484</strong> 명이 추천</a>\n",
      "                    </div>\n",
      "\n",
      "                    \n",
      "                </div>\n",
      "            </div>\n",
      "        </div>\n",
      "    </div>\n",
      "\n",
      "</div>\n",
      "\n",
      "\n",
      "\n",
      "<div class=\"row book-item\">\n",
      "\n",
      "    <div class=\"col-sm-6\" style=\"margin-bottom:20px;\">\n",
      "        <div class=\"media\">\n",
      "            <div class=\"media-left\">\n",
      "                <a href=\"/book/2165\">\n",
      "                    <div class=\"book-image-box\">\n",
      "                        <img src=\"/images//book/cover_2tGPBMt.png\" class=\"book-image\" />\n",
      "                    </div>\n",
      "                </a>\n",
      "            </div>\n",
      "            <div class=\"media-body\">\n",
      "                <h4 class=\"media-heading\">\n",
      "                    \n",
      "                    <a href=\"/book/2165\" class=\"book-subject\">PyQt5 Tutorial - 파이썬으로 만드는 나만의 GUI 프로그램</a>\n",
      "                </h4>\n",
      "                <div class=\"book-detail\">\n",
      "                    <div>\n",
      "                        -\n",
      "                        \n",
      "                        <a class=\"menu_link\"  href=\"/profile/info/book/6895\">Dardao</a>\n",
      "                        \n",
      "                    </div>\n",
      "\n",
      "                    <div>\n",
      "                        - 2021년 05월 19일\n",
      "                    </div>\n",
      "\n",
      "                    <div style=\"margin-top:0px;\">\n",
      "                        - <a style=\"font-size:11px\" href=\"javascript:recommend_book('2165')\"\n",
      "                             class=\"btn btn-default btn-xs\" title=\"추천\"><i class=\"glyphicon glyphicon-thumbs-up\"></i>\n",
      "                        <strong>436</strong> 명이 추천</a>\n",
      "                    </div>\n",
      "\n",
      "                    \n",
      "                </div>\n",
      "            </div>\n",
      "        </div>\n",
      "    </div>\n",
      "\n",
      "\n",
      "\n",
      "    <div class=\"col-sm-6\" style=\"margin-bottom:20px;\">\n",
      "        <div class=\"media\">\n",
      "            <div class=\"media-left\">\n",
      "                <a href=\"/book/922\">\n",
      "                    <div class=\"book-image-box\">\n",
      "                        <img src=\"/images//book/python300_zoR1Cof.PNG\" class=\"book-image\" />\n",
      "                    </div>\n",
      "                </a>\n",
      "            </div>\n",
      "            <div class=\"media-body\">\n",
      "                <h4 class=\"media-heading\">\n",
      "                    \n",
      "                    <a href=\"/book/922\" class=\"book-subject\">초보자를 위한 파이썬 300제</a>\n",
      "                </h4>\n",
      "                <div class=\"book-detail\">\n",
      "                    <div>\n",
      "                        -\n",
      "                        \n",
      "                        <a class=\"menu_link\" href=\"/profile/info/book/400\">조대표</a> 외 1명\n",
      "                        \n",
      "                    </div>\n",
      "\n",
      "                    <div>\n",
      "                        - 2021년 05월 11일\n",
      "                    </div>\n",
      "\n",
      "                    <div style=\"margin-top:0px;\">\n",
      "                        - <a style=\"font-size:11px\" href=\"javascript:recommend_book('922')\"\n",
      "                             class=\"btn btn-default btn-xs\" title=\"추천\"><i class=\"glyphicon glyphicon-thumbs-up\"></i>\n",
      "                        <strong>359</strong> 명이 추천</a>\n",
      "                    </div>\n",
      "\n",
      "                    \n",
      "                </div>\n",
      "            </div>\n",
      "        </div>\n",
      "    </div>\n",
      "\n",
      "</div>\n",
      "\n",
      "\n",
      "\n",
      "<div class=\"row book-item\">\n",
      "\n",
      "    <div class=\"col-sm-6\" style=\"margin-bottom:20px;\">\n",
      "        <div class=\"media\">\n",
      "            <div class=\"media-left\">\n",
      "                <a href=\"/book/4315\">\n",
      "                    <div class=\"book-image-box\">\n",
      "                        <img src=\"/images//book/슬라이드1_세로.PNG\" class=\"book-image\" />\n",
      "                    </div>\n",
      "                </a>\n",
      "            </div>\n",
      "            <div class=\"media-body\">\n",
      "                <h4 class=\"media-heading\">\n",
      "                    \n",
      "                    <a href=\"/book/4315\" class=\"book-subject\">Must Learning with R (개정판)</a>\n",
      "                </h4>\n",
      "                <div class=\"book-detail\">\n",
      "                    <div>\n",
      "                        -\n",
      "                        \n",
      "                        <a class=\"menu_link\" href=\"/profile/info/book/7936\">DoublekPark</a> 외 1명\n",
      "                        \n",
      "                    </div>\n",
      "\n",
      "                    <div>\n",
      "                        - 2021년 05월 01일\n",
      "                    </div>\n",
      "\n",
      "                    <div style=\"margin-top:0px;\">\n",
      "                        - <a style=\"font-size:11px\" href=\"javascript:recommend_book('4315')\"\n",
      "                             class=\"btn btn-default btn-xs\" title=\"추천\"><i class=\"glyphicon glyphicon-thumbs-up\"></i>\n",
      "                        <strong>292</strong> 명이 추천</a>\n",
      "                    </div>\n",
      "\n",
      "                    \n",
      "                </div>\n",
      "            </div>\n",
      "        </div>\n",
      "    </div>\n",
      "\n",
      "\n",
      "\n",
      "    <div class=\"col-sm-6\" style=\"margin-bottom:20px;\">\n",
      "        <div class=\"media\">\n",
      "            <div class=\"media-left\">\n",
      "                <a href=\"/book/1665\">\n",
      "                    <div class=\"book-image-box\">\n",
      "                        <img src=\"/images//book/bitcoin1.jpg\" class=\"book-image\" />\n",
      "                    </div>\n",
      "                </a>\n",
      "            </div>\n",
      "            <div class=\"media-body\">\n",
      "                <h4 class=\"media-heading\">\n",
      "                    \n",
      "                    <a href=\"/book/1665\" class=\"book-subject\">파이썬을 이용한 비트코인 자동매매 (개정판)</a>\n",
      "                </h4>\n",
      "                <div class=\"book-detail\">\n",
      "                    <div>\n",
      "                        -\n",
      "                        \n",
      "                        <a class=\"menu_link\" href=\"/profile/info/book/400\">조대표</a> 외 1명\n",
      "                        \n",
      "                    </div>\n",
      "\n",
      "                    <div>\n",
      "                        - 2021년 06월 07일\n",
      "                    </div>\n",
      "\n",
      "                    <div style=\"margin-top:0px;\">\n",
      "                        - <a style=\"font-size:11px\" href=\"javascript:recommend_book('1665')\"\n",
      "                             class=\"btn btn-default btn-xs\" title=\"추천\"><i class=\"glyphicon glyphicon-thumbs-up\"></i>\n",
      "                        <strong>280</strong> 명이 추천</a>\n",
      "                    </div>\n",
      "\n",
      "                    \n",
      "                </div>\n",
      "            </div>\n",
      "        </div>\n",
      "    </div>\n",
      "\n",
      "</div>\n",
      "\n",
      "\n",
      "\n",
      "<div class=\"row page-area\">\n",
      "    <input type=\"hidden\" name=\"total_count\" id=\"total_count\" value=\"51\" />\n",
      "    <input type=\"hidden\" name=\"current_page\" id=\"current_page\" value=\"1\" />\n",
      "    <input type=\"hidden\" name=\"per_page\" id=\"per_page\" value=\"10\" />\n",
      "    <input type=\"hidden\" name=\"page\" id=\"page\" />\n",
      "\n",
      "    <div id=\"pagination\" class=\"col-sm-12\" style=\"margin-top:-10px;\"></div>\n",
      "</div>\n",
      "\n",
      "<!-- 구글 애드센스\n",
      "<div style=\"margin-bottom:50px;\">\n",
      "<script async src=\"https://pagead2.googlesyndication.com/pagead/js/adsbygoogle.js\"></script>\n",
      "<ins class=\"adsbygoogle\"\n",
      "     style=\"display:block\"\n",
      "     data-ad-client=\"ca-pub-9470517771012578\"\n",
      "     data-ad-slot=\"6141616459\"\n",
      "     data-ad-format=\"auto\"\n",
      "     data-full-width-responsive=\"true\"></ins>\n",
      "<script>\n",
      "     (adsbygoogle = window.adsbygoogle || []).push({});\n",
      "</script>\n",
      "</div>\n",
      "구글 애드센스 -->\n",
      "\n",
      "\n",
      "<script>\n",
      "$(document).ready(function () {\n",
      "    // $(\".sort_div\").show();\n",
      "});\n",
      "\n",
      "\n",
      "</script>\n",
      "            </div>\n",
      "        </div>\n",
      "    </div>\n",
      "</div>\n",
      "\n",
      "\n",
      "\n",
      "<div class=\"container\">\n",
      "\n",
      "</div>\n",
      "\n",
      "\n",
      "<footer class=\"footer\">\n",
      "    <div class=\"container\" style=\"margin-top:40px;\">\n",
      "        <span class=\"text-muted small\">\n",
      "            ©2008 • <a href=\"/help/wikidocs\" class=\"normal\">위키독스</a>\n",
      "            (문의 pahkey@gmail.com)\n",
      "        </span>\n",
      "        <div class=\"pull-right small\"><a href=\"/help/privacy\" class=\"normal\">개인정보취급방침</a></div>\n",
      "    </div>\n",
      "</footer>\n",
      "\n",
      "\n",
      "</body>\n",
      "</html>\n",
      "\n"
     ]
    }
   ],
   "source": [
    "# requeests.get 해당 페이지의 html 코드를 가져옴\n",
    "r = requests.get(\"https://wikidocs.net\")\n",
    "html = r.text\n",
    "print(html)"
   ]
  },
  {
   "cell_type": "code",
   "execution_count": 4,
   "id": "00e838d6",
   "metadata": {},
   "outputs": [
    {
     "name": "stdout",
     "output_type": "stream",
     "text": [
      "잔금대출에도 DTI 규제 적용 검토\n"
     ]
    }
   ],
   "source": [
    "res = requests.get(\"http://v.media.daum.net/v/20170615203441266\")\n",
    "# 파싱 개념??\n",
    "soup = BeautifulSoup(res.content , \"html.parser\")\n",
    "title = soup.find(\"title\")\n",
    "print(title.get_text())"
   ]
  },
  {
   "cell_type": "code",
   "execution_count": 53,
   "id": "df34cc30",
   "metadata": {},
   "outputs": [
    {
     "name": "stdout",
     "output_type": "stream",
     "text": [
      "블랙 위도우\n",
      "랑종\n",
      "발신제한\n",
      "크루엘라\n",
      "여고괴담 여섯번째 이야기 : 모교\n",
      "미드나이트\n",
      "킬러의 보디가드 2\n",
      "콰이어트 플레이스 2\n",
      "루카\n",
      "제8일의 밤\n",
      "인 더 하이츠\n",
      "투모로우 워\n",
      "괴기맨숀\n",
      "체르노빌 1986\n",
      "이스케이프 룸 2: 노 웨이 아웃\n",
      "모가디슈\n",
      "더 퍼지: 포에버\n",
      "열아홉\n",
      "비상선언\n",
      "셔터\n",
      "오필리아\n",
      "이번엔 잘 되겠지\n",
      "빛나는 순간\n",
      "인질\n",
      "우리는 매일매일\n",
      "보스 베이비 2\n",
      "기담\n",
      "싱크홀\n",
      "컨저링 3: 악마가 시켰다\n",
      "분노의 질주: 더 얼티메이트\n",
      "꽃다발 같은 사랑을 했다\n",
      "스페이스 잼: 새로운 시대\n",
      "극장판 귀멸의 칼날: 무한열차편\n",
      "아이스 로드\n",
      "시카다 3301\n",
      "캐시트럭\n",
      "곡성(哭聲)\n",
      "어벤져스: 엔드게임\n",
      "예스, 노 또는 반반\n",
      "방법: 재차의\n",
      "죽어도 좋은 경험\n",
      "다크 앤드 위키드\n",
      "미션 임파서블: 루벤\n",
      "그린 북\n",
      "트립 투 그리스\n",
      "메이드 인 루프탑\n",
      "와니와 준하\n",
      "미드소마\n",
      "나만 보이니\n",
      "더 수어사이드 스쿼드\n"
     ]
    }
   ],
   "source": [
    "response = requests.get(\"http://movie.naver.com/movie/sdb/rank/rmovie.nhn\")\n",
    "html = response.text\n",
    "soup = BeautifulSoup(html , \"html.parser\")\n",
    "# select = div class tit3라는 소스를 모두 가져오겠다.\n",
    "Title_html = soup.select(\"div[class = tit3]\")\n",
    "# print(Title_html)\n",
    "# text만 찍어라\n",
    "\n",
    "f = open(\"movie.txt\" , \"w\")\n",
    "for tag in soup.select(\"div[class = tit3]\"):\n",
    "    f.writelines(tag.text.strip() + \"\\n\")\n",
    "    print(tag.text.strip())\n",
    "f.close()   \n",
    "\n"
   ]
  },
  {
   "cell_type": "code",
   "execution_count": 31,
   "id": "d88b2514",
   "metadata": {},
   "outputs": [
    {
     "name": "stdout",
     "output_type": "stream",
     "text": [
      "['아르헨티나와 2-2 무승부', '차기석', '하준수', '너는 나의 봄', '강철부대', '해방타운', '이수영 회장', '재난지원금', '최저임금', '오후 613명 최다']\n",
      "['01:33:08202107140133\\n', '아르헨티나와 2-2 무승부\\n', '차기석\\n', '하준수\\n', '너는 나의 봄\\n', '강철부대\\n', '해방타운\\n', '이수영 회장\\n', '재난지원금\\n', '최저임금\\n', '오후 613명 최다\\n']\n",
      "[]\n",
      "업데이트 완료\n",
      "같습니다.\n",
      "같습니다.\n"
     ]
    }
   ],
   "source": [
    "import requests , json\n",
    "import time\n",
    "from datetime import datetime\n",
    "from time import sleep\n",
    "\n",
    "f = open(\"date_hot_search.txt\" , \"w\")\n",
    "f1 = open(\"date_hot_search.txt2\" , \"w\")\n",
    "now_time = datetime.now().strftime(\"%X%Y%m%d%H%M\")\n",
    "new_data = []\n",
    "\n",
    "def get_now():\n",
    "    now = datetime.now().strftime(\"%X%Y%m%d%H%M\")\n",
    "    r = requests.get(\"http://www.nate.com/js/data/jsonLiveKeywordDataV1.js?v=\" + now).content\n",
    "    keyword_list = json.loads(r.decode(\"euc-kr\"))\n",
    "    result = []\n",
    "    f = open(\"date_hot_search.txt\" , \"w\")\n",
    "    f.write(now_time + \"\\n\")\n",
    "    for k in keyword_list:\n",
    "        result.append(k[1]) \n",
    "    for tag in result:\n",
    "        new_data.append(tag)\n",
    "        f.write(tag + \"\\n\")\n",
    "    return result    \n",
    "print(get_now())\n",
    "\n",
    "f = open(\"date_hot_search.txt\" , \"r\")\n",
    "line = f.readlines()\n",
    "print(line)\n",
    "f.close()\n",
    "\n",
    "f1 = open(\"date_hot_search.txt2\" , \"r\")\n",
    "line1 = f1.readlines()\n",
    "print(line1)\n",
    "f1.close()\n",
    "\n",
    "i = 0\n",
    "while i < 10:\n",
    "    get_now()\n",
    "    time.sleep(60)\n",
    "    if line1 != line:\n",
    "        line1 = line\n",
    "        f = open(\"date_hot_search.txt2\" , \"w\")\n",
    "        for number in line1:\n",
    "            f.write(number)\n",
    "        print(\"업데이트 완료\")\n",
    "        i += 1\n",
    "    elif line1 == line:\n",
    "        print(\"같습니다.\")\n",
    "        i += 1\n",
    "    f.close()\n",
    "    f1.close()"
   ]
  },
  {
   "cell_type": "code",
   "execution_count": 18,
   "id": "9b2ace47",
   "metadata": {},
   "outputs": [
    {
     "name": "stdout",
     "output_type": "stream",
     "text": [
      "['01:17:44202107140117\\n', '아르헨티나와 2-2 무승부\\n', '하준수\\n', '차기석\\n', '너는 나의 봄\\n', '강철부대\\n', '해방타운\\n', '이수영 회장\\n', '재난지원금\\n', '최저임금\\n', '오후 613명 최다\\n']\n",
      "['01:17:44202107140117\\n', '아르헨티나와 2-2 무승부\\n', '하준수\\n', '차기석\\n', '너는 나의 봄\\n', '강철부대\\n', '해방타운\\n', '이수영 회장\\n', '재난지원금\\n', '최저임금\\n', '오후 613명 최다\\n']\n"
     ]
    },
    {
     "ename": "ValueError",
     "evalue": "I/O operation on closed file.",
     "output_type": "error",
     "traceback": [
      "\u001b[0;31m---------------------------------------------------------------------------\u001b[0m",
      "\u001b[0;31mValueError\u001b[0m                                Traceback (most recent call last)",
      "\u001b[0;32m/var/folders/rs/q3tvc3s53gbblf3cd1ncwv2c0000gn/T/ipykernel_43284/1175800909.py\u001b[0m in \u001b[0;36m<module>\u001b[0;34m\u001b[0m\n\u001b[1;32m      7\u001b[0m \u001b[0;32mwhile\u001b[0m \u001b[0mi\u001b[0m \u001b[0;34m<\u001b[0m \u001b[0;36m3\u001b[0m\u001b[0;34m:\u001b[0m\u001b[0;34m\u001b[0m\u001b[0;34m\u001b[0m\u001b[0m\n\u001b[1;32m      8\u001b[0m     \u001b[0mtime\u001b[0m\u001b[0;34m.\u001b[0m\u001b[0msleep\u001b[0m\u001b[0;34m(\u001b[0m\u001b[0;36m10\u001b[0m\u001b[0;34m)\u001b[0m\u001b[0;34m\u001b[0m\u001b[0;34m\u001b[0m\u001b[0m\n\u001b[0;32m----> 9\u001b[0;31m     \u001b[0mget_now\u001b[0m\u001b[0;34m(\u001b[0m\u001b[0;34m)\u001b[0m\u001b[0;34m\u001b[0m\u001b[0;34m\u001b[0m\u001b[0m\n\u001b[0m\u001b[1;32m     10\u001b[0m     \u001b[0;32mif\u001b[0m \u001b[0mline1\u001b[0m \u001b[0;34m!=\u001b[0m \u001b[0mline\u001b[0m\u001b[0;34m:\u001b[0m\u001b[0;34m\u001b[0m\u001b[0;34m\u001b[0m\u001b[0m\n\u001b[1;32m     11\u001b[0m         \u001b[0mline1\u001b[0m \u001b[0;34m=\u001b[0m \u001b[0mline\u001b[0m\u001b[0;34m\u001b[0m\u001b[0;34m\u001b[0m\u001b[0m\n",
      "\u001b[0;32m/var/folders/rs/q3tvc3s53gbblf3cd1ncwv2c0000gn/T/ipykernel_43284/3185972131.py\u001b[0m in \u001b[0;36mget_now\u001b[0;34m()\u001b[0m\n\u001b[1;32m     15\u001b[0m     \u001b[0mkeyword_list\u001b[0m \u001b[0;34m=\u001b[0m \u001b[0mjson\u001b[0m\u001b[0;34m.\u001b[0m\u001b[0mloads\u001b[0m\u001b[0;34m(\u001b[0m\u001b[0mr\u001b[0m\u001b[0;34m.\u001b[0m\u001b[0mdecode\u001b[0m\u001b[0;34m(\u001b[0m\u001b[0;34m\"euc-kr\"\u001b[0m\u001b[0;34m)\u001b[0m\u001b[0;34m)\u001b[0m\u001b[0;34m\u001b[0m\u001b[0;34m\u001b[0m\u001b[0m\n\u001b[1;32m     16\u001b[0m     \u001b[0mresult\u001b[0m \u001b[0;34m=\u001b[0m \u001b[0;34m[\u001b[0m\u001b[0;34m]\u001b[0m\u001b[0;34m\u001b[0m\u001b[0;34m\u001b[0m\u001b[0m\n\u001b[0;32m---> 17\u001b[0;31m     \u001b[0mf\u001b[0m\u001b[0;34m.\u001b[0m\u001b[0mwrite\u001b[0m\u001b[0;34m(\u001b[0m\u001b[0mnow_time\u001b[0m \u001b[0;34m+\u001b[0m \u001b[0;34m\"\\n\"\u001b[0m\u001b[0;34m)\u001b[0m\u001b[0;34m\u001b[0m\u001b[0;34m\u001b[0m\u001b[0m\n\u001b[0m\u001b[1;32m     18\u001b[0m     \u001b[0;32mfor\u001b[0m \u001b[0mk\u001b[0m \u001b[0;32min\u001b[0m \u001b[0mkeyword_list\u001b[0m\u001b[0;34m:\u001b[0m\u001b[0;34m\u001b[0m\u001b[0;34m\u001b[0m\u001b[0m\n\u001b[1;32m     19\u001b[0m         \u001b[0mresult\u001b[0m\u001b[0;34m.\u001b[0m\u001b[0mappend\u001b[0m\u001b[0;34m(\u001b[0m\u001b[0mk\u001b[0m\u001b[0;34m[\u001b[0m\u001b[0;36m1\u001b[0m\u001b[0;34m]\u001b[0m\u001b[0;34m)\u001b[0m\u001b[0;34m\u001b[0m\u001b[0;34m\u001b[0m\u001b[0m\n",
      "\u001b[0;31mValueError\u001b[0m: I/O operation on closed file."
     ]
    }
   ],
   "source": [
    "print(line1)\n",
    "print(line)\n",
    "\n",
    "now_time = datetime.now().strftime(\"%X%Y%m%d%H%M\")\n",
    "\n",
    "i = 0\n",
    "while i < 3:\n",
    "    time.sleep(10)\n",
    "    get_now()\n",
    "    if line1 != line:\n",
    "        line1 = line\n",
    "        f = open(\"date_hot_search.txt2\" , \"a\")\n",
    "        f.write(now_time + \"\\n\")\n",
    "        for number in line1:\n",
    "            f.write(number + \"\\n\")\n",
    "        f.close()\n",
    "        print(\"업데이트 완료\")\n",
    "        i += 1\n",
    "    elif line1 == line:\n",
    "        print(\"같습니다.\")\n",
    "        i += 1\n"
   ]
  },
  {
   "cell_type": "code",
   "execution_count": 17,
   "id": "595b105f",
   "metadata": {},
   "outputs": [
    {
     "name": "stdout",
     "output_type": "stream",
     "text": [
      "True\n"
     ]
    }
   ],
   "source": [
    "print(line == line1)"
   ]
  },
  {
   "cell_type": "code",
   "execution_count": 156,
   "id": "148a029a",
   "metadata": {},
   "outputs": [
    {
     "name": "stdout",
     "output_type": "stream",
     "text": [
      "4\n",
      "4\n",
      "결과가 같습니다.\n",
      "2\n",
      "1\n",
      "결과를 업데이트 합니다.\n",
      "8\n",
      "1\n",
      "결과를 업데이트 합니다.\n",
      "2\n",
      "3\n",
      "결과를 업데이트 합니다.\n",
      "6\n",
      "2\n",
      "결과를 업데이트 합니다.\n"
     ]
    }
   ],
   "source": [
    "import requests , json\n",
    "import time\n",
    "from datetime import datetime\n",
    "from time import sleep\n",
    "import random \n",
    "\n",
    "i = 0\n",
    "while i < 5:\n",
    "    a = random.randrange(1,10)\n",
    "    b = random.randrange(1,5)\n",
    "    time.sleep(3)\n",
    "    if a != b:\n",
    "        print(a)\n",
    "        print(b)\n",
    "        f = open(\"date_hot_search\" , \"a\")\n",
    "        now_time = datetime.now().strftime(\"%X%Y%m%d%H%M\")\n",
    "        f.write(str(i+1)+ \"번째\" + \" \\n\" + now_time + \"\\n\" + str(a))\n",
    "        print(\"결과를 업데이트 합니다.\")\n",
    "        i += 1\n",
    "    elif a == b:\n",
    "        print(a)\n",
    "        print(b)\n",
    "        print(\"결과가 같습니다.\")\n",
    "        i += 1\n",
    "    f = open(\"date_hot_search\" , \"w\")\n",
    "    f.write(now_time + \"\\n\" + str(a))"
   ]
  },
  {
   "cell_type": "code",
   "execution_count": null,
   "id": "9fc61e52",
   "metadata": {},
   "outputs": [],
   "source": []
  }
 ],
 "metadata": {
  "kernelspec": {
   "display_name": "Python 3 (ipykernel)",
   "language": "python",
   "name": "python3"
  },
  "language_info": {
   "codemirror_mode": {
    "name": "ipython",
    "version": 3
   },
   "file_extension": ".py",
   "mimetype": "text/x-python",
   "name": "python",
   "nbconvert_exporter": "python",
   "pygments_lexer": "ipython3",
   "version": "3.8.10"
  }
 },
 "nbformat": 4,
 "nbformat_minor": 5
}
