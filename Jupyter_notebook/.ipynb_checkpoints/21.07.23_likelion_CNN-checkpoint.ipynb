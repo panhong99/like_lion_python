{
 "cells": [
  {
   "cell_type": "markdown",
   "id": "91dc7de9",
   "metadata": {},
   "source": [
    "## 가장 핫한 인공지능\n",
    "## 영상처리(CNN) , 자연어처리(RNN)"
   ]
  },
  {
   "cell_type": "markdown",
   "id": "59645310",
   "metadata": {},
   "source": [
    "## (CNN)Convolutional Neural Network\n"
   ]
  },
  {
   "cell_type": "code",
   "execution_count": 1,
   "id": "adeb3fc0",
   "metadata": {},
   "outputs": [],
   "source": [
    "# 손글씨를 학습시키기 위해 keras의 기본적인 data import\n",
    "from tensorflow.keras.datasets import mnist\n",
    "import tensorflow as tf"
   ]
  },
  {
   "cell_type": "code",
   "execution_count": 2,
   "id": "b389bf29",
   "metadata": {},
   "outputs": [
    {
     "name": "stdout",
     "output_type": "stream",
     "text": [
      "학습셋 이미지 수 : 60000 개\n",
      "테스트 셋 이미지 수 : 10000 개\n"
     ]
    }
   ],
   "source": [
    "# 데이터 셋을 호출하고 \n",
    "(x_train , y_class_train) , (x_test , y_class_test) = mnist.load_data()\n",
    "# 학습용 데이터 , 테스트용 데이터의 개수를 확인\n",
    "print(\"학습셋 이미지 수 : %d 개\" %(x_train.shape[0]))\n",
    "print(\"테스트 셋 이미지 수 : %d 개\" %(x_test.shape[0]))"
   ]
  },
  {
   "cell_type": "code",
   "execution_count": 3,
   "id": "32ddf147",
   "metadata": {},
   "outputs": [
    {
     "name": "stderr",
     "output_type": "stream",
     "text": [
      "findfont: Font family ['NanumBarunpenBold'] not found. Falling back to DejaVu Sans.\n"
     ]
    },
    {
     "data": {
      "image/png": "[encoded data removed]",
      "text/plain": [
       "<Figure size 432x288 with 1 Axes>"
      ]
     },
     "metadata": {
      "needs_background": "light"
     },
     "output_type": "display_data"
    }
   ],
   "source": [
    "# 불러온 이미지 중 하나만 가져오기\n",
    "# 모든 이미지가 x_train에 저장되어 있음 \n",
    "# cmap = \"Greys\"옵션을 지정해 흑백으로 출력되게 함\n",
    "import matplotlib.pyplot as plt\n",
    "\n",
    "plt.imshow(x_train[0] , cmap = \"Greys\")\n",
    "plt.show()"
   ]
  },
  {
   "cell_type": "code",
   "execution_count": 4,
   "id": "392a29fb",
   "metadata": {},
   "outputs": [
    {
     "name": "stdout",
     "output_type": "stream",
     "text": [
      "0\t0\t0\t0\t0\t0\t0\t0\t0\t0\t0\t0\t0\t0\t0\t0\t0\t0\t0\t0\t0\t0\t0\t0\t0\t0\t0\t0\t\n",
      "0\t0\t0\t0\t0\t0\t0\t0\t0\t0\t0\t0\t0\t0\t0\t0\t0\t0\t0\t0\t0\t0\t0\t0\t0\t0\t0\t0\t\n",
      "0\t0\t0\t0\t0\t0\t0\t0\t0\t0\t0\t0\t0\t0\t0\t0\t0\t0\t0\t0\t0\t0\t0\t0\t0\t0\t0\t0\t\n",
      "0\t0\t0\t0\t0\t0\t0\t0\t0\t0\t0\t0\t0\t0\t0\t0\t0\t0\t0\t0\t0\t0\t0\t0\t0\t0\t0\t0\t\n",
      "0\t0\t0\t0\t0\t0\t0\t0\t0\t0\t0\t0\t0\t0\t0\t0\t0\t0\t0\t0\t0\t0\t0\t0\t0\t0\t0\t0\t\n",
      "0\t0\t0\t0\t0\t0\t0\t0\t0\t0\t0\t0\t3\t18\t18\t18\t126\t136\t175\t26\t166\t255\t247\t127\t0\t0\t0\t0\t\n",
      "0\t0\t0\t0\t0\t0\t0\t0\t30\t36\t94\t154\t170\t253\t253\t253\t253\t253\t225\t172\t253\t242\t195\t64\t0\t0\t0\t0\t\n",
      "0\t0\t0\t0\t0\t0\t0\t49\t238\t253\t253\t253\t253\t253\t253\t253\t253\t251\t93\t82\t82\t56\t39\t0\t0\t0\t0\t0\t\n",
      "0\t0\t0\t0\t0\t0\t0\t18\t219\t253\t253\t253\t253\t253\t198\t182\t247\t241\t0\t0\t0\t0\t0\t0\t0\t0\t0\t0\t\n",
      "0\t0\t0\t0\t0\t0\t0\t0\t80\t156\t107\t253\t253\t205\t11\t0\t43\t154\t0\t0\t0\t0\t0\t0\t0\t0\t0\t0\t\n",
      "0\t0\t0\t0\t0\t0\t0\t0\t0\t14\t1\t154\t253\t90\t0\t0\t0\t0\t0\t0\t0\t0\t0\t0\t0\t0\t0\t0\t\n",
      "0\t0\t0\t0\t0\t0\t0\t0\t0\t0\t0\t139\t253\t190\t2\t0\t0\t0\t0\t0\t0\t0\t0\t0\t0\t0\t0\t0\t\n",
      "0\t0\t0\t0\t0\t0\t0\t0\t0\t0\t0\t11\t190\t253\t70\t0\t0\t0\t0\t0\t0\t0\t0\t0\t0\t0\t0\t0\t\n",
      "0\t0\t0\t0\t0\t0\t0\t0\t0\t0\t0\t0\t35\t241\t225\t160\t108\t1\t0\t0\t0\t0\t0\t0\t0\t0\t0\t0\t\n",
      "0\t0\t0\t0\t0\t0\t0\t0\t0\t0\t0\t0\t0\t81\t240\t253\t253\t119\t25\t0\t0\t0\t0\t0\t0\t0\t0\t0\t\n",
      "0\t0\t0\t0\t0\t0\t0\t0\t0\t0\t0\t0\t0\t0\t45\t186\t253\t253\t150\t27\t0\t0\t0\t0\t0\t0\t0\t0\t\n",
      "0\t0\t0\t0\t0\t0\t0\t0\t0\t0\t0\t0\t0\t0\t0\t16\t93\t252\t253\t187\t0\t0\t0\t0\t0\t0\t0\t0\t\n",
      "0\t0\t0\t0\t0\t0\t0\t0\t0\t0\t0\t0\t0\t0\t0\t0\t0\t249\t253\t249\t64\t0\t0\t0\t0\t0\t0\t0\t\n",
      "0\t0\t0\t0\t0\t0\t0\t0\t0\t0\t0\t0\t0\t0\t46\t130\t183\t253\t253\t207\t2\t0\t0\t0\t0\t0\t0\t0\t\n",
      "0\t0\t0\t0\t0\t0\t0\t0\t0\t0\t0\t0\t39\t148\t229\t253\t253\t253\t250\t182\t0\t0\t0\t0\t0\t0\t0\t0\t\n",
      "0\t0\t0\t0\t0\t0\t0\t0\t0\t0\t24\t114\t221\t253\t253\t253\t253\t201\t78\t0\t0\t0\t0\t0\t0\t0\t0\t0\t\n",
      "0\t0\t0\t0\t0\t0\t0\t0\t23\t66\t213\t253\t253\t253\t253\t198\t81\t2\t0\t0\t0\t0\t0\t0\t0\t0\t0\t0\t\n",
      "0\t0\t0\t0\t0\t0\t18\t171\t219\t253\t253\t253\t253\t195\t80\t9\t0\t0\t0\t0\t0\t0\t0\t0\t0\t0\t0\t0\t\n",
      "0\t0\t0\t0\t55\t172\t226\t253\t253\t253\t253\t244\t133\t11\t0\t0\t0\t0\t0\t0\t0\t0\t0\t0\t0\t0\t0\t0\t\n",
      "0\t0\t0\t0\t136\t253\t253\t253\t212\t135\t132\t16\t0\t0\t0\t0\t0\t0\t0\t0\t0\t0\t0\t0\t0\t0\t0\t0\t\n",
      "0\t0\t0\t0\t0\t0\t0\t0\t0\t0\t0\t0\t0\t0\t0\t0\t0\t0\t0\t0\t0\t0\t0\t0\t0\t0\t0\t0\t\n",
      "0\t0\t0\t0\t0\t0\t0\t0\t0\t0\t0\t0\t0\t0\t0\t0\t0\t0\t0\t0\t0\t0\t0\t0\t0\t0\t0\t0\t\n",
      "0\t0\t0\t0\t0\t0\t0\t0\t0\t0\t0\t0\t0\t0\t0\t0\t0\t0\t0\t0\t0\t0\t0\t0\t0\t0\t0\t0\t\n"
     ]
    }
   ],
   "source": [
    "# 데이터 전처리\n",
    "# 각 픽셀은 밝기 정도에 따라 0부터 255까지 등급을 매김 \n",
    "# 따라서 이미지에 0이 아닌 부분은 전부 값이 있음(0에 가까울 수록 흰 , 255에 가까울수록 검)\n",
    "# 0이 아닌 부분이 5의 형상이 되어 local이 학습을 함\n",
    "import sys \n",
    "for x in x_train[0]:\n",
    "    for i in x:\n",
    "        sys.stdout.write(\"%d\\t\" %i) # sys.stdout.write(\"%3d\" % i)\n",
    "    sys.stdout.write(\"\\n\")"
   ]
  },
  {
   "cell_type": "code",
   "execution_count": 5,
   "id": "21bb228b",
   "metadata": {},
   "outputs": [],
   "source": [
    "x_train = x_train.reshape(x_train.shape[0] , 784)"
   ]
  },
  {
   "cell_type": "code",
   "execution_count": 6,
   "id": "0e58238e",
   "metadata": {},
   "outputs": [],
   "source": [
    "# 현재 주어진 데이터의 값은 0 - 255까지의 정수로 , 정규화를 위해\n",
    "# 255로 나누어 주려면 먼저 이 값을 실수형으로 바꾸어야 함\n",
    "\n",
    "# 바꾸기 1번 astype함수를 사용해 실수형으로 바뀐 뒤 255로 나눔\n",
    "x_train = x_train.astype(\"float64\")\n",
    "x_train = x_train / 255"
   ]
  },
  {
   "cell_type": "code",
   "execution_count": 7,
   "id": "f1477684",
   "metadata": {},
   "outputs": [],
   "source": [
    "# 바꾸기 2번 위의 2줄을 한줄로 작성 \n",
    "x_test = x_test.reshape(x_test.shape[0] , 784).astype(\"float64\") / 255"
   ]
  },
  {
   "cell_type": "code",
   "execution_count": 8,
   "id": "34450d77",
   "metadata": {},
   "outputs": [
    {
     "name": "stdout",
     "output_type": "stream",
     "text": [
      "class : 5\n"
     ]
    }
   ],
   "source": [
    "# 실제로 이 숫자의 어떤지를 불러오고자 y_class_train[0]을 \n",
    "# 다음과 같이 출력\n",
    "print(\"class : %d\" % (y_class_train[0]))"
   ]
  },
  {
   "cell_type": "code",
   "execution_count": 9,
   "id": "162cbfe0",
   "metadata": {},
   "outputs": [],
   "source": [
    "y_train = tf.keras.utils.to_categorical(y_class_train , 10)\n",
    "y_test = tf.keras.utils.to_categorical(y_class_test , 10)"
   ]
  },
  {
   "cell_type": "code",
   "execution_count": 10,
   "id": "3eac88f1",
   "metadata": {},
   "outputs": [
    {
     "name": "stdout",
     "output_type": "stream",
     "text": [
      "[0. 0. 0. 0. 0. 1. 0. 0. 0. 0.]\n"
     ]
    }
   ],
   "source": [
    "print(y_train[0])"
   ]
  },
  {
   "cell_type": "code",
   "execution_count": null,
   "id": "6ca4017c",
   "metadata": {},
   "outputs": [
    {
     "name": "stdout",
     "output_type": "stream",
     "text": [
      "Epoch 1/200\n",
      "1257/1257 [==============================] - 11s 8ms/step - loss: 0.4184 - accuracy: 0.8807 - val_loss: 0.2365 - val_accuracy: 0.9333\n",
      "Epoch 2/200\n",
      "1257/1257 [==============================] - 11s 8ms/step - loss: 0.1989 - accuracy: 0.9435 - val_loss: 0.1935 - val_accuracy: 0.9434\n",
      "Epoch 3/200\n",
      "1257/1257 [==============================] - 11s 8ms/step - loss: 0.1565 - accuracy: 0.9542 - val_loss: 0.1805 - val_accuracy: 0.9481\n",
      "Epoch 4/200\n",
      "1257/1257 [==============================] - 11s 8ms/step - loss: 0.1307 - accuracy: 0.9605 - val_loss: 0.1691 - val_accuracy: 0.9513\n",
      "Epoch 5/200\n",
      "1257/1257 [==============================] - 11s 8ms/step - loss: 0.1145 - accuracy: 0.9657 - val_loss: 0.1561 - val_accuracy: 0.9555\n",
      "Epoch 6/200\n",
      "1257/1257 [==============================] - 11s 8ms/step - loss: 0.1015 - accuracy: 0.9686 - val_loss: 0.1501 - val_accuracy: 0.9578\n",
      "Epoch 7/200\n",
      "1257/1257 [==============================] - 11s 8ms/step - loss: 0.0894 - accuracy: 0.9728 - val_loss: 0.1415 - val_accuracy: 0.9609\n",
      "Epoch 8/200\n",
      "1257/1257 [==============================] - 11s 8ms/step - loss: 0.0812 - accuracy: 0.9745 - val_loss: 0.1570 - val_accuracy: 0.9567\n",
      "Epoch 9/200\n",
      "1257/1257 [==============================] - 11s 9ms/step - loss: 0.0719 - accuracy: 0.9782 - val_loss: 0.1495 - val_accuracy: 0.9579\n",
      "Epoch 10/200\n",
      "1257/1257 [==============================] - 11s 8ms/step - loss: 0.0661 - accuracy: 0.9794 - val_loss: 0.1451 - val_accuracy: 0.9597\n",
      "Epoch 11/200\n",
      "1257/1257 [==============================] - ETA: 0s - loss: 0.0609 - accuracy: 0.9803"
     ]
    }
   ],
   "source": [
    "import tensorflow as tf\n",
    "from tensorflow.keras.models import Sequential\n",
    "from tensorflow.keras.layers import Dense\n",
    "from tensorflow.keras.callbacks import ModelCheckpoint , EarlyStopping\n",
    "import os\n",
    "import numpy as np\n",
    "import pandas as pa\n",
    "\n",
    "\n",
    "model = Sequential()\n",
    "model.add(Dense(30 , input_dim = 784 , activation = \"relu\"))\n",
    "model.add(Dense(30 , activation = \"relu\"))\n",
    "model.add(Dense(10 , activation = \"softmax\"))\n",
    "model.compile(loss = \"categorical_crossentropy\" , optimizer = \"adam\" , metrics = [\"accuracy\"])\n",
    "\n",
    "modelpath = \"./model/\"\n",
    "checkpoint = ModelCheckpoint(filepath = modelpath , monitor = \"val_loss\" , verbose = 1 ,save_best_only = True)\n",
    "early = EarlyStopping(monitor = \"val_loss\" , patience = 10)\n",
    "model.fit(x_train , y_train , epochs = 200 , verbose = 1 , validation_split = 0.33)\n",
    "print(\"\\nAccuracy : .4f\" , model.evaluate(x_test , y_test)[1])"
   ]
  },
  {
   "cell_type": "code",
   "execution_count": null,
   "id": "8abf4602",
   "metadata": {},
   "outputs": [],
   "source": []
  }
 ],
 "metadata": {
  "kernelspec": {
   "display_name": "Python 3.9.5 64-bit ('base': conda)",
   "language": "python",
   "name": "python39564bitbasecondaff88d2da3a154ebfb639a042a46a85ea"
  },
  "language_info": {
   "codemirror_mode": {
    "name": "ipython",
    "version": 3
   },
   "file_extension": ".py",
   "mimetype": "text/x-python",
   "name": "python",
   "nbconvert_exporter": "python",
   "pygments_lexer": "ipython3",
   "version": "3.9.5"
  }
 },
 "nbformat": 4,
 "nbformat_minor": 5
}
