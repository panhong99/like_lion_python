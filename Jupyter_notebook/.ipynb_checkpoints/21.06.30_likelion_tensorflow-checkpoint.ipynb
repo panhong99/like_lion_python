{
 "cells": [
  {
   "cell_type": "code",
   "execution_count": 101,
   "id": "0d79a84f",
   "metadata": {},
   "outputs": [],
   "source": [
    "import numpy as np"
   ]
  },
  {
   "cell_type": "markdown",
   "id": "c46f31c3",
   "metadata": {},
   "source": [
    "차이점 : \n",
    "\n",
    "아래와 같이 리스트를 사용하면 파이썬과 같이 type이 리스트일것 같지만 \n",
    "\n",
    "### numpy를 사용했기 때문에 type는 numpy.ndarray이다.\n",
    "#### np는 numpy의 함수이다. 사용은 np.함수 이런식으로 사용한다."
   ]
  },
  {
   "cell_type": "code",
   "execution_count": 7,
   "id": "ef612a2c",
   "metadata": {},
   "outputs": [
    {
     "name": "stdout",
     "output_type": "stream",
     "text": [
      "[0 1 2 3 4 5 6 7 8 9]\n"
     ]
    },
    {
     "data": {
      "text/plain": [
       "array([0, 1, 2, 3, 4, 5, 6, 7, 8, 9])"
      ]
     },
     "execution_count": 7,
     "metadata": {},
     "output_type": "execute_result"
    }
   ],
   "source": [
    "ar = np.array([0,1,2,3,4,5,6,7,8,9])\n",
    "print(ar)\n",
    "ar"
   ]
  },
  {
   "cell_type": "markdown",
   "id": "0ef9da61",
   "metadata": {},
   "source": [
    "설명 :\n",
    "\n",
    "단순히 ar을 print하면 리스트만 출력이 되어 type이 리스트라고 착각할수가 있다.\n",
    "\n",
    "하지만 아래에 출력에서 보여지듯 ar을 출력하면 numpy.array로 감싸져 있는\n",
    "\n",
    "리스트의 형태를 확인할 수 있다.\n",
    "## (tensorflow를 사용할때 type에서 어려움이 많이 있기 때문에 type를 수시로 확인해주는 습관이 필요하다.)"
   ]
  },
  {
   "cell_type": "code",
   "execution_count": 8,
   "id": "352e8f51",
   "metadata": {},
   "outputs": [
    {
     "name": "stdout",
     "output_type": "stream",
     "text": [
      "[0 1 2 3 4 5 6 7 8 9]\n"
     ]
    },
    {
     "data": {
      "text/plain": [
       "array([0, 1, 2, 3, 4, 5, 6, 7, 8, 9])"
      ]
     },
     "execution_count": 8,
     "metadata": {},
     "output_type": "execute_result"
    }
   ],
   "source": [
    "my_list = [0,1,2,3,4,5,6,7,8,9]\n",
    "ar1 = np.array(my_list )\n",
    "print(ar)\n",
    "ar"
   ]
  },
  {
   "cell_type": "markdown",
   "id": "1af96a38",
   "metadata": {},
   "source": [
    "설명 :\n",
    "\n",
    "아래와 같이 my_list와 ar의 type는 각각 리스트와 numpy.array로 \n",
    "\n",
    "type이 다른것을 확인할수 있다."
   ]
  },
  {
   "cell_type": "code",
   "execution_count": 10,
   "id": "6b7f05bb",
   "metadata": {},
   "outputs": [
    {
     "name": "stdout",
     "output_type": "stream",
     "text": [
      "<class 'list'>\n",
      "<class 'numpy.ndarray'>\n"
     ]
    }
   ],
   "source": [
    "print(type(my_list))\n",
    "print(type(ar))"
   ]
  },
  {
   "cell_type": "code",
   "execution_count": 12,
   "id": "272974cc",
   "metadata": {},
   "outputs": [
    {
     "name": "stdout",
     "output_type": "stream",
     "text": [
      "[0, 1, 2, 3, 4, 5, 6, 7, 8, 9]\n",
      "[0, 1, 2, 3, 4, 5, 6, 7, 8, 9]\n"
     ]
    }
   ],
   "source": [
    "data = [0,1,2,3,4,5,6,7,8,9]\n",
    "data1 = list(range(10))\n",
    "print(data)\n",
    "print(data1)"
   ]
  },
  {
   "cell_type": "markdown",
   "id": "db79b413",
   "metadata": {},
   "source": [
    "for 반복문을 아래와 같이 사용할 수 있다."
   ]
  },
  {
   "cell_type": "code",
   "execution_count": 14,
   "id": "3d46bec3",
   "metadata": {},
   "outputs": [
    {
     "data": {
      "text/plain": [
       "[0, 2, 4, 6, 8, 10, 12, 14, 16, 18]"
      ]
     },
     "execution_count": 14,
     "metadata": {},
     "output_type": "execute_result"
    }
   ],
   "source": [
    "answer = []\n",
    "for di in data:\n",
    "    answer.append(2 * di)\n",
    "answer"
   ]
  },
  {
   "cell_type": "markdown",
   "id": "9213ead8",
   "metadata": {},
   "source": [
    "하지만 백터화 연산을 사용하면 다음과 같이 for반복문 없이 한 번의 연산으로 할 수 있다.\n",
    "계산 속도도 반복문을 사용할때 보다 횔씬 빠르다."
   ]
  },
  {
   "cell_type": "code",
   "execution_count": 15,
   "id": "d244fa97",
   "metadata": {},
   "outputs": [
    {
     "data": {
      "text/plain": [
       "array([0, 1, 2, 3, 4, 5, 6, 7, 8, 9])"
      ]
     },
     "execution_count": 15,
     "metadata": {},
     "output_type": "execute_result"
    }
   ],
   "source": [
    "x = np.array(data) # <= 리스트형태인 data를 np.array로 형태를 변경해준다.\n",
    "x"
   ]
  },
  {
   "cell_type": "markdown",
   "id": "d863d74b",
   "metadata": {},
   "source": [
    "#### np.array로 형태를 변경해줌으로서 for문을 사용하지 않고도 연산이 가능하다.\n"
   ]
  },
  {
   "cell_type": "code",
   "execution_count": 16,
   "id": "da238686",
   "metadata": {},
   "outputs": [
    {
     "data": {
      "text/plain": [
       "array([ 0,  2,  4,  6,  8, 10, 12, 14, 16, 18])"
      ]
     },
     "execution_count": 16,
     "metadata": {},
     "output_type": "execute_result"
    }
   ],
   "source": [
    "x * 2 "
   ]
  },
  {
   "cell_type": "markdown",
   "id": "5f40c791",
   "metadata": {},
   "source": [
    "#### 백터화 연산은 논리 연산을 포함한 모든 종류의 수학 연산에 대해 적용된다. \n",
    "#### 선형 대수에 적용되는 벡터화 연산에 대해서는 나중에 보다 자세히 설명한다."
   ]
  },
  {
   "cell_type": "code",
   "execution_count": 413,
   "id": "943706fc",
   "metadata": {},
   "outputs": [],
   "source": [
    "a = np.array([1,2,3])\n",
    "b = np.array([10,20,30])"
   ]
  },
  {
   "cell_type": "code",
   "execution_count": 410,
   "id": "68dbe8ae",
   "metadata": {},
   "outputs": [
    {
     "data": {
      "text/plain": [
       "array([12, 24, 36])"
      ]
     },
     "execution_count": 410,
     "metadata": {},
     "output_type": "execute_result"
    }
   ],
   "source": [
    "## Numpy Array의 벡터화 연산 \n",
    "(2 * a) + b"
   ]
  },
  {
   "cell_type": "code",
   "execution_count": 19,
   "id": "51bd3129",
   "metadata": {},
   "outputs": [
    {
     "data": {
      "text/plain": [
       "[1, 2, 3, 1, 2, 3, 10, 20, 30]"
      ]
     },
     "execution_count": 19,
     "metadata": {},
     "output_type": "execute_result"
    }
   ],
   "source": [
    "### 리스트의 연산과 비교\n",
    "list_a = [1,2,3]\n",
    "list_b = [10,20,30]\n",
    "2 * list_a + list_b"
   ]
  },
  {
   "cell_type": "markdown",
   "id": "cc4b2456",
   "metadata": {},
   "source": [
    "array의 내에 인스턴스들을 인지하고 \n",
    "a == 2 라는 bool연산식을 작성했을때\n",
    "아래와 같은 내용이 출력된다.(단순히 True가 아니라 각각을 비교해서 True , False를 구분해준다.)"
   ]
  },
  {
   "cell_type": "code",
   "execution_count": 34,
   "id": "f9181137",
   "metadata": {},
   "outputs": [
    {
     "name": "stdout",
     "output_type": "stream",
     "text": [
      "[1 2 3]\n"
     ]
    },
    {
     "data": {
      "text/plain": [
       "array([False,  True, False])"
      ]
     },
     "execution_count": 34,
     "metadata": {},
     "output_type": "execute_result"
    }
   ],
   "source": [
    "a = np.array([1,2,3])\n",
    "print(a) \n",
    "a == 2  # a == 2라는 연산식이 성립한 인스턴스만 True를 반환 나머지는 False"
   ]
  },
  {
   "cell_type": "code",
   "execution_count": 32,
   "id": "d31ba3f5",
   "metadata": {},
   "outputs": [
    {
     "name": "stdout",
     "output_type": "stream",
     "text": [
      "[10 20 30]\n"
     ]
    },
    {
     "data": {
      "text/plain": [
       "array([False,  True,  True])"
      ]
     },
     "execution_count": 32,
     "metadata": {},
     "output_type": "execute_result"
    }
   ],
   "source": [
    "b = np.array([10,20,30])\n",
    "print(b)\n",
    "b > 10  # 마찬가지로 b > 10 이라는 연산이 성립되는 경우만 True 출력"
   ]
  },
  {
   "cell_type": "markdown",
   "id": "9f93dfab",
   "metadata": {},
   "source": [
    "#### a(0) , b(0) 이런식으로 두개의 변수의 인덱스를 하나로 묶어서 논리연산 하는것 또한 가능하다."
   ]
  },
  {
   "cell_type": "code",
   "execution_count": 411,
   "id": "a1376e11",
   "metadata": {},
   "outputs": [
    {
     "data": {
      "text/plain": [
       "array([False,  True, False])"
      ]
     },
     "execution_count": 411,
     "metadata": {},
     "output_type": "execute_result"
    }
   ],
   "source": [
    "(a == 2) & (b > 10) # & 논리연산 "
   ]
  },
  {
   "cell_type": "code",
   "execution_count": 36,
   "id": "54128063",
   "metadata": {},
   "outputs": [
    {
     "data": {
      "text/plain": [
       "array([False,  True,  True])"
      ]
     },
     "execution_count": 36,
     "metadata": {},
     "output_type": "execute_result"
    }
   ],
   "source": [
    "(a == 2) | (b > 10) # or 논리연산"
   ]
  },
  {
   "cell_type": "code",
   "execution_count": 37,
   "id": "dd7ce2ac",
   "metadata": {},
   "outputs": [
    {
     "name": "stdout",
     "output_type": "stream",
     "text": [
      "[[0 1 2]\n",
      " [3 4 5]]\n"
     ]
    },
    {
     "data": {
      "text/plain": [
       "array([[0, 1, 2],\n",
       "       [3, 4, 5]])"
      ]
     },
     "execution_count": 37,
     "metadata": {},
     "output_type": "execute_result"
    }
   ],
   "source": [
    "c = np.array([[0,1,2] , [3,4,5]]) # 2차원 array\n",
    "print(c)\n",
    "c"
   ]
  },
  {
   "cell_type": "markdown",
   "id": "6487d979",
   "metadata": {},
   "source": [
    "2차원 배열의 행과 열의 개수는 다음처럼 구한다."
   ]
  },
  {
   "cell_type": "code",
   "execution_count": 39,
   "id": "c11186ed",
   "metadata": {},
   "outputs": [
    {
     "data": {
      "text/plain": [
       "2"
      ]
     },
     "execution_count": 39,
     "metadata": {},
     "output_type": "execute_result"
    }
   ],
   "source": [
    "#행의 개수 2차원 요소의 개수 (바깥 array의 객체의 개수)\n",
    "len(c)"
   ]
  },
  {
   "cell_type": "code",
   "execution_count": 41,
   "id": "dabb85eb",
   "metadata": {},
   "outputs": [
    {
     "name": "stdout",
     "output_type": "stream",
     "text": [
      "[0 1 2]\n"
     ]
    },
    {
     "data": {
      "text/plain": [
       "3"
      ]
     },
     "execution_count": 41,
     "metadata": {},
     "output_type": "execute_result"
    }
   ],
   "source": [
    "#열의 개수 1차원 요소의 개수 (안쪽 array의 객체의 개수)\n",
    "print(c[0])\n",
    "len(c[0])"
   ]
  },
  {
   "cell_type": "markdown",
   "id": "5246af2f",
   "metadata": {},
   "source": [
    "2차원 array 만들기"
   ]
  },
  {
   "cell_type": "code",
   "execution_count": 50,
   "id": "1703a536",
   "metadata": {},
   "outputs": [
    {
     "name": "stdout",
     "output_type": "stream",
     "text": [
      "[[10 20 30 40]\n",
      " [50 60 70 80]]\n"
     ]
    }
   ],
   "source": [
    "array = np.array([[10,20,30,40] , [50,60,70,80]])\n",
    "print(array)"
   ]
  },
  {
   "cell_type": "markdown",
   "id": "17d9cb25",
   "metadata": {},
   "source": [
    "3차원 array 만들기"
   ]
  },
  {
   "cell_type": "code",
   "execution_count": 415,
   "id": "4ad35a28",
   "metadata": {},
   "outputs": [
    {
     "name": "stdout",
     "output_type": "stream",
     "text": [
      "[[[ 1  2  3  4]\n",
      "  [ 5  6  7  8]\n",
      "  [ 9 10 11 12]]\n",
      "\n",
      " [[11 12 13 14]\n",
      "  [15 16 17 18]\n",
      "  [19 20 21 22]]]\n"
     ]
    }
   ],
   "source": [
    "d = np.array([[[1,2,3,4],\n",
    "              [5,6,7,8],\n",
    "              [9,10,11,12]],\n",
    "            [[11,12,13,14],\n",
    "            [15,16,17,18],\n",
    "            [19,20,21,22]]])\n",
    "print(d)"
   ]
  },
  {
   "cell_type": "code",
   "execution_count": 55,
   "id": "7cad1ce0",
   "metadata": {},
   "outputs": [
    {
     "data": {
      "text/plain": [
       "array([[[ 1,  2,  3,  4],\n",
       "        [ 5,  6,  7,  8],\n",
       "        [ 9, 10, 11, 12]],\n",
       "\n",
       "       [[11, 12, 13, 14],\n",
       "        [15, 16, 17, 18],\n",
       "        [19, 20, 21, 22]]])"
      ]
     },
     "execution_count": 55,
     "metadata": {},
     "output_type": "execute_result"
    }
   ],
   "source": [
    "d1 = [[1,2,3,4],\n",
    "     [5,6,7,8],\n",
    "     [9,10,11,12]]\n",
    "\n",
    "d2 = [[11,12,13,14],\n",
    "     [15,16,17,18],\n",
    "     [19,20,21,22]]\n",
    "\n",
    "d = np.array([d1,d2])\n",
    "\n",
    "d"
   ]
  },
  {
   "cell_type": "markdown",
   "id": "a5e0c153",
   "metadata": {},
   "source": [
    "3차원 배열길이 , 2차원 배열길이 , 1차원 배열길이"
   ]
  },
  {
   "cell_type": "code",
   "execution_count": 61,
   "id": "676d4825",
   "metadata": {},
   "outputs": [
    {
     "data": {
      "text/plain": [
       "(2, 3, 4)"
      ]
     },
     "execution_count": 61,
     "metadata": {},
     "output_type": "execute_result"
    }
   ],
   "source": [
    "len(d)  , len(d[1]) , len(d[0][0])"
   ]
  },
  {
   "cell_type": "markdown",
   "id": "9d91e817",
   "metadata": {},
   "source": [
    "배열의 차원 및 크기를 구하는 더 간단한 방법은 배열의 ndim속성과 shpae 속성을\n",
    "이용하는 것이다. \n",
    "##### ndim 속성은 배열의 차원  \n",
    "##### shape 속성은 배열의 크기를 반환한다. = (len)"
   ]
  },
  {
   "cell_type": "code",
   "execution_count": 62,
   "id": "b37cc9e4",
   "metadata": {},
   "outputs": [
    {
     "name": "stdout",
     "output_type": "stream",
     "text": [
      "[1 2 3]\n",
      "1\n",
      "(3,)\n"
     ]
    }
   ],
   "source": [
    "a = np.array([1,2,3])\n",
    "print(a)\n",
    "print(a.ndim)\n",
    "print(a.shape)"
   ]
  },
  {
   "cell_type": "code",
   "execution_count": 64,
   "id": "aeab11b8",
   "metadata": {},
   "outputs": [
    {
     "name": "stdout",
     "output_type": "stream",
     "text": [
      "[[0 1 2]\n",
      " [3 4 5]]\n",
      "2\n",
      "(2, 3)\n"
     ]
    }
   ],
   "source": [
    "c = np.array([[0,1,2] , [3,4,5]])\n",
    "print(c)\n",
    "print(c.ndim)\n",
    "print(c.shape)\n"
   ]
  },
  {
   "cell_type": "markdown",
   "id": "12c7d957",
   "metadata": {},
   "source": [
    "####  출력결과를 확인하면 3 , [2,3,4] 가 출력이 되는데\n",
    "####  3은 3차원 배열이라는 뜻이고 [2,3,4]는 4개의 객체를 갖고 있는 \n",
    "#### array 3개가 하나의 덩어리이고 그 덩어리가 2개가 있다는 뜻임."
   ]
  },
  {
   "cell_type": "code",
   "execution_count": 78,
   "id": "3542ff68",
   "metadata": {},
   "outputs": [
    {
     "name": "stdout",
     "output_type": "stream",
     "text": [
      "[[[ 1  2  3  4]\n",
      "  [ 5  6  7  8]\n",
      "  [ 9 10 11 12]]\n",
      "\n",
      " [[11 12 13 14]\n",
      "  [15 16 17 18]\n",
      "  [19 20 21 22]]]\n",
      "3\n",
      "(2, 3, 4)\n"
     ]
    }
   ],
   "source": [
    "d = np.array([[[1,2,3,4],\n",
    "              [5,6,7,8],\n",
    "              [9,10,11,12]],\n",
    "             [[11,12,13,14],\n",
    "             [15,16,17,18],\n",
    "             [19,20,21,22]]])\n",
    "print(d)\n",
    "print(d.ndim)\n",
    "print(d.shape)"
   ]
  },
  {
   "cell_type": "markdown",
   "id": "bea9df81",
   "metadata": {},
   "source": [
    "#### 다차원 배열일때 원하는 인스턴스를 가져오려면 리스트에서는 [][] 형태를 사용해야 한다.\n",
    "#### 하지만 array에서는 ,(콤마)로 구분하여 원하는 인스턴스를 가져올 수 있다."
   ]
  },
  {
   "cell_type": "code",
   "execution_count": 79,
   "id": "f3ae96a3",
   "metadata": {},
   "outputs": [
    {
     "data": {
      "text/plain": [
       "array([[0, 1, 2],\n",
       "       [3, 4, 5]])"
      ]
     },
     "execution_count": 79,
     "metadata": {},
     "output_type": "execute_result"
    }
   ],
   "source": [
    "a = np.array([[0,1,2] , [3,4,5]])\n",
    "a "
   ]
  },
  {
   "cell_type": "code",
   "execution_count": 80,
   "id": "04c00c99",
   "metadata": {
    "scrolled": false
   },
   "outputs": [
    {
     "data": {
      "text/plain": [
       "0"
      ]
     },
     "execution_count": 80,
     "metadata": {},
     "output_type": "execute_result"
    }
   ],
   "source": [
    "a[0,0]"
   ]
  },
  {
   "cell_type": "code",
   "execution_count": 81,
   "id": "46048572",
   "metadata": {},
   "outputs": [
    {
     "data": {
      "text/plain": [
       "1"
      ]
     },
     "execution_count": 81,
     "metadata": {},
     "output_type": "execute_result"
    }
   ],
   "source": [
    "a[0,1]"
   ]
  },
  {
   "cell_type": "markdown",
   "id": "0b248baf",
   "metadata": {},
   "source": [
    "## 배열 슬라이싱 "
   ]
  },
  {
   "cell_type": "code",
   "execution_count": 82,
   "id": "e1412be1",
   "metadata": {},
   "outputs": [
    {
     "data": {
      "text/plain": [
       "array([[0, 1, 2, 3],\n",
       "       [4, 5, 6, 7]])"
      ]
     },
     "execution_count": 82,
     "metadata": {},
     "output_type": "execute_result"
    }
   ],
   "source": [
    "a = np.array([[0,1,2,3],\n",
    "             [4,5,6,7]])\n",
    "a"
   ]
  },
  {
   "cell_type": "code",
   "execution_count": 83,
   "id": "d03be38f",
   "metadata": {},
   "outputs": [
    {
     "data": {
      "text/plain": [
       "array([0, 1, 2, 3])"
      ]
     },
     "execution_count": 83,
     "metadata": {},
     "output_type": "execute_result"
    }
   ],
   "source": [
    "a[0 , :] # 첫번째 행 전체"
   ]
  },
  {
   "cell_type": "code",
   "execution_count": 84,
   "id": "137e5309",
   "metadata": {},
   "outputs": [
    {
     "data": {
      "text/plain": [
       "array([1, 5])"
      ]
     },
     "execution_count": 84,
     "metadata": {},
     "output_type": "execute_result"
    }
   ],
   "source": [
    "a[: , 1] # 두번째 열 전체"
   ]
  },
  {
   "cell_type": "code",
   "execution_count": 85,
   "id": "53e79152",
   "metadata": {},
   "outputs": [
    {
     "data": {
      "text/plain": [
       "array([5, 6, 7])"
      ]
     },
     "execution_count": 85,
     "metadata": {},
     "output_type": "execute_result"
    }
   ],
   "source": [
    "a[1 , 1:] # 두번째 행에 두번째 열부터 끝까지"
   ]
  },
  {
   "cell_type": "code",
   "execution_count": 109,
   "id": "6b270de9",
   "metadata": {},
   "outputs": [
    {
     "data": {
      "text/plain": [
       "array([[0, 1],\n",
       "       [4, 5]])"
      ]
     },
     "execution_count": 109,
     "metadata": {},
     "output_type": "execute_result"
    }
   ],
   "source": [
    "a[:2 , :2] # 두번째 행까지 그리고 두번째 열까지"
   ]
  },
  {
   "cell_type": "code",
   "execution_count": 119,
   "id": "919177d2",
   "metadata": {},
   "outputs": [
    {
     "data": {
      "text/plain": [
       "array([[ 0,  1,  2,  3,  4],\n",
       "       [ 5,  6,  7,  8,  9],\n",
       "       [10, 11, 12, 13, 14]])"
      ]
     },
     "execution_count": 119,
     "metadata": {},
     "output_type": "execute_result"
    }
   ],
   "source": [
    "m = np.array([[0,1,2,3,4],\n",
    "             [5,6,7,8,9],\n",
    "             [10,11,12,13,14]])\n",
    "m"
   ]
  },
  {
   "cell_type": "code",
   "execution_count": 123,
   "id": "b57fdf52",
   "metadata": {},
   "outputs": [
    {
     "data": {
      "text/plain": [
       "7"
      ]
     },
     "execution_count": 123,
     "metadata": {},
     "output_type": "execute_result"
    }
   ],
   "source": [
    "m[1,2]"
   ]
  },
  {
   "cell_type": "code",
   "execution_count": 124,
   "id": "8c2529f4",
   "metadata": {},
   "outputs": [
    {
     "data": {
      "text/plain": [
       "12"
      ]
     },
     "execution_count": 124,
     "metadata": {},
     "output_type": "execute_result"
    }
   ],
   "source": [
    "m[2 , 2]"
   ]
  },
  {
   "cell_type": "code",
   "execution_count": 127,
   "id": "99d4b1a7",
   "metadata": {},
   "outputs": [
    {
     "data": {
      "text/plain": [
       "array([6, 7])"
      ]
     },
     "execution_count": 127,
     "metadata": {},
     "output_type": "execute_result"
    }
   ],
   "source": [
    "m[1 , 1:3]"
   ]
  },
  {
   "cell_type": "code",
   "execution_count": 140,
   "id": "ecd2f336",
   "metadata": {},
   "outputs": [
    {
     "data": {
      "text/plain": [
       "array([[3, 4],\n",
       "       [8, 9]])"
      ]
     },
     "execution_count": 140,
     "metadata": {},
     "output_type": "execute_result"
    }
   ],
   "source": [
    "m[:2 ,-2:]"
   ]
  },
  {
   "cell_type": "markdown",
   "id": "36233b48",
   "metadata": {},
   "source": [
    "np.array로 정수가 담겨진 array와 bool 연산이 담겨진 array를 작성하고 \n",
    "a[ldx]라는 표현을 사용하게 되면 bool연산 array에서 True로 지정해진 \n",
    "인덱스의 위치한 \"a\" array의 정수가 출력이 된다."
   ]
  },
  {
   "cell_type": "code",
   "execution_count": 142,
   "id": "b88ad314",
   "metadata": {},
   "outputs": [
    {
     "data": {
      "text/plain": [
       "array([0, 2, 4])"
      ]
     },
     "execution_count": 142,
     "metadata": {},
     "output_type": "execute_result"
    }
   ],
   "source": [
    "a = np.array([0,1,2,3,4,5])\n",
    "ldx = np.array([True , False , True ,False , True , False])\n",
    "a[ldx]"
   ]
  },
  {
   "cell_type": "code",
   "execution_count": 143,
   "id": "ec292588",
   "metadata": {},
   "outputs": [
    {
     "data": {
      "text/plain": [
       "array([0, 2])"
      ]
     },
     "execution_count": 143,
     "metadata": {},
     "output_type": "execute_result"
    }
   ],
   "source": [
    "np.array([0,1,2])[np.array([True , False , True])]"
   ]
  },
  {
   "cell_type": "markdown",
   "id": "1e85cfd3",
   "metadata": {},
   "source": [
    "간단한 연산 a % 2 나머지를 출력"
   ]
  },
  {
   "cell_type": "code",
   "execution_count": 144,
   "id": "852867f4",
   "metadata": {},
   "outputs": [
    {
     "name": "stdout",
     "output_type": "stream",
     "text": [
      "[0 1 2 3 4 5]\n"
     ]
    },
    {
     "data": {
      "text/plain": [
       "array([0, 1, 0, 1, 0, 1])"
      ]
     },
     "execution_count": 144,
     "metadata": {},
     "output_type": "execute_result"
    }
   ],
   "source": [
    "print(a)\n",
    "a % 2"
   ]
  },
  {
   "cell_type": "markdown",
   "id": "2781573c",
   "metadata": {},
   "source": [
    "연산이 성립하면 True , 아님 False"
   ]
  },
  {
   "cell_type": "code",
   "execution_count": 148,
   "id": "9e13ea2d",
   "metadata": {},
   "outputs": [
    {
     "data": {
      "text/plain": [
       "array([ True, False,  True, False,  True, False])"
      ]
     },
     "execution_count": 148,
     "metadata": {},
     "output_type": "execute_result"
    }
   ],
   "source": [
    "a % 2 == 0"
   ]
  },
  {
   "cell_type": "markdown",
   "id": "4aca10bd",
   "metadata": {},
   "source": [
    "연산이 성립하는 인스턴스만 출력"
   ]
  },
  {
   "cell_type": "code",
   "execution_count": 147,
   "id": "9dfd36ab",
   "metadata": {},
   "outputs": [
    {
     "data": {
      "text/plain": [
       "array([0, 2, 4])"
      ]
     },
     "execution_count": 147,
     "metadata": {},
     "output_type": "execute_result"
    }
   ],
   "source": [
    "a[a% 2 == 0]"
   ]
  },
  {
   "cell_type": "markdown",
   "id": "f695e664",
   "metadata": {},
   "source": [
    "### 위와 같이 numpy 모듈은 굳이 반복문이나 조건물을 일일이\n",
    "### 작성해줄 필요없이 한줄 작성으로도 표현이 가능하다."
   ]
  },
  {
   "cell_type": "markdown",
   "id": "7882994c",
   "metadata": {},
   "source": [
    "ldx를 a에 대입시키면 해당되는 인덱스의 값들이 출력된다."
   ]
  },
  {
   "cell_type": "code",
   "execution_count": 150,
   "id": "d53a6030",
   "metadata": {},
   "outputs": [
    {
     "data": {
      "text/plain": [
       "array([11, 33, 55, 77, 99])"
      ]
     },
     "execution_count": 150,
     "metadata": {},
     "output_type": "execute_result"
    }
   ],
   "source": [
    "a = np.array([11,22,33,44,55,66,77,88,99])\n",
    "ldx = np.array([0 , 2, 4, 6, 8])\n",
    "a[ldx]"
   ]
  },
  {
   "cell_type": "markdown",
   "id": "7a0476fe",
   "metadata": {},
   "source": [
    "a.array에 크기에 상관없이 해당되는 인덱스의 값을 출력"
   ]
  },
  {
   "cell_type": "code",
   "execution_count": 153,
   "id": "26fa6660",
   "metadata": {},
   "outputs": [
    {
     "data": {
      "text/plain": [
       "array([11, 11, 11, 11, 22, 22, 22, 22, 22, 33, 33, 33, 33])"
      ]
     },
     "execution_count": 153,
     "metadata": {},
     "output_type": "execute_result"
    }
   ],
   "source": [
    "ldx = np.array([0,0,0,0,1,1,1,1,1,2,2,2,2])\n",
    "a[ldx]"
   ]
  },
  {
   "cell_type": "code",
   "execution_count": 417,
   "id": "5e90d6cd",
   "metadata": {},
   "outputs": [
    {
     "data": {
      "text/plain": [
       "array([[ 1,  2,  3,  4],\n",
       "       [ 5,  6,  7,  8],\n",
       "       [ 9, 10, 11, 12]])"
      ]
     },
     "execution_count": 417,
     "metadata": {},
     "output_type": "execute_result"
    }
   ],
   "source": [
    "a = np.array([[1,2,3,4],\n",
    "             [5,6,7,8],\n",
    "             [9,10,11,12]])\n",
    "a\n"
   ]
  },
  {
   "cell_type": "markdown",
   "id": "37448266",
   "metadata": {},
   "source": [
    "#### 슬라이싱을 이용한 2차원 array 내에서 원하는 값 출력"
   ]
  },
  {
   "cell_type": "code",
   "execution_count": 159,
   "id": "26ab133c",
   "metadata": {},
   "outputs": [
    {
     "data": {
      "text/plain": [
       "array([[ 1,  4],\n",
       "       [ 5,  8],\n",
       "       [ 9, 12]])"
      ]
     },
     "execution_count": 159,
     "metadata": {},
     "output_type": "execute_result"
    }
   ],
   "source": [
    "a[: , [True , False , False , True]]\n"
   ]
  },
  {
   "cell_type": "markdown",
   "id": "683fb50e",
   "metadata": {},
   "source": [
    "#### 행의 순서 바꾸기"
   ]
  },
  {
   "cell_type": "code",
   "execution_count": 419,
   "id": "6a49990c",
   "metadata": {},
   "outputs": [
    {
     "data": {
      "text/plain": [
       "array([[ 9, 10, 11, 12],\n",
       "       [ 1,  2,  3,  4],\n",
       "       [ 5,  6,  7,  8]])"
      ]
     },
     "execution_count": 419,
     "metadata": {},
     "output_type": "execute_result"
    }
   ],
   "source": [
    "a[: , [2,0,1]] # 인스턴스들의 인덱스가 변경 ex) 1,2,3 = 3 , 1, 2\n",
    "a[[2,0,1] , :] # 행의 위치가 변경 "
   ]
  },
  {
   "cell_type": "markdown",
   "id": "d1798a8b",
   "metadata": {},
   "source": [
    "#### r변수에 range로 값을 저장하고 \n",
    "#### x변수에 np.array를 이용해 array로 저장\n"
   ]
  },
  {
   "cell_type": "code",
   "execution_count": 164,
   "id": "5bed1bbc",
   "metadata": {},
   "outputs": [
    {
     "data": {
      "text/plain": [
       "array([ 1,  2,  3,  4,  5,  6,  7,  8,  9, 10, 11, 12, 13, 14, 15, 16, 17,\n",
       "       18, 19, 20])"
      ]
     },
     "execution_count": 164,
     "metadata": {},
     "output_type": "execute_result"
    }
   ],
   "source": [
    "r = range(1 , 21)\n",
    "x = np.array(r)\n",
    "x"
   ]
  },
  {
   "cell_type": "markdown",
   "id": "63ba5802",
   "metadata": {},
   "source": [
    "#### 3의 배수를 찾기 , 간단하게 연산을 array연산을 이용해서 표현"
   ]
  },
  {
   "cell_type": "code",
   "execution_count": 168,
   "id": "46f5288d",
   "metadata": {},
   "outputs": [
    {
     "data": {
      "text/plain": [
       "array([ 3,  6,  9, 12, 15, 18])"
      ]
     },
     "execution_count": 168,
     "metadata": {},
     "output_type": "execute_result"
    }
   ],
   "source": [
    "x[x % 3 == 0]"
   ]
  },
  {
   "cell_type": "markdown",
   "id": "7ef76a08",
   "metadata": {},
   "source": [
    "#### 4로 나누면 1이 남는수"
   ]
  },
  {
   "cell_type": "code",
   "execution_count": 170,
   "id": "f993cd92",
   "metadata": {},
   "outputs": [
    {
     "data": {
      "text/plain": [
       "array([ 1,  5,  9, 13, 17])"
      ]
     },
     "execution_count": 170,
     "metadata": {},
     "output_type": "execute_result"
    }
   ],
   "source": [
    "x[x % 4 == 1]"
   ]
  },
  {
   "cell_type": "markdown",
   "id": "70c9320d",
   "metadata": {},
   "source": [
    "#### 3으로 나누어지고 4로 나누면 1이 남는수\n",
    "#### 간단하게 & 연산을 이용해서 표현했다."
   ]
  },
  {
   "cell_type": "code",
   "execution_count": 173,
   "id": "5d22348f",
   "metadata": {},
   "outputs": [
    {
     "data": {
      "text/plain": [
       "array([9])"
      ]
     },
     "execution_count": 173,
     "metadata": {},
     "output_type": "execute_result"
    }
   ],
   "source": [
    "x[(x % 3 == 0)&(x % 4 == 1)]"
   ]
  },
  {
   "cell_type": "markdown",
   "id": "4113329a",
   "metadata": {},
   "source": [
    "array명령으로 배열을 만들때 자료형을 명시적으로 작용하려면 dtype 인수를 사용한다.\n",
    "만약 dtype인수가 없으면 주어진 데이터를 지정할 수 있는 자료형을 스스로유추한다.\n",
    "만들어진 배열의 자료형을 보려면 dtype속성을 본다."
   ]
  },
  {
   "cell_type": "code",
   "execution_count": 175,
   "id": "3747b085",
   "metadata": {},
   "outputs": [
    {
     "name": "stdout",
     "output_type": "stream",
     "text": [
      "[1 2 3]\n"
     ]
    },
    {
     "data": {
      "text/plain": [
       "dtype('int64')"
      ]
     },
     "execution_count": 175,
     "metadata": {},
     "output_type": "execute_result"
    }
   ],
   "source": [
    "import numpy as np\n",
    "\n",
    "x = np.array([1,2,3])\n",
    "print(x)\n",
    "x.dtype"
   ]
  },
  {
   "cell_type": "code",
   "execution_count": 177,
   "id": "37379ce4",
   "metadata": {},
   "outputs": [
    {
     "data": {
      "text/plain": [
       "dtype('float64')"
      ]
     },
     "execution_count": 177,
     "metadata": {},
     "output_type": "execute_result"
    }
   ],
   "source": [
    "x = np.array([1.0 , 2.0 ,3.0])\n",
    "x.dtype"
   ]
  },
  {
   "cell_type": "code",
   "execution_count": 178,
   "id": "8416a4b5",
   "metadata": {},
   "outputs": [
    {
     "name": "stdout",
     "output_type": "stream",
     "text": [
      "[1. 2. 3.]\n"
     ]
    },
    {
     "data": {
      "text/plain": [
       "dtype('float64')"
      ]
     },
     "execution_count": 178,
     "metadata": {},
     "output_type": "execute_result"
    }
   ],
   "source": [
    "x = np.array([1,2,3.0])\n",
    "print(x)\n",
    "x.dtype"
   ]
  },
  {
   "cell_type": "code",
   "execution_count": 181,
   "id": "2f057e87",
   "metadata": {},
   "outputs": [
    {
     "data": {
      "text/plain": [
       "dtype('float32')"
      ]
     },
     "execution_count": 181,
     "metadata": {},
     "output_type": "execute_result"
    }
   ],
   "source": [
    "x = np.array([1,2,3] , dtype=\"f\") #dtype접두사를 후미에 장착\n",
    "x.dtype"
   ]
  },
  {
   "cell_type": "code",
   "execution_count": 183,
   "id": "5fd43b4a",
   "metadata": {},
   "outputs": [
    {
     "data": {
      "text/plain": [
       "3.0"
      ]
     },
     "execution_count": 183,
     "metadata": {},
     "output_type": "execute_result"
    }
   ],
   "source": [
    "x[0] + x[1]"
   ]
  },
  {
   "cell_type": "code",
   "execution_count": 187,
   "id": "d8031942",
   "metadata": {},
   "outputs": [
    {
     "data": {
      "text/plain": [
       "(dtype('<U1'), array(['1', '2', '3'], dtype='<U1'))"
      ]
     },
     "execution_count": 187,
     "metadata": {},
     "output_type": "execute_result"
    }
   ],
   "source": [
    "x = np.array([1,2,3] , dtype = \"U\") #Unicode = 문자로표현\n",
    "x.dtype , x    # 하단에 출력결과를 보면 문자열로 변형된 형태를 확인가능"
   ]
  },
  {
   "cell_type": "code",
   "execution_count": 188,
   "id": "ad37a21e",
   "metadata": {},
   "outputs": [
    {
     "data": {
      "text/plain": [
       "'12'"
      ]
     },
     "execution_count": 188,
     "metadata": {},
     "output_type": "execute_result"
    }
   ],
   "source": [
    "x[0] + x[1] # 문자열"
   ]
  },
  {
   "cell_type": "code",
   "execution_count": 190,
   "id": "f44d4c5a",
   "metadata": {},
   "outputs": [
    {
     "name": "stderr",
     "output_type": "stream",
     "text": [
      "<ipython-input-190-720e9e2d83ea>:1: RuntimeWarning: divide by zero encountered in true_divide\n",
      "  np.array([0,1,-1,0]) / np.array([1,0,0,0])\n",
      "<ipython-input-190-720e9e2d83ea>:1: RuntimeWarning: invalid value encountered in true_divide\n",
      "  np.array([0,1,-1,0]) / np.array([1,0,0,0])\n"
     ]
    },
    {
     "data": {
      "text/plain": [
       "array([  0.,  inf, -inf,  nan])"
      ]
     },
     "execution_count": 190,
     "metadata": {},
     "output_type": "execute_result"
    }
   ],
   "source": [
    "np.array([0,1,-1,0]) / np.array([1,0,0,0])"
   ]
  },
  {
   "cell_type": "code",
   "execution_count": 192,
   "id": "37b79e11",
   "metadata": {},
   "outputs": [
    {
     "name": "stderr",
     "output_type": "stream",
     "text": [
      "<ipython-input-192-f6e7c0610b57>:1: RuntimeWarning: divide by zero encountered in log\n",
      "  np.log(0)\n"
     ]
    },
    {
     "data": {
      "text/plain": [
       "-inf"
      ]
     },
     "execution_count": 192,
     "metadata": {},
     "output_type": "execute_result"
    }
   ],
   "source": [
    "np.log(0)  # 밑수가 1인 로그함수"
   ]
  },
  {
   "cell_type": "code",
   "execution_count": 196,
   "id": "4890922f",
   "metadata": {},
   "outputs": [
    {
     "data": {
      "text/plain": [
       "0.0"
      ]
     },
     "execution_count": 196,
     "metadata": {},
     "output_type": "execute_result"
    }
   ],
   "source": [
    "np.exp(-np.inf)"
   ]
  },
  {
   "cell_type": "code",
   "execution_count": 420,
   "id": "9b749828",
   "metadata": {},
   "outputs": [
    {
     "data": {
      "text/plain": [
       "2.718281828459045"
      ]
     },
     "execution_count": 420,
     "metadata": {},
     "output_type": "execute_result"
    }
   ],
   "source": [
    "np.exp(1) # 지수함수의 e값과 동일 (잘으 모르겠지만....)"
   ]
  },
  {
   "cell_type": "code",
   "execution_count": 198,
   "id": "8826941c",
   "metadata": {},
   "outputs": [],
   "source": [
    "import numpy as np"
   ]
  },
  {
   "cell_type": "markdown",
   "id": "705255b1",
   "metadata": {},
   "source": [
    "tensorflow에서 빈 array를 만들어 주는 방법은 하단과 같다.\n",
    "()안에 수만큼 빈 array객체 생성"
   ]
  },
  {
   "cell_type": "code",
   "execution_count": 201,
   "id": "6a9a9a65",
   "metadata": {},
   "outputs": [
    {
     "data": {
      "text/plain": [
       "array([0., 0., 0., 0., 0.])"
      ]
     },
     "execution_count": 201,
     "metadata": {},
     "output_type": "execute_result"
    }
   ],
   "source": [
    "a = np.zeros(5)\n",
    "a"
   ]
  },
  {
   "cell_type": "markdown",
   "id": "a11b83ac",
   "metadata": {},
   "source": [
    "(2,3)을 작성해주면 다차원 배열이 만들어 진다.\n",
    "(3개의 인스턴스를 보유한 array 2개 = 2차원 리스트)"
   ]
  },
  {
   "cell_type": "code",
   "execution_count": 202,
   "id": "05ffd72e",
   "metadata": {},
   "outputs": [
    {
     "data": {
      "text/plain": [
       "array([[0., 0., 0.],\n",
       "       [0., 0., 0.]])"
      ]
     },
     "execution_count": 202,
     "metadata": {},
     "output_type": "execute_result"
    }
   ],
   "source": [
    "b = np.zeros((2,3))\n",
    "b\n"
   ]
  },
  {
   "cell_type": "markdown",
   "id": "81856699",
   "metadata": {},
   "source": [
    "dtype인수를 후미에 명시하면 해당 자료형 원소를 가진 배열을 만든다."
   ]
  },
  {
   "cell_type": "code",
   "execution_count": 204,
   "id": "af3f9123",
   "metadata": {},
   "outputs": [
    {
     "data": {
      "text/plain": [
       "array([[0, 0],\n",
       "       [0, 0],\n",
       "       [0, 0],\n",
       "       [0, 0],\n",
       "       [0, 0]], dtype=int32)"
      ]
     },
     "execution_count": 204,
     "metadata": {},
     "output_type": "execute_result"
    }
   ],
   "source": [
    "c = np.zeros((5,2) , dtype = \"i\")\n",
    "c"
   ]
  },
  {
   "cell_type": "markdown",
   "id": "6b5df4de",
   "metadata": {},
   "source": [
    "dtype로 형태를 문자열로 변환해주고 배열에 인스턴스로 지정해준다."
   ]
  },
  {
   "cell_type": "code",
   "execution_count": 205,
   "id": "84455806",
   "metadata": {},
   "outputs": [
    {
     "data": {
      "text/plain": [
       "array(['', '', '', '', ''], dtype='<U4')"
      ]
     },
     "execution_count": 205,
     "metadata": {},
     "output_type": "execute_result"
    }
   ],
   "source": [
    "d = np.zeros(5 , dtype = \"U4\") # unicode 4글자\n",
    "d    # 4글자인 이유는 단순히 U4이기 때문 U3을 하면 3글자"
   ]
  },
  {
   "cell_type": "code",
   "execution_count": 206,
   "id": "444eef90",
   "metadata": {},
   "outputs": [
    {
     "data": {
      "text/plain": [
       "array(['abc', 'abcd', 'ABCD', '', ''], dtype='<U4')"
      ]
     },
     "execution_count": 206,
     "metadata": {},
     "output_type": "execute_result"
    }
   ],
   "source": [
    "d[0] = \"abc\"\n",
    "d[1] = \"abcd\"\n",
    "d[2] = \"ABCDE\"\n",
    "d"
   ]
  },
  {
   "cell_type": "markdown",
   "id": "a8484517",
   "metadata": {},
   "source": [
    "0이 아닌 1로 초기화된 배열을 생성하려면 ones명령을 사용한다.\n",
    "\n",
    "4개의 객체를 가진 배열3개를 한 묶음으로 2개 출력"
   ]
  },
  {
   "cell_type": "code",
   "execution_count": 207,
   "id": "893c69e8",
   "metadata": {},
   "outputs": [
    {
     "data": {
      "text/plain": [
       "array([[[1, 1, 1, 1],\n",
       "        [1, 1, 1, 1],\n",
       "        [1, 1, 1, 1]],\n",
       "\n",
       "       [[1, 1, 1, 1],\n",
       "        [1, 1, 1, 1],\n",
       "        [1, 1, 1, 1]]])"
      ]
     },
     "execution_count": 207,
     "metadata": {},
     "output_type": "execute_result"
    }
   ],
   "source": [
    "e = np.ones((2,3,4) , dtype = \"i8\")\n",
    "e"
   ]
  },
  {
   "cell_type": "markdown",
   "id": "24ff47ec",
   "metadata": {},
   "source": [
    "e와 같은 형식으로 출력을 하지만 f형태로 출력"
   ]
  },
  {
   "cell_type": "code",
   "execution_count": 208,
   "id": "262eb9c5",
   "metadata": {},
   "outputs": [
    {
     "data": {
      "text/plain": [
       "array([[[1., 1., 1., 1.],\n",
       "        [1., 1., 1., 1.],\n",
       "        [1., 1., 1., 1.]],\n",
       "\n",
       "       [[1., 1., 1., 1.],\n",
       "        [1., 1., 1., 1.],\n",
       "        [1., 1., 1., 1.]]], dtype=float32)"
      ]
     },
     "execution_count": 208,
     "metadata": {},
     "output_type": "execute_result"
    }
   ],
   "source": [
    "f = np.ones_like(e , dtype = \"f\")\n",
    "f"
   ]
  },
  {
   "cell_type": "markdown",
   "id": "f72a1cad",
   "metadata": {},
   "source": [
    "e == ones인데 f1은 zeros로 지정을 해주고 형태는 e와 같은 형태로 출력"
   ]
  },
  {
   "cell_type": "code",
   "execution_count": 209,
   "id": "057ce155",
   "metadata": {},
   "outputs": [
    {
     "data": {
      "text/plain": [
       "array([[[0, 0, 0, 0],\n",
       "        [0, 0, 0, 0],\n",
       "        [0, 0, 0, 0]],\n",
       "\n",
       "       [[0, 0, 0, 0],\n",
       "        [0, 0, 0, 0],\n",
       "        [0, 0, 0, 0]]])"
      ]
     },
     "execution_count": 209,
     "metadata": {},
     "output_type": "execute_result"
    }
   ],
   "source": [
    "f1 = np.zeros_like(e)\n",
    "f1"
   ]
  },
  {
   "cell_type": "markdown",
   "id": "92916151",
   "metadata": {},
   "source": [
    "배열의 크기가 커지면 배열을 초기화하는데도 시간이 걸린다. 이 시간을 단축하려면 \n",
    "배열을 생성만 하고 특정한 값으로 초기화를 하지 않는 empty 명령을 사용할 수 있다.\n",
    "\n",
    "오버플로우 = 내가 사용하는 영역을 초과한다."
   ]
  },
  {
   "cell_type": "code",
   "execution_count": 210,
   "id": "62eadf5e",
   "metadata": {},
   "outputs": [
    {
     "data": {
      "text/plain": [
       "array([[0.0078125, 0.0078125, 0.0078125],\n",
       "       [0.0078125, 0.0078125, 0.0078125],\n",
       "       [0.0078125, 0.0078125, 0.0078125],\n",
       "       [0.0078125, 0.0078125, 0.0078125]])"
      ]
     },
     "execution_count": 210,
     "metadata": {},
     "output_type": "execute_result"
    }
   ],
   "source": [
    "g = np.empty((4,3))\n",
    "g"
   ]
  },
  {
   "cell_type": "code",
   "execution_count": 421,
   "id": "56de1cc8",
   "metadata": {},
   "outputs": [
    {
     "name": "stderr",
     "output_type": "stream",
     "text": [
      "UsageError: Can't use statement directly after '%%time'!\n"
     ]
    }
   ],
   "source": [
    "%%time # <= 해당 셀이 실행되는 속도를 출력해준다.\n",
    "h = np.empty((10000 , 10000))"
   ]
  },
  {
   "cell_type": "code",
   "execution_count": 222,
   "id": "61ac633f",
   "metadata": {},
   "outputs": [
    {
     "name": "stdout",
     "output_type": "stream",
     "text": [
      "CPU times: user 31.8 ms, sys: 76.1 ms, total: 108 ms\n",
      "Wall time: 128 ms\n"
     ]
    }
   ],
   "source": [
    "%%time \n",
    "m = np.ones((10000,10000))"
   ]
  },
  {
   "cell_type": "code",
   "execution_count": 219,
   "id": "a739b180",
   "metadata": {},
   "outputs": [
    {
     "name": "stdout",
     "output_type": "stream",
     "text": [
      "CPU times: user 423 µs, sys: 29.9 ms, total: 30.3 ms\n",
      "Wall time: 31.1 ms\n"
     ]
    }
   ],
   "source": [
    "%%time \n",
    "m = np.zeros((10000 , 10000))"
   ]
  },
  {
   "cell_type": "markdown",
   "id": "e3c780bb",
   "metadata": {},
   "source": [
    "arange 명령은 numpy버전의 range명령이라고 볼 수 있다. 특정한 규칙에 따라 증가하는 \n",
    "수열을 만든다."
   ]
  },
  {
   "cell_type": "code",
   "execution_count": 236,
   "id": "abcc965f",
   "metadata": {},
   "outputs": [
    {
     "data": {
      "text/plain": [
       "array([0, 1, 2, 3, 4, 5, 6, 7, 8, 9])"
      ]
     },
     "execution_count": 236,
     "metadata": {},
     "output_type": "execute_result"
    }
   ],
   "source": [
    "np.arange(10)"
   ]
  },
  {
   "cell_type": "code",
   "execution_count": 237,
   "id": "ae379ecb",
   "metadata": {},
   "outputs": [
    {
     "data": {
      "text/plain": [
       "array([ 3,  5,  7,  9, 11, 13, 15, 17, 19])"
      ]
     },
     "execution_count": 237,
     "metadata": {},
     "output_type": "execute_result"
    }
   ],
   "source": [
    "np.arange(3 ,21 , 2)"
   ]
  },
  {
   "cell_type": "code",
   "execution_count": 247,
   "id": "33085752",
   "metadata": {},
   "outputs": [
    {
     "data": {
      "text/plain": [
       "array([[-10,  -8,  -6,  -4,  -2,   0,   2,   4,   6,   8,  10]])"
      ]
     },
     "execution_count": 247,
     "metadata": {},
     "output_type": "execute_result"
    }
   ],
   "source": [
    "np.array([np.arange(-10 , 12 , 2)])\n"
   ]
  },
  {
   "cell_type": "code",
   "execution_count": 250,
   "id": "e397f0e2",
   "metadata": {},
   "outputs": [
    {
     "data": {
      "text/plain": [
       "array([[ 7,  4,  1, -2, -5, -8]])"
      ]
     },
     "execution_count": 250,
     "metadata": {},
     "output_type": "execute_result"
    }
   ],
   "source": [
    "np.array([np.arange(7 , -9 , -3)])"
   ]
  },
  {
   "cell_type": "code",
   "execution_count": 245,
   "id": "fc03e79a",
   "metadata": {},
   "outputs": [
    {
     "data": {
      "text/plain": [
       "array([ 1.7,  3.2,  4.7,  6.2,  7.7,  9.2, 10.7])"
      ]
     },
     "execution_count": 245,
     "metadata": {},
     "output_type": "execute_result"
    }
   ],
   "source": [
    "np.arange(1.7 , 10.8 , 1.5)"
   ]
  },
  {
   "cell_type": "code",
   "execution_count": 424,
   "id": "0bb1f78c",
   "metadata": {},
   "outputs": [
    {
     "data": {
      "text/plain": [
       "array([  0.,  25.,  50.,  75., 100.])"
      ]
     },
     "execution_count": 424,
     "metadata": {},
     "output_type": "execute_result"
    }
   ],
   "source": [
    "np.linspace(0, 100, 5) # 시작 , 끝(포함) , 갯수\n",
    "# 출력결과를 보면 마지막 숫자를 총 5개로 나누었다."
   ]
  },
  {
   "cell_type": "code",
   "execution_count": 253,
   "id": "4622aae4",
   "metadata": {},
   "outputs": [
    {
     "data": {
      "text/plain": [
       "array([0., 1., 2., 3., 4., 5., 6., 7., 8., 9.])"
      ]
     },
     "execution_count": 253,
     "metadata": {},
     "output_type": "execute_result"
    }
   ],
   "source": [
    "np.linspace(0,10,10, endpoint = False)  #endpoint = False or True\n",
    "# endpoint는 마지막수를 포함하지 않고 출력하라는 의미"
   ]
  },
  {
   "cell_type": "code",
   "execution_count": 254,
   "id": "1501f6b6",
   "metadata": {},
   "outputs": [
    {
     "data": {
      "text/plain": [
       "array([ 0.        ,  1.11111111,  2.22222222,  3.33333333,  4.44444444,\n",
       "        5.55555556,  6.66666667,  7.77777778,  8.88888889, 10.        ])"
      ]
     },
     "execution_count": 254,
     "metadata": {},
     "output_type": "execute_result"
    }
   ],
   "source": [
    "np.linspace(0,10,10, endpoint = True) # 0,10 포함 10개 구간으로"
   ]
  },
  {
   "cell_type": "code",
   "execution_count": 255,
   "id": "8ec580f3",
   "metadata": {},
   "outputs": [
    {
     "data": {
      "text/plain": [
       "array([], dtype=float64)"
      ]
     },
     "execution_count": 255,
     "metadata": {},
     "output_type": "execute_result"
    }
   ],
   "source": [
    "np.linspace(0,10,0)  # endpoint가 생략되면 endpoint=True(default)"
   ]
  },
  {
   "cell_type": "code",
   "execution_count": 256,
   "id": "d7b80aa5",
   "metadata": {},
   "outputs": [
    {
     "data": {
      "text/plain": [
       "array([ 1.,  2.,  3.,  4.,  5.,  6.,  7.,  8.,  9., 10., 11., 12., 13.,\n",
       "       14., 15., 16., 17., 18., 19., 20., 21., 22., 23., 24., 25., 26.,\n",
       "       27., 28., 29., 30., 31., 32., 33., 34., 35., 36., 37., 38., 39.,\n",
       "       40., 41., 42., 43., 44., 45., 46., 47., 48., 49., 50.])"
      ]
     },
     "execution_count": 256,
     "metadata": {},
     "output_type": "execute_result"
    }
   ],
   "source": [
    "np.linspace(1,50) # 갯수 생략시 50개"
   ]
  },
  {
   "cell_type": "markdown",
   "id": "c1b708fa",
   "metadata": {},
   "source": [
    "로그는 10의 제곱을 나타내주는 것 같다."
   ]
  },
  {
   "cell_type": "code",
   "execution_count": 257,
   "id": "fcd3182e",
   "metadata": {},
   "outputs": [
    {
     "data": {
      "text/plain": [
       "array([   10.,   100.,  1000., 10000.])"
      ]
     },
     "execution_count": 257,
     "metadata": {},
     "output_type": "execute_result"
    }
   ],
   "source": [
    "np.logspace(1,4,4) # 10 ** 1 , 10 ** 2 , 10 ** 3"
   ]
  },
  {
   "cell_type": "code",
   "execution_count": 258,
   "id": "47358437",
   "metadata": {},
   "outputs": [
    {
     "data": {
      "text/plain": [
       "array([0.1, 0.2, 0.3, 0.4, 0.5, 0.6, 0.7, 0.8, 0.9, 1. ])"
      ]
     },
     "execution_count": 258,
     "metadata": {},
     "output_type": "execute_result"
    }
   ],
   "source": [
    "np.linspace(0.1 , 1.0 , num = 10)"
   ]
  },
  {
   "cell_type": "code",
   "execution_count": 259,
   "id": "76b7d072",
   "metadata": {},
   "outputs": [
    {
     "data": {
      "text/plain": [
       "array([ 1.25892541,  1.58489319,  1.99526231,  2.51188643,  3.16227766,\n",
       "        3.98107171,  5.01187234,  6.30957344,  7.94328235, 10.        ])"
      ]
     },
     "execution_count": 259,
     "metadata": {},
     "output_type": "execute_result"
    }
   ],
   "source": [
    "np.logspace(0.1 , 1.0 , num = 10) # 10 ** 0.1 , 10 ** 0.2 이런식으로 연산을 한 값을 출력하는것이다."
   ]
  },
  {
   "cell_type": "code",
   "execution_count": 260,
   "id": "ec148dc7",
   "metadata": {},
   "outputs": [
    {
     "data": {
      "text/plain": [
       "(1.2589254117941673,\n",
       " 1.5848931924611136,\n",
       " 1.9952623149688795,\n",
       " 2.51188643150958,\n",
       " 3.1622776601683795)"
      ]
     },
     "execution_count": 260,
     "metadata": {},
     "output_type": "execute_result"
    }
   ],
   "source": [
    "10 ** 0.1  , 10 ** 0.2 , 10 ** 0.3 , 10 ** 0.4 , 10 ** 0.5"
   ]
  },
  {
   "cell_type": "code",
   "execution_count": 261,
   "id": "7dded4cb",
   "metadata": {},
   "outputs": [
    {
     "data": {
      "text/plain": [
       "array([  1.25892541,   1.58489319,   1.99526231,   2.51188643,\n",
       "         3.16227766,   3.98107171,   5.01187234,   6.30957344,\n",
       "         7.94328235,  10.        ,  12.58925412,  15.84893192,\n",
       "        19.95262315,  25.11886432,  31.6227766 ,  39.81071706,\n",
       "        50.11872336,  63.09573445,  79.43282347, 100.        ])"
      ]
     },
     "execution_count": 261,
     "metadata": {},
     "output_type": "execute_result"
    }
   ],
   "source": [
    "10**np.linspace(0.1 , 2.0 , 20)"
   ]
  },
  {
   "cell_type": "code",
   "execution_count": 262,
   "id": "cb309458",
   "metadata": {},
   "outputs": [
    {
     "data": {
      "text/plain": [
       "array([  1.25892541,   1.58489319,   1.99526231,   2.51188643,\n",
       "         3.16227766,   3.98107171,   5.01187234,   6.30957344,\n",
       "         7.94328235,  10.        ,  12.58925412,  15.84893192,\n",
       "        19.95262315,  25.11886432,  31.6227766 ,  39.81071706,\n",
       "        50.11872336,  63.09573445,  79.43282347, 100.        ])"
      ]
     },
     "execution_count": 262,
     "metadata": {},
     "output_type": "execute_result"
    }
   ],
   "source": [
    "np.logspace(0.1 , 2.0 , 20)"
   ]
  },
  {
   "cell_type": "markdown",
   "id": "5cbc9785",
   "metadata": {},
   "source": [
    "2차원 배열의 전치 연산은 행과 열을 바꾸는 작업 (T속성으로 구할 수 있다.)\n",
    "메서드가 아닌 속성이라는 점에 유의한다."
   ]
  },
  {
   "cell_type": "code",
   "execution_count": 264,
   "id": "8982c2dc",
   "metadata": {},
   "outputs": [
    {
     "data": {
      "text/plain": [
       "(array([[1, 2, 3],\n",
       "        [4, 5, 6]]),\n",
       " (2, 3))"
      ]
     },
     "execution_count": 264,
     "metadata": {},
     "output_type": "execute_result"
    }
   ],
   "source": [
    "A = np.array([[1,2,3] , [4,5,6]])\n",
    "A , A.shape"
   ]
  },
  {
   "cell_type": "code",
   "execution_count": 265,
   "id": "922807a2",
   "metadata": {},
   "outputs": [
    {
     "data": {
      "text/plain": [
       "array([[1, 4],\n",
       "       [2, 5],\n",
       "       [3, 6]])"
      ]
     },
     "execution_count": 265,
     "metadata": {},
     "output_type": "execute_result"
    }
   ],
   "source": [
    "A.T # 파이썬 함수의 zip과 같은것 같다."
   ]
  },
  {
   "cell_type": "code",
   "execution_count": 426,
   "id": "490c2bc3",
   "metadata": {},
   "outputs": [
    {
     "data": {
      "text/plain": [
       "array([ 0,  1,  2,  3,  4,  5,  6,  7,  8,  9, 10, 11])"
      ]
     },
     "execution_count": 426,
     "metadata": {},
     "output_type": "execute_result"
    }
   ],
   "source": [
    "a = np.arange(12)\n",
    "a"
   ]
  },
  {
   "cell_type": "code",
   "execution_count": 269,
   "id": "71e56160",
   "metadata": {},
   "outputs": [
    {
     "data": {
      "text/plain": [
       "array([[[ 0,  1],\n",
       "        [ 2,  3]],\n",
       "\n",
       "       [[ 4,  5],\n",
       "        [ 6,  7]],\n",
       "\n",
       "       [[ 8,  9],\n",
       "        [10, 11]]])"
      ]
     },
     "execution_count": 269,
     "metadata": {},
     "output_type": "execute_result"
    }
   ],
   "source": [
    "b = np.arange(12).reshape(3,2,2)\n",
    "b\n",
    "# reshape를 해주면 2개의 객체를 가진 리스트 2개를 2개씩 묶어서 3개 출력\n",
    "# 이때 객체의 개수와 reshape의 개수가 틀리면 에러가 발생한다."
   ]
  },
  {
   "cell_type": "code",
   "execution_count": 272,
   "id": "136f70f6",
   "metadata": {},
   "outputs": [
    {
     "name": "stdout",
     "output_type": "stream",
     "text": [
      "3\n",
      "(3, 2, 2)\n"
     ]
    }
   ],
   "source": [
    "print(b.ndim)\n",
    "print(b.shape)"
   ]
  },
  {
   "cell_type": "markdown",
   "id": "aac2c29b",
   "metadata": {},
   "source": [
    "사용하는 원소의 갯수가 정해져 있다면 reshape 명령의 형태 튜플의 원소 중 \n",
    "하나는 -1이라는 숫자로 대체할 수 있다. "
   ]
  },
  {
   "cell_type": "code",
   "execution_count": 273,
   "id": "29d96e95",
   "metadata": {},
   "outputs": [
    {
     "data": {
      "text/plain": [
       "array([[ 0,  1,  2,  3],\n",
       "       [ 4,  5,  6,  7],\n",
       "       [ 8,  9, 10, 11]])"
      ]
     },
     "execution_count": 273,
     "metadata": {},
     "output_type": "execute_result"
    }
   ],
   "source": [
    "ar = a.reshape(3,-1) # -1을 매개변수로 작성해주면 에러가 나야 하지만\n",
    "# -1을 자연스레 4로 대처해주어 코드가 작동이 된다.\n",
    "ar"
   ]
  },
  {
   "cell_type": "code",
   "execution_count": 274,
   "id": "bc7e1872",
   "metadata": {},
   "outputs": [
    {
     "data": {
      "text/plain": [
       "(3, 4)"
      ]
     },
     "execution_count": 274,
     "metadata": {},
     "output_type": "execute_result"
    }
   ],
   "source": [
    "a.reshape(3,-1).shape # 위의 코드의 이유를 보여주고 있다.\n",
    "# shape를 해주면 -1 이 4로 바뀐것을 확인할 수 있다."
   ]
  },
  {
   "cell_type": "code",
   "execution_count": 428,
   "id": "8e3c8c18",
   "metadata": {},
   "outputs": [
    {
     "data": {
      "text/plain": [
       "array([[[ 0,  1,  2],\n",
       "        [ 3,  4,  5]],\n",
       "\n",
       "       [[ 6,  7,  8],\n",
       "        [ 9, 10, 11]]])"
      ]
     },
     "execution_count": 428,
     "metadata": {},
     "output_type": "execute_result"
    }
   ],
   "source": [
    "b = a.reshape(2,2,-1) # 아래에서 확인할 수 있는것과 같이 \n",
    "# -1을 작성해주면 b.shape의 값으로 reshape를 해준다.\n",
    "b"
   ]
  },
  {
   "cell_type": "code",
   "execution_count": 284,
   "id": "58a4c874",
   "metadata": {},
   "outputs": [
    {
     "data": {
      "text/plain": [
       "(2, 2, 3)"
      ]
     },
     "execution_count": 284,
     "metadata": {},
     "output_type": "execute_result"
    }
   ],
   "source": [
    "b.shape"
   ]
  },
  {
   "cell_type": "code",
   "execution_count": 276,
   "id": "c8177c5c",
   "metadata": {},
   "outputs": [
    {
     "data": {
      "text/plain": [
       "array([[[ 0,  1],\n",
       "        [ 2,  3],\n",
       "        [ 4,  5]],\n",
       "\n",
       "       [[ 6,  7],\n",
       "        [ 8,  9],\n",
       "        [10, 11]]])"
      ]
     },
     "execution_count": 276,
     "metadata": {},
     "output_type": "execute_result"
    }
   ],
   "source": [
    "c = a.reshape(2, -1 , 2) # 마찬가지 \n",
    "c"
   ]
  },
  {
   "cell_type": "code",
   "execution_count": 277,
   "id": "b5b2cb8a",
   "metadata": {},
   "outputs": [
    {
     "data": {
      "text/plain": [
       "(2, 3, 2)"
      ]
     },
     "execution_count": 277,
     "metadata": {},
     "output_type": "execute_result"
    }
   ],
   "source": [
    "c.shape"
   ]
  },
  {
   "cell_type": "code",
   "execution_count": 290,
   "id": "31ad35ae",
   "metadata": {},
   "outputs": [
    {
     "name": "stdout",
     "output_type": "stream",
     "text": [
      "[[[ 0  1  2]\n",
      "  [ 3  4  5]]\n",
      "\n",
      " [[ 6  7  8]\n",
      "  [ 9 10 11]]]\n"
     ]
    },
    {
     "data": {
      "text/plain": [
       "array([ 0,  1,  2,  3,  4,  5,  6,  7,  8,  9, 10, 11])"
      ]
     },
     "execution_count": 290,
     "metadata": {},
     "output_type": "execute_result"
    }
   ],
   "source": [
    "print(b) # flattem은 reshape를 해서 다차원 배열로 바뀐 변수를 \n",
    "# 다시 1차원 배열로 전환시켜주는 변수이다.\n",
    "b.flatten()"
   ]
  },
  {
   "cell_type": "code",
   "execution_count": 429,
   "id": "7cd1ba23",
   "metadata": {},
   "outputs": [
    {
     "data": {
      "text/plain": [
       "array([ 0,  1,  2,  3,  4,  5,  6,  7,  8,  9, 10, 11])"
      ]
     },
     "execution_count": 429,
     "metadata": {},
     "output_type": "execute_result"
    }
   ],
   "source": [
    "b.ravel()  #ravel함수 또한 1차원 배열로 반환"
   ]
  },
  {
   "cell_type": "markdown",
   "id": "83aefbc9",
   "metadata": {},
   "source": [
    "#### 다 같은것을 표현하는 것 같아도 다 다른 표현이다."
   ]
  },
  {
   "cell_type": "code",
   "execution_count": 281,
   "id": "1855d122",
   "metadata": {},
   "outputs": [
    {
     "data": {
      "text/plain": [
       "(6, 1, (6,))"
      ]
     },
     "execution_count": 281,
     "metadata": {},
     "output_type": "execute_result"
    }
   ],
   "source": [
    "x = np.arange(6)\n",
    "len(x) , x.ndim , x.shape"
   ]
  },
  {
   "cell_type": "code",
   "execution_count": 282,
   "id": "8a0b2ff8",
   "metadata": {},
   "outputs": [
    {
     "data": {
      "text/plain": [
       "(array([[0, 1, 2, 3, 4, 5]]), 1, 2, (1, 6))"
      ]
     },
     "execution_count": 282,
     "metadata": {},
     "output_type": "execute_result"
    }
   ],
   "source": [
    "x1 = x.reshape(1,6)\n",
    "x1 , len(x1) , x1.ndim , x1.shape"
   ]
  },
  {
   "cell_type": "code",
   "execution_count": 283,
   "id": "8c86d146",
   "metadata": {},
   "outputs": [
    {
     "data": {
      "text/plain": [
       "(array([[0],\n",
       "        [1],\n",
       "        [2],\n",
       "        [3],\n",
       "        [4],\n",
       "        [5]]),\n",
       " 6,\n",
       " 2,\n",
       " (6, 1))"
      ]
     },
     "execution_count": 283,
     "metadata": {},
     "output_type": "execute_result"
    }
   ],
   "source": [
    "x2 = x.reshape(6,1)\n",
    "x2 , len(x2) , x2.ndim , x2.shape"
   ]
  },
  {
   "cell_type": "code",
   "execution_count": 285,
   "id": "1d8f4306",
   "metadata": {},
   "outputs": [
    {
     "data": {
      "text/plain": [
       "array([[ True,  True,  True,  True,  True,  True]])"
      ]
     },
     "execution_count": 285,
     "metadata": {},
     "output_type": "execute_result"
    }
   ],
   "source": [
    "x.reshape(6,) == x.reshape(1,6)"
   ]
  },
  {
   "cell_type": "code",
   "execution_count": 288,
   "id": "92342c20",
   "metadata": {},
   "outputs": [
    {
     "data": {
      "text/plain": [
       "False"
      ]
     },
     "execution_count": 288,
     "metadata": {},
     "output_type": "execute_result"
    }
   ],
   "source": [
    "x.reshape(6,) is x.reshape(1,6)"
   ]
  },
  {
   "cell_type": "code",
   "execution_count": 289,
   "id": "66d8a5bc",
   "metadata": {},
   "outputs": [
    {
     "name": "stderr",
     "output_type": "stream",
     "text": [
      "<ipython-input-289-5c855995e418>:1: DeprecationWarning: elementwise comparison failed; this will raise an error in the future.\n",
      "  x.reshape(2,3) == x.reshape(3,2)\n"
     ]
    },
    {
     "data": {
      "text/plain": [
       "False"
      ]
     },
     "execution_count": 289,
     "metadata": {},
     "output_type": "execute_result"
    }
   ],
   "source": [
    "x.reshape(2,3) == x.reshape(3,2)"
   ]
  },
  {
   "cell_type": "code",
   "execution_count": 312,
   "id": "a5a4769e",
   "metadata": {},
   "outputs": [
    {
     "data": {
      "text/plain": [
       "array([[11, 12, 13, 14, 15],\n",
       "       [16, 17, 18, 19, 20],\n",
       "       [21, 22, 23, 24, 25],\n",
       "       [26, 27, 28, 29, 30]])"
      ]
     },
     "execution_count": 312,
     "metadata": {},
     "output_type": "execute_result"
    }
   ],
   "source": [
    "number = np.arange(11 , 31)\n",
    "number.reshape(4,5)\n"
   ]
  },
  {
   "cell_type": "code",
   "execution_count": 318,
   "id": "485468f4",
   "metadata": {},
   "outputs": [
    {
     "data": {
      "text/plain": [
       "array([[ 3.3,  2.8,  2.3,  1.8],\n",
       "       [ 1.3,  0.8,  0.3, -0.2],\n",
       "       [-0.7, -1.2, -1.7, -2.2],\n",
       "       [-2.7, -3.2, -3.7, -4.2],\n",
       "       [-4.7, -5.2, -5.7, -6.2],\n",
       "       [-6.7, -7.2, -7.7, -8.2]])"
      ]
     },
     "execution_count": 318,
     "metadata": {},
     "output_type": "execute_result"
    }
   ],
   "source": [
    "number = np.arange(3.3 , -8.3 , -0.5)\n",
    "number.reshape(6,4)"
   ]
  },
  {
   "cell_type": "markdown",
   "id": "0c407b23",
   "metadata": {},
   "source": [
    "### 배열 연결\n"
   ]
  },
  {
   "cell_type": "markdown",
   "id": "2c28f368",
   "metadata": {},
   "source": [
    "hstack "
   ]
  },
  {
   "cell_type": "code",
   "execution_count": 323,
   "id": "311f418b",
   "metadata": {},
   "outputs": [
    {
     "data": {
      "text/plain": [
       "array([[1., 1., 1.],\n",
       "       [1., 1., 1.]])"
      ]
     },
     "execution_count": 323,
     "metadata": {},
     "output_type": "execute_result"
    }
   ],
   "source": [
    "a1 = np.ones((2,3))\n",
    "a1"
   ]
  },
  {
   "cell_type": "code",
   "execution_count": 326,
   "id": "76021106",
   "metadata": {},
   "outputs": [
    {
     "data": {
      "text/plain": [
       "array([[0., 0.],\n",
       "       [0., 0.]])"
      ]
     },
     "execution_count": 326,
     "metadata": {},
     "output_type": "execute_result"
    }
   ],
   "source": [
    "a2 = np.zeros((2,2))\n",
    "a2"
   ]
  },
  {
   "cell_type": "code",
   "execution_count": 328,
   "id": "a81a4537",
   "metadata": {},
   "outputs": [
    {
     "data": {
      "text/plain": [
       "array([[10, 20, 30],\n",
       "       [40, 50, 60]])"
      ]
     },
     "execution_count": 328,
     "metadata": {},
     "output_type": "execute_result"
    }
   ],
   "source": [
    "a3 = np.arange(10,70,10).reshape(2,3)\n",
    "a3"
   ]
  },
  {
   "cell_type": "code",
   "execution_count": 331,
   "id": "073fcef3",
   "metadata": {},
   "outputs": [
    {
     "data": {
      "text/plain": [
       "array([[ 1.,  1.,  1.,  0.,  0., 10., 20., 30.],\n",
       "       [ 1.,  1.,  1.,  0.,  0., 40., 50., 60.]])"
      ]
     },
     "execution_count": 331,
     "metadata": {},
     "output_type": "execute_result"
    }
   ],
   "source": [
    "np.hstack([a1,a2,a3]) # 전체 2차원이므로 각 차원끼리 더하기"
   ]
  },
  {
   "cell_type": "code",
   "execution_count": 343,
   "id": "a871a691",
   "metadata": {},
   "outputs": [
    {
     "data": {
      "text/plain": [
       "array([[1., 1., 1.],\n",
       "       [1., 1., 1.]])"
      ]
     },
     "execution_count": 343,
     "metadata": {},
     "output_type": "execute_result"
    }
   ],
   "source": [
    "b1 = np.ones((2,3))\n",
    "b1"
   ]
  },
  {
   "cell_type": "code",
   "execution_count": 344,
   "id": "659bdedf",
   "metadata": {},
   "outputs": [
    {
     "data": {
      "text/plain": [
       "array([[0., 0., 0.],\n",
       "       [0., 0., 0.],\n",
       "       [0., 0., 0.]])"
      ]
     },
     "execution_count": 344,
     "metadata": {},
     "output_type": "execute_result"
    }
   ],
   "source": [
    "b2 = np.zeros((3,3))\n",
    "b2"
   ]
  },
  {
   "cell_type": "code",
   "execution_count": 345,
   "id": "c468cbfa",
   "metadata": {},
   "outputs": [
    {
     "data": {
      "text/plain": [
       "array([[1., 1., 1.],\n",
       "       [1., 1., 1.],\n",
       "       [0., 0., 0.],\n",
       "       [0., 0., 0.],\n",
       "       [0., 0., 0.]])"
      ]
     },
     "execution_count": 345,
     "metadata": {},
     "output_type": "execute_result"
    }
   ],
   "source": [
    "np.vstack([b1 , b2])"
   ]
  },
  {
   "cell_type": "code",
   "execution_count": 348,
   "id": "53194340",
   "metadata": {},
   "outputs": [
    {
     "data": {
      "text/plain": [
       "array([[ 1, 10],\n",
       "       [ 2, 20],\n",
       "       [ 3, 30]])"
      ]
     },
     "execution_count": 348,
     "metadata": {},
     "output_type": "execute_result"
    }
   ],
   "source": [
    "cs1 = np.array([1,2,3])\n",
    "cs2 = np.array([10,20,30])\n",
    "np.column_stack([cs1 , cs2]) # 파이썬의 zip함수 느낌 \n",
    "#1차원 요소들의 2개가 합쳐지고 합쳐지는 개수만큼 2차원 요소가 늘어난다."
   ]
  },
  {
   "cell_type": "code",
   "execution_count": 350,
   "id": "4f76a350",
   "metadata": {},
   "outputs": [
    {
     "name": "stdout",
     "output_type": "stream",
     "text": [
      "[1. 1. 1.]\n",
      "(3,)\n"
     ]
    }
   ],
   "source": [
    "c1 = np.ones(3)\n",
    "print(c1)\n",
    "print(c1.shape)"
   ]
  },
  {
   "cell_type": "code",
   "execution_count": 351,
   "id": "ea5dab7e",
   "metadata": {},
   "outputs": [
    {
     "data": {
      "text/plain": [
       "array([0., 0., 0.])"
      ]
     },
     "execution_count": 351,
     "metadata": {},
     "output_type": "execute_result"
    }
   ],
   "source": [
    "c2 = np.zeros(3)\n",
    "c2"
   ]
  },
  {
   "cell_type": "code",
   "execution_count": 352,
   "id": "f087a6b8",
   "metadata": {},
   "outputs": [
    {
     "data": {
      "text/plain": [
       "array([[[1., 0.],\n",
       "        [1., 0.],\n",
       "        [1., 0.]]])"
      ]
     },
     "execution_count": 352,
     "metadata": {},
     "output_type": "execute_result"
    }
   ],
   "source": [
    "np.dstack([c1,c2]) #3차원 배열 생성하는듯"
   ]
  },
  {
   "cell_type": "code",
   "execution_count": 353,
   "id": "1ec00a05",
   "metadata": {},
   "outputs": [
    {
     "data": {
      "text/plain": [
       "array([[1., 1., 1., 1.],\n",
       "       [1., 1., 1., 1.],\n",
       "       [1., 1., 1., 1.]])"
      ]
     },
     "execution_count": 353,
     "metadata": {},
     "output_type": "execute_result"
    }
   ],
   "source": [
    "c3 = np.ones((3,4))\n",
    "c3"
   ]
  },
  {
   "cell_type": "code",
   "execution_count": 354,
   "id": "d137da3e",
   "metadata": {},
   "outputs": [
    {
     "data": {
      "text/plain": [
       "array([[0., 0., 0., 0.],\n",
       "       [0., 0., 0., 0.],\n",
       "       [0., 0., 0., 0.]])"
      ]
     },
     "execution_count": 354,
     "metadata": {},
     "output_type": "execute_result"
    }
   ],
   "source": [
    "c4 = np.zeros((3,4))\n",
    "c4"
   ]
  },
  {
   "cell_type": "code",
   "execution_count": 358,
   "id": "5758ad5e",
   "metadata": {},
   "outputs": [
    {
     "data": {
      "text/plain": [
       "array([[[1., 0.],\n",
       "        [1., 0.],\n",
       "        [1., 0.],\n",
       "        [1., 0.]],\n",
       "\n",
       "       [[1., 0.],\n",
       "        [1., 0.],\n",
       "        [1., 0.],\n",
       "        [1., 0.]],\n",
       "\n",
       "       [[1., 0.],\n",
       "        [1., 0.],\n",
       "        [1., 0.],\n",
       "        [1., 0.]]])"
      ]
     },
     "execution_count": 358,
     "metadata": {},
     "output_type": "execute_result"
    }
   ],
   "source": [
    "np.dstack([c3,c4])"
   ]
  },
  {
   "cell_type": "code",
   "execution_count": 357,
   "id": "791359ef",
   "metadata": {},
   "outputs": [
    {
     "data": {
      "text/plain": [
       "(1, 3, 2)"
      ]
     },
     "execution_count": 357,
     "metadata": {},
     "output_type": "execute_result"
    }
   ],
   "source": [
    "np.dstack([c1,c2]).shape"
   ]
  },
  {
   "cell_type": "code",
   "execution_count": 443,
   "id": "c7574455",
   "metadata": {},
   "outputs": [
    {
     "data": {
      "text/plain": [
       "array([[0., 0., 0.],\n",
       "       [0., 0., 0.],\n",
       "       [0., 0., 0.]])"
      ]
     },
     "execution_count": 443,
     "metadata": {},
     "output_type": "execute_result"
    }
   ],
   "source": [
    "a = np.zeros((3,3))\n",
    "a"
   ]
  },
  {
   "cell_type": "code",
   "execution_count": 444,
   "id": "6281bb01",
   "metadata": {},
   "outputs": [
    {
     "data": {
      "text/plain": [
       "array([[1., 1.],\n",
       "       [1., 1.],\n",
       "       [1., 1.]])"
      ]
     },
     "execution_count": 444,
     "metadata": {},
     "output_type": "execute_result"
    }
   ],
   "source": [
    "b = np.ones((3,2))\n",
    "b"
   ]
  },
  {
   "cell_type": "code",
   "execution_count": 445,
   "id": "fa5e6936",
   "metadata": {
    "scrolled": false
   },
   "outputs": [
    {
     "data": {
      "text/plain": [
       "array([[ 10,  20,  30,  40,  50],\n",
       "       [ 60,  70,  80,  90, 100],\n",
       "       [110, 120, 130, 140, 150]])"
      ]
     },
     "execution_count": 445,
     "metadata": {},
     "output_type": "execute_result"
    }
   ],
   "source": [
    "c = np.arange(10 , 151 ,10 ).reshape(3 , 5)\n",
    "c"
   ]
  },
  {
   "cell_type": "markdown",
   "id": "6aa4e51d",
   "metadata": {},
   "source": [
    "hstack = 가로 , vstack = 세로 (순서대로 블록쌓기) , dstack = 두개의 배열이 있을때 같은 인덱스요소끼리 묶어서 세로로 출력 (색깔맞춰서 블록쌓기)"
   ]
  },
  {
   "cell_type": "code",
   "execution_count": 452,
   "id": "faa11cb3",
   "metadata": {},
   "outputs": [
    {
     "data": {
      "text/plain": [
       "array([[  0.,   0.,   0.,   1.,   1.],\n",
       "       [  0.,   0.,   0.,   1.,   1.],\n",
       "       [  0.,   0.,   0.,   1.,   1.],\n",
       "       [ 10.,  20.,  30.,  40.,  50.],\n",
       "       [ 60.,  70.,  80.,  90., 100.],\n",
       "       [110., 120., 130., 140., 150.],\n",
       "       [  0.,   0.,   0.,   1.,   1.],\n",
       "       [  0.,   0.,   0.,   1.,   1.],\n",
       "       [  0.,   0.,   0.,   1.,   1.],\n",
       "       [ 10.,  20.,  30.,  40.,  50.],\n",
       "       [ 60.,  70.,  80.,  90., 100.],\n",
       "       [110., 120., 130., 140., 150.]])"
      ]
     },
     "execution_count": 452,
     "metadata": {},
     "output_type": "execute_result"
    }
   ],
   "source": [
    "x1 = np.hstack([a,b])\n",
    "c1 = np.vstack([x1 , c])\n",
    "c2 = np.vstack([c1 , c1])\n",
    "c2"
   ]
  },
  {
   "cell_type": "code",
   "execution_count": 404,
   "id": "853b0cd7",
   "metadata": {},
   "outputs": [],
   "source": [
    "import numpy as np\n",
    "a = np.arange(1,101).reshape(20,5)\n",
    "b = np.arange(201,401,2).reshape(20,5)\n",
    "\n",
    "np.savetxt(\"/Users/panhong/Downloads/ThoraricSurgery.csv\" , a , fmt = \"%d\" , delimiter = \" , \")\n",
    "np.savetxt(\"/Users/panhong/Downloads/ThoraricSurgery.csv\" , a + b , fmt = \"%d\" , delimiter = \" , \")"
   ]
  },
  {
   "cell_type": "code",
   "execution_count": 405,
   "id": "f7d7afbb",
   "metadata": {},
   "outputs": [
    {
     "data": {
      "text/plain": [
       "array([[  1,   2,   3,   4,   5],\n",
       "       [  6,   7,   8,   9,  10],\n",
       "       [ 11,  12,  13,  14,  15],\n",
       "       [ 16,  17,  18,  19,  20],\n",
       "       [ 21,  22,  23,  24,  25],\n",
       "       [ 26,  27,  28,  29,  30],\n",
       "       [ 31,  32,  33,  34,  35],\n",
       "       [ 36,  37,  38,  39,  40],\n",
       "       [ 41,  42,  43,  44,  45],\n",
       "       [ 46,  47,  48,  49,  50],\n",
       "       [ 51,  52,  53,  54,  55],\n",
       "       [ 56,  57,  58,  59,  60],\n",
       "       [ 61,  62,  63,  64,  65],\n",
       "       [ 66,  67,  68,  69,  70],\n",
       "       [ 71,  72,  73,  74,  75],\n",
       "       [ 76,  77,  78,  79,  80],\n",
       "       [ 81,  82,  83,  84,  85],\n",
       "       [ 86,  87,  88,  89,  90],\n",
       "       [ 91,  92,  93,  94,  95],\n",
       "       [ 96,  97,  98,  99, 100]])"
      ]
     },
     "execution_count": 405,
     "metadata": {},
     "output_type": "execute_result"
    }
   ],
   "source": [
    "a"
   ]
  },
  {
   "cell_type": "code",
   "execution_count": 406,
   "id": "7b93894c",
   "metadata": {},
   "outputs": [
    {
     "data": {
      "text/plain": [
       "array([[217, 220, 223, 226, 229],\n",
       "       [232, 235, 238, 241, 244],\n",
       "       [247, 250, 253, 256, 259],\n",
       "       [262, 265, 268, 271, 274],\n",
       "       [277, 280, 283, 286, 289],\n",
       "       [292, 295, 298, 301, 304],\n",
       "       [307, 310, 313, 316, 319],\n",
       "       [322, 325, 328, 331, 334],\n",
       "       [337, 340, 343, 346, 349],\n",
       "       [352, 355, 358, 361, 364],\n",
       "       [367, 370, 373, 376, 379],\n",
       "       [382, 385, 388, 391, 394],\n",
       "       [397, 400, 403, 406, 409],\n",
       "       [412, 415, 418, 421, 424],\n",
       "       [427, 430, 433, 436, 439],\n",
       "       [442, 445, 448, 451, 454],\n",
       "       [457, 460, 463, 466, 469],\n",
       "       [472, 475, 478, 481, 484],\n",
       "       [487, 490, 493, 496, 499]])"
      ]
     },
     "execution_count": 406,
     "metadata": {},
     "output_type": "execute_result"
    }
   ],
   "source": [
    "read_a = np.loadtxt(\"/Users/panhong/Downloads/ThoraricSurgery.csv\" , delimiter = \" , \" , skiprows = 1 , dtype = \"int\")\n",
    "read_a"
   ]
  },
  {
   "cell_type": "code",
   "execution_count": 407,
   "id": "0d67530e",
   "metadata": {},
   "outputs": [
    {
     "data": {
      "text/plain": [
       "array([[217, 220, 223, 226, 229],\n",
       "       [232, 235, 238, 241, 244],\n",
       "       [247, 250, 253, 256, 259],\n",
       "       [262, 265, 268, 271, 274],\n",
       "       [277, 280, 283, 286, 289],\n",
       "       [292, 295, 298, 301, 304],\n",
       "       [307, 310, 313, 316, 319],\n",
       "       [322, 325, 328, 331, 334],\n",
       "       [337, 340, 343, 346, 349],\n",
       "       [352, 355, 358, 361, 364],\n",
       "       [367, 370, 373, 376, 379],\n",
       "       [382, 385, 388, 391, 394],\n",
       "       [397, 400, 403, 406, 409],\n",
       "       [412, 415, 418, 421, 424],\n",
       "       [427, 430, 433, 436, 439],\n",
       "       [442, 445, 448, 451, 454],\n",
       "       [457, 460, 463, 466, 469],\n",
       "       [472, 475, 478, 481, 484],\n",
       "       [487, 490, 493, 496, 499]])"
      ]
     },
     "execution_count": 407,
     "metadata": {},
     "output_type": "execute_result"
    }
   ],
   "source": [
    "read_b = np.loadtxt(\"/Users/panhong/Downloads/ThoraricSurgery.csv\" , delimiter = \" , \" , skiprows = 1 , dtype = \"int\")\n",
    "read_b"
   ]
  },
  {
   "cell_type": "code",
   "execution_count": null,
   "id": "b633e4a0",
   "metadata": {},
   "outputs": [],
   "source": []
  }
 ],
 "metadata": {
  "kernelspec": {
   "display_name": "Python 3 (ipykernel)",
   "language": "python",
   "name": "python3"
  },
  "language_info": {
   "codemirror_mode": {
    "name": "ipython",
    "version": 3
   },
   "file_extension": ".py",
   "mimetype": "text/x-python",
   "name": "python",
   "nbconvert_exporter": "python",
   "pygments_lexer": "ipython3",
   "version": "3.9.6"
  }
 },
 "nbformat": 4,
 "nbformat_minor": 5
}
