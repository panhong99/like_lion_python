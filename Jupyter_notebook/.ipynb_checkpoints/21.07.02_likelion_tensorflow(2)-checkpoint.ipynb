{
 "cells": [
  {
   "cell_type": "code",
   "execution_count": 1,
   "id": "dd1a783e",
   "metadata": {},
   "outputs": [
    {
     "name": "stdout",
     "output_type": "stream",
     "text": [
      "WARNING:tensorflow:From /Users/panhong/miniforge3/lib/python3.9/site-packages/tensorflow/python/compat/v2_compat.py:96: disable_resource_variables (from tensorflow.python.ops.variable_scope) is deprecated and will be removed in a future version.\n",
      "Instructions for updating:\n",
      "non-resource variables are not supported in the long term\n"
     ]
    },
    {
     "data": {
      "text/plain": [
       "[]"
      ]
     },
     "execution_count": 1,
     "metadata": {},
     "output_type": "execute_result"
    }
   ],
   "source": [
    "import tensorflow.compat.v1 as tf\n",
    "tf.disable_v2_behavior()\n",
    "\n",
    "tf.get_default_graph().get_operations()"
   ]
  },
  {
   "cell_type": "code",
   "execution_count": 2,
   "id": "a966187a",
   "metadata": {},
   "outputs": [
    {
     "data": {
      "text/plain": [
       "[<tf.Operation 'data1' type=Const>,\n",
       " <tf.Operation 'data2' type=Const>,\n",
       " <tf.Operation 'data3' type=Const>]"
      ]
     },
     "execution_count": 2,
     "metadata": {},
     "output_type": "execute_result"
    }
   ],
   "source": [
    "a = tf.constant(7.0 , name = \"data1\") # const는 상수형태\n",
    "b = tf.constant(3.0 , name = \"data2\")\n",
    "c = tf.constant(2.0 , name = \"data3\")\n",
    "\n",
    "tf.get_default_graph().get_operations()"
   ]
  },
  {
   "cell_type": "code",
   "execution_count": 5,
   "id": "d3820f39",
   "metadata": {},
   "outputs": [
    {
     "name": "stdout",
     "output_type": "stream",
     "text": [
      "Tensor(\"data1:0\", shape=(), dtype=float32)\n",
      "\n",
      "name: \"data1\"\n",
      "op: \"Const\"\n",
      "attr {\n",
      "  key: \"dtype\"\n",
      "  value {\n",
      "    type: DT_FLOAT\n",
      "  }\n",
      "}\n",
      "attr {\n",
      "  key: \"value\"\n",
      "  value {\n",
      "    tensor {\n",
      "      dtype: DT_FLOAT\n",
      "      tensor_shape {\n",
      "      }\n",
      "      float_val: 7.0\n",
      "    }\n",
      "  }\n",
      "}\n",
      "\n"
     ]
    }
   ],
   "source": [
    "print(a)\n",
    "print()\n",
    "print(a.op)"
   ]
  },
  {
   "cell_type": "code",
   "execution_count": 7,
   "id": "03f6d3bb",
   "metadata": {},
   "outputs": [
    {
     "name": "stdout",
     "output_type": "stream",
     "text": [
      "[<tf.Tensor 'data1:0' shape=() dtype=float32>]\n",
      "True\n",
      "7.0\n"
     ]
    }
   ],
   "source": [
    "print(a.op.outputs) # a의 입력값을 확인\n",
    "print(a is a.op.outputs[0]) # 텐서 a 와 a의 operation의 출력이 같은지 확인\n",
    "print(a.op.node_def.attr[\"value\"].tensor.float_val[0]) \n",
    "# a의 operation protocol 버퍼에서 출력값을 확인해 볼 수 있음 "
   ]
  },
  {
   "cell_type": "code",
   "execution_count": 8,
   "id": "9d41d6b0",
   "metadata": {},
   "outputs": [
    {
     "data": {
      "text/plain": [
       "[<tf.Operation 'data1' type=Const>,\n",
       " <tf.Operation 'data2' type=Const>,\n",
       " <tf.Operation 'data3' type=Const>,\n",
       " <tf.Operation 'mul' type=Mul>,\n",
       " <tf.Operation 'truediv' type=RealDiv>]"
      ]
     },
     "execution_count": 8,
     "metadata": {},
     "output_type": "execute_result"
    }
   ],
   "source": [
    "v = a * b / c\n",
    "\n",
    "tf.get_default_graph().get_operations()"
   ]
  },
  {
   "cell_type": "code",
   "execution_count": 10,
   "id": "5fc0e47e",
   "metadata": {},
   "outputs": [
    {
     "name": "stdout",
     "output_type": "stream",
     "text": [
      "v.op.outputs =  [<tf.Tensor 'truediv:0' shape=() dtype=float32>]\n",
      "True\n"
     ]
    }
   ],
   "source": [
    "print(\"v.op.outputs = \" , v.op.outputs) \n",
    "print(v.op.outputs[0] is v) "
   ]
  },
  {
   "cell_type": "code",
   "execution_count": 11,
   "id": "785586ab",
   "metadata": {},
   "outputs": [
    {
     "name": "stdout",
     "output_type": "stream",
     "text": [
      "name: \"truediv\"\n",
      "op: \"RealDiv\"\n",
      "input: \"mul\"\n",
      "input: \"data3\"\n",
      "attr {\n",
      "  key: \"T\"\n",
      "  value {\n",
      "    type: DT_FLOAT\n",
      "  }\n",
      "}\n",
      "\n"
     ]
    }
   ],
   "source": [
    "print(v.op)"
   ]
  },
  {
   "cell_type": "code",
   "execution_count": 12,
   "id": "cddbf7d4",
   "metadata": {},
   "outputs": [
    {
     "name": "stdout",
     "output_type": "stream",
     "text": [
      "Tensor(\"mul:0\", shape=(), dtype=float32)\n",
      "Tensor(\"data3:0\", shape=(), dtype=float32)\n"
     ]
    }
   ],
   "source": [
    "print(v.op.inputs[0])\n",
    "print(v.op.inputs[1])"
   ]
  },
  {
   "cell_type": "code",
   "execution_count": 15,
   "id": "c2b98aa7",
   "metadata": {},
   "outputs": [
    {
     "name": "stdout",
     "output_type": "stream",
     "text": [
      "10.5\n"
     ]
    }
   ],
   "source": [
    "with tf.Session() as sess:\n",
    "    sess.run(tf.global_variables_initializer())\n",
    "    print(sess.run(v))"
   ]
  },
  {
   "cell_type": "markdown",
   "id": "117f4cf9",
   "metadata": {},
   "source": [
    "텐서는 내용을 변경할수는 없음 새로운 텐서를 만드는것만 가능 \n",
    "텐서는 Rank , shape , Type 3가지 구성요소를 가지고 있음 \n",
    "\n",
    "랭크가 0이면 스칼라 / 1이라면 벡터 / 2라면 행렬 / 3이상이라면 n - Tensor 또는 \n",
    "n차원 텐서 \n",
    "\n",
    "tf.constant = 상수 , 상수형은 말 그대로 상수를 저장하는 데이터 형 \n",
    "\n",
    "tf.variable  조건에 따라 값을 바꿔야 하는 경우 사용하는 자료형 \n",
    "변수는 반드시 명시적으로 초기화 해야함 \n",
    "\n",
    "tf.placeholder :먼저 만들고 값을 나중에 지정해주는 자료형 \n",
    "값을 나중에 정의하는 특이한 자료형 "
   ]
  },
  {
   "cell_type": "code",
   "execution_count": 17,
   "id": "cb57a40b",
   "metadata": {},
   "outputs": [
    {
     "name": "stdout",
     "output_type": "stream",
     "text": [
      "Tensor(\"Const_3:0\", shape=(), dtype=int32)\n",
      "Tensor(\"Const_4:0\", shape=(), dtype=int32)\n",
      "Tensor(\"Const_5:0\", shape=(), dtype=int32)\n",
      "Tensor(\"Mul_2:0\", shape=(), dtype=int32)\n",
      "Tensor(\"Add_1:0\", shape=(), dtype=int32)\n",
      "Tensor(\"Sub_1:0\", shape=(), dtype=int32)\n"
     ]
    }
   ],
   "source": [
    "a = tf.constant(5)\n",
    "b = tf.constant(2)\n",
    "c = tf.constant(3)\n",
    "d = tf.multiply(a , b)\n",
    "e = tf.add(c,d)\n",
    "f = tf.subtract(d ,e)\n",
    "\n",
    "print(a)\n",
    "print(b)\n",
    "print(c)\n",
    "print(d)\n",
    "print(e)\n",
    "print(f)"
   ]
  },
  {
   "cell_type": "code",
   "execution_count": 19,
   "id": "73e616a4",
   "metadata": {},
   "outputs": [
    {
     "name": "stdout",
     "output_type": "stream",
     "text": [
      "outs =  -3\n"
     ]
    }
   ],
   "source": [
    "sess = tf.Session()\n",
    "outs = sess.run(f)\n",
    "sess.close()\n",
    "print(\"outs = \" , outs)"
   ]
  },
  {
   "cell_type": "code",
   "execution_count": 20,
   "id": "f96de505",
   "metadata": {},
   "outputs": [
    {
     "name": "stdout",
     "output_type": "stream",
     "text": [
      "b'Hello , Tensorflow!'\n"
     ]
    }
   ],
   "source": [
    "hello = tf.constant(\"Hello , Tensorflow!\")\n",
    "sess = tf.Session()\n",
    "print(sess.run(hello))\n",
    "sess.close()"
   ]
  },
  {
   "cell_type": "code",
   "execution_count": 22,
   "id": "8bcadaf9",
   "metadata": {},
   "outputs": [
    {
     "name": "stdout",
     "output_type": "stream",
     "text": [
      "[ 2.  4.  6.  8. 10.]\n"
     ]
    }
   ],
   "source": [
    "input_data = [1,2,3,4,5]\n",
    "x = tf.placeholder(dtype = tf.float32)\n",
    "y = x  * 2\n",
    "\n",
    "sess = tf.Session()\n",
    "result = sess.run(y , feed_dict = {x:input_data})\n",
    "sess.close()\n",
    "\n",
    "print(result)"
   ]
  },
  {
   "cell_type": "code",
   "execution_count": 25,
   "id": "b32b54f3",
   "metadata": {},
   "outputs": [
    {
     "name": "stdout",
     "output_type": "stream",
     "text": [
      "53.0\n"
     ]
    }
   ],
   "source": [
    "p_holder1 = tf.placeholder(dtype = tf.float32)\n",
    "p_holder2 = tf.placeholder(dtype = tf.float32)\n",
    "p_holder3 = tf.placeholder(dtype = tf.float32)\n",
    "\n",
    "val1 = 5\n",
    "val2 = 10\n",
    "val3 = 3\n",
    "\n",
    "ret_val = p_holder1 * p_holder2 + p_holder3\n",
    "\n",
    "sess = tf.Session()\n",
    "feed_dict_data = {p_holder1 : val1 , p_holder2 : val2 , p_holder3 : val3}\n",
    "result = sess.run(ret_val , feed_dict = feed_dict_data)\n",
    "sess.close()\n",
    "print(result)"
   ]
  },
  {
   "cell_type": "code",
   "execution_count": 26,
   "id": "caf02f3d",
   "metadata": {},
   "outputs": [
    {
     "name": "stdout",
     "output_type": "stream",
     "text": [
      "[[30. 30.]\n",
      " [70. 70.]]\n"
     ]
    }
   ],
   "source": [
    "I = tf.placeholder(tf.float32 , [2,4])\n",
    "i = [[1,2,3,4] , [5,6,7,8]]\n",
    "\n",
    "W = tf.placeholder(tf.float32 , [4,2])\n",
    "w = [[1,1] , [2,2] , [3,3] , [4,4]]\n",
    "\n",
    "# input 데이터와 weight를 행렬곱 수행 \n",
    "m_cal = tf.matmul(I , W)\n",
    "\n",
    "sess = tf.Session()\n",
    "\n",
    "print(sess.run(m_cal , feed_dict = {I:i , W:w}))\n",
    "\n",
    "sess.close()"
   ]
  },
  {
   "cell_type": "code",
   "execution_count": 28,
   "id": "9f9f9e2f",
   "metadata": {},
   "outputs": [
    {
     "name": "stdout",
     "output_type": "stream",
     "text": [
      "[[30 30]\n",
      " [70 70]]\n"
     ]
    }
   ],
   "source": [
    "I = tf.Variable([[1,2,3,4] , [5,6,7,8]] , tf.float32)\n",
    "W = tf.Variable([[1,1] , [2,2] , [3,3] , [4,4]] , tf.float32)\n",
    "\n",
    "m_cal = tf.matmul(I , W)\n",
    "\n",
    "sess = tf.Session()\n",
    "sess.run(tf.global_variables_initializer())\n",
    "\n",
    "print(sess.run(m_cal))\n",
    "\n",
    "sess.close()"
   ]
  },
  {
   "cell_type": "code",
   "execution_count": 33,
   "id": "fecb7746",
   "metadata": {},
   "outputs": [
    {
     "name": "stdout",
     "output_type": "stream",
     "text": [
      "[ 2.  4.  6.  8. 10.]\n"
     ]
    }
   ],
   "source": [
    "input_data = [1,2,3,4,5]\n",
    "x = tf.placeholder(dtype = tf.float32)\n",
    "W = tf.Variable([2] , dtype = tf.float32) # <= 값을 미리 지정해줘야 하는데 지정을 하지않음\n",
    "y = W * x\n",
    "\n",
    "sess = tf.Session()\n",
    "\n",
    "init = tf.global_variables_initializer()\n",
    "sess.run(init)\n",
    "result = sess.run(y , feed_dict={x : input_data })\n",
    "print(result)"
   ]
  },
  {
   "cell_type": "code",
   "execution_count": 34,
   "id": "1bc25cf1",
   "metadata": {},
   "outputs": [
    {
     "name": "stdout",
     "output_type": "stream",
     "text": [
      "<tf.Variable 'Variable_5:0' shape=() dtype=int32_ref>\n",
      "7\n"
     ]
    }
   ],
   "source": [
    "x = tf.Variable(5 , dtype = tf.int32)\n",
    "print(x)\n",
    "\n",
    "z = tf.assign(x , 7)\n",
    "sess = tf.Session()\n",
    "sess.run(z)\n",
    "y = sess.run(x)\n",
    "print(y)\n",
    "sess.close()"
   ]
  },
  {
   "cell_type": "code",
   "execution_count": 38,
   "id": "a4130410",
   "metadata": {},
   "outputs": [
    {
     "name": "stdout",
     "output_type": "stream",
     "text": [
      "<tf.Variable 'Variable_9:0' shape=(2, 2) dtype=float32_ref>\n",
      "[[1. 2.]\n",
      " [3. 4.]]\n"
     ]
    }
   ],
   "source": [
    "x = tf.Variable(tf.zeros((2,2)) , dtype = tf.float32)\n",
    "print(x)\n",
    "\n",
    "y = tf.Variable([[1,2] , [3,4]] , dtype = tf.float32)\n",
    "x = tf.assign(x , y) \n",
    "sess = tf.Session()\n",
    "z = tf.global_variables_initializer()\n",
    "sess.run(z)\n",
    "k = sess.run(x)\n",
    "sess.close()\n",
    "\n",
    "print(k)"
   ]
  },
  {
   "cell_type": "code",
   "execution_count": 46,
   "id": "9480a587",
   "metadata": {},
   "outputs": [
    {
     "name": "stdout",
     "output_type": "stream",
     "text": [
      "[11. 22. 33. 44. 55.]\n"
     ]
    }
   ],
   "source": [
    "mat_img = [1,2,3,4,5]\n",
    "label = [10,20,30,40,50]\n",
    "ph_img = tf.placeholder(dtype = tf.float32)\n",
    "ph_lb = tf.placeholder(dtype = tf.float32)\n",
    "\n",
    "ret_tensor = ph_img + ph_lb\n",
    "\n",
    "sess = tf.Session()\n",
    "\n",
    "result = sess.run(ret_tensor , feed_dict={ph_img : mat_img , ph_lb : label} )\n",
    "sess.close()\n",
    "print(result)"
   ]
  },
  {
   "cell_type": "code",
   "execution_count": 47,
   "id": "64dbd398",
   "metadata": {},
   "outputs": [
    {
     "name": "stdout",
     "output_type": "stream",
     "text": [
      "[[12.]\n",
      " [12.]\n",
      " [18.]]\n"
     ]
    }
   ],
   "source": [
    "input_data = [[1,2,3] , [1,2,3] , [2,3,4]]\n",
    "x = tf.placeholder(dtype = tf.float32 , shape = [None , 3])\n",
    "w = tf.Variable([[2.] , [2.] , [2.]] , dtype = tf.float32)\n",
    "y = tf.matmul(x , w)\n",
    "sess = tf.Session()\n",
    "init = tf.global_variables_initializer()\n",
    "sess.run(init)\n",
    "result = sess.run(y , feed_dict = {x : input_data})\n",
    "sess.close()\n",
    "print(result)"
   ]
  },
  {
   "cell_type": "code",
   "execution_count": 48,
   "id": "e6bcdb47",
   "metadata": {},
   "outputs": [
    {
     "name": "stdout",
     "output_type": "stream",
     "text": [
      "(2, 3)\n",
      "[[10.]\n",
      " [16.]]\n"
     ]
    }
   ],
   "source": [
    "input_data = [[1,1,1] , [2,2,2]]\n",
    "x = tf.placeholder(dtype = tf.float32 , shape = [2 , 3])\n",
    "w = tf.Variable([[2.] , [2.] , [2.]] , dtype = tf.float32)\n",
    "b = tf.Variable([4] , dtype = tf.float32)\n",
    "y = tf.matmul(x , w) + b\n",
    "print(x.get_shape())\n",
    "sess = tf.Session()\n",
    "init = tf.global_variables_initializer()\n",
    "sess.run(init)\n",
    "result = sess.run(y , feed_dict = {x : input_data})\n",
    "sess.close()\n",
    "print(result)"
   ]
  },
  {
   "cell_type": "code",
   "execution_count": 49,
   "id": "5c4effb3",
   "metadata": {},
   "outputs": [
    {
     "name": "stdout",
     "output_type": "stream",
     "text": [
      "(1, 3)\n",
      "(3, 1)\n",
      "(1, 1)\n",
      "Tensor(\"MatMul_5:0\", shape=(1, 1), dtype=float32)\n",
      "[[12.]]\n"
     ]
    }
   ],
   "source": [
    "x = tf.constant([[1.0 , 2.0 , 3.0]])\n",
    "w = tf.constant([[2.0] , [2.0] , [2.0] ])\n",
    "y = tf.matmul(x , w)\n",
    "print(x.get_shape())\n",
    "print(w.get_shape())\n",
    "print(y.get_shape())\n",
    "print(y)\n",
    "sess = tf.Session()\n",
    "init = tf.global_variables_initializer()\n",
    "sess.run(init)\n",
    "result = sess.run(y)\n",
    "\n",
    "sess.close()\n",
    "print(result)"
   ]
  },
  {
   "cell_type": "code",
   "execution_count": null,
   "id": "8bb167a4",
   "metadata": {},
   "outputs": [],
   "source": []
  }
 ],
 "metadata": {
  "kernelspec": {
   "display_name": "Python 3",
   "language": "python",
   "name": "python3"
  },
  "language_info": {
   "codemirror_mode": {
    "name": "ipython",
    "version": 3
   },
   "file_extension": ".py",
   "mimetype": "text/x-python",
   "name": "python",
   "nbconvert_exporter": "python",
   "pygments_lexer": "ipython3",
   "version": "3.9.5"
  }
 },
 "nbformat": 4,
 "nbformat_minor": 5
}
