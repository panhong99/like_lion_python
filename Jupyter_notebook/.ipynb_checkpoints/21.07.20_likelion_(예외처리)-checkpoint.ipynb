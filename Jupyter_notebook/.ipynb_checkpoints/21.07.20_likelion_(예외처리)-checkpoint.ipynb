{
 "cells": [
  {
   "cell_type": "code",
   "execution_count": 2,
   "id": "7f7a3613",
   "metadata": {
    "collapsed": true
   },
   "outputs": [
    {
     "ename": "ZeroDivisionError",
     "evalue": "division by zero",
     "output_type": "error",
     "traceback": [
      "\u001b[0;31m---------------------------------------------------------------------------\u001b[0m",
      "\u001b[0;31mZeroDivisionError\u001b[0m                         Traceback (most recent call last)",
      "\u001b[0;32m<ipython-input-2-df37503bcaa2>\u001b[0m in \u001b[0;36m<module>\u001b[0;34m\u001b[0m\n\u001b[1;32m      2\u001b[0m     \u001b[0;32mreturn\u001b[0m \u001b[0;36m10\u001b[0m\u001b[0;34m/\u001b[0m\u001b[0mx\u001b[0m\u001b[0;34m\u001b[0m\u001b[0;34m\u001b[0m\u001b[0m\n\u001b[1;32m      3\u001b[0m \u001b[0;34m\u001b[0m\u001b[0m\n\u001b[0;32m----> 4\u001b[0;31m \u001b[0mprint\u001b[0m\u001b[0;34m(\u001b[0m\u001b[0mten_div\u001b[0m\u001b[0;34m(\u001b[0m\u001b[0;36m0\u001b[0m\u001b[0;34m)\u001b[0m\u001b[0;34m)\u001b[0m\u001b[0;34m\u001b[0m\u001b[0;34m\u001b[0m\u001b[0m\n\u001b[0m",
      "\u001b[0;32m<ipython-input-2-df37503bcaa2>\u001b[0m in \u001b[0;36mten_div\u001b[0;34m(x)\u001b[0m\n\u001b[1;32m      1\u001b[0m \u001b[0;32mdef\u001b[0m \u001b[0mten_div\u001b[0m\u001b[0;34m(\u001b[0m\u001b[0mx\u001b[0m\u001b[0;34m)\u001b[0m\u001b[0;34m:\u001b[0m\u001b[0;34m\u001b[0m\u001b[0;34m\u001b[0m\u001b[0m\n\u001b[0;32m----> 2\u001b[0;31m     \u001b[0;32mreturn\u001b[0m \u001b[0;36m10\u001b[0m\u001b[0;34m/\u001b[0m\u001b[0mx\u001b[0m\u001b[0;34m\u001b[0m\u001b[0;34m\u001b[0m\u001b[0m\n\u001b[0m\u001b[1;32m      3\u001b[0m \u001b[0;34m\u001b[0m\u001b[0m\n\u001b[1;32m      4\u001b[0m \u001b[0mprint\u001b[0m\u001b[0;34m(\u001b[0m\u001b[0mten_div\u001b[0m\u001b[0;34m(\u001b[0m\u001b[0;36m0\u001b[0m\u001b[0;34m)\u001b[0m\u001b[0;34m)\u001b[0m\u001b[0;34m\u001b[0m\u001b[0;34m\u001b[0m\u001b[0m\n",
      "\u001b[0;31mZeroDivisionError\u001b[0m: division by zero"
     ]
    }
   ],
   "source": [
    "def ten_div(x):\n",
    "    return 10/x\n",
    "\n",
    "print(ten_div())"
   ]
  },
  {
   "cell_type": "code",
   "execution_count": 7,
   "id": "91247e86",
   "metadata": {},
   "outputs": [
    {
     "name": "stdout",
     "output_type": "stream",
     "text": [
      "나눌 숫자를 입력하세요 : 0\n",
      "예외가 발생합니다.\n"
     ]
    }
   ],
   "source": [
    "try:\n",
    "    x = int(input(\"나눌 숫자를 입력하세요 : \"))\n",
    "    y = 10 / x \n",
    "    print(y)\n",
    "except: # 예외가 발생되었을때 실행\n",
    "    print(\"예외가 발생합니다.\")"
   ]
  },
  {
   "cell_type": "code",
   "execution_count": 15,
   "id": "be0e908e",
   "metadata": {},
   "outputs": [
    {
     "name": "stdout",
     "output_type": "stream",
     "text": [
      "인덱스와 나눌 숫자를 입력하세요.0 0\n",
      "숫자를 0으로 나눌 수 없습니다.\n"
     ]
    }
   ],
   "source": [
    "y = [10 , 20 , 30]\n",
    "\n",
    "try:\n",
    "    index , x = map(int , input(\"인덱스와 나눌 숫자를 입력하세요.\").split())\n",
    "    print(y[index] / x)\n",
    "except ZeroDivisionError: # 숫자를 0으로 나누어 에러가 발생했을때 실행됨\n",
    "    print(\"숫자를 0으로 나눌 수 없습니다.\")\n",
    "except IndexError:        # 범위를 벗어난 인덱스에 접근하여 에러가 발생했을 때 실행됨 \n",
    "    print(\"잘못된 인덱스입니다.\")"
   ]
  },
  {
   "cell_type": "code",
   "execution_count": 5,
   "id": "301b2802",
   "metadata": {},
   "outputs": [
    {
     "name": "stdout",
     "output_type": "stream",
     "text": [
      "인덱스와 나눌 숫자를 입력하세요.2 0\n",
      "숫자를 0으로 나눌 수 없습니다. division by zero\n"
     ]
    }
   ],
   "source": [
    "# 예외의 에러 메세지 받아오기 \n",
    "y = [10 , 20 , 30]\n",
    "\n",
    "try:\n",
    "    index , x = map(int , input(\"인덱스와 나눌 숫자를 입력하세요.\").split())\n",
    "    print(y[index] / x)\n",
    "except ZeroDivisionError as e: # 숫자를 0으로 나누어 에러가 발생했을때 실행됨\n",
    "    print(\"숫자를 0으로 나눌 수 없습니다.\" , e)\n",
    "except IndexError as e:        # 범위를 벗어난 인덱스에 접근하여 에러가 발생했을 때 실행됨 \n",
    "    print(\"잘못된 인덱스입니다.\" , e)"
   ]
  },
  {
   "cell_type": "raw",
   "id": "d1d8820e",
   "metadata": {},
   "source": [
    "try:\n",
    "    x = int(input(\"나눌 숫자를 입력하세요 : \"))\n",
    "    y = 10 / x \n",
    "except ZeroDivisionError: # 숫자를 0으로 나눠서 에러가 발생했을 때 실행됨\n",
    "    print(\"숫자를 0으로 나눌 수 없습니다.\")\n",
    "else:    # try의 코드에서 예외가 발생하지 않았을 때 실행됨 \n",
    "    print(y)\n",
    "    \n",
    "    \n",
    "\n",
    "    "
   ]
  },
  {
   "cell_type": "code",
   "execution_count": 13,
   "id": "ed9508ca",
   "metadata": {},
   "outputs": [
    {
     "name": "stdout",
     "output_type": "stream",
     "text": [
      "나눌 숫자를 입력하세요 : 0\n",
      "숫자를 0으로 나눌 수 없습니다.\n",
      "코드 실행이 끝났습니다.\n"
     ]
    }
   ],
   "source": [
    "try:\n",
    "    x = int(input(\"나눌 숫자를 입력하세요 : \"))\n",
    "    y = 10 / x \n",
    "except ZeroDivisionError: # 숫자를 0으로 나눠서 에러가 발생했을 때 실행됨\n",
    "    print(\"숫자를 0으로 나눌 수 없습니다.\")\n",
    "else:    # try의 코드에서 예외가 발생하지 않았을 때 실행됨 \n",
    "    print(y)\n",
    "finally: # 예외 발생 여부와 상관없이 항상 실행됨\n",
    "    print(\"코드 실행이 끝났습니다.\")\n",
    "    \n",
    "\n",
    "    "
   ]
  },
  {
   "cell_type": "code",
   "execution_count": 19,
   "id": "139d71e4",
   "metadata": {},
   "outputs": [
    {
     "name": "stdout",
     "output_type": "stream",
     "text": [
      "3의 배수를 입력하세요 :4\n",
      "예외가 발생했습니다. 3의 배수가 아닙니다.\n"
     ]
    }
   ],
   "source": [
    "try:\n",
    "    x = int(input(\"3의 배수를 입력하세요 :\"))\n",
    "    if x % 3 != 0:\n",
    "        raise Exception(\"3의 배수가 아닙니다.\")\n",
    "    print(x)\n",
    "\n",
    "except Exception as e:\n",
    "    print(\"예외가 발생했습니다.\" , e)\n",
    "    "
   ]
  },
  {
   "cell_type": "code",
   "execution_count": 20,
   "id": "fa0e492c",
   "metadata": {},
   "outputs": [
    {
     "name": "stdout",
     "output_type": "stream",
     "text": [
      "3의 배수를 입력하세요. : 5\n",
      "예외가 발생했습니다. 3의 배수가 아닙니다.\n"
     ]
    }
   ],
   "source": [
    "def three_multiple():\n",
    "    x = int(input(\"3의 배수를 입력하세요. : \"))\n",
    "    if x % 3 != 0:\n",
    "        raise Exception(\"3의 배수가 아닙니다.\")\n",
    "    print(x)\n",
    "    \n",
    "try:\n",
    "    three_multiple()\n",
    "except Exception as e:\n",
    "    print(\"예외가 발생했습니다.\" , e)\n",
    "    "
   ]
  },
  {
   "cell_type": "code",
   "execution_count": 24,
   "id": "f48549c5",
   "metadata": {},
   "outputs": [
    {
     "name": "stdout",
     "output_type": "stream",
     "text": [
      "3의 배수를 입력하세요 : 5\n",
      "three_multiple 함수에서 예외가 발생했습니다. 3의 배수가 아닙니다.\n",
      "스크립트 파일에서 예외가 발생했습니다.\n"
     ]
    }
   ],
   "source": [
    "def three_multiple():\n",
    "    try:\n",
    "        x = int(input(\"3의 배수를 입력하세요 : \"))\n",
    "        if x % 3 != 0:\n",
    "            raise Exception(\"3의 배수가 아닙니다.\")\n",
    "        print(x)\n",
    "    except Exception as e:\n",
    "        print(\"three_multiple 함수에서 예외가 발생했습니다.\" , e)\n",
    "        raise\n",
    "\n",
    "try:\n",
    "    three_multiple()\n",
    "except Exception as e:\n",
    "    print(\"스크립트 파일에서 예외가 발생했습니다.\")"
   ]
  },
  {
   "cell_type": "code",
   "execution_count": 26,
   "id": "ba32c5a4",
   "metadata": {},
   "outputs": [
    {
     "name": "stdout",
     "output_type": "stream",
     "text": [
      "3의 배수를 입력해주세요 :4\n",
      "three_multiple 함수에서 예외가 발생했습니다. 3의 배수가 아닙니다.\n",
      "스크립트 파일에서 예외가 발생했습니다. three_multiple 함수에서 예외가 발생했습니다.\n"
     ]
    }
   ],
   "source": [
    "def three_multiple():\n",
    "    try:\n",
    "        x = int(input(\"3의 배수를 입력해주세요 :\"))\n",
    "        if x % 3 != 0:\n",
    "            raise Exception(\"3의 배수가 아닙니다.\")\n",
    "        print(x)\n",
    "    except Exception as e:\n",
    "        print(\"three_multiple 함수에서 예외가 발생했습니다.\" , e)\n",
    "        raise RuntimeError(\"three_multiple 함수에서 예외가 발생했습니다.\")\n",
    "\n",
    "try:\n",
    "    three_multiple()\n",
    "except Exception as e:\n",
    "    print(\"스크립트 파일에서 예외가 발생했습니다.\" , e)"
   ]
  },
  {
   "cell_type": "code",
   "execution_count": 28,
   "id": "015e8cbb",
   "metadata": {},
   "outputs": [
    {
     "name": "stdout",
     "output_type": "stream",
     "text": [
      "3의 배수를 입력하세요 : 2\n",
      "예외가 발생했습니다. 3의 배수가 아닙니다.\n"
     ]
    }
   ],
   "source": [
    "class NotThreeMultipleError(Exception):\n",
    "    def __init__(self):\n",
    "        super().__init__(\"3의 배수가 아닙니다.\")\n",
    "\n",
    "def three_multiple():\n",
    "    try:\n",
    "        x = int(input(\"3의 배수를 입력하세요 : \"))\n",
    "        if x % 3 != 0:\n",
    "            raise NotThreeMultipleError\n",
    "        print(x)\n",
    "    except Exception as e:\n",
    "        print(\"예외가 발생했습니다.\" , e)\n",
    "\n",
    "three_multiple()"
   ]
  }
 ],
 "metadata": {
  "kernelspec": {
   "display_name": "Python 3.9.5 64-bit ('base': conda)",
   "language": "python",
   "name": "python39564bitbasecondaff88d2da3a154ebfb639a042a46a85ea"
  },
  "language_info": {
   "codemirror_mode": {
    "name": "ipython",
    "version": 3
   },
   "file_extension": ".py",
   "mimetype": "text/x-python",
   "name": "python",
   "nbconvert_exporter": "python",
   "pygments_lexer": "ipython3",
   "version": "3.9.5"
  }
 },
 "nbformat": 4,
 "nbformat_minor": 5
}
