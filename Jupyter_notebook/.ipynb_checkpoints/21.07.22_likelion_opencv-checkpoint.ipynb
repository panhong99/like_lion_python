{
 "cells": [
  {
   "cell_type": "code",
   "execution_count": 2,
   "id": "e0b6fd58",
   "metadata": {
    "collapsed": true
   },
   "outputs": [
    {
     "ename": "Exception",
     "evalue": "영상파일 읽기 에러",
     "output_type": "error",
     "traceback": [
      "\u001b[0;31m---------------------------------------------------------------------------\u001b[0m",
      "\u001b[0;31mException\u001b[0m                                 Traceback (most recent call last)",
      "\u001b[0;32m/var/folders/rs/q3tvc3s53gbblf3cd1ncwv2c0000gn/T/ipykernel_6051/403222236.py\u001b[0m in \u001b[0;36m<module>\u001b[0;34m\u001b[0m\n\u001b[1;32m      8\u001b[0m \u001b[0mcolor2unchanged2\u001b[0m \u001b[0;34m=\u001b[0m \u001b[0mcv2\u001b[0m\u001b[0;34m.\u001b[0m\u001b[0mimread\u001b[0m\u001b[0;34m(\u001b[0m\u001b[0;34m\"Users/panhong/coding_study/Likelion_KDT/Jupyter_notebook/Common/read_32.tif\"\u001b[0m \u001b[0;34m,\u001b[0m \u001b[0mcv2\u001b[0m\u001b[0;34m.\u001b[0m\u001b[0mIMREAD_UNCHANGED\u001b[0m\u001b[0;34m)\u001b[0m\u001b[0;34m\u001b[0m\u001b[0;34m\u001b[0m\u001b[0m\n\u001b[1;32m      9\u001b[0m \u001b[0;32mif\u001b[0m \u001b[0mcolor2unchanged1\u001b[0m \u001b[0;32mis\u001b[0m \u001b[0;32mNone\u001b[0m \u001b[0;32mor\u001b[0m \u001b[0mcolor2unchanged2\u001b[0m \u001b[0;32mis\u001b[0m \u001b[0;32mNone\u001b[0m\u001b[0;34m:\u001b[0m\u001b[0;34m\u001b[0m\u001b[0;34m\u001b[0m\u001b[0m\n\u001b[0;32m---> 10\u001b[0;31m     \u001b[0;32mraise\u001b[0m \u001b[0mException\u001b[0m\u001b[0;34m(\u001b[0m\u001b[0;34m\"영상파일 읽기 에러\"\u001b[0m\u001b[0;34m)\u001b[0m\u001b[0;34m\u001b[0m\u001b[0;34m\u001b[0m\u001b[0m\n\u001b[0m\u001b[1;32m     11\u001b[0m \u001b[0;34m\u001b[0m\u001b[0m\n\u001b[1;32m     12\u001b[0m \u001b[0mprint\u001b[0m\u001b[0;34m(\u001b[0m\u001b[0;34m\"16/32비트 영상 행렬 좌표 (10,10) 화소값\"\u001b[0m\u001b[0;34m)\u001b[0m\u001b[0;34m\u001b[0m\u001b[0;34m\u001b[0m\u001b[0m\n",
      "\u001b[0;31mException\u001b[0m: 영상파일 읽기 에러"
     ]
    }
   ],
   "source": [
    "# 16bit , 32bit 영상 처리하기\n",
    "import sys\n",
    "sys.path.append(\"/Users/panhong/Desktop/coding_study/Likelion_KDT/Jupyter_notebook/Common\")\n",
    "import cv2\n",
    "from Common.utils import print_matInfo\n",
    "\n",
    "title1 , title2 = \"16bit unchanged\" , \"32bit unchanged\"\n",
    "color2unchanged1 = cv2.imread(\"/Users/panhong/Desktop/coding_study/Likelion_KDT/Jupyter_notebook/Common/read_16.tif\" , cv2.IMREAD_UNCHANGED)\n",
    "color2unchanged2 = cv2.imread(\"/Users/panhong/Desktop/coding_study/Likelion_KDT/Jupyter_notebook/Common/read_32.tif\" , cv2.IMREAD_UNCHANGED)\n",
    "if color2unchanged1 is None or color2unchanged2 is None:\n",
    "    raise Exception(\"영상파일 읽기 에러\")\n",
    "\n",
    "print(\"16/32비트 영상 행렬 좌표 (10,10) 화소값\")\n",
    "print(title1 , \"원소 자료형\" , type(color2unchanged1[10][0][0]))\n",
    "print(title1 , \"화소값(3원소)\" , color2unchanged1[10 ,10])\n",
    "print(title2 , \"원소 자료형\" , type(color2unchanged2[10][10][0]))\n",
    "print(title2 , \"화소값(3원소)\" , color2unchanged2[10 , 10])\n",
    "\n",
    "print_matInfo(title1 , color2unchanged1)\n",
    "print_matInfo(title2 , color2unchanged2)\n",
    "cv2.imshow(title1 , color2unchanged1)\n",
    "cv2.imshow(title2 , color2unchanged2)\n",
    "cv2.waitKey(0)\n",
    "cv2.destroyAllWindows()"
   ]
  },
  {
   "cell_type": "code",
   "execution_count": null,
   "id": "c7a7bb0e",
   "metadata": {},
   "outputs": [],
   "source": [
    "# 행렬을 영상파일로 저장 \n",
    "import cv2\n",
    "\n",
    "image = cv2.imread(\"/Users/panhong/Desktop/coding_study/Likelion_KDT/Jupyter_notebook/Common/read_color.jpg\" , cv2.IMREAD_COLOR)\n",
    "if image is None: raise Exception(\"영상 파일 읽기에러\")\n",
    "    \n",
    "params_jpg = (cv2.IMWRITE_JPEG_QUALITY , 10)\n",
    "params_png = [cv2.IMWRITE_PNG_COMPRESSION , 9]\n",
    "\n",
    "cv2.imwrite(\"image/write_test1.jpg\" , image)\n",
    "cv2.imwrite(\"image/write_test2.jpg\" , image , params_jpg)\n",
    "cv2.imwrite(\"image/write_test3.jpg\" , image , params_png)\n",
    "cv2.imwrite(\"image/write_test4.jpg\" , image)\n",
    "print(\"저장 완료\")"
   ]
  },
  {
   "cell_type": "code",
   "execution_count": null,
   "id": "677c6548",
   "metadata": {},
   "outputs": [],
   "source": [
    "import cv2\n",
    "\n",
    "image = cv2.imread(\"/Users/panhong/Desktop/coding_study/Likelion_KDT/Jupyter_notebook/Common/flip_test.jpg\" , cv2.IMREAD_COLOR)\n",
    "if image is None : raise Exception(\"영상 파일 읽기 오류 발생\")\n",
    "\n",
    "x_axis = cv2.flip(image , 0)  # x축 기준 상하 뒤집기\n",
    "y_axis = cv2.flip(image , 1)  # y축 기준 좌우 뒤집기\n",
    "xy_axis = cv2.flip(image , -1) # 상하 뒤집고 , 좌우도 뒤집기\n",
    "rep_image = cv2.repeat(image , 1 ,2) # 반복 복사\n",
    "# 전치 행렬은 행과 열을 교환하여 얻는 행렬. 즉 주대각선을 축으로 하는 \n",
    "# 반사 대칭을 가하여 얻는 행렬\n",
    "\n",
    "trans_image = cv2.transpose(image)  # 행렬 전치\n",
    "# 각 행렬을 영상으로 표시\n",
    "titles = [\"image\" , \"x_axis\" , \"y_axis\" , \"xy_axis\" , \"rep_image\" , \"trans_image\"] \n",
    "for title in titles:\n",
    "    # eval 문자열을 명령어로 만듦 , - 행렬 변수로 적용\n",
    "    cv2.imshow(title , eval(title))\n",
    "cv2.waitKey(0)\n",
    "cv2.destroyAllWindows()"
   ]
  },
  {
   "cell_type": "code",
   "execution_count": null,
   "id": "adb2a4e9",
   "metadata": {},
   "outputs": [],
   "source": [
    "import cv2\n",
    "import numpy as np\n",
    "\n",
    "ch0 = np.zeros((2, 4 ) ,np.uint8) + 10 # 0원소 행렬 선언 후 10 더하기\n",
    "ch1 = np.ones((2, 4) , np.uint8) * 20 # 1원소 행렬 선언 후 20 곱하기\n",
    "ch2 = np.zeros((2, 4) , np.uint8); ch2[:] = 30 # 0원소 행렬 선언 후 행렬원소\n",
    "# 값 30 지정\n",
    "\n",
    "list_bgr = [ch0 , ch1, ch2] # 단일 채널들을 모아 리스트 구성\n",
    "merge_bgr = cv2.merge(list_bgr) # 채널 합성\n",
    "split_bgr = cv2.split(merge_bgr) # 채널 분리 : 컬러영상 --> 3채널 분리\n",
    "\n",
    "print(\"split_bar 행렬 형태\" , np.array(split_bgr).shape)\n",
    "print(\"merge_bgr 행렬 형태\" , merge_bgr.shape)\n",
    "\n",
    "print(\"[ch0] = \\n%s\" % ch0) # 단일 채널 원소 출력\n",
    "print(\"[ch1] = \\n%s\" % ch1) \n",
    "print(\"[ch2] = \\n%s\" % ch2)\n",
    "print(\"[merge_bgr] = \\n %s\\n\" % merge_bgr) # 다중 채널 원소 출력\n",
    "\n",
    "print(\"[split_bgr[0]] = \\n%s\" % split_bgr[0])\n",
    "print(\"[split_bgr[1]] = \\n%s\" % split_bgr[1])\n",
    "print(\"[split_bgr[2]] = \\n%s\" % split_bgr[2])"
   ]
  },
  {
   "cell_type": "code",
   "execution_count": null,
   "id": "4156db9e",
   "metadata": {},
   "outputs": [],
   "source": [
    "import cv2\n",
    "\n",
    "# 영상 읽기\n",
    "image = cv2.imread(\"/Users/panhong/Desktop/coding_study/Likelion_KDT/Jupyter_notebook/Common/color.jpg\" , cv2.IMREAD_COLOR)\n",
    "# 예외 처리\n",
    "if image is None : raise Exception(\"영상 파일 읽기 오류 발생\")\n",
    "if image.ndim != 3 : raise Exception(\"컬러 영상 아님\")\n",
    "\n",
    "bgr = cv2.split(image) # 채널 분리 : 컬러영상 --> 3채널 분리\n",
    "print(\"bgr 자료형 : \" , type(bgr) , type(bgr[0]) , type(bgr[0][0][0]))\n",
    "print(\"bgr 원소개수 : \" , len(bgr))\n",
    "\n",
    "cv2.imshow(\"image\" , image)\n",
    "cv2.imshow(\"Blue channel\" , bgr[0])\n",
    "cv2.imshow(\"Green channel\" , bgr[1])\n",
    "cv2.imshow(\"Red channel\" , bgr[2])\n",
    "cv2.waitKey(0)\n",
    "cv2.destoryAllWindows()"
   ]
  },
  {
   "cell_type": "code",
   "execution_count": 3,
   "id": "dcf982ba",
   "metadata": {},
   "outputs": [],
   "source": [
    "# 연산 \n",
    "import numpy as np , cv2\n",
    "\n",
    "m1 = np.full((3 , 6) , 10 , np.uint8)\n",
    "m2 = np.full((3 , 6) , 50 , np.uint8)\n",
    "m_mask = np.zeros(m1.shape , np.uint8)\n",
    "m_mask[: , 3: ] = 1\n",
    "\n",
    "m_add1 = cv2.add(m1 , m2)\n",
    "m_add2 = cv2.add(m1 , m2 , mask = m_mask)\n",
    "\n",
    "m_div1 = cv2.divide(m1 , m2)\n",
    "m1 = m1.astype(np.float32)\n",
    "m2 = np.float32(m2)\n",
    "m_div2 = cv2.divide(m1 , m2)\n",
    "\n",
    "titles = [\"m1\" , \"m2\" , \"m_mask\" , \"m_add1\" , \"m_add2\" , \"m_div1\" , \"m_div2\"]\n",
    "for title in titles:\n",
    "    print(\"[%s] = \\n%s \\n\" %(title , eval(title)))"
   ]
  },
  {
   "cell_type": "code",
   "execution_count": null,
   "id": "e256a589",
   "metadata": {},
   "outputs": [],
   "source": [
    "import numpy as np , cv2\n",
    "\n",
    "image1 = np.zeros((300 ,300) np.uint8)\n",
    "image2 = image1.copy()\n",
    "\n",
    "h , w = image1.shape[:2]\n",
    "cx , cy = w // 2 , h // 2\n",
    "cv2.circle(image1 , (cx , cy) , 100 , 255 , -1)\n",
    "cv2.rectangle(image2 , (0 , 0 , cx , h) , 255 , -1)\n",
    "\n",
    "image3 = cv2.bitwise_or(image1 , image2)\n",
    "image4 = cv2.bitwise_and(image1 , image2)\n",
    "image5 = cv2.bitwise_xor(image1 ,image2)\n",
    "image6 = cv2.bitwise_not(image1)\n",
    "\n",
    "cv2.imshow(\"image1\" , image1); cv2.imshow(\"image2\" , image2)\n",
    "cv2.imshow(\"bitwise_or\" , image3); cv2.imshow(\"bitwise_and\" , image4)\n",
    "cv2.imshow(\"bitwise_xor\" , image5); cv2.imshow(\"bitwise_not\" , image6)\n",
    "cv2.waitKey(0)\n",
    "cv2.destroyAllWindows()"
   ]
  }
 ],
 "metadata": {
  "kernelspec": {
   "display_name": "Python 3 (ipykernel)",
   "language": "python",
   "name": "python3"
  },
  "language_info": {
   "codemirror_mode": {
    "name": "ipython",
    "version": 3
   },
   "file_extension": ".py",
   "mimetype": "text/x-python",
   "name": "python",
   "nbconvert_exporter": "python",
   "pygments_lexer": "ipython3",
   "version": "3.8.10"
  }
 },
 "nbformat": 4,
 "nbformat_minor": 5
}
