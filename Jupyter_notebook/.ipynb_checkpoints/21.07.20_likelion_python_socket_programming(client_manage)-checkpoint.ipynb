{
 "cells": [
  {
   "cell_type": "code",
   "execution_count": null,
   "id": "61667caa",
   "metadata": {},
   "outputs": [],
   "source": [
    "import socket\n",
    "\n",
    "HOST = \"127.0.0.1\"\n",
    "PORT = 9999\n",
    "\n",
    "client_socket = socket.socket(socket.AF_INET , socket.SOCK_STREAM)\n",
    "client_socket.connect((HOST , PORT))\n",
    "\n",
    "while True:\n",
    "    message = input(\"Enter Message : \")\n",
    "    if message == \"quit\":\n",
    "        break\n",
    "    client_socket.send(message.encode())\n",
    "    data = client_socket.recv(1024)\n",
    "\n",
    "    print(\"Received from the server : \" , repr(data.decode()))\n",
    "\n",
    "client_socket.close()"
   ]
  }
 ],
 "metadata": {
  "kernelspec": {
   "display_name": "Python 3.9.5 64-bit ('base': conda)",
   "language": "python",
   "name": "python39564bitbasecondaff88d2da3a154ebfb639a042a46a85ea"
  },
  "language_info": {
   "codemirror_mode": {
    "name": "ipython",
    "version": 3
   },
   "file_extension": ".py",
   "mimetype": "text/x-python",
   "name": "python",
   "nbconvert_exporter": "python",
   "pygments_lexer": "ipython3",
   "version": "3.9.5"
  }
 },
 "nbformat": 4,
 "nbformat_minor": 5
}
