{
 "cells": [
  {
   "cell_type": "code",
   "execution_count": 41,
   "id": "075c79f3",
   "metadata": {
    "scrolled": true
   },
   "outputs": [
    {
     "name": "stdout",
     "output_type": "stream",
     "text": [
      "0 7.151365\n",
      "10000 0.39818698\n",
      "20000 0.3933165\n",
      "30000 0.38951156\n",
      "40000 0.38681692\n",
      "50000 0.38534763\n",
      "60000 0.38256717\n",
      "Accuracy : [0.86595744]\n"
     ]
    }
   ],
   "source": [
    "# 시그모이드 함수 사용\n",
    "import tensorflow.compat.v1 as tf \n",
    "tf.disable_v2_behavior()\n",
    "import numpy as np\n",
    "\n",
    "tf.set_random_seed(0)\n",
    "data = np.loadtxt(\"/Users/panhong/Desktop/coding_study/Likelion_KDT/Jupyter_notebook/ThoraricSurgery.csv\" , delimiter = \",\")\n",
    "\n",
    "x_data = data[:, 0:17]\n",
    "y_data = data[:, [17]]\n",
    "\n",
    "x = tf.placeholder(tf.float32 , shape = [None , 17])\n",
    "y = tf.placeholder(tf.float32 , shape = [None , 1])\n",
    "\n",
    "w1 = tf.Variable(tf.random.normal([17 , 30]))\n",
    "b1 = tf.Variable(tf.random.normal([30]))\n",
    "w2 = tf.Variable(tf.random.normal([30 , 1]))\n",
    "b2 = tf.Variable(tf.random.normal([1]))\n",
    "\n",
    "# 내가 작성한 코드 강사님은 sigmoid를 사용하셨다. 왜?\n",
    "#layer1 = tf.nn.relu(tf.matmul(x , w1) + b1)\n",
    "\n",
    "layer1 = tf.sigmoid(tf.matmul(x , w1) + b1)\n",
    "hypothesis = tf.sigmoid(tf.matmul(layer1 , w2) + b2)\n",
    "\n",
    "cost = -tf.reduce_mean(y * tf.log(hypothesis) + (1 - y) * tf.log(1 - hypothesis))\n",
    "train = tf.train.GradientDescentOptimizer(learning_rate = 0.1).minimize(cost)\n",
    "\n",
    "predicted = tf.cast(hypothesis > 0.5 , dtype = tf.float32)\n",
    "accuracy = tf.reduce_mean(tf.cast(tf.equal(predicted , y) , dtype = tf.float32))\n",
    "\n",
    "with tf.Session() as sess:\n",
    "    sess.run(tf.global_variables_initializer())\n",
    "    for step in range(10001):\n",
    "        cost_val , train_val = sess.run([cost , train] ,feed_dict = {x : x_data , y : y_data})\n",
    "        #sess.run(train , feed_dict = {x : x_data , y : y_data})\n",
    "        if step % 1000 == 0:\n",
    "            print(step , cost_val)\n",
    "            \n",
    "    a = sess.run([accuracy] , feed_dict = {x : x_data , y : y_data})\n",
    "    \n",
    "    print(\"Accuracy :\" , a)"
   ]
  },
  {
   "cell_type": "code",
   "execution_count": 42,
   "id": "fad392e1",
   "metadata": {},
   "outputs": [
    {
     "name": "stdout",
     "output_type": "stream",
     "text": [
      "0 nan\n",
      "1000 nan\n",
      "2000 nan\n",
      "3000 nan\n",
      "4000 nan\n",
      "5000 nan\n",
      "6000 nan\n",
      "7000 nan\n",
      "8000 nan\n",
      "9000 nan\n",
      "10000 nan\n",
      "Accuracy : [0.8510638]\n"
     ]
    }
   ],
   "source": [
    "# 렐루 사용\n",
    "import tensorflow.compat.v1 as tf \n",
    "tf.disable_v2_behavior()\n",
    "import numpy as np\n",
    "\n",
    "tf.set_random_seed(0)\n",
    "data = np.loadtxt(\"/Users/panhong/Desktop/coding_study/Likelion_KDT/Jupyter_notebook/ThoraricSurgery.csv\" , delimiter = \",\")\n",
    "\n",
    "x_data = data[:, 0:17]\n",
    "y_data = data[:, [17]]\n",
    "\n",
    "x = tf.placeholder(tf.float32 , shape = [None , 17])\n",
    "y = tf.placeholder(tf.float32 , shape = [None , 1])\n",
    "\n",
    "w1 = tf.Variable(tf.random.normal([17 , 30]))\n",
    "b1 = tf.Variable(tf.random.normal([30]))\n",
    "w2 = tf.Variable(tf.random.normal([30 , 1]))\n",
    "b2 = tf.Variable(tf.random.normal([1]))\n",
    "\n",
    "# 내가 작성한 코드 강사님은 sigmoid를 사용하셨다. 왜?\n",
    "layer1 = tf.nn.relu(tf.matmul(x , w1) + b1)\n",
    "# layer1 = tf.sigmoid(tf.matmul(x , w1) + b1)\n",
    "hypothesis = tf.sigmoid(tf.matmul(layer1 , w2) + b2)\n",
    "\n",
    "cost = -tf.reduce_mean(y * tf.log(hypothesis) + (1 - y) * tf.log(1 - hypothesis))\n",
    "train = tf.train.GradientDescentOptimizer(learning_rate = 0.1).minimize(cost)\n",
    "\n",
    "predicted = tf.cast(hypothesis > 0.5 , dtype = tf.float32)\n",
    "accuracy = tf.reduce_mean(tf.cast(tf.equal(predicted , y) , dtype = tf.float32))\n",
    "\n",
    "with tf.Session() as sess:\n",
    "    sess.run(tf.global_variables_initializer())\n",
    "    for step in range(10001):\n",
    "        cost_val , train_val = sess.run([cost , train] ,feed_dict = {x : x_data , y : y_data})\n",
    "        #sess.run(train , feed_dict = {x : x_data , y : y_data})\n",
    "        if step % 1000 == 0:\n",
    "            print(step , cost_val)\n",
    "            \n",
    "    a = sess.run([accuracy] , feed_dict = {x : x_data , y : y_data})\n",
    "    \n",
    "    print(\"Accuracy :\" , a)"
   ]
  },
  {
   "cell_type": "code",
   "execution_count": 60,
   "id": "db0aeb2f",
   "metadata": {},
   "outputs": [
    {
     "name": "stdout",
     "output_type": "stream",
     "text": [
      "0 nan\n",
      "1000 nan\n",
      "2000 nan\n",
      "3000 nan\n",
      "4000 nan\n",
      "5000 nan\n",
      "6000 nan\n",
      "7000 nan\n",
      "8000 nan\n",
      "9000 nan\n",
      "10000 nan\n",
      "Accuracy :  [0.8510638]\n"
     ]
    }
   ],
   "source": [
    "import tensorflow.compat.v1 as tf \n",
    "tf.disable_v2_behavior()\n",
    "import numpy as np\n",
    "\n",
    "tf.set_random_seed(0)\n",
    "data = np.loadtxt(\"/Users/panhong/Desktop/coding_study/Likelion_KDT/Jupyter_notebook/ThoraricSurgery.csv\" , delimiter = \",\")\n",
    "\n",
    "x_data = data[: , 0:17]\n",
    "y_data = data[: , [17]]\n",
    "\n",
    "x = tf.placeholder(tf.float32 , shape = [None , 17])\n",
    "y = tf.placeholder(tf.float32 , shape = [None , 1])\n",
    "\n",
    "w1 = tf.Variable(tf.random.normal([17 , 30] , dtype = tf.float32))\n",
    "b1 = tf.Variable(tf.random.normal([30] , dtype = tf.float32))\n",
    "layer1 = tf.nn.relu(tf.matmul(x , w1) + b1)\n",
    "w2 = tf.Variable(tf.random.normal([30 , 1] , dtype = tf.float32))\n",
    "b2 = tf.Variable(tf.random.normal([1] , dtype = tf.float32))\n",
    "hypothesis = tf.sigmoid(tf.matmul(layer1 , w2) + b2)\n",
    "\n",
    "cost = -tf.reduce_mean(tf.log(hypothesis) + (1 - y) * tf.log(1 - hypothesis))\n",
    "train = tf.train.GradientDescentOptimizer(learning_rate = 0.1).minimize(cost)\n",
    "\n",
    "predicted = tf.cast(hypothesis > 0.5 , dtype = tf.float32)\n",
    "accuracy = tf.reduce_mean(tf.cast(tf.equal(predicted , y) , dtype = tf.float32))\n",
    "\n",
    "with tf.Session() as sess: \n",
    "    sess.run(tf.global_variables_initializer())\n",
    "    for step in range(10001):\n",
    "        cost_val , train_val = sess.run([cost , train] , feed_dict = {x : x_data , y : y_data})\n",
    "        if step % 1000 == 0 :\n",
    "            print(step , cost_val)\n",
    "            \n",
    "    a = sess.run([accuracy] , feed_dict = {x : x_data , y : y_data})\n",
    "    print(\"Accuracy : \" , a)"
   ]
  }
 ],
 "metadata": {
  "kernelspec": {
   "display_name": "Python 3.9.5 64-bit ('base': conda)",
   "language": "python",
   "name": "python39564bitbasecondaff88d2da3a154ebfb639a042a46a85ea"
  },
  "language_info": {
   "codemirror_mode": {
    "name": "ipython",
    "version": 3
   },
   "file_extension": ".py",
   "mimetype": "text/x-python",
   "name": "python",
   "nbconvert_exporter": "python",
   "pygments_lexer": "ipython3",
   "version": "3.9.5"
  }
 },
 "nbformat": 4,
 "nbformat_minor": 5
}
