{
 "cells": [
  {
   "cell_type": "code",
   "execution_count": null,
   "id": "1400b3dd",
   "metadata": {},
   "outputs": [
    {
     "name": "stdout",
     "output_type": "stream",
     "text": [
      "Model: \"sequential_1\"\n",
      "_________________________________________________________________\n",
      "Layer (type)                 Output Shape              Param #   \n",
      "=================================================================\n",
      "dense_3 (Dense)              (None, 30)                23550     \n",
      "_________________________________________________________________\n",
      "dense_4 (Dense)              (None, 30)                930       \n",
      "_________________________________________________________________\n",
      "dense_5 (Dense)              (None, 10)                310       \n",
      "=================================================================\n",
      "Total params: 24,790\n",
      "Trainable params: 24,790\n",
      "Non-trainable params: 0\n",
      "_________________________________________________________________\n"
     ]
    },
    {
     "data": {
      "image/png": "[encoded data removed]",
      "text/plain": [
       "<Figure size 432x288 with 1 Axes>"
      ]
     },
     "metadata": {
      "needs_background": "light"
     },
     "output_type": "display_data"
    },
    {
     "data": {
      "image/png": "[encoded data removed]",
      "text/plain": [
       "<Figure size 432x288 with 1 Axes>"
      ]
     },
     "metadata": {
      "needs_background": "light"
     },
     "output_type": "display_data"
    },
    {
     "data": {
      "image/png": "[encoded data removed]",
      "text/plain": [
       "<Figure size 432x288 with 1 Axes>"
      ]
     },
     "metadata": {
      "needs_background": "light"
     },
     "output_type": "display_data"
    }
   ],
   "source": [
    "import tensorflow as tf\n",
    "import sys\n",
    "import os\n",
    "from tensorflow.keras.models import load_model\n",
    "import matplotlib.pyplot as plt\n",
    "import numpy as np\n",
    "import cv2\n",
    "\n",
    "model = load_model(\"/Users/panhong/Desktop/coding_study/Likelion_KDT/Jupyter_notebook/model/21.000000-0.1113.hdf5\")\n",
    "model.summary()\n",
    "\n",
    "test_num = cv2.imread(\"/Users/panhong/Desktop/coding_study/Likelion_KDT/Jupyter_notebook/image/minist_test/2.jpg\")\n",
    "# test_num2 = cv2.imread(\"/Users/panhong/Desktop/coding_study/Likelion_KDT/Jupyter_notebook/image/minist_test/3.jpg\")\n",
    "# test_num3 = cv2.imread(\"/Users/panhong/Desktop/coding_study/Likelion_KDT/Jupyter_notebook/image/minist_test/5.jpg\")\n",
    "\n",
    "for i in range(3):\n",
    "    cv2.cvtColor(test_num , cv2.COLOR_BGR2GRAY)\n",
    "    255 - test_num\n",
    "    test_num = 255 - test_num\n",
    "    plt.imshow(test_num , cmap = \"Greys\");\n",
    "    plt.show()\n",
    "    test_num1 = test_num1.reshape(1, 784).astype(\"float64\") / 255\n",
    "    \n",
    "# test_num1 = cv2.cvtColor(test_num1 , cv2.COLOR_BGR2GRAY)\n",
    "# test_num2 = cv2.cvtColor(test_num2 , cv2.COLOR_BGR2GRAY)\n",
    "# test_num3 = cv2.cvtColor(test_num3 , cv2.COLOR_BGR2GRAY)\n",
    "\n",
    "# test_num1 = 255 - test_num1\n",
    "# test_num2 = 255 - test_num2\n",
    "# test_num3 = 255 - test_num3\n",
    "\n",
    "# plt.imshow(test_num1 , cmap = \"Greys\");\n",
    "# plt.show()\n",
    "# plt.imshow(test_num2 , cmap = \"Greys\");\n",
    "# plt.show()\n",
    "# plt.imshow(test_num3 , cmap = \"Greys\");\n",
    "# plt.show()\n",
    "\n",
    "test_num1 = test_num1.reshape(1, 784).astype(\"float64\") / 255\n",
    "test_num2 = test_num2.reshape(1, 784).astype(\"float64\") / 255\n",
    "test_num3 = test_num3.reshape(1, 784).astype(\"float64\") / 255\n",
    "\n",
    "print(\"The Answer 3 is \" , model.predict_classes(test_num1))\n",
    "print(\"The Answer 6 is \" , model.predict_classes(test_num2))\n",
    "print(\"The Answer 5 is \" , model.predict_classes(test_num3))"
   ]
  },
  {
   "cell_type": "code",
   "execution_count": null,
   "id": "645b0e17",
   "metadata": {},
   "outputs": [],
   "source": []
  }
 ],
 "metadata": {
  "kernelspec": {
   "display_name": "Python 3 (ipykernel)",
   "language": "python",
   "name": "python3"
  },
  "language_info": {
   "codemirror_mode": {
    "name": "ipython",
    "version": 3
   },
   "file_extension": ".py",
   "mimetype": "text/x-python",
   "name": "python",
   "nbconvert_exporter": "python",
   "pygments_lexer": "ipython3",
   "version": "3.8.10"
  }
 },
 "nbformat": 4,
 "nbformat_minor": 5
}
