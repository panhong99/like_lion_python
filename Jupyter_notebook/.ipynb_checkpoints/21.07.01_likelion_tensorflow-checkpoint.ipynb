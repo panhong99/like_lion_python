{
 "cells": [
  {
   "cell_type": "markdown",
   "id": "fa743661",
   "metadata": {},
   "source": [
    "응용 어플리케이션 분야 개발자가 되기 위한 과정 "
   ]
  },
  {
   "cell_type": "markdown",
   "id": "7a90c513",
   "metadata": {},
   "source": [
    "AI기반 기술 딥러닝 라이브러리 => AI응용 어플리케이션 텐서플로우 => AI응용 어플리케이션 케라스"
   ]
  },
  {
   "cell_type": "markdown",
   "id": "73ac216a",
   "metadata": {},
   "source": [
    "딥러닝은 자그마한 통계의 결과들이 무수히 얽히고 설켜 이루어지는 \n",
    "복잡한 연산의 결정체 \n",
    "\n",
    "딥러닝을 이해하려면 딥러닝의 가장 말단에서 이루어지는 가장 기본적인 2가지 계산원리 \n",
    "## 선형회귀와 로지스틱회귀를 알아야 한다."
   ]
  },
  {
   "cell_type": "markdown",
   "id": "dd76d987",
   "metadata": {},
   "source": [
    "일차 함수 , 기울기와 Y절편 \n",
    "\n",
    "함수 : \n",
    "두 집합 사이의 관계를 설명하는 수학 개념 \n",
    "변수 x 와 y가 있을때 x가 변하면 y는 어떤 규칙으로 변하는지를 나타냄 \n",
    "\n",
    "일차 함수 :\n",
    "x가 y에 관한 일차식으로 표현된 경우를 말함 \n",
    "일차 함수식 y = ax + b(a != 0)에서 a는 기울기 , b는 절편이라고 함 \n",
    "\n",
    "x 증가량과 y증가량에 대한 식을 세우고 1차 평면에 선을 그었을때 \n",
    "그선을 y = ??x라는 식의 표현이 된다. \n",
    "\n",
    "x가 주어지고 원하는 y값이 있을때 적절한 a와b를 찾는 것 , 이것이 바로 \n",
    "딥러닝을 표현하는 가장 간단한 방법임"
   ]
  },
  {
   "cell_type": "markdown",
   "id": "672a019c",
   "metadata": {},
   "source": [
    "## 회귀분석\n",
    "\n",
    "y = ax + b(a != 0)\n",
    "\n",
    "회귀식 : 회귀분석에서 변수 간에 관계를 나타내는 수학적 모형 \n",
    "종속변수(y) : 서로 관계를 가지고 있는 변수 중에서 다른 변수에 의해 영향을 받는 변수\n",
    "독립 변수에 따라 종속적으로 변하는 수\n",
    "독립변수(x) : 종속변수에 영향을 주는 수\n",
    "단독적으로 변할 수 있는 수 \n",
    "\n",
    "연봉 = (a * 경력) + (b * 학력) + 기본급\n",
    "종속변수 : 연봉\n",
    "독립변수 : 경력 , 학력\n",
    "기본급은 절편이며 상수\n",
    "\n",
    "## 선형 회귀\n",
    "\n",
    "= 가장 훌륭한 예측선 긋기 \n",
    "\n",
    "머신러닝은 제대로 선을 긋는 작업부터 시작 \n",
    "\n",
    "용어 정리 \n",
    "\n",
    "평균 : 주어진 수의 합을 측정개수로 나눈 값으로 , 대표값 중 하나\n",
    "분산 : 변량들이 퍼져있는 정도 , 분산이 크면 들죽날죽 불안정하다는 의미\n",
    "(그래프가 5 => 50 => 1 이런식이면 불안정하다는 의미)\n",
    "표준편차 : 분산은 수치가 너무 커서 , 제곱근으로 적당하게 줄인 값\n",
    "편차 : 변량 - 평균 \n",
    "\n",
    "## 선형 회귀 분석 조건 \n",
    "\n",
    "독립변수값에 해당하는 종속변수 값들은 정규분포로 이뤄야 하고 \n",
    "모든 정규분포의 분삭(변량들이 퍼져 있는 정도)은 동일해야 함 \n",
    "\n",
    "정규분포 : 통계에서 가장 많이 사용하는 확률분포임 \n",
    "경제 , 경영 , 사회 문제 등의 현상들을 이해하는 데 많이 사용함 \n",
    "평균에 가까울수록 발생할 확률이 높고 , 평균에서 멀어질수록 발생할 확률이 낮음 \n",
    "\n",
    "### 종속 변수의 값들은 모두 통계적으로 서로 독립적이어야 함 \n",
    "\n",
    "100명의 연봉이 종속변수라고 한다면 , 이 100명의 연봉 값들이 서로 간에 \n",
    "영향을 끼치면 안됨\n",
    "ex) a 의 연봉이 오르면 b의 연봉도 오른다 == 안된다.\n",
    "\n",
    "다중회귀분석의 경우 독립변수끼리 다중공선성이 존재하지 않아야 함 \n",
    "\n",
    "학생들의 성적이 [] 에 따라 달라진다.\n",
    "[] <= 정보\n",
    "머신러닝과 딥러닝은 이 정보가 필요함 \n",
    "=> 많은 정보가 더 정확한 예측을 가능케하며 , 이떄의 \"많은 정보\"가 곧 \"빅 데이터\"\n",
    "\n",
    "선형회귀를 공부하는 과정은 이 특징을 가장 잘 나타내는 선을 그리는 과정과 일치 \n",
    "\n",
    "a = 직선의 기울기 \n",
    "b = y축을 지나는 선(절편)\n",
    "\n",
    "x 값에 따라 y 값은 반드시 달라짐 \n",
    "다만 정확하게 계산하려면 상수 a,b의 값을 알아야 함 \n",
    "이 a,b를 찾아가는게 선형회귀\n",
    "\n",
    "기존 데이터(정보)를 가지고 어떤 선이 그려질지 예측한 뒤,\n",
    "아직 답이 나오지 않은 그 무언가를 그 선에 대입해보는것\n",
    "선형 회귀의 개념을 이해하는 것은 딥러닝을 이해하는 중요한 첫걸음 \n",
    "\n",
    "### 정확한 기울기a 와 정확한 y절편의 값 b를 알아내는 간단한 방법\n",
    "### => 최소 제곱법\n",
    "\n",
    "(시그마 공식 , 회귀 , 선형회귀 등등 찾아보기)"
   ]
  },
  {
   "cell_type": "code",
   "execution_count": 2,
   "id": "4a6863a0",
   "metadata": {},
   "outputs": [
    {
     "name": "stdout",
     "output_type": "stream",
     "text": [
      "분모 20.0\n",
      "분자 46.0\n",
      "기울기 a =  2.3\n",
      "y절편 b =  79.0\n"
     ]
    }
   ],
   "source": [
    "import numpy as np\n",
    "x = [2, 4, 6, 8]\n",
    "y = [81 , 93 , 91 , 97]\n",
    "\n",
    "mx = np.mean(x) # mean함수는 np함수로서 해당되는 array의 평균을 출력해준다.\n",
    "my = np.mean(y)\n",
    "\n",
    "divisor = sum([(mx - i) ** 2 for i in x]) # 기울기 공식의 분모\n",
    "\n",
    "# def top(x , mx , y , my):\n",
    "#     d = 0 \n",
    "#     for i in range(len(x)):\n",
    "#         d += (x[i] - mx) * (y[i] - my)\n",
    "#     return d\n",
    "# dividend = top(x , mx , y , my)\n",
    "\n",
    "dividend = sum([(x[i] - mx) * (y[i] - my) for i in range(len(x))])\n",
    "dividend\n",
    "\n",
    "print(\"분모\" ,divisor)\n",
    "print(\"분자\" ,dividend)\n",
    "\n",
    "a = dividend / divisor\n",
    "b = my - (mx * a)\n",
    "\n",
    "print(\"기울기 a = \" , a)\n",
    "print(\"y절편 b = \" , b)"
   ]
  },
  {
   "cell_type": "markdown",
   "id": "414bef00",
   "metadata": {},
   "source": [
    "### 최소 제곱법을 이용한 성적 구하기"
   ]
  },
  {
   "cell_type": "code",
   "execution_count": 3,
   "id": "045b6d80",
   "metadata": {},
   "outputs": [
    {
     "name": "stdout",
     "output_type": "stream",
     "text": [
      "분자 =  46.0\n",
      "분모 =  20.0\n",
      "a =  2.3\n",
      "b =  79.0\n"
     ]
    }
   ],
   "source": [
    "x = [2, 4, 6, 8]\n",
    "y = [81 , 93 , 91 , 97]\n",
    "\n",
    "x_sum = np.mean(x) # 평균구하기\n",
    "y_sum = np.mean(y) \n",
    "\n",
    "# 분모\n",
    "mother = sum([(i - x_sum) ** 2 for i in x]) # 평균에서 평균재료들을 - 한 값에 제곱의 합\n",
    "\n",
    "#분자\n",
    "sun = 0\n",
    "for i in range(len(x)):\n",
    "    sun += sum([(x[i] - x_sum) * (y[i] - y_sum)])\n",
    "    \n",
    "a = sun / mother\n",
    "\n",
    "b = y_sum - (x_sum * a)\n",
    "\n",
    "b\n",
    "\n",
    "print(\"분자 = \" , sun)\n",
    "print(\"분모 = \" , mother)\n",
    "print(\"a = \" , a)\n",
    "print(\"b = \" , b)"
   ]
  },
  {
   "cell_type": "markdown",
   "id": "0cc54baf",
   "metadata": {},
   "source": [
    "물고기 크기 구하기(최소 제곱법)"
   ]
  },
  {
   "cell_type": "code",
   "execution_count": 4,
   "id": "f80bb061",
   "metadata": {},
   "outputs": [
    {
     "name": "stdout",
     "output_type": "stream",
     "text": [
      "분자 =  7.375\n",
      "분모 =  42.0\n",
      "기울기 a =  0.176\n",
      "y절편 =  -0.034\n",
      "15주 후의 크기 :  2.6 cm\n",
      "25주 후의 크기 :  4.356 cm\n",
      "77주 후의 크기 :  13.487 cm\n",
      "5주차 예상치와 차이 :  0.05600000000000005 cm\n"
     ]
    }
   ],
   "source": [
    "MaxSize = 30\n",
    "Time = [1,2,3,4,5,6,7,8]\n",
    "Size = [0.2 , 0.3 , 0.5 , 0.6 , 0.9 , 0.95 , 1.1 , 1.5]\n",
    "\n",
    "tx = np.mean(Time)\n",
    "sx = np.mean(Size)\n",
    "\n",
    "mother = sum([(i - tx) ** 2 for i in Time])\n",
    "\n",
    "\n",
    "sun = 0\n",
    "for i in range(len(Time)):\n",
    "    sun += sum([(Time[i] - tx) * (Size[i] - sx)])\n",
    "\n",
    "sun\n",
    "\n",
    "a = sun / mother\n",
    "b = sx - (tx * a)\n",
    "\n",
    "print(\"분자 = \" , sun )\n",
    "print(\"분모 = \" , mother )\n",
    "print(\"기울기 a = \" , round(a ,3) )\n",
    "print(\"y절편 = \" , round(b,3) )\n",
    "\n",
    "def size(x):\n",
    "    v = a * x + b\n",
    "    return MaxSize if v > MaxSize else round(v , 3)\n",
    "print(\"15주 후의 크기 : \" , size(15), \"cm\" )\n",
    "print(\"25주 후의 크기 : \" , size(25), \"cm\" )\n",
    "print(\"77주 후의 크기 : \" , size(77), \"cm\" )\n",
    "print(\"5주차 예상치와 차이 : \" , (0.9 - size(5)) , \"cm\")"
   ]
  },
  {
   "cell_type": "markdown",
   "id": "4d2c76c2",
   "metadata": {},
   "source": [
    "최소 제곱법의 오차 \n",
    "=>여러개의 입력이 있는 경우 최소 제곱법만으로는 한계가 있음 \n",
    "\n",
    "결과가 단 하나의 원인에 의해 영향을 받는 단순한 경우 이외에 , 결과가 여러 원인에 \n",
    "의해 영향을 받는 복잡한 경우 또한 있을 수 있음 \n",
    "\n",
    "ex) 벚꽃의 개화 날짜는 온도 , 강수량 , 태양 복사와 같은 다양한 요인의 영향을 받음\n",
    "\n",
    "여러 원인이 존재하는 경우에 대해서는 여러 독립변수 x1 , x2 를 준비하고 \n",
    "하나의 종속 변수 y 를 설명하는 회귀 방정식을 공식화 하여야함 \n",
    "\n",
    "벡터(행렬)를 베타라고 하면 , 베타를 구하는 공식이 x 행렬과 x 행렬과 y 행렬의 식 존재\n",
    "\n",
    "정확한 기울기와 절편이 존재하지 않더라도 비슷한 기울기는 구할수 있어야한다.\n",
    "\n",
    "최소제곱근은 데이터중에 보통 outlier(정상적인 데이터 분포에서 동떨어진 데이터)\n",
    "라고 불리는 이상한 데이터가 있으면 적용하기 힘듦\n",
    "\n",
    "딥러닝은 대부분 값이 여러개인 상황에서 이를 해결해야 함!\n",
    "\n",
    "데이터가 굉장히 많은데 마이닝 중 아웃라이어가 있다면 과감히 아웃라이어는 버려야 한다.\n",
    "\n",
    "여러개의 입력 값을 계산하는 방법 \n",
    "임의의 선을 그리고 난 후 \n",
    "이 선이 얼마나 잘 그려졌는지를 평가하여 \n",
    "조금씩 수정해 가는 방법을 사용 \n",
    "\n",
    "이를 위해 주어진 선의 오차를 평가하는 오차 평가 알고리즘 필요\n",
    "=> 가장 많이 사용되는 방법 : 평균 제곱근 오차\n",
    "\n",
    "각 선의 오차를 계산할 수 있어야 한다.\n",
    "이 오차는 주어진 데이터와 예측된 데이터와의 차이를 의미\n",
    "이 오차가 작은쪽으로 바꾸는 알고리즘이 필요하다.\n",
    "\n",
    "그래프의 기울기가 잘못 되었을수록 붉은색 선의 거리의 합 , 즉 오차의 합도 커짐 \n",
    "\n",
    "오차의 합을 n으로 나누면 오차 합의 평균을 구할 수 있음\n",
    "\n",
    "평균 제곱 오차(Mean Squared Erroe , MSE)\n",
    "평균 제곱근 오차(Root Mean Squared Error)\n",
    "\n",
    "평균 제곱 오차 또는 평균 제곱근 오차는 오차를 계산해서 앞선 추론이 잘 되었는지 \n",
    "평가하는 대표적인 공식 \n",
    "\n",
    "잘못 그은 선 바로잡기는 곧 \"평균 제곱근 오차\"의 계산 결과가 가장 작은 선을찾는 작업\n"
   ]
  },
  {
   "cell_type": "code",
   "execution_count": 5,
   "id": "640efd2c",
   "metadata": {},
   "outputs": [
    {
     "name": "stdout",
     "output_type": "stream",
     "text": [
      "분자 =  46.0\n",
      "분모 =  20.0\n",
      "a =  2.3\n",
      "b =  79.0\n"
     ]
    }
   ],
   "source": [
    "import numpy as np\n",
    "\n",
    "x = [2, 4, 6, 8]\n",
    "y = [81 , 93 , 91 , 97]\n",
    "\n",
    "x_sum = np.mean(x) # 평균구하기\n",
    "y_sum = np.mean(y) \n",
    "\n",
    "# 분모\n",
    "mother = sum([(i - x_sum) ** 2 for i in x]) # 평균에서 평균재료들을 - 한 값에 제곱의 합\n",
    "\n",
    "#분자\n",
    "sun = 0\n",
    "for i in range(len(x)):\n",
    "    sun += sum([(x[i] - x_sum) * (y[i] - y_sum)])\n",
    "    \n",
    "a = sun / mother\n",
    "\n",
    "b = y_sum - (x_sum * a)\n",
    "\n",
    "b\n",
    "\n",
    "print(\"분자 = \" , sun)\n",
    "print(\"분모 = \" , mother)\n",
    "print(\"a = \" , a)\n",
    "print(\"b = \" , b)\n"
   ]
  },
  {
   "cell_type": "code",
   "execution_count": 9,
   "id": "04a62a2b",
   "metadata": {},
   "outputs": [
    {
     "data": {
      "text/plain": [
       "array([1., 5., 3., 3.])"
      ]
     },
     "execution_count": 9,
     "metadata": {},
     "output_type": "execute_result"
    }
   ],
   "source": [
    "data = [[2,81] , [4, 93] , [6,91] , [8 , 97]]\n",
    "ab = [3 , 76]\n",
    "\n",
    "xm = [i[0] for i in data]\n",
    "ym = [i[1] for i in data]\n",
    "\n",
    "total = []\n",
    "for i in range(len(xm)):\n",
    "    total.append((ab[0] * xm[i] + ab[1] - ym[i])**2)\n",
    "    \n",
    "np.mean(total)\n",
    "np.sqrt(total)"
   ]
  },
  {
   "cell_type": "code",
   "execution_count": 1,
   "id": "98e99b82",
   "metadata": {},
   "outputs": [
    {
     "name": "stdout",
     "output_type": "stream",
     "text": [
      "공부한 시간 = 2 , 실제 점수 = 81 , 예측점수 = 82\n",
      "공부한 시간 = 4 , 실제 점수 = 93 , 예측점수 = 88\n",
      "공부한 시간 = 6 , 실제 점수 = 91 , 예측점수 = 94\n",
      "공부한 시간 = 8 , 실제 점수 = 97 , 예측점수 = 100\n",
      "[82, 88, 94, 100]\n",
      "[81, 93, 91, 97]\n",
      "rmse 최종값 : 3.3166247903554\n"
     ]
    }
   ],
   "source": [
    "import numpy as np\n",
    "\n",
    "ab = [3 ,76]\n",
    "\n",
    "data = [[2,81] , [4,93] , [6,91] , [8,97]]\n",
    "x = [i[0] for i in data]\n",
    "y = [i[1] for i in data]\n",
    "\n",
    "def predict(x):\n",
    "    return ab[0] * x + ab[1]\n",
    "\n",
    "#rmse 함수\n",
    "def rmse(p , a):\n",
    "    return np.sqrt(((p - a) ** 2).mean()) # <= 순서도는 괄호순서대로이고 p - a 를 했을때 어떻게 mean이 작동할수 있는지\n",
    "# 의문이었는데 실험을 해보니 자연스레 np.array로 배열이 구성되어 있었고 그 구성의 평균을 구하고 그 평균값의 제곱을 출력해주는 형태였다.\n",
    "# rmse 함수를 각 y값에 대입하여 최종 값을 구하는 함수\n",
    "def rmse_val(predict_result , y):\n",
    "    return rmse(np.array(predict_result) , np.array(y)) # <= 함수내에서 rmse함수의 매개변수 입력 후 rmse함수 결과값을 return\n",
    "# 예측값이 들어갈 빈 리스트 \n",
    "predict_result = []\n",
    "\n",
    "for i in range(len(x)):\n",
    "    predict_result.append(predict(x[i])) # <= 여기서 predict함수의 매개변수 입력 \n",
    "    print(\"공부한 시간 = %.f , 실제 점수 = %.f , 예측점수 = %.f\"\n",
    "         %(x[i] , y[i] , predict(x[i]))) # <= predict[x[i]] 함수발동 후 return 값을 입력 \n",
    "    \n",
    "print(predict_result)\n",
    "print(y)\n",
    "print(\"rmse 최종값 : \" + str(rmse_val(predict_result , y)))"
   ]
  },
  {
   "cell_type": "code",
   "execution_count": 12,
   "id": "1b4b2062",
   "metadata": {},
   "outputs": [
    {
     "name": "stdout",
     "output_type": "stream",
     "text": [
      "주수 = 2 , 실제 크기 = 81.00 , 예측점수 = 0\n",
      "주수 = 4 , 실제 크기 = 93.00 , 예측점수 = 1\n",
      "주수 = 6 , 실제 크기 = 91.00 , 예측점수 = 1\n",
      "주수 = 8 , 실제 크기 = 97.00 , 예측점수 = 1\n",
      "[0.31728, 0.6684800000000001, 1.0196800000000001, 1.37088]\n",
      "[81, 93, 91, 97]\n",
      "rmse 최종값 : 89.82788747291345\n"
     ]
    }
   ],
   "source": [
    "ab = [0.1756 , - 0.03392]\n",
    "data = [[1,0.2] , [2,0.3] , [3,0.5] , [4,0.6] , [5,0.9] , [6,0.95] , [7 , 1.1] , [8 , 1.5]]\n",
    "fish_Time = [i[0] for i in data]\n",
    "fish_Size = [i[1] for i in data]\n",
    "\n",
    "def rmse(p , a):\n",
    "    return np.sqrt(((p - a) ** 2).mean())\n",
    "\n",
    "def rmse_val(predict_result , y):\n",
    "    return rmse(np.array(predict_result) , np.array(y))\n",
    " \n",
    "predict_result = []\n",
    "\n",
    "for i in range(len(x)):\n",
    "    predict_result.append(predict(x[i]))\n",
    "    print(\"주수 = %.f , 실제 크기 = %.2f , 예측크기 = %.f\"\n",
    "         %(x[i] , y[i] , predict(x[i])))\n",
    "    \n",
    "print(predict_result)\n",
    "print(y)\n",
    "print(\"rmse 최종값 : \" + str(rmse_val(predict_result , y)))\n",
    "    "
   ]
  }
 ],
 "metadata": {
  "kernelspec": {
   "display_name": "Python 3",
   "language": "python",
   "name": "python3"
  },
  "language_info": {
   "codemirror_mode": {
    "name": "ipython",
    "version": 3
   },
   "file_extension": ".py",
   "mimetype": "text/x-python",
   "name": "python",
   "nbconvert_exporter": "python",
   "pygments_lexer": "ipython3",
   "version": "3.9.5"
  }
 },
 "nbformat": 4,
 "nbformat_minor": 5
}
