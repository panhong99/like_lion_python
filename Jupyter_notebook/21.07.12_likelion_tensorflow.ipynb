{
 "cells": [
  {
   "cell_type": "code",
   "execution_count": 41,
   "id": "61a90483",
   "metadata": {
    "scrolled": true
   },
   "outputs": [
    {
     "name": "stdout",
     "output_type": "stream",
     "text": [
      "0 7.151365\n",
      "10000 0.39818698\n",
      "20000 0.3933165\n",
      "30000 0.38951156\n",
      "40000 0.38681692\n",
      "50000 0.38534763\n",
      "60000 0.38256717\n",
      "Accuracy : [0.86595744]\n"
     ]
    }
   ],
   "source": [
    "# 시그모이드 함수 사용\n",
    "import tensorflow.compat.v1 as tf \n",
    "tf.disable_v2_behavior()\n",
    "import numpy as np\n",
    "\n",
    "tf.set_random_seed(0)\n",
    "data = np.loadtxt(\"/Users/panhong/Desktop/coding_study/Likelion_KDT/Jupyter_notebook/ThoraricSurgery.csv\" , delimiter = \",\")\n",
    "\n",
    "x_data = data[:, 0:17]\n",
    "y_data = data[:, [17]]\n",
    "\n",
    "x = tf.placeholder(tf.float32 , shape = [None , 17])\n",
    "y = tf.placeholder(tf.float32 , shape = [None , 1])\n",
    "\n",
    "w1 = tf.Variable(tf.random.normal([17 , 30]))\n",
    "b1 = tf.Variable(tf.random.normal([30]))\n",
    "w2 = tf.Variable(tf.random.normal([30 , 1]))\n",
    "b2 = tf.Variable(tf.random.normal([1]))\n",
    "\n",
    "# 내가 작성한 코드 강사님은 sigmoid를 사용하셨다. 왜?\n",
    "#layer1 = tf.nn.relu(tf.matmul(x , w1) + b1)\n",
    "\n",
    "layer1 = tf.sigmoid(tf.matmul(x , w1) + b1)\n",
    "hypothesis = tf.sigmoid(tf.matmul(layer1 , w2) + b2)\n",
    "\n",
    "cost = -tf.reduce_mean(y * tf.log(hypothesis) + (1 - y) * tf.log(1 - hypothesis))\n",
    "train = tf.train.GradientDescentOptimizer(learning_rate = 0.1).minimize(cost)\n",
    "\n",
    "predicted = tf.cast(hypothesis > 0.5 , dtype = tf.float32)\n",
    "accuracy = tf.reduce_mean(tf.cast(tf.equal(predicted , y) , dtype = tf.float32))\n",
    "\n",
    "with tf.Session() as sess:\n",
    "    sess.run(tf.global_variables_initializer())\n",
    "    for step in range(10001):\n",
    "        cost_val , train_val = sess.run([cost , train] ,feed_dict = {x : x_data , y : y_data})\n",
    "        #sess.run(train , feed_dict = {x : x_data , y : y_data})\n",
    "        if step % 1000 == 0:\n",
    "            print(step , cost_val)\n",
    "            \n",
    "    a = sess.run([accuracy] , feed_dict = {x : x_data , y : y_data})\n",
    "    \n",
    "    print(\"Accuracy :\" , a)"
   ]
  },
  {
   "cell_type": "code",
   "execution_count": 42,
   "id": "c9966567",
   "metadata": {},
   "outputs": [
    {
     "name": "stdout",
     "output_type": "stream",
     "text": [
      "0 nan\n",
      "1000 nan\n",
      "2000 nan\n",
      "3000 nan\n",
      "4000 nan\n",
      "5000 nan\n",
      "6000 nan\n",
      "7000 nan\n",
      "8000 nan\n",
      "9000 nan\n",
      "10000 nan\n",
      "Accuracy : [0.8510638]\n"
     ]
    }
   ],
   "source": [
    "# 렐루 사용\n",
    "import tensorflow.compat.v1 as tf \n",
    "tf.disable_v2_behavior()\n",
    "import numpy as np\n",
    "\n",
    "tf.set_random_seed(0)\n",
    "data = np.loadtxt(\"/Users/panhong/Desktop/coding_study/Likelion_KDT/Jupyter_notebook/ThoraricSurgery.csv\" , delimiter = \",\")\n",
    "\n",
    "x_data = data[:, 0:17]\n",
    "y_data = data[:, [17]]\n",
    "\n",
    "x = tf.placeholder(tf.float32 , shape = [None , 17])\n",
    "y = tf.placeholder(tf.float32 , shape = [None , 1])\n",
    "\n",
    "w1 = tf.Variable(tf.random.normal([17 , 30]))\n",
    "b1 = tf.Variable(tf.random.normal([30]))\n",
    "w2 = tf.Variable(tf.random.normal([30 , 1]))\n",
    "b2 = tf.Variable(tf.random.normal([1]))\n",
    "\n",
    "# 내가 작성한 코드 강사님은 sigmoid를 사용하셨다. 왜?\n",
    "layer1 = tf.nn.relu(tf.matmul(x , w1) + b1)\n",
    "# layer1 = tf.sigmoid(tf.matmul(x , w1) + b1)\n",
    "hypothesis = tf.sigmoid(tf.matmul(layer1 , w2) + b2)\n",
    "\n",
    "cost = -tf.reduce_mean(y * tf.log(hypothesis) + (1 - y) * tf.log(1 - hypothesis))\n",
    "train = tf.train.GradientDescentOptimizer(learning_rate = 0.1).minimize(cost)\n",
    "\n",
    "predicted = tf.cast(hypothesis > 0.5 , dtype = tf.float32)\n",
    "accuracy = tf.reduce_mean(tf.cast(tf.equal(predicted , y) , dtype = tf.float32))\n",
    "\n",
    "with tf.Session() as sess:\n",
    "    sess.run(tf.global_variables_initializer())\n",
    "    for step in range(10001):\n",
    "        cost_val , train_val = sess.run([cost , train] ,feed_dict = {x : x_data , y : y_data})\n",
    "        #sess.run(train , feed_dict = {x : x_data , y : y_data})\n",
    "        if step % 1000 == 0:\n",
    "            print(step , cost_val)\n",
    "            \n",
    "    a = sess.run([accuracy] , feed_dict = {x : x_data , y : y_data})\n",
    "    \n",
    "    print(\"Accuracy :\" , a)"
   ]
  },
  {
   "cell_type": "code",
   "execution_count": 56,
   "id": "8db55415",
   "metadata": {},
   "outputs": [
    {
     "ename": "ValueError",
     "evalue": "Cannot feed value of shape (470,) for Tensor 'Placeholder_37:0', which has shape '(?, 1)'",
     "output_type": "error",
     "traceback": [
      "\u001b[0;31m---------------------------------------------------------------------------\u001b[0m",
      "\u001b[0;31mValueError\u001b[0m                                Traceback (most recent call last)",
      "\u001b[0;32m<ipython-input-56-46da4463090e>\u001b[0m in \u001b[0;36m<module>\u001b[0;34m\u001b[0m\n\u001b[1;32m     27\u001b[0m     \u001b[0msess\u001b[0m\u001b[0;34m.\u001b[0m\u001b[0mrun\u001b[0m\u001b[0;34m(\u001b[0m\u001b[0mtf\u001b[0m\u001b[0;34m.\u001b[0m\u001b[0mglobal_variables_initializer\u001b[0m\u001b[0;34m(\u001b[0m\u001b[0;34m)\u001b[0m\u001b[0;34m)\u001b[0m\u001b[0;34m\u001b[0m\u001b[0;34m\u001b[0m\u001b[0m\n\u001b[1;32m     28\u001b[0m     \u001b[0;32mfor\u001b[0m \u001b[0mstep\u001b[0m \u001b[0;32min\u001b[0m \u001b[0mrange\u001b[0m\u001b[0;34m(\u001b[0m\u001b[0;36m1000\u001b[0m\u001b[0;34m)\u001b[0m\u001b[0;34m:\u001b[0m\u001b[0;34m\u001b[0m\u001b[0;34m\u001b[0m\u001b[0m\n\u001b[0;32m---> 29\u001b[0;31m         \u001b[0mcost_val\u001b[0m \u001b[0;34m,\u001b[0m \u001b[0mtrain_val\u001b[0m \u001b[0;34m=\u001b[0m \u001b[0msess\u001b[0m\u001b[0;34m.\u001b[0m\u001b[0mrun\u001b[0m\u001b[0;34m(\u001b[0m\u001b[0;34m[\u001b[0m\u001b[0mcost\u001b[0m \u001b[0;34m,\u001b[0m \u001b[0mtrain\u001b[0m\u001b[0;34m]\u001b[0m \u001b[0;34m,\u001b[0m \u001b[0mfeed_dict\u001b[0m \u001b[0;34m=\u001b[0m \u001b[0;34m{\u001b[0m\u001b[0mx\u001b[0m \u001b[0;34m:\u001b[0m \u001b[0mx_data\u001b[0m \u001b[0;34m,\u001b[0m \u001b[0my\u001b[0m \u001b[0;34m:\u001b[0m \u001b[0my_data\u001b[0m\u001b[0;34m}\u001b[0m\u001b[0;34m)\u001b[0m\u001b[0;34m\u001b[0m\u001b[0;34m\u001b[0m\u001b[0m\n\u001b[0m\u001b[1;32m     30\u001b[0m         \u001b[0;32mif\u001b[0m \u001b[0mstep\u001b[0m \u001b[0;34m%\u001b[0m \u001b[0;36m100\u001b[0m \u001b[0;34m==\u001b[0m \u001b[0;36m0\u001b[0m \u001b[0;34m:\u001b[0m\u001b[0;34m\u001b[0m\u001b[0;34m\u001b[0m\u001b[0m\n\u001b[1;32m     31\u001b[0m             \u001b[0mprint\u001b[0m\u001b[0;34m(\u001b[0m\u001b[0mstep\u001b[0m \u001b[0;34m,\u001b[0m \u001b[0mcost_val\u001b[0m\u001b[0;34m)\u001b[0m\u001b[0;34m\u001b[0m\u001b[0;34m\u001b[0m\u001b[0m\n",
      "\u001b[0;32m~/miniforge3/lib/python3.9/site-packages/tensorflow/python/client/session.py\u001b[0m in \u001b[0;36mrun\u001b[0;34m(self, fetches, feed_dict, options, run_metadata)\u001b[0m\n\u001b[1;32m    965\u001b[0m \u001b[0;34m\u001b[0m\u001b[0m\n\u001b[1;32m    966\u001b[0m     \u001b[0;32mtry\u001b[0m\u001b[0;34m:\u001b[0m\u001b[0;34m\u001b[0m\u001b[0;34m\u001b[0m\u001b[0m\n\u001b[0;32m--> 967\u001b[0;31m       result = self._run(None, fetches, feed_dict, options_ptr,\n\u001b[0m\u001b[1;32m    968\u001b[0m                          run_metadata_ptr)\n\u001b[1;32m    969\u001b[0m       \u001b[0;32mif\u001b[0m \u001b[0mrun_metadata\u001b[0m\u001b[0;34m:\u001b[0m\u001b[0;34m\u001b[0m\u001b[0;34m\u001b[0m\u001b[0m\n",
      "\u001b[0;32m~/miniforge3/lib/python3.9/site-packages/tensorflow/python/client/session.py\u001b[0m in \u001b[0;36m_run\u001b[0;34m(self, handle, fetches, feed_dict, options, run_metadata)\u001b[0m\n\u001b[1;32m   1162\u001b[0m           if (not is_tensor_handle_feed and\n\u001b[1;32m   1163\u001b[0m               not subfeed_t.get_shape().is_compatible_with(np_val.shape)):\n\u001b[0;32m-> 1164\u001b[0;31m             raise ValueError(\n\u001b[0m\u001b[1;32m   1165\u001b[0m                 \u001b[0;34m'Cannot feed value of shape %r for Tensor %r, '\u001b[0m\u001b[0;34m\u001b[0m\u001b[0;34m\u001b[0m\u001b[0m\n\u001b[1;32m   1166\u001b[0m                 \u001b[0;34m'which has shape %r'\u001b[0m \u001b[0;34m%\u001b[0m\u001b[0;34m\u001b[0m\u001b[0;34m\u001b[0m\u001b[0m\n",
      "\u001b[0;31mValueError\u001b[0m: Cannot feed value of shape (470,) for Tensor 'Placeholder_37:0', which has shape '(?, 1)'"
     ]
    }
   ],
   "source": [
    "import tensorflow.compat.v1 as tf \n",
    "tf.disable_v2_behavior()\n",
    "import numpy as np\n",
    "\n",
    "data = np.loadtxt(\"/Users/panhong/Desktop/coding_study/Likelion_KDT/Jupyter_notebook/ThoraricSurgery.csv\" , delimiter = \",\")\n",
    "\n",
    "x_data = data[: , :17]\n",
    "y_data = data[: , 17]\n",
    "\n",
    "x = tf.placeholder(tf.float32 , shape = [None , 17])\n",
    "y = tf.placeholder(tf.float32 , shape = [None , 1])\n",
    "\n",
    "w1 = tf.Variable(tf.random.normal([17 , 30] , dtype = tf.float32))\n",
    "b1 = tf.Variable(tf.random.normal([30] , dtype = tf.float32))\n",
    "layer1 = tf.sigmoid(tf.matmul(x , w1) + b1)\n",
    "w2 = tf.Variable(tf.random.normal([30 , 1] , dtype = tf.float32))\n",
    "b2 = tf.Variable(tf.random.normal([1] , dtype = tf.float32))\n",
    "hypothesis = tf.sigmoid(tf.matmul(layer1 , w2) + b2)\n",
    "\n",
    "cost = -tf.reduce_mean(tf.log(hypothesis) + (1 - y) * tf.log(1 - hypothesis))\n",
    "train = tf.train.GradientDescentOptimizer(learning_rate = 0.1).minimize(cost)\n",
    "\n",
    "predicted = tf.cast(hypothesis > 0.5 , dtype = tf.float32)\n",
    "accuracy = tf.reduce_mean(tf.cast(tf.equal(predicted , y) , dtype = tf.float32))\n",
    "\n",
    "with tf.Session() as sess: \n",
    "    sess.run(tf.global_variables_initializer())\n",
    "    for step in range(1000):\n",
    "        cost_val , train_val = sess.run([cost , train] , feed_dict = {x : x_data , y : y_data})\n",
    "        if step % 100 == 0 :\n",
    "            print(step , cost_val)\n",
    "            \n",
    "    a = sess.run([accuracy] , feed_dict = {x : x_data , y : y_data})\n",
    "    print(\"Accuracy : \" , a)"
   ]
  },
  {
   "cell_type": "code",
   "execution_count": null,
   "id": "7dcc16bc",
   "metadata": {},
   "outputs": [],
   "source": []
  }
 ],
 "metadata": {
  "kernelspec": {
   "display_name": "Python 3.9.5 64-bit ('base': conda)",
   "language": "python",
   "name": "python39564bitbasecondaff88d2da3a154ebfb639a042a46a85ea"
  },
  "language_info": {
   "codemirror_mode": {
    "name": "ipython",
    "version": 3
   },
   "file_extension": ".py",
   "mimetype": "text/x-python",
   "name": "python",
   "nbconvert_exporter": "python",
   "pygments_lexer": "ipython3",
   "version": "3.9.5"
  }
 },
 "nbformat": 4,
 "nbformat_minor": 5
}
