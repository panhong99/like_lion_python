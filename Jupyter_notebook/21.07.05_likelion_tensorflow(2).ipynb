{
 "cells": [
  {
   "cell_type": "code",
   "execution_count": 2,
   "id": "169c8034",
   "metadata": {},
   "outputs": [],
   "source": [
    "import tensorflow as tf"
   ]
  },
  {
   "cell_type": "code",
   "execution_count": 5,
   "id": "59798c81",
   "metadata": {},
   "outputs": [
    {
     "name": "stdout",
     "output_type": "stream",
     "text": [
      "3.0 4.0\n",
      "7.0\n",
      "3 4\n",
      "7\n"
     ]
    }
   ],
   "source": [
    "# tensorflow2.xx 버전에서의 출력구문 \n",
    "#확실히 Session구문을 사용하지 않았지만 변수.numpy()를 사용해주었고\n",
    "#print를 단독으로 사용하지 않았고 tf.print를 사용해서 출력했다.\n",
    "node1 = tf.constant(3.0)\n",
    "node2 = tf.constant(4.0)\n",
    "node3 = tf.add(node1 , node2)\n",
    "\n",
    "# numpy로 만들어주면 원하는 출력값 바로 출력가능\n",
    "print(node1.numpy() , node2.numpy()) # numpy로 만들어줌 \n",
    "print(node3.numpy())\n",
    "\n",
    "tf.print(node1 , node2) \n",
    "tf.print(node3)"
   ]
  },
  {
   "cell_type": "code",
   "execution_count": 6,
   "id": "c9e82aa6",
   "metadata": {},
   "outputs": [
    {
     "name": "stdout",
     "output_type": "stream",
     "text": [
      "tf.Tensor(b'Hello world', shape=(), dtype=string)\n",
      "b'Hello world'\n"
     ]
    }
   ],
   "source": [
    "hello = tf.constant(\"Hello world\")\n",
    "print(hello) # numpy를 사용하지 않으면 출력이 tensor이 출력됨 \n",
    "print(hello.numpy()) # numpy로 만들어주어야 원하는 출력값이 출력"
   ]
  },
  {
   "cell_type": "code",
   "execution_count": 10,
   "id": "f72a682f",
   "metadata": {},
   "outputs": [
    {
     "name": "stdout",
     "output_type": "stream",
     "text": [
      "add =  5\n",
      "sub =  -1\n",
      "mul =  6\n",
      "div =  0.6666666666666666\n",
      "mean =  3\n",
      "sum =  10\n",
      "tf.Tensor(\n",
      "[[19 22]\n",
      " [43 50]], shape=(2, 2), dtype=int32)\n",
      "[[19 22]\n",
      " [43 50]]\n"
     ]
    }
   ],
   "source": [
    "a = tf.constant(2)\n",
    "b = tf.constant(3)\n",
    "c = tf.constant(5)\n",
    "\n",
    "add = tf.add(a , b) # 더하기\n",
    "sub = tf.subtract(a , b)  # 빼기\n",
    "mul = tf.multiply(a , b) # 곱하기\n",
    "div = tf.divide(a , b) # 나누기\n",
    "\n",
    "print(\"add = \" , add.numpy()) # numpy배열로 변경 및 원하는 출력값 출력\n",
    "print(\"sub = \" , sub.numpy())\n",
    "print(\"mul = \" , mul.numpy())\n",
    "print(\"div = \" , div.numpy())\n",
    "\n",
    "mean = tf.reduce_mean([a,b,c]) # 해당 배열의 평균 \n",
    "sum = tf.reduce_sum([a,b,c]) # 해당 배열의 총합 \n",
    "\n",
    "print(\"mean = \" , mean.numpy()) # 출력값\n",
    "print(\"sum = \" , sum.numpy()) \n",
    "\n",
    "matrix1 = tf.constant([[1,2] , [3,4]]) # 2 x 2 2차원 리스트 생성 \n",
    "matrix2 = tf.constant([[5,6] , [7,8]]) \n",
    "product = tf.matmul(matrix1 , matrix2) # 행열 곱셈 2x2,2x2 = 2x2배열탄생 \n",
    "\n",
    "print(product) # tf.Tensor 출력\n",
    "print(product.numpy()) # 곱셈 값 출력"
   ]
  },
  {
   "cell_type": "code",
   "execution_count": 4,
   "id": "edb0a663",
   "metadata": {},
   "outputs": [
    {
     "name": "stdout",
     "output_type": "stream",
     "text": [
      "WARNING:tensorflow:From /Users/panhong/miniforge3/lib/python3.9/site-packages/tensorflow/python/compat/v2_compat.py:96: disable_resource_variables (from tensorflow.python.ops.variable_scope) is deprecated and will be removed in a future version.\n",
      "Instructions for updating:\n",
      "non-resource variables are not supported in the long term\n"
     ]
    }
   ],
   "source": [
    "import tensorflow.compat.v1 as tf\n",
    "tf.compat.v1.disable_v2_behavior()\n"
   ]
  },
  {
   "cell_type": "code",
   "execution_count": 5,
   "id": "a7270849",
   "metadata": {},
   "outputs": [
    {
     "name": "stdout",
     "output_type": "stream",
     "text": [
      "[7.0, 4.0]\n",
      "7.0\n"
     ]
    }
   ],
   "source": [
    "node1 = tf.constant(3.0) # constant변수로 상수 설정 \n",
    "node2 = tf.constant(4.0)\n",
    "node3 = tf.add(node1 , node2) # add 함수로 연산실행\n",
    "sess = tf.Session() # Session을 지정함으로서 원하는 연산결과 출력요구\n",
    "\n",
    "print(sess.run([node1 , node2])) # print로 ()안의 변수들의 값 출력\n",
    "print(sess.run(node3)) # node3는 연산구문이므로 연산된 값 출력\n",
    "\n",
    "sess.close() # sess close"
   ]
  },
  {
   "cell_type": "code",
   "execution_count": 6,
   "id": "182bea4d",
   "metadata": {},
   "outputs": [
    {
     "name": "stdout",
     "output_type": "stream",
     "text": [
      "Epoch: 0.000000 , RMSE = 30.2139 , 기울기 a = 7.5235 , y절편 b = 80.5984\n",
      "Epoch: 100.000000 , RMSE = 2.8860 , 기울기 a = 2.2299 , y절편 b = 79.4181\n",
      "Epoch: 200.000000 , RMSE = 2.8826 , 기울기 a = 2.2601 , y절편 b = 79.2379\n",
      "Epoch: 300.000000 , RMSE = 2.8815 , 기울기 a = 2.2773 , y절편 b = 79.1353\n",
      "Epoch: 400.000000 , RMSE = 2.8811 , 기울기 a = 2.2871 , y절편 b = 79.0770\n",
      "Epoch: 500.000000 , RMSE = 2.8810 , 기울기 a = 2.2927 , y절편 b = 79.0438\n",
      "Epoch: 600.000000 , RMSE = 2.8810 , 기울기 a = 2.2958 , y절편 b = 79.0249\n",
      "Epoch: 700.000000 , RMSE = 2.8810 , 기울기 a = 2.2976 , y절편 b = 79.0142\n",
      "Epoch: 800.000000 , RMSE = 2.8810 , 기울기 a = 2.2987 , y절편 b = 79.0081\n",
      "Epoch: 900.000000 , RMSE = 2.8810 , 기울기 a = 2.2992 , y절편 b = 79.0046\n",
      "Epoch: 1000.000000 , RMSE = 2.8810 , 기울기 a = 2.2996 , y절편 b = 79.0026\n",
      "Epoch: 1100.000000 , RMSE = 2.8810 , 기울기 a = 2.2998 , y절편 b = 79.0015\n",
      "Epoch: 1200.000000 , RMSE = 2.8810 , 기울기 a = 2.2999 , y절편 b = 79.0008\n",
      "Epoch: 1300.000000 , RMSE = 2.8810 , 기울기 a = 2.2999 , y절편 b = 79.0005\n",
      "Epoch: 1400.000000 , RMSE = 2.8810 , 기울기 a = 2.3000 , y절편 b = 79.0003\n",
      "Epoch: 1500.000000 , RMSE = 2.8810 , 기울기 a = 2.3000 , y절편 b = 79.0002\n",
      "Epoch: 1600.000000 , RMSE = 2.8810 , 기울기 a = 2.3000 , y절편 b = 79.0001\n",
      "Epoch: 1700.000000 , RMSE = 2.8810 , 기울기 a = 2.3000 , y절편 b = 79.0001\n",
      "Epoch: 1800.000000 , RMSE = 2.8810 , 기울기 a = 2.3000 , y절편 b = 79.0000\n",
      "Epoch: 1900.000000 , RMSE = 2.8810 , 기울기 a = 2.3000 , y절편 b = 79.0000\n",
      "Epoch: 2000.000000 , RMSE = 2.8810 , 기울기 a = 2.3000 , y절편 b = 79.0000\n"
     ]
    }
   ],
   "source": [
    "# 경사하강법을 numpy만으로만 사용한것이 아닌 \n",
    "# tensor을 사용하여 경사하강법 코드 작성 \n",
    "\n",
    "# 주어진 데이터\n",
    "data = [[2,81] , [4,93] , [6,91] , [8,97]]\n",
    "# 데이터 찢기 x 값\n",
    "x_data = [x_row[0] for x_row in data]\n",
    "# 데이터 찢기 y 값\n",
    "y_data = [y_row[1] for y_row in data]\n",
    "\n",
    "# 기울기 a와 y 절편 b의 값을 임의로 정한다.\n",
    "# 단, 기울기의 범위는 0 ~ 10 사이이며 , y 절편은 0 ~ 100 사이에서 변하게 한다.\n",
    "a = tf.Variable(tf.random_uniform([1] , 0 , 10 , dtype = tf.float64 , seed = 0))\n",
    "b = tf.Variable(tf.random_uniform([1] , 0 , 100 , dtype = tf.float64 , seed = 0))\n",
    "\n",
    "# y에 대한 1차 방정식 ax + b 의 식을 세운다.\n",
    "y = a * x_data + b\n",
    "\n",
    "# 텐서플로 RMSE 함수\n",
    "rmse = tf.sqrt(tf.reduce_mean(tf.square(y - y_data)))\n",
    "\n",
    "# 학습률 값\n",
    "learning_rate = 0.1\n",
    "\n",
    "# RMSE 값을 최소로 하는 값 찾기\n",
    "gradient_decent = tf.train.GradientDescentOptimizer(learning_rate).minimize(rmse)\n",
    "\n",
    "# 텐서플로를 이용한 학습\n",
    "with tf.Session() as sess:\n",
    "    # 변수 초기화\n",
    "    sess.run(tf.global_variables_initializer())\n",
    "    # 2001번 실행(0번째를 포함하므로)\n",
    "    for step in range(2001):\n",
    "        sess.run(gradient_decent)\n",
    "        # 100번마다 결과 출력\n",
    "        if step % 100 == 0:\n",
    "            print(\"Epoch: %f , RMSE = %.04f , 기울기 a = %.4f , y절편 b = %.4f\" %(step , sess.run(rmse) , sess.run(a) , sess.run(b)))\n",
    "            \n",
    "            "
   ]
  },
  {
   "cell_type": "code",
   "execution_count": 7,
   "id": "8a6099a0",
   "metadata": {},
   "outputs": [
    {
     "name": "stdout",
     "output_type": "stream",
     "text": [
      "Epoch: 0.000000 , RMSE = 3.9302 , 기울기 a = 0.8019 , y절편 b = 0.80597\n",
      "Epoch: 5000.000000 , RMSE = 0.0726 , 기울기 a = 0.1756 , y절편 b = -0.03392\n"
     ]
    }
   ],
   "source": [
    "# 경사하강법을 tensorflow를 이용해서 간단하게 표현한 식 \n",
    "data = [[1 , 0.2] , [2 , 0.3] , [3 , 0.5] , [4 , 0.6] , [5 , 0.9] , [6 , 0.95] , [7 , 1.1] , [8 , 1.5]] \n",
    "\n",
    "x_data = [i[0] for i in data]\n",
    "y_data = [i[1] for i in data]\n",
    "\n",
    "a = tf.Variable(tf.random_uniform([1] , 0 , dtype = tf.float64 , seed = 0)) # a , b값을 원하는 범위로 지정\n",
    "b = tf.Variable(tf.random_uniform([1] , 0 , dtype = tf.float64 , seed = 0))\n",
    "\n",
    "# y값 구하기\n",
    "y = a * x_data + b\n",
    "\n",
    "# 제곱근 오차 구하기\n",
    "rmse = tf.sqrt(tf.reduce_mean(tf.square( y - y_data)))\n",
    "\n",
    "learning_rate = 0.001 # 학습률 \n",
    "\n",
    "# 원하는 목표와 가장 근사하게 갈 수 있는 식을 한줄로 표현 (편미분식을 간단하게 표현)\n",
    "tensor_edge = tf.train.GradientDescentOptimizer(learning_rate).minimize(rmse)\n",
    "\n",
    "\n",
    "with tf.Session() as sess:\n",
    "    sess.run(tf.global_variables_initializer())\n",
    "    for step in range(5001):\n",
    "        sess.run(tensor_edge)\n",
    "        if step % 5000 == 0:\n",
    "            print(\"Epoch: %f , RMSE = %.04f , 기울기 a = %.4f , y절편 b = %.5f\" %(step , sess.run(rmse) , sess.run(a) , sess.run(b)))\n",
    "            "
   ]
  },
  {
   "cell_type": "code",
   "execution_count": null,
   "id": "50886421",
   "metadata": {},
   "outputs": [],
   "source": [
    "# 위 식의 결과에서 볼 수 있듯이 Epoch가 높을수록 결과는 더욱 정확하게 출력됨(그에 대응하는 시간소요는 당연한것)\n",
    "data = [[100 , 20] , [150 , 24] , [300 , 36] , [400 , 47] , [130 , 22] , [240 , 32] , [350 , 47] , [200 , 42] , [100 , 21] , [110 , 21] , [190 , 30] , [120 , 25] , [130 , 18] , [270 , 38] , [225 , 28]]\n",
    "x_data = [i[0] for i in data]\n",
    "y_data = [i[1] for i in data]\n",
    "\n",
    "a = tf.Variable(tf.random_uniform([1] , 0 , 1 , dtype = tf.float64 , seed = 0))\n",
    "b = tf.Variable(tf.random_uniform([1] , 0 , 15 , dtype = tf.float64 , seed = 0))\n",
    "\n",
    "# y값 구하기\n",
    "y = a * x_data + b\n",
    "\n",
    "# 제곱근 오차 구하기\n",
    "rmse = tf.sqrt(tf.reduce_mean(tf.square( y - y_data)))\n",
    "\n",
    "learning_rate = 0.00001\n",
    "\n",
    "\n",
    "tensor_edge = tf.train.GradientDescentOptimizer(learning_rate).minimize(rmse)\n",
    "\n",
    "\n",
    "with tf.Session() as sess:\n",
    "    sess.run(tf.global_variables_initializer())\n",
    "    for step in range(250001):\n",
    "        sess.run(tensor_edge)\n",
    "        if step % 50000 == 0:\n",
    "            print(\"Epoch: %f , RMSE = %.04f , 기울기 a = %.4f , y절편 b = %.5f\" %(step , sess.run(rmse) , sess.run(a) , sess.run(b)))\n",
    "            "
   ]
  }
 ],
 "metadata": {
  "kernelspec": {
   "display_name": "Python 3",
   "language": "python",
   "name": "python3"
  },
  "language_info": {
   "codemirror_mode": {
    "name": "ipython",
    "version": 3
   },
   "file_extension": ".py",
   "mimetype": "text/x-python",
   "name": "python",
   "nbconvert_exporter": "python",
   "pygments_lexer": "ipython3",
   "version": "3.9.5"
  }
 },
 "nbformat": 4,
 "nbformat_minor": 5
}
