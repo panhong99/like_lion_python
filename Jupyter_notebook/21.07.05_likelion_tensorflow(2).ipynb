{
 "cells": [
  {
   "cell_type": "code",
   "execution_count": 11,
   "id": "169c8034",
   "metadata": {},
   "outputs": [],
   "source": [
    "import tensorflow as tf"
   ]
  },
  {
   "cell_type": "code",
   "execution_count": 5,
   "id": "59798c81",
   "metadata": {},
   "outputs": [
    {
     "name": "stdout",
     "output_type": "stream",
     "text": [
      "3.0 4.0\n",
      "7.0\n",
      "3 4\n",
      "7\n"
     ]
    }
   ],
   "source": [
    "# tensorflow2.xx 버전에서의 출력구문 \n",
    "#확실히 Session구문을 사용하지 않았지만 변수.numpy()를 사용해주었고\n",
    "#print를 단독으로 사용하지 않았고 tf.print를 사용해서 출력했다.\n",
    "node1 = tf.constant(3.0)\n",
    "node2 = tf.constant(4.0)\n",
    "node3 = tf.add(node1 , node2)\n",
    "\n",
    "# numpy로 만들어주면 원하는 출력값 바로 출력가능\n",
    "print(node1.numpy() , node2.numpy()) # numpy로 만들어줌 \n",
    "print(node3.numpy())\n",
    "\n",
    "tf.print(node1 , node2) \n",
    "tf.print(node3)"
   ]
  },
  {
   "cell_type": "code",
   "execution_count": 6,
   "id": "c9e82aa6",
   "metadata": {},
   "outputs": [
    {
     "name": "stdout",
     "output_type": "stream",
     "text": [
      "tf.Tensor(b'Hello world', shape=(), dtype=string)\n",
      "b'Hello world'\n"
     ]
    }
   ],
   "source": [
    "hello = tf.constant(\"Hello world\")\n",
    "print(hello) # numpy를 사용하지 않으면 출력이 tensor이 출력됨 \n",
    "print(hello.numpy()) # numpy로 만들어주어야 원하는 출력값이 출력"
   ]
  },
  {
   "cell_type": "code",
   "execution_count": 10,
   "id": "f72a682f",
   "metadata": {},
   "outputs": [
    {
     "name": "stdout",
     "output_type": "stream",
     "text": [
      "add =  5\n",
      "sub =  -1\n",
      "mul =  6\n",
      "div =  0.6666666666666666\n",
      "mean =  3\n",
      "sum =  10\n",
      "tf.Tensor(\n",
      "[[19 22]\n",
      " [43 50]], shape=(2, 2), dtype=int32)\n",
      "[[19 22]\n",
      " [43 50]]\n"
     ]
    }
   ],
   "source": [
    "a = tf.constant(2)\n",
    "b = tf.constant(3)\n",
    "c = tf.constant(5)\n",
    "\n",
    "add = tf.add(a , b) # 더하기\n",
    "sub = tf.subtract(a , b)  # 빼기\n",
    "mul = tf.multiply(a , b) # 곱하기\n",
    "div = tf.divide(a , b) # 나누기\n",
    "\n",
    "print(\"add = \" , add.numpy()) # numpy배열로 변경 및 원하는 출력값 출력\n",
    "print(\"sub = \" , sub.numpy())\n",
    "print(\"mul = \" , mul.numpy())\n",
    "print(\"div = \" , div.numpy())\n",
    "\n",
    "mean = tf.reduce_mean([a,b,c]) # 해당 배열의 평균 \n",
    "sum = tf.reduce_sum([a,b,c]) # 해당 배열의 총합 \n",
    "\n",
    "print(\"mean = \" , mean.numpy()) # 출력값\n",
    "print(\"sum = \" , sum.numpy()) \n",
    "\n",
    "matrix1 = tf.constant([[1,2] , [3,4]]) # 2 x 2 2차원 리스트 생성 \n",
    "matrix2 = tf.constant([[5,6] , [7,8]]) \n",
    "product = tf.matmul(matrix1 , matrix2) # 행열 곱셈 2x2,2x2 = 2x2배열탄생 \n",
    "\n",
    "print(product) # tf.Tensor 출력\n",
    "print(product.numpy()) # 곱셈 값 출력"
   ]
  },
  {
   "cell_type": "code",
   "execution_count": null,
   "id": "a7270849",
   "metadata": {},
   "outputs": [],
   "source": []
  }
 ],
 "metadata": {
  "kernelspec": {
   "display_name": "Python 3",
   "language": "python",
   "name": "python3"
  },
  "language_info": {
   "codemirror_mode": {
    "name": "ipython",
    "version": 3
   },
   "file_extension": ".py",
   "mimetype": "text/x-python",
   "name": "python",
   "nbconvert_exporter": "python",
   "pygments_lexer": "ipython3",
   "version": "3.9.5"
  }
 },
 "nbformat": 4,
 "nbformat_minor": 5
}
