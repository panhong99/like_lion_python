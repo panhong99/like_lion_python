{
 "cells": [
  {
   "cell_type": "code",
   "execution_count": 1,
   "id": "2c9f32d6",
   "metadata": {},
   "outputs": [
    {
     "name": "stdout",
     "output_type": "stream",
     "text": [
      "Init Plugin\n",
      "Init Graph Optimizer\n",
      "Init Kernel\n"
     ]
    },
    {
     "name": "stderr",
     "output_type": "stream",
     "text": [
      "<__array_function__ internals>:5: VisibleDeprecationWarning: Creating an ndarray from ragged nested sequences (which is a list-or-tuple of lists-or-tuples-or ndarrays with different lengths or shapes) is deprecated. If you meant to do this, you must specify 'dtype=object' when creating the ndarray\n",
      "/Users/panhong/miniforge3/lib/python3.9/site-packages/tensorflow/python/keras/datasets/imdb.py:155: VisibleDeprecationWarning: Creating an ndarray from ragged nested sequences (which is a list-or-tuple of lists-or-tuples-or ndarrays with different lengths or shapes) is deprecated. If you meant to do this, you must specify 'dtype=object' when creating the ndarray\n",
      "  x_train, y_train = np.array(xs[:idx]), np.array(labels[:idx])\n",
      "/Users/panhong/miniforge3/lib/python3.9/site-packages/tensorflow/python/keras/datasets/imdb.py:156: VisibleDeprecationWarning: Creating an ndarray from ragged nested sequences (which is a list-or-tuple of lists-or-tuples-or ndarrays with different lengths or shapes) is deprecated. If you meant to do this, you must specify 'dtype=object' when creating the ndarray\n",
      "  x_test, y_test = np.array(xs[idx:]), np.array(labels[idx:])\n"
     ]
    },
    {
     "name": "stdout",
     "output_type": "stream",
     "text": [
      "(25000, 20) (25000,)\n",
      "(25000, 20) (25000,)\n",
      "[  65   16   38 1334   88   12   16  283    5   16 4472  113  103   32\n",
      "   15   16 5345   19  178   32]\n",
      "(25000, 20)\n",
      "Metal device set to: Apple M1\n",
      "Model: \"sequential\"\n",
      "_________________________________________________________________\n",
      "Layer (type)                 Output Shape              Param #   \n",
      "=================================================================\n",
      "embedding (Embedding)        (None, 20, 8)             80000     \n",
      "_________________________________________________________________\n",
      "flatten (Flatten)            (None, 160)               0         \n",
      "_________________________________________________________________\n",
      "dense (Dense)                (None, 1)                 161       \n",
      "=================================================================\n",
      "Total params: 80,161\n",
      "Trainable params: 80,161\n",
      "Non-trainable params: 0\n",
      "_________________________________________________________________\n"
     ]
    },
    {
     "name": "stderr",
     "output_type": "stream",
     "text": [
      "2021-07-30 12:19:12.236475: I tensorflow/core/common_runtime/pluggable_device/pluggable_device_factory.cc:305] Could not identify NUMA node of platform GPU ID 0, defaulting to 0. Your kernel may not have been built with NUMA support.\n",
      "2021-07-30 12:19:12.236567: I tensorflow/core/common_runtime/pluggable_device/pluggable_device_factory.cc:271] Created TensorFlow device (/job:localhost/replica:0/task:0/device:GPU:0 with 0 MB memory) -> physical PluggableDevice (device: 0, name: METAL, pci bus id: <undefined>)\n",
      "2021-07-30 12:19:12.487291: I tensorflow/compiler/mlir/mlir_graph_optimization_pass.cc:176] None of the MLIR Optimization Passes are enabled (registered 2)\n",
      "2021-07-30 12:19:12.487475: W tensorflow/core/platform/profile_utils/cpu_utils.cc:128] Failed to get CPU frequency: 0 Hz\n",
      "2021-07-30 12:19:12.595677: I tensorflow/core/grappler/optimizers/custom_graph_optimizer_registry.cc:112] Plugin optimizer for device_type GPU is enabled.\n"
     ]
    },
    {
     "name": "stdout",
     "output_type": "stream",
     "text": [
      "Epoch 1/10\n",
      "619/625 [============================>.] - ETA: 0s - loss: 0.6787 - acc: 0.5949"
     ]
    },
    {
     "name": "stderr",
     "output_type": "stream",
     "text": [
      "2021-07-30 12:19:16.706083: I tensorflow/core/grappler/optimizers/custom_graph_optimizer_registry.cc:112] Plugin optimizer for device_type GPU is enabled.\n"
     ]
    },
    {
     "name": "stdout",
     "output_type": "stream",
     "text": [
      "625/625 [==============================] - 5s 7ms/step - loss: 0.6783 - acc: 0.5962 - val_loss: 0.6413 - val_acc: 0.6906\n",
      "Epoch 2/10\n",
      "625/625 [==============================] - 4s 7ms/step - loss: 0.5626 - acc: 0.7447 - val_loss: 0.5370 - val_acc: 0.7294\n",
      "Epoch 3/10\n",
      "625/625 [==============================] - 4s 7ms/step - loss: 0.4695 - acc: 0.7853 - val_loss: 0.5041 - val_acc: 0.7446\n",
      "Epoch 4/10\n",
      "625/625 [==============================] - 4s 7ms/step - loss: 0.4234 - acc: 0.8092 - val_loss: 0.4939 - val_acc: 0.7496\n",
      "Epoch 5/10\n",
      "625/625 [==============================] - 4s 7ms/step - loss: 0.3930 - acc: 0.8253 - val_loss: 0.4946 - val_acc: 0.7590\n",
      "Epoch 6/10\n",
      "625/625 [==============================] - 4s 7ms/step - loss: 0.3687 - acc: 0.8389 - val_loss: 0.4975 - val_acc: 0.7596\n",
      "Epoch 7/10\n",
      "625/625 [==============================] - 4s 7ms/step - loss: 0.3473 - acc: 0.8507 - val_loss: 0.5024 - val_acc: 0.7586\n",
      "Epoch 8/10\n",
      "625/625 [==============================] - 4s 7ms/step - loss: 0.3270 - acc: 0.8628 - val_loss: 0.5099 - val_acc: 0.7590\n",
      "Epoch 9/10\n",
      "625/625 [==============================] - 4s 7ms/step - loss: 0.3079 - acc: 0.8727 - val_loss: 0.5172 - val_acc: 0.7542\n",
      "Epoch 10/10\n",
      "625/625 [==============================] - 4s 7ms/step - loss: 0.2896 - acc: 0.8814 - val_loss: 0.5263 - val_acc: 0.7514\n"
     ]
    }
   ],
   "source": [
    "from tensorflow.keras.datasets import imdb\n",
    "from tensorflow.keras import preprocessing\n",
    "\n",
    "max_features = 10000\n",
    "\n",
    "maxlen = 20 \n",
    "\n",
    "(x_train , y_train) , (x_test , y_test) = imdb.load_data(num_words = max_features)\n",
    "x_train = preprocessing.sequence.pad_sequences(x_train , maxlen = maxlen)\n",
    "x_test = preprocessing.sequence.pad_sequences(x_test , maxlen = maxlen)\n",
    "\n",
    "print(x_train.shape , y_train.shape)\n",
    "print(x_test.shape , y_test.shape)\n",
    "print(x_train[0])\n",
    "\n",
    "from tensorflow.keras.models import Sequential\n",
    "from tensorflow.keras.layers import Flatten , Dense , Embedding\n",
    "print(x_train.shape)\n",
    "\n",
    "model = Sequential()\n",
    "# 나중에 임베딩된 입력을 Flatten 층에서 펼치기 위해 Embedding 층에 input_length를 지정합니다.\n",
    "model.add(Embedding(10000 , 8 , input_length = maxlen))\n",
    "\n",
    "# 3D 임베딩 텐서를 1D 텐서로 펼칩니다.\n",
    "model.add(Flatten())\n",
    "\n",
    "# 분류기를 추가합니다.\n",
    "model.add(Dense(1 , activation = \"sigmoid\"))\n",
    "model.compile(optimizer = \"rmsprop\" , loss = \"binary_crossentropy\" , metrics = [\"acc\"])\n",
    "model.summary()\n",
    "\n",
    "history = model.fit(x_train , y_train ,\n",
    "                   epochs = 10 ,\n",
    "                   batch_size = 32 ,\n",
    "                   validation_split = 0.2)"
   ]
  },
  {
   "cell_type": "code",
   "execution_count": 2,
   "id": "ebb571fc",
   "metadata": {},
   "outputs": [
    {
     "name": "stdout",
     "output_type": "stream",
     "text": [
      "/Users/panhong/Desktop/coding_study/aclImdb/train/neg\n",
      "/Users/panhong/Desktop/coding_study/aclImdb/train/pos\n",
      "Working with one of the best Shakespeare sources, this film manages to be creditable to it's source, whilst still appealing to a wider audience.<br /><br />Branagh steals the film from under Fishburne's nose, and there's a talented cast on good form.\n",
      "0\n",
      "For a movie that gets no respect there sure are a lot of memorable quotes listed for this gem. Imagine a movie where Joe Piscopo is actually funny! Maureen Stapleton is a scene stealer. The Moroni character is an absolute scream. Watch for Alan \"The Skipper\" Hale jr. as a police Sgt.\n",
      "1\n"
     ]
    }
   ],
   "source": [
    "import os \n",
    "\n",
    "imdb_dir = \"/Users/panhong/Desktop/coding_study/aclImdb/\"\n",
    "\n",
    "# os.path.join으로 파일에 접근\n",
    "train_dir = os.path.join(imdb_dir , \"train\")\n",
    "\n",
    "# 각각 긍정과 부정을 표현할 빈 리스트 , 긍 , 부정 판단을 도울 문장을 채울 빈 리스트를 생성\n",
    "labels = []\n",
    "texts = []\n",
    "\n",
    "# neg , pos를 한번씩 label_type에 입력\n",
    "for label_type in [\"neg\" , \"pos\"]:\n",
    "    # os.path로 디렉토리에 접근해서 train_dir내에 label_type의 이름과 같은 \n",
    "    # 디렉토리에 접근\n",
    "    dir_name = os.path.join(train_dir , label_type)\n",
    "    # neg 인지 pos지 확인\n",
    "    print(dir_name)\n",
    "    # fname로 dir_name으로 되어있는 디렉토리의 내용을 저장\n",
    "    for fname in os.listdir(dir_name):\n",
    "        # -4번째 파일의 확장자가 .txt이면 조건문 실행\n",
    "        if fname[-4:] == \".txt\":\n",
    "            # 해당 txt파일을 열고 한글패치\n",
    "            f = open(os.path.join(dir_name , fname) , encoding = \"utf8\")\n",
    "            # 읽어온 내용(-4번째 .txt파일)을 상단에 설정해 놓은 texts에 저장\n",
    "            texts.append(f.read())\n",
    "            # 읽기 후 파일 close\n",
    "            f.close()\n",
    "            # label_type가 neg이면 0 , pos 면 1로 해서\n",
    "            # labels에 append를 해줌\n",
    "            if label_type == \"neg\":\n",
    "                labels.append(0)\n",
    "            else:\n",
    "                labels.append(1)\n",
    "                \n",
    "# \n",
    "print(texts[0]) # 부정의 첫번째 문장\n",
    "print(labels[0]) # 부정의 첫번째 label\n",
    "print(texts[12500]) # 긍정의 첫번째 문장\n",
    "print(labels[12500]) # 긍정의 첫번째 label"
   ]
  },
  {
   "cell_type": "code",
   "execution_count": 16,
   "id": "122d65d2",
   "metadata": {},
   "outputs": [
    {
     "name": "stdout",
     "output_type": "stream",
     "text": [
      "88582개의 고유한 토큰을 찾았습니다.\n"
     ]
    }
   ],
   "source": [
    "from tensorflow.keras.preprocessing.text import Tokenizer\n",
    "from tensorflow.keras.preprocessing.sequence import pad_sequences\n",
    "import numpy as np\n",
    "\n",
    "# 100개 단어 이후는 버림\n",
    "maxlen = 100\n",
    "# 훈련셋을 200개로 제한 \n",
    "training_samples = 200\n",
    "# 검증셋을 10,000개\n",
    "validation_samples = 10000\n",
    "# 데이터셋에서 가장 빈도높은 10,000개의 단어만 사용합니다.\n",
    "max_words = 10000\n",
    "\n",
    "# num_words를 빈도높은 10,000개의 단어로만 구성해서 \n",
    "# 토큰화를 시켜줌\n",
    "tokenizer = Tokenizer(num_words = max_words)\n",
    "# 토큰화 시작\n",
    "tokenizer.fit_on_texts(texts)\n",
    "# 전 커널에서 저장되어 있던 texts를 시퀀스화 시켜줌\n",
    "sequences = tokenizer.texts_to_sequences(texts)\n",
    "# 시퀀스화 된 토큰들의 인덱스를 표시해줌\n",
    "word_index = tokenizer.word_index\n",
    "print(\"%s개의 고유한 토큰을 찾았습니다.\" %len(word_index))\n",
    "# 단어를 100개로 제한 해두었기 때문에 100개 이후의 단어는 버림\n",
    "data = pad_sequences(sequences , maxlen = maxlen)"
   ]
  },
  {
   "cell_type": "code",
   "execution_count": 17,
   "id": "213dc9a1",
   "metadata": {},
   "outputs": [
    {
     "name": "stdout",
     "output_type": "stream",
     "text": [
      "데이터 텐서의 크기 :  (25000, 100)\n",
      "레이블 텐서의 크기 :  (25000,)\n"
     ]
    }
   ],
   "source": [
    "# labels를 np.array로 형변환을 시켜줌\n",
    "labels = np.asarray(labels)\n",
    "print(\"데이터 텐서의 크기 : \" , data.shape) \n",
    "print(\"레이블 텐서의 크기 : \" , labels.shape)\n",
    "\n",
    "indices = np.arange(data.shape[0])\n",
    "# 긍정 부정을 합쳐서 섞음\n",
    "np.random.shuffle(indices) \n",
    "# data가 섞임 indices와 같은 순서로  \n",
    "data = data[indices]\n",
    "# labels도 섞임 indices와 같은 순서로\n",
    "labels = labels[indices]\n",
    "\n",
    "# 훈련데이터를 생성해줌\n",
    "# data에서 200개이하의 단어\n",
    "x_train = data[:training_samples]\n",
    "# labels는 긍정 , 부정을 나타내는 수를 가지고 있는 리스트\n",
    "# 그중에서도 200개이하의 수를 가져옴\n",
    "y_train = labels[:training_samples]\n",
    "x_val = data[training_samples : training_samples + validation_samples]\n",
    "y_val = labels[training_samples : training_samples + validation_samples]"
   ]
  },
  {
   "cell_type": "code",
   "execution_count": 18,
   "id": "fb7f2d75",
   "metadata": {},
   "outputs": [
    {
     "name": "stdout",
     "output_type": "stream",
     "text": [
      "400000개의 단어 벡터를 찾았습니다.\n"
     ]
    }
   ],
   "source": [
    "# 다운 받은 파일의 위치를 변수에 저장\n",
    "glove_dir = \"/Users/panhong/Desktop/coding_study/glove\"\n",
    "# embedding이라는 딕셔너리 생성\n",
    "embeddings_index = {}\n",
    "# os.path를 이용해서 해당 디렉토리내에 파일에 접근 후 한글패치\n",
    "f = open(os.path.join(glove_dir , \"glove.6B.100d.txt\") , encoding = \"utf8\")\n",
    "# 반복문 실행\n",
    "for line in f:\n",
    "    # 단어를 공백으로 각각 분류해줌\n",
    "    values = line.split()\n",
    "    # split을 이용해 구분해준 단어들을 저장\n",
    "    word = values[0]\n",
    "    # 1번째 이후의 값을 모두 실수형태로 불러옴(사실 원래 실수형태이지만)\n",
    "    coefs = np.asarray(values[1:] , dtype = \"float32\")\n",
    "    embeddings_index[word] = coefs\n",
    "f.close()\n",
    "print(\"%s개의 단어 벡터를 찾았습니다.\" %len(embeddings_index))"
   ]
  },
  {
   "cell_type": "code",
   "execution_count": 21,
   "id": "7ff35ea1",
   "metadata": {},
   "outputs": [
    {
     "name": "stdout",
     "output_type": "stream",
     "text": [
      "[[0. 0. 0. ... 0. 0. 0.]\n",
      " [0. 0. 0. ... 0. 0. 0.]\n",
      " [0. 0. 0. ... 0. 0. 0.]\n",
      " ...\n",
      " [0. 0. 0. ... 0. 0. 0.]\n",
      " [0. 0. 0. ... 0. 0. 0.]\n",
      " [0. 0. 0. ... 0. 0. 0.]]\n"
     ]
    }
   ],
   "source": [
    "embedding_dim = 100\n",
    "embedding_matrix = np.zeros((max_words , embedding_dim))\n",
    "for word , i in word_index.items():\n",
    "    embedding_vector = embeddings_index.get(word)\n",
    "    if i < max_words:\n",
    "        if embedding_vector is not None:\n",
    "            embedding_matrix[i] = embedding_vector"
   ]
  },
  {
   "cell_type": "code",
   "execution_count": 31,
   "id": "f810c093",
   "metadata": {
    "collapsed": true
   },
   "outputs": [
    {
     "name": "stdout",
     "output_type": "stream",
     "text": [
      "Model: \"sequential_9\"\n",
      "_________________________________________________________________\n",
      "Layer (type)                 Output Shape              Param #   \n",
      "=================================================================\n",
      "embedding_8 (Embedding)      (None, 100, 100)          1000000   \n",
      "_________________________________________________________________\n",
      "flatten_8 (Flatten)          (None, 10000)             0         \n",
      "_________________________________________________________________\n",
      "dense_14 (Dense)             (None, 32)                320032    \n",
      "_________________________________________________________________\n",
      "dense_15 (Dense)             (None, 1)                 33        \n",
      "=================================================================\n",
      "Total params: 1,320,065\n",
      "Trainable params: 1,320,065\n",
      "Non-trainable params: 0\n",
      "_________________________________________________________________\n",
      "Epoch 1/10\n",
      "7/7 [==============================] - 3s 433ms/step - loss: 1.4927 - acc: 0.4900 - val_loss: 0.6934 - val_acc: 0.5023\n",
      "Epoch 2/10\n",
      "7/7 [==============================] - 3s 423ms/step - loss: 0.6491 - acc: 0.5800 - val_loss: 0.6959 - val_acc: 0.5004\n",
      "Epoch 3/10\n",
      "7/7 [==============================] - 3s 417ms/step - loss: 0.5893 - acc: 0.6700 - val_loss: 1.3733 - val_acc: 0.5023\n",
      "Epoch 4/10\n",
      "7/7 [==============================] - 3s 416ms/step - loss: 0.6393 - acc: 0.7250 - val_loss: 0.7789 - val_acc: 0.5022\n",
      "Epoch 5/10\n",
      "7/7 [==============================] - 3s 415ms/step - loss: 0.5060 - acc: 0.6950 - val_loss: 0.9865 - val_acc: 0.5023\n",
      "Epoch 6/10\n",
      "7/7 [==============================] - 3s 420ms/step - loss: 0.5146 - acc: 0.7150 - val_loss: 0.7806 - val_acc: 0.5028\n",
      "Epoch 7/10\n",
      "7/7 [==============================] - 3s 427ms/step - loss: 0.4155 - acc: 0.7850 - val_loss: 0.7104 - val_acc: 0.5042\n",
      "Epoch 8/10\n",
      "7/7 [==============================] - 3s 435ms/step - loss: 0.3902 - acc: 0.7700 - val_loss: 1.3317 - val_acc: 0.5023\n",
      "Epoch 9/10\n",
      "7/7 [==============================] - 3s 419ms/step - loss: 0.3880 - acc: 0.7850 - val_loss: 1.2096 - val_acc: 0.5023\n",
      "Epoch 10/10\n",
      "7/7 [==============================] - 3s 419ms/step - loss: 0.3960 - acc: 0.7900 - val_loss: 1.1958 - val_acc: 0.5023\n"
     ]
    }
   ],
   "source": [
    "from tensorflow.keras.models import Sequential\n",
    "from tensorflow.keras.layers import Embedding , Flatten , Dense\n",
    "\n",
    "# 모델 구성\n",
    "model = Sequential()\n",
    "model.add(Embedding(max_words , embedding_dim , input_length = maxlen))\n",
    "model.add(Flatten())\n",
    "model.add(Dense(32 , activation = \"relu\"))\n",
    "model.add(Dense(1 , activation = \"sigmoid\"))\n",
    "model.summary()\n",
    "# layers 1번째 즉 embedding라인에 우리가 사전에 해놓았던 \n",
    "# 데이터를 사용한다.\n",
    "model.layers[0].set_weights([embedding_matrix])\n",
    "# 기존에 작성한 레이어는 비활성화를 시켜준다.\n",
    "# 중복해서 임베딩을 할경우 기존에 임베딩 되었던 데이터를 오염시킬수 있기 때문이다.\n",
    "model.layers[0].trainable = False\n",
    "model.compile(optimizer = \"rmsprop\" ,\n",
    "             loss = \"binary_crossentropy\" ,\n",
    "             metrics = [\"acc\"])\n",
    "history = model.fit(x_train , y_train ,\n",
    "                   epochs = 10 ,\n",
    "                   batch_size = 32 ,\n",
    "                   validation_data = (x_val , y_val))\n",
    "# 가중치를 해당 디렉토리에 저장\n",
    "model.save_weights(\"pre_trained_glove_model.h5\")"
   ]
  },
  {
   "cell_type": "code",
   "execution_count": 32,
   "id": "524b9a8c",
   "metadata": {},
   "outputs": [
    {
     "data": {
      "image/png": "[encoded data removed]",
      "text/plain": [
       "<Figure size 432x288 with 1 Axes>"
      ]
     },
     "metadata": {
      "needs_background": "light"
     },
     "output_type": "display_data"
    },
    {
     "data": {
      "image/png": "[encoded data removed]",
      "text/plain": [
       "<Figure size 432x288 with 1 Axes>"
      ]
     },
     "metadata": {
      "needs_background": "light"
     },
     "output_type": "display_data"
    }
   ],
   "source": [
    "import matplotlib.pyplot as plt\n",
    "acc = history.history[\"acc\"]\n",
    "val_acc = history.history[\"val_acc\"]\n",
    "loss = history.history[\"loss\"]\n",
    "val_loss = history.history[\"val_loss\"]\n",
    "\n",
    "epochs = range(1 , len(acc) + 1)\n",
    "\n",
    "plt.plot(epochs , acc , \"bo\" , label = \"Traing acc\")\n",
    "plt.plot(epochs , val_acc , \"b\" , label = \"validation acc\")\n",
    "plt.title(\"Training and validation accuracy\")\n",
    "plt.legend()\n",
    "plt.figure()\n",
    "\n",
    "plt.plot(epochs , loss , \"bo\" , label = \"Traing loss\")\n",
    "plt.plot(epochs , val_loss , \"b\" , label = \"validation loss\")\n",
    "plt.title(\"Training and validation loss\")\n",
    "plt.legend()\n",
    "\n",
    "plt.show()\n"
   ]
  },
  {
   "cell_type": "code",
   "execution_count": null,
   "id": "ae67c793",
   "metadata": {},
   "outputs": [],
   "source": []
  }
 ],
 "metadata": {
  "kernelspec": {
   "display_name": "Python 3.9.5 64-bit ('base': conda)",
   "language": "python",
   "name": "python39564bitbasecondaff88d2da3a154ebfb639a042a46a85ea"
  },
  "language_info": {
   "codemirror_mode": {
    "name": "ipython",
    "version": 3
   },
   "file_extension": ".py",
   "mimetype": "text/x-python",
   "name": "python",
   "nbconvert_exporter": "python",
   "pygments_lexer": "ipython3",
   "version": "3.9.6"
  }
 },
 "nbformat": 4,
 "nbformat_minor": 5
}
