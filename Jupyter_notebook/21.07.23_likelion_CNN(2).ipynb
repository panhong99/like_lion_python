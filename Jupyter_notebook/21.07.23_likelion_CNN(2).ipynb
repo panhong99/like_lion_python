{
 "cells": [
  {
   "cell_type": "code",
   "execution_count": 2,
   "id": "1400b3dd",
   "metadata": {},
   "outputs": [
    {
     "name": "stdout",
     "output_type": "stream",
     "text": [
      "Model: \"sequential_1\"\n",
      "_________________________________________________________________\n",
      "Layer (type)                 Output Shape              Param #   \n",
      "=================================================================\n",
      "dense_3 (Dense)              (None, 30)                23550     \n",
      "_________________________________________________________________\n",
      "dense_4 (Dense)              (None, 30)                930       \n",
      "_________________________________________________________________\n",
      "dense_5 (Dense)              (None, 10)                310       \n",
      "=================================================================\n",
      "Total params: 24,790\n",
      "Trainable params: 24,790\n",
      "Non-trainable params: 0\n",
      "_________________________________________________________________\n"
     ]
    },
    {
     "ename": "NameError",
     "evalue": "name 'test_num1' is not defined",
     "output_type": "error",
     "traceback": [
      "\u001b[0;31m---------------------------------------------------------------------------\u001b[0m",
      "\u001b[0;31mNameError\u001b[0m                                 Traceback (most recent call last)",
      "\u001b[0;32m/var/folders/rs/q3tvc3s53gbblf3cd1ncwv2c0000gn/T/ipykernel_39310/2454945438.py\u001b[0m in \u001b[0;36m<module>\u001b[0;34m\u001b[0m\n\u001b[1;32m     14\u001b[0m \u001b[0mtest_num3\u001b[0m \u001b[0;34m=\u001b[0m \u001b[0mcv2\u001b[0m\u001b[0;34m.\u001b[0m\u001b[0mimread\u001b[0m\u001b[0;34m(\u001b[0m\u001b[0;34m\"/Users/panhong/Desktop/coding_study/Likelion_KDT/Jupyter_notebook/image/minist_test/5.jpg\"\u001b[0m\u001b[0;34m)\u001b[0m\u001b[0;34m\u001b[0m\u001b[0;34m\u001b[0m\u001b[0m\n\u001b[1;32m     15\u001b[0m \u001b[0;34m\u001b[0m\u001b[0m\n\u001b[0;32m---> 16\u001b[0;31m \u001b[0mtest_num1\u001b[0m \u001b[0;34m=\u001b[0m \u001b[0mcv2\u001b[0m\u001b[0;34m.\u001b[0m\u001b[0mcvtColor\u001b[0m\u001b[0;34m(\u001b[0m\u001b[0mtest_num1\u001b[0m \u001b[0;34m,\u001b[0m \u001b[0mcv2\u001b[0m\u001b[0;34m.\u001b[0m\u001b[0mCOLOR_BGR2GRAY\u001b[0m\u001b[0;34m)\u001b[0m\u001b[0;34m\u001b[0m\u001b[0;34m\u001b[0m\u001b[0m\n\u001b[0m\u001b[1;32m     17\u001b[0m \u001b[0mtest_num2\u001b[0m \u001b[0;34m=\u001b[0m \u001b[0mcv2\u001b[0m\u001b[0;34m.\u001b[0m\u001b[0mcvtColor\u001b[0m\u001b[0;34m(\u001b[0m\u001b[0mtest_num2\u001b[0m \u001b[0;34m,\u001b[0m \u001b[0mcv2\u001b[0m\u001b[0;34m.\u001b[0m\u001b[0mCOLOR_BGR2GRAY\u001b[0m\u001b[0;34m)\u001b[0m\u001b[0;34m\u001b[0m\u001b[0;34m\u001b[0m\u001b[0m\n\u001b[1;32m     18\u001b[0m \u001b[0mtest_num3\u001b[0m \u001b[0;34m=\u001b[0m \u001b[0mcv2\u001b[0m\u001b[0;34m.\u001b[0m\u001b[0mcvtColor\u001b[0m\u001b[0;34m(\u001b[0m\u001b[0mtest_num3\u001b[0m \u001b[0;34m,\u001b[0m \u001b[0mcv2\u001b[0m\u001b[0;34m.\u001b[0m\u001b[0mCOLOR_BGR2GRAY\u001b[0m\u001b[0;34m)\u001b[0m\u001b[0;34m\u001b[0m\u001b[0;34m\u001b[0m\u001b[0m\n",
      "\u001b[0;31mNameError\u001b[0m: name 'test_num1' is not defined"
     ]
    }
   ],
   "source": [
    "import tensorflow as tf\n",
    "import sys\n",
    "import os\n",
    "from tensorflow.keras.models import load_model\n",
    "import matplotlib.pyplot as plt\n",
    "import numpy as np\n",
    "import cv2\n",
    "\n",
    "model = load_model(\"/Users/panhong/Desktop/coding_study/Likelion_KDT/Jupyter_notebook/model/21.000000-0.1113.hdf5\")\n",
    "model.summary()\n",
    "\n",
    "test_num1 = cv2.imread(\"/Users/panhong/Desktop/coding_study/Likelion_KDT/Jupyter_notebook/image/minist_test/2.jpg\")\n",
    "test_num2 = cv2.imread(\"/Users/panhong/Desktop/coding_study/Likelion_KDT/Jupyter_notebook/image/minist_test/3.jpg\")\n",
    "test_num3 = cv2.imread(\"/Users/panhong/Desktop/coding_study/Likelion_KDT/Jupyter_notebook/image/minist_test/5.jpg\")\n",
    "\n",
    "test_num1 = cv2.cvtColor(test_num1 , cv2.COLOR_BGR2GRAY)\n",
    "test_num2 = cv2.cvtColor(test_num2 , cv2.COLOR_BGR2GRAY)\n",
    "test_num3 = cv2.cvtColor(test_num3 , cv2.COLOR_BGR2GRAY)\n",
    "\n",
    "test_num1 = 255 - test_num1\n",
    "test_num2 = 255 - test_num2\n",
    "test_num3 = 255 - test_num3\n",
    "\n",
    "plt.imshow(test_num1 , cmap = \"Greys\");\n",
    "plt.show()\n",
    "plt.imshow(test_num2 , cmap = \"Greys\");\n",
    "plt.show()\n",
    "plt.imshow(test_num3 , cmap = \"Greys\");\n",
    "plt.show()\n",
    "\n",
    "test_num1 = test_num1.reshape(1, 784).astype(\"float64\") / 255\n",
    "test_num2 = test_num2.reshape(1, 784).astype(\"float64\") / 255\n",
    "test_num3 = test_num3.reshape(1, 784).astype(\"float64\") / 255\n",
    "\n",
    "print(\"The Answer 3 is \" , model.predict_classes(test_num1))\n",
    "print(\"The Answer 6 is \" , model.predict_classes(test_num2))\n",
    "print(\"The Answer 5 is \" , model.predict_classes(test_num3))"
   ]
  },
  {
   "cell_type": "code",
   "execution_count": null,
   "id": "645b0e17",
   "metadata": {},
   "outputs": [
    {
     "name": "stdout",
     "output_type": "stream",
     "text": [
      "Model: \"sequential_1\"\n",
      "_________________________________________________________________\n",
      "Layer (type)                 Output Shape              Param #   \n",
      "=================================================================\n",
      "dense_3 (Dense)              (None, 30)                23550     \n",
      "_________________________________________________________________\n",
      "dense_4 (Dense)              (None, 30)                930       \n",
      "_________________________________________________________________\n",
      "dense_5 (Dense)              (None, 10)                310       \n",
      "=================================================================\n",
      "Total params: 24,790\n",
      "Trainable params: 24,790\n",
      "Non-trainable params: 0\n",
      "_________________________________________________________________\n"
     ]
    },
    {
     "data": {
      "image/png": "[encoded data removed]",
      "text/plain": [
       "<Figure size 432x288 with 1 Axes>"
      ]
     },
     "metadata": {
      "needs_background": "light"
     },
     "output_type": "display_data"
    }
   ],
   "source": [
    "import tensorflow as tf\n",
    "import sys\n",
    "import os\n",
    "from tensorflow.keras.models import load_model\n",
    "import matplotlib.pyplot as plt\n",
    "import numpy as np\n",
    "import cv2\n",
    "\n",
    "model = load_model(\"/Users/panhong/Desktop/coding_study/Likelion_KDT/Jupyter_notebook/model/21.000000-0.1113.hdf5\")\n",
    "model.summary()\n",
    "\n",
    "n = 3 \n",
    "test_num = [[0] * n for _ in range(n)]\n",
    "\n",
    "test_num[0] = cv2.imread(\"/Users/panhong/Desktop/coding_study/Likelion_KDT/Jupyter_notebook/image/minist_test/2.jpg\")\n",
    "test_num[1] = cv2.imread(\"/Users/panhong/Desktop/coding_study/Likelion_KDT/Jupyter_notebook/image/minist_test/3.jpg\")\n",
    "test_num[2] = cv2.imread(\"/Users/panhong/Desktop/coding_study/Likelion_KDT/Jupyter_notebook/image/minist_test/5.jpg\")\n",
    "\n",
    "for i in range(3):\n",
    "    test_num[i] = cv2.cvtColor(test_num[i] , cv2.COLOR_BGR2GRAY)\n",
    "    test_num[i] = 255 - test_num[i]\n",
    "    plt.imshow(test_num[i] , cmap = \"Greys\");\n",
    "    plt.show()\n",
    "    test_num[i] = test_num[i].reshape(1, 784).astype(\"float64\") / 255\n",
    "    print(\"The Answer 3 is \" , model.predict_classes(test_num[i]))"
   ]
  },
  {
   "cell_type": "code",
   "execution_count": null,
   "id": "62f5b4c8",
   "metadata": {},
   "outputs": [],
   "source": []
  }
 ],
 "metadata": {
  "kernelspec": {
   "display_name": "Python 3 (ipykernel)",
   "language": "python",
   "name": "python3"
  },
  "language_info": {
   "codemirror_mode": {
    "name": "ipython",
    "version": 3
   },
   "file_extension": ".py",
   "mimetype": "text/x-python",
   "name": "python",
   "nbconvert_exporter": "python",
   "pygments_lexer": "ipython3",
   "version": "3.8.10"
  }
 },
 "nbformat": 4,
 "nbformat_minor": 5
}
